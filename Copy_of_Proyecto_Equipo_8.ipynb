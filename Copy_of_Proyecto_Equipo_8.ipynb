{
  "cells": [
    {
      "cell_type": "markdown",
      "metadata": {
        "id": "view-in-github",
        "colab_type": "text"
      },
      "source": [
        "<a href=\"https://colab.research.google.com/github/MinervaNunez/Proyecto-R-BEDU/blob/main/Copy_of_Proyecto_Equipo_8.ipynb\" target=\"_parent\"><img src=\"https://colab.research.google.com/assets/colab-badge.svg\" alt=\"Open In Colab\"/></a>"
      ]
    },
    {
      "cell_type": "markdown",
      "metadata": {
        "id": "j4pLbdnVBPPd"
      },
      "source": [
        "# Proyecto de Python Equipo 8\n"
      ]
    },
    {
      "cell_type": "markdown",
      "metadata": {
        "id": "hk_DfSZ-BesI"
      },
      "source": [
        "## Introducción"
      ]
    },
    {
      "cell_type": "markdown",
      "metadata": {
        "id": "DcyB9m_ZBesJ"
      },
      "source": [
        "    Asegúrate de empezar con una introducción donde hables acerca del tema que te llamó la atención. Explica por qué quisiste abordar este tema, cuáles fueron tus preguntas iniciales, y el problema que te gustaría resolver."
      ]
    },
    {
      "cell_type": "markdown",
      "metadata": {
        "id": "wTy50ZtFBesJ"
      },
      "source": [
        "## Librerías necesarias\n"
      ]
    },
    {
      "cell_type": "code",
      "execution_count": 1,
      "metadata": {
        "ExecuteTime": {
          "end_time": "2022-09-14T01:39:23.490821Z",
          "start_time": "2022-09-14T01:39:23.318404Z"
        },
        "id": "S79ehTxvBesK"
      },
      "outputs": [],
      "source": [
        "import pandas as pd\n",
        "import numpy as np\n",
        "import requests"
      ]
    },
    {
      "cell_type": "markdown",
      "metadata": {
        "id": "Mf8z5GisBesM"
      },
      "source": [
        "## Colección de Datos"
      ]
    },
    {
      "cell_type": "markdown",
      "metadata": {
        "id": "ZeqtMjjcBesM"
      },
      "source": [
        "### Obtención de los datos mediante API"
      ]
    },
    {
      "cell_type": "markdown",
      "metadata": {
        "id": "QEsYACEpBesN"
      },
      "source": [
        "El gobierno de México utiliza el sistema de repositorios de datos abiertos [CKAN](https://datos.gob.mx/blog/ckan?category=api-cdn&tag=educacion) para compartir los Datos Abiertos de las dependencias de la Administración Pública Federal, así como de gobiernos locales.\n",
        "\n",
        "Utilizando la API de CKAN es posible consultar los detalles de los conjuntos de datos que se ofrecen en el portal [datos.gob.mx/busca](https://datos.gob.mx/busca/dataset).\n",
        "\n",
        "De esta forma, mediante peticiones a esta API podemos obtener la URL del conjunto de datos."
      ]
    },
    {
      "cell_type": "markdown",
      "metadata": {
        "id": "1SoesA2wBesN"
      },
      "source": [
        "**Realizamos nuestra petición**"
      ]
    },
    {
      "cell_type": "markdown",
      "metadata": {
        "id": "dzJtbttNBesO"
      },
      "source": [
        "El endpoint para consultar datos es:\n",
        "\n",
        "https://datos.gob.mx/busca/api/3/action/package_search?q=BUSQUEDA \n",
        "\n",
        "Por lo que pasaremos el valor **\"desaparecidos\"** al parametro *q*, para obtener los datasets relacionados."
      ]
    },
    {
      "cell_type": "code",
      "execution_count": 2,
      "metadata": {
        "ExecuteTime": {
          "end_time": "2022-09-13T20:37:01.099311Z",
          "start_time": "2022-09-13T20:37:01.096756Z"
        },
        "id": "M548dpTUBesO"
      },
      "outputs": [],
      "source": [
        "endpoint = 'https://datos.gob.mx/busca/api/3/action/package_search?'\n",
        "payload = {'q': 'desaparecidos'}"
      ]
    },
    {
      "cell_type": "code",
      "execution_count": 3,
      "metadata": {
        "ExecuteTime": {
          "end_time": "2022-09-13T20:37:01.559646Z",
          "start_time": "2022-09-13T20:37:01.103187Z"
        },
        "id": "PaXRS4GmBesP"
      },
      "outputs": [],
      "source": [
        "r = requests.get(endpoint, params=payload)"
      ]
    },
    {
      "cell_type": "code",
      "execution_count": 4,
      "metadata": {
        "ExecuteTime": {
          "end_time": "2022-09-13T20:37:01.577146Z",
          "start_time": "2022-09-13T20:37:01.563550Z"
        },
        "colab": {
          "base_uri": "https://localhost:8080/"
        },
        "id": "3iu-7VOIBesQ",
        "outputId": "cf99205a-0f37-4dd5-9afb-4a30946989d3"
      },
      "outputs": [
        {
          "output_type": "execute_result",
          "data": {
            "text/plain": [
              "200"
            ]
          },
          "metadata": {},
          "execution_count": 4
        }
      ],
      "source": [
        "r.status_code"
      ]
    },
    {
      "cell_type": "markdown",
      "metadata": {
        "id": "pkn0S0EABesR"
      },
      "source": [
        "> La petición se ha realizado con éxito"
      ]
    },
    {
      "cell_type": "markdown",
      "metadata": {
        "id": "S6FvmaPYBesS"
      },
      "source": [
        "Guardamos el formato *json* obtenido de la petición echa a la API y visualizamos las llaves principales que contiene"
      ]
    },
    {
      "cell_type": "code",
      "execution_count": 5,
      "metadata": {
        "ExecuteTime": {
          "end_time": "2022-09-13T20:37:01.583288Z",
          "start_time": "2022-09-13T20:37:01.578843Z"
        },
        "colab": {
          "base_uri": "https://localhost:8080/"
        },
        "id": "ob5qFQaGBesT",
        "outputId": "4a4f75b2-1630-4cd2-95c0-acaf703042e0"
      },
      "outputs": [
        {
          "output_type": "execute_result",
          "data": {
            "text/plain": [
              "dict_keys(['help', 'success', 'result'])"
            ]
          },
          "metadata": {},
          "execution_count": 5
        }
      ],
      "source": [
        "json = r.json()\n",
        "json.keys()"
      ]
    },
    {
      "cell_type": "markdown",
      "metadata": {
        "ExecuteTime": {
          "end_time": "2022-09-12T19:44:24.768617Z",
          "start_time": "2022-09-12T19:44:24.762200Z"
        },
        "id": "kFGtpOgGBesU"
      },
      "source": [
        "La llave *'result'* es la que nos interesa, exploraremos su contenido para identificar el conjunto de datos que buscamos."
      ]
    },
    {
      "cell_type": "code",
      "execution_count": 6,
      "metadata": {
        "ExecuteTime": {
          "end_time": "2022-09-13T20:37:01.589126Z",
          "start_time": "2022-09-13T20:37:01.585520Z"
        },
        "colab": {
          "base_uri": "https://localhost:8080/"
        },
        "id": "LuA48MAoBesU",
        "outputId": "2eab3ac5-d9bf-445e-8819-52aaebb9bde1"
      },
      "outputs": [
        {
          "output_type": "stream",
          "name": "stdout",
          "text": [
            "estadisticas-de-apoyo-y-proteccion-a-detenidos-y-desaparecidos\n",
            "registro-nacional-de-datos-de-personas-extraviadas-o-desaparecidas-rnped\n",
            "registro-nacional-de-datos-de-personas-extraviadas-o-desaparecidas-rnped-sitio-espejo-3\n",
            "registro-nacional-de-datos-de-personas-extraviadas-o-desaparecidas-rnped-sitio-espejo-2\n",
            "registro-nacional-de-datos-de-personas-extraviadas-o-desaparecidas-rnped-sitio-espejo-1\n",
            "registro-nacional-de-datos-de-personas-extraviadas-o-desaparecidas-rnped-sitio-espejo-4\n",
            "cantidad-de-derechohabientes-beneficiados-por-el-programa-integral-de-becas-para-hijos-de-milit\n"
          ]
        }
      ],
      "source": [
        "for key in json['result']['results']:\n",
        "    print(key['name'])"
      ]
    },
    {
      "cell_type": "markdown",
      "metadata": {
        "id": "wJslMGJhBesV"
      },
      "source": [
        "    | El conjunto de datos que buscamos se encuentra en 'registro-nacional-de-datos-de-personas-extraviadas-o-desaparecidas-rnped' con indice 1."
      ]
    },
    {
      "cell_type": "markdown",
      "metadata": {
        "id": "Rr_2FRXZBesV"
      },
      "source": [
        "Ahora buscaremos el conjunto de datos dentro de este diccionario."
      ]
    },
    {
      "cell_type": "code",
      "execution_count": 7,
      "metadata": {
        "ExecuteTime": {
          "end_time": "2022-09-13T20:37:01.593917Z",
          "start_time": "2022-09-13T20:37:01.590254Z"
        },
        "colab": {
          "base_uri": "https://localhost:8080/"
        },
        "id": "TE5OfjwjBesW",
        "outputId": "2e9815e6-0a7b-47c7-b8fd-92c45ab50ee0"
      },
      "outputs": [
        {
          "output_type": "stream",
          "name": "stdout",
          "text": [
            "Nombre del Dataset: Base de datos del RNPED del fuero común \n",
            "URL:                https://secretariadoejecutivo.gob.mx/transparencia/datos_abiertos/RNPEDFC.csv \n",
            "\n",
            "Nombre del Dataset: Base de datos del RNPED del fuero federal \n",
            "URL:                https://secretariadoejecutivo.gob.mx/docs/datos_abiertos/RNPEDFF__1.csv \n",
            "\n"
          ]
        }
      ],
      "source": [
        "for key in json['result']['results'][1]['resources']:\n",
        "    print(f\"Nombre del Dataset: {key['name']} \\n{('URL:'):19} {key['url']} \\n\")"
      ]
    },
    {
      "cell_type": "markdown",
      "metadata": {
        "id": "AM8DFDNCBesW"
      },
      "source": [
        "> Nuestro conjunto de datos es 'Base de datos del RNPED del fuero común' con indice 0."
      ]
    },
    {
      "cell_type": "markdown",
      "metadata": {
        "id": "_udVG-MxBesX"
      },
      "source": [
        "Guardamos la URL de nuestro conjunto"
      ]
    },
    {
      "cell_type": "code",
      "execution_count": 8,
      "metadata": {
        "ExecuteTime": {
          "end_time": "2022-09-13T20:37:01.598812Z",
          "start_time": "2022-09-13T20:37:01.594989Z"
        },
        "id": "vb9O-5r1BesX"
      },
      "outputs": [],
      "source": [
        "url = json['result']['results'][1]['resources'][0]['url']"
      ]
    },
    {
      "cell_type": "markdown",
      "metadata": {
        "id": "OE3q_FYVBesY"
      },
      "source": [
        "**Leemos el archivo .csv a partir de la URL.**"
      ]
    },
    {
      "cell_type": "markdown",
      "metadata": {
        "id": "pWw4U57OBesY"
      },
      "source": [
        "En caso de error de conexión por falla del servidor, leemos el dataset directamente de nuestro repostitorio de GitHub."
      ]
    },
    {
      "cell_type": "code",
      "execution_count": 9,
      "metadata": {
        "ExecuteTime": {
          "end_time": "2022-09-13T20:39:17.960599Z",
          "start_time": "2022-09-13T20:37:01.602055Z"
        },
        "id": "m4hygHEJBesY"
      },
      "outputs": [],
      "source": [
        "try:\n",
        "    raw = pd.read_csv(url, encoding='ISO-8859-1')\n",
        "except:\n",
        "    raw = pd.read_csv('https://raw.githubusercontent.com/MinervaNunez/Proyecto-de-Python-BEDU/main/RNPEDFC.csv', encoding='ISO-8859-1')"
      ]
    },
    {
      "cell_type": "markdown",
      "metadata": {
        "id": "RJJXWS6NBesZ"
      },
      "source": [
        "**Guardamos la versión RAW de los datos en fromato csv y leemos el archivo**"
      ]
    },
    {
      "cell_type": "code",
      "execution_count": 10,
      "metadata": {
        "ExecuteTime": {
          "end_time": "2022-09-13T20:39:18.111668Z",
          "start_time": "2022-09-13T20:39:17.961841Z"
        },
        "id": "Iey8deNQBesa"
      },
      "outputs": [],
      "source": [
        "raw.to_csv('RNPEDFC.csv', index=False, encoding='ISO-8859-1')"
      ]
    },
    {
      "cell_type": "code",
      "execution_count": 11,
      "metadata": {
        "ExecuteTime": {
          "end_time": "2022-09-14T01:51:13.705102Z",
          "start_time": "2022-09-14T01:51:13.626865Z"
        },
        "id": "k4qOu8ICBesa"
      },
      "outputs": [],
      "source": [
        "df = pd.read_csv('RNPEDFC.csv', encoding='ISO-8859-1')"
      ]
    },
    {
      "cell_type": "markdown",
      "metadata": {
        "id": "qKfGZzxqBesb"
      },
      "source": [
        "**Obtenermos como resultado nuesto data frame principal.**"
      ]
    },
    {
      "cell_type": "code",
      "execution_count": 12,
      "metadata": {
        "ExecuteTime": {
          "end_time": "2022-09-14T01:51:15.608393Z",
          "start_time": "2022-09-14T01:51:15.586059Z"
        },
        "scrolled": false,
        "colab": {
          "base_uri": "https://localhost:8080/",
          "height": 1000
        },
        "id": "HfPQmwiYBesc",
        "outputId": "99f70d19-ff28-4c48-da39-2815bbf77308"
      },
      "outputs": [
        {
          "output_type": "execute_result",
          "data": {
            "text/plain": [
              "      Fecha en que se le vio por ultima vez  \\\n",
              "0                                2012-03-18   \n",
              "1                                2007-02-05   \n",
              "2                                2009-03-14   \n",
              "3                                2006-12-23   \n",
              "4                                2008-01-11   \n",
              "...                                     ...   \n",
              "36260                            2018-04-26   \n",
              "36261                            2018-01-08   \n",
              "36262                            2015-02-02   \n",
              "36263                            2017-08-22   \n",
              "36264                            2018-04-11   \n",
              "\n",
              "      Hora en que se le vio por ultima vez  \\\n",
              "0                                 05:00:00   \n",
              "1                                 02:00:26   \n",
              "2                                 08:30:54   \n",
              "3                                 08:00:28   \n",
              "4                                 12:00:17   \n",
              "...                                    ...   \n",
              "36260                             08:00:00   \n",
              "36261                             11:00:00   \n",
              "36262                             07:00:00   \n",
              "36263                             04:00:00   \n",
              "36264                             02:00:00   \n",
              "\n",
              "      Pais en que se le vio por ultima vez  \\\n",
              "0                                   MEXICO   \n",
              "1                                   MEXICO   \n",
              "2                                   MEXICO   \n",
              "3                                   MEXICO   \n",
              "4                                   MEXICO   \n",
              "...                                    ...   \n",
              "36260                               MEXICO   \n",
              "36261                               MEXICO   \n",
              "36262                               MEXICO   \n",
              "36263                               MEXICO   \n",
              "36264                               MEXICO   \n",
              "\n",
              "      Entidad en que se le vio por ultima vez  \\\n",
              "0                                      SONORA   \n",
              "1                            ESTADO DE MEXICO   \n",
              "2                            ESTADO DE MEXICO   \n",
              "3                            ESTADO DE MEXICO   \n",
              "4                            ESTADO DE MEXICO   \n",
              "...                                       ...   \n",
              "36260                                  PUEBLA   \n",
              "36261                                  COLIMA   \n",
              "36262                                  PUEBLA   \n",
              "36263                                  COLIMA   \n",
              "36264                              NUEVO LEON   \n",
              "\n",
              "      Municipio en que se le vio por ultima vez  \\\n",
              "0                                       NAVOJOA   \n",
              "1                                VALLE DE BRAVO   \n",
              "2                                        CHALCO   \n",
              "3                           TLALNEPANTLA DE BAZ   \n",
              "4                                        TOLUCA   \n",
              "...                                         ...   \n",
              "36260                                    PUEBLA   \n",
              "36261                          VILLA DE ALVAREZ   \n",
              "36262                                     CHILA   \n",
              "36263                          VILLA DE ALVAREZ   \n",
              "36264                  SAN NICOLAS DE LOS GARZA   \n",
              "\n",
              "      Localidad en que se le vio por ultima vez Nacionalidad Estatura  \\\n",
              "0                                       NAVOJOA     MEXICANA      1.1   \n",
              "1                                VALLE DE BRAVO     MEXICANA      1.1   \n",
              "2                                        CHALCO     MEXICANA      1.1   \n",
              "3                           TLALNEPANTLA DE BAZ     MEXICANA      1.1   \n",
              "4                                        TOLUCA     MEXICANA      1.1   \n",
              "...                                         ...          ...      ...   \n",
              "36260                                    PUEBLA     MEXICANA      1.6   \n",
              "36261                          VILLA DE ALVAREZ     MEXICANA      1.7   \n",
              "36262                      CHILAS DE LAS FLORES     MEXICANA     1.77   \n",
              "36263                          VILLA DE ALVAREZ     MEXICANA     1.76   \n",
              "36264                  SAN NICOLAS DE LOS GARZA     MEXICANA      1.6   \n",
              "\n",
              "      Complexion    Sexo Edad  \\\n",
              "0        DELGADA   MUJER    7   \n",
              "1        DELGADA   MUJER    4   \n",
              "2        DELGADA  HOMBRE    6   \n",
              "3        DELGADA  HOMBRE   10   \n",
              "4        DELGADA  HOMBRE    4   \n",
              "...          ...     ...  ...   \n",
              "36260    DELGADA  HOMBRE   22   \n",
              "36261    ROBUSTA   MUJER   27   \n",
              "36262    MEDIANA   MUJER   86   \n",
              "36263    ROBUSTA  HOMBRE   41   \n",
              "36264    DELGADA   MUJER   14   \n",
              "\n",
              "                       Descripcion de senas particulares            Etnia  \\\n",
              "0      TIENE UNA CICATRIZ EN LA RODILLA IZQUIERDA POR...  NO ESPECIFICADO   \n",
              "1                                        NO ESPECIFICADO  NO ESPECIFICADO   \n",
              "2      MANCHAS, PARTE SUPERIOR DE PIERNA DERECHA, CIC...  NO ESPECIFICADO   \n",
              "3      LUNARES, A LA ALTURA DE LA CINTURAFORMA DE MAN...  NO ESPECIFICADO   \n",
              "4                                        NO ESPECIFICADO  NO ESPECIFICADO   \n",
              "...                                                  ...              ...   \n",
              "36260  LUNAR EN LA MEJILLA Y TATUAJE EN EL CUELLO EN ...  NO ESPECIFICADO   \n",
              "36261  EL OJO IZQUIERDO TIENE UN ENFERMEDAD COMO TIC,...  NO ESPECIFICADO   \n",
              "36262                                    NO ESPECIFICADO  NO ESPECIFICADO   \n",
              "36263  TATUAJE EN EL BRAZO IZQUIERDO CON LA IMAGEN DE...  NO ESPECIFICADO   \n",
              "36264                                    NO ESPECIFICADO  NO ESPECIFICADO   \n",
              "\n",
              "      Discapacidad Dependencia que envio la informacion  \n",
              "0          NINGUNO                         FGE - SONORA  \n",
              "1          NINGUNO               FGJ - ESTADO DE MEXICO  \n",
              "2          NINGUNO               FGJ - ESTADO DE MEXICO  \n",
              "3          NINGUNO               FGJ - ESTADO DE MEXICO  \n",
              "4          NINGUNO               FGJ - ESTADO DE MEXICO  \n",
              "...            ...                                  ...  \n",
              "36260      NINGUNO                         FGE - PUEBLA  \n",
              "36261      NINGUNO                         PGJ - COLIMA  \n",
              "36262      NINGUNO                         FGE - PUEBLA  \n",
              "36263      NINGUNO                         PGJ - COLIMA  \n",
              "36264      NINGUNO                     PGJ - NUEVO LEON  \n",
              "\n",
              "[36265 rows x 15 columns]"
            ],
            "text/html": [
              "\n",
              "  <div id=\"df-590ad6e0-7482-4172-b973-2576e938d323\">\n",
              "    <div class=\"colab-df-container\">\n",
              "      <div>\n",
              "<style scoped>\n",
              "    .dataframe tbody tr th:only-of-type {\n",
              "        vertical-align: middle;\n",
              "    }\n",
              "\n",
              "    .dataframe tbody tr th {\n",
              "        vertical-align: top;\n",
              "    }\n",
              "\n",
              "    .dataframe thead th {\n",
              "        text-align: right;\n",
              "    }\n",
              "</style>\n",
              "<table border=\"1\" class=\"dataframe\">\n",
              "  <thead>\n",
              "    <tr style=\"text-align: right;\">\n",
              "      <th></th>\n",
              "      <th>Fecha en que se le vio por ultima vez</th>\n",
              "      <th>Hora en que se le vio por ultima vez</th>\n",
              "      <th>Pais en que se le vio por ultima vez</th>\n",
              "      <th>Entidad en que se le vio por ultima vez</th>\n",
              "      <th>Municipio en que se le vio por ultima vez</th>\n",
              "      <th>Localidad en que se le vio por ultima vez</th>\n",
              "      <th>Nacionalidad</th>\n",
              "      <th>Estatura</th>\n",
              "      <th>Complexion</th>\n",
              "      <th>Sexo</th>\n",
              "      <th>Edad</th>\n",
              "      <th>Descripcion de senas particulares</th>\n",
              "      <th>Etnia</th>\n",
              "      <th>Discapacidad</th>\n",
              "      <th>Dependencia que envio la informacion</th>\n",
              "    </tr>\n",
              "  </thead>\n",
              "  <tbody>\n",
              "    <tr>\n",
              "      <th>0</th>\n",
              "      <td>2012-03-18</td>\n",
              "      <td>05:00:00</td>\n",
              "      <td>MEXICO</td>\n",
              "      <td>SONORA</td>\n",
              "      <td>NAVOJOA</td>\n",
              "      <td>NAVOJOA</td>\n",
              "      <td>MEXICANA</td>\n",
              "      <td>1.1</td>\n",
              "      <td>DELGADA</td>\n",
              "      <td>MUJER</td>\n",
              "      <td>7</td>\n",
              "      <td>TIENE UNA CICATRIZ EN LA RODILLA IZQUIERDA POR...</td>\n",
              "      <td>NO ESPECIFICADO</td>\n",
              "      <td>NINGUNO</td>\n",
              "      <td>FGE - SONORA</td>\n",
              "    </tr>\n",
              "    <tr>\n",
              "      <th>1</th>\n",
              "      <td>2007-02-05</td>\n",
              "      <td>02:00:26</td>\n",
              "      <td>MEXICO</td>\n",
              "      <td>ESTADO DE MEXICO</td>\n",
              "      <td>VALLE DE BRAVO</td>\n",
              "      <td>VALLE DE BRAVO</td>\n",
              "      <td>MEXICANA</td>\n",
              "      <td>1.1</td>\n",
              "      <td>DELGADA</td>\n",
              "      <td>MUJER</td>\n",
              "      <td>4</td>\n",
              "      <td>NO ESPECIFICADO</td>\n",
              "      <td>NO ESPECIFICADO</td>\n",
              "      <td>NINGUNO</td>\n",
              "      <td>FGJ - ESTADO DE MEXICO</td>\n",
              "    </tr>\n",
              "    <tr>\n",
              "      <th>2</th>\n",
              "      <td>2009-03-14</td>\n",
              "      <td>08:30:54</td>\n",
              "      <td>MEXICO</td>\n",
              "      <td>ESTADO DE MEXICO</td>\n",
              "      <td>CHALCO</td>\n",
              "      <td>CHALCO</td>\n",
              "      <td>MEXICANA</td>\n",
              "      <td>1.1</td>\n",
              "      <td>DELGADA</td>\n",
              "      <td>HOMBRE</td>\n",
              "      <td>6</td>\n",
              "      <td>MANCHAS, PARTE SUPERIOR DE PIERNA DERECHA, CIC...</td>\n",
              "      <td>NO ESPECIFICADO</td>\n",
              "      <td>NINGUNO</td>\n",
              "      <td>FGJ - ESTADO DE MEXICO</td>\n",
              "    </tr>\n",
              "    <tr>\n",
              "      <th>3</th>\n",
              "      <td>2006-12-23</td>\n",
              "      <td>08:00:28</td>\n",
              "      <td>MEXICO</td>\n",
              "      <td>ESTADO DE MEXICO</td>\n",
              "      <td>TLALNEPANTLA DE BAZ</td>\n",
              "      <td>TLALNEPANTLA DE BAZ</td>\n",
              "      <td>MEXICANA</td>\n",
              "      <td>1.1</td>\n",
              "      <td>DELGADA</td>\n",
              "      <td>HOMBRE</td>\n",
              "      <td>10</td>\n",
              "      <td>LUNARES, A LA ALTURA DE LA CINTURAFORMA DE MAN...</td>\n",
              "      <td>NO ESPECIFICADO</td>\n",
              "      <td>NINGUNO</td>\n",
              "      <td>FGJ - ESTADO DE MEXICO</td>\n",
              "    </tr>\n",
              "    <tr>\n",
              "      <th>4</th>\n",
              "      <td>2008-01-11</td>\n",
              "      <td>12:00:17</td>\n",
              "      <td>MEXICO</td>\n",
              "      <td>ESTADO DE MEXICO</td>\n",
              "      <td>TOLUCA</td>\n",
              "      <td>TOLUCA</td>\n",
              "      <td>MEXICANA</td>\n",
              "      <td>1.1</td>\n",
              "      <td>DELGADA</td>\n",
              "      <td>HOMBRE</td>\n",
              "      <td>4</td>\n",
              "      <td>NO ESPECIFICADO</td>\n",
              "      <td>NO ESPECIFICADO</td>\n",
              "      <td>NINGUNO</td>\n",
              "      <td>FGJ - ESTADO DE MEXICO</td>\n",
              "    </tr>\n",
              "    <tr>\n",
              "      <th>...</th>\n",
              "      <td>...</td>\n",
              "      <td>...</td>\n",
              "      <td>...</td>\n",
              "      <td>...</td>\n",
              "      <td>...</td>\n",
              "      <td>...</td>\n",
              "      <td>...</td>\n",
              "      <td>...</td>\n",
              "      <td>...</td>\n",
              "      <td>...</td>\n",
              "      <td>...</td>\n",
              "      <td>...</td>\n",
              "      <td>...</td>\n",
              "      <td>...</td>\n",
              "      <td>...</td>\n",
              "    </tr>\n",
              "    <tr>\n",
              "      <th>36260</th>\n",
              "      <td>2018-04-26</td>\n",
              "      <td>08:00:00</td>\n",
              "      <td>MEXICO</td>\n",
              "      <td>PUEBLA</td>\n",
              "      <td>PUEBLA</td>\n",
              "      <td>PUEBLA</td>\n",
              "      <td>MEXICANA</td>\n",
              "      <td>1.6</td>\n",
              "      <td>DELGADA</td>\n",
              "      <td>HOMBRE</td>\n",
              "      <td>22</td>\n",
              "      <td>LUNAR EN LA MEJILLA Y TATUAJE EN EL CUELLO EN ...</td>\n",
              "      <td>NO ESPECIFICADO</td>\n",
              "      <td>NINGUNO</td>\n",
              "      <td>FGE - PUEBLA</td>\n",
              "    </tr>\n",
              "    <tr>\n",
              "      <th>36261</th>\n",
              "      <td>2018-01-08</td>\n",
              "      <td>11:00:00</td>\n",
              "      <td>MEXICO</td>\n",
              "      <td>COLIMA</td>\n",
              "      <td>VILLA DE ALVAREZ</td>\n",
              "      <td>VILLA DE ALVAREZ</td>\n",
              "      <td>MEXICANA</td>\n",
              "      <td>1.7</td>\n",
              "      <td>ROBUSTA</td>\n",
              "      <td>MUJER</td>\n",
              "      <td>27</td>\n",
              "      <td>EL OJO IZQUIERDO TIENE UN ENFERMEDAD COMO TIC,...</td>\n",
              "      <td>NO ESPECIFICADO</td>\n",
              "      <td>NINGUNO</td>\n",
              "      <td>PGJ - COLIMA</td>\n",
              "    </tr>\n",
              "    <tr>\n",
              "      <th>36262</th>\n",
              "      <td>2015-02-02</td>\n",
              "      <td>07:00:00</td>\n",
              "      <td>MEXICO</td>\n",
              "      <td>PUEBLA</td>\n",
              "      <td>CHILA</td>\n",
              "      <td>CHILAS DE LAS FLORES</td>\n",
              "      <td>MEXICANA</td>\n",
              "      <td>1.77</td>\n",
              "      <td>MEDIANA</td>\n",
              "      <td>MUJER</td>\n",
              "      <td>86</td>\n",
              "      <td>NO ESPECIFICADO</td>\n",
              "      <td>NO ESPECIFICADO</td>\n",
              "      <td>NINGUNO</td>\n",
              "      <td>FGE - PUEBLA</td>\n",
              "    </tr>\n",
              "    <tr>\n",
              "      <th>36263</th>\n",
              "      <td>2017-08-22</td>\n",
              "      <td>04:00:00</td>\n",
              "      <td>MEXICO</td>\n",
              "      <td>COLIMA</td>\n",
              "      <td>VILLA DE ALVAREZ</td>\n",
              "      <td>VILLA DE ALVAREZ</td>\n",
              "      <td>MEXICANA</td>\n",
              "      <td>1.76</td>\n",
              "      <td>ROBUSTA</td>\n",
              "      <td>HOMBRE</td>\n",
              "      <td>41</td>\n",
              "      <td>TATUAJE EN EL BRAZO IZQUIERDO CON LA IMAGEN DE...</td>\n",
              "      <td>NO ESPECIFICADO</td>\n",
              "      <td>NINGUNO</td>\n",
              "      <td>PGJ - COLIMA</td>\n",
              "    </tr>\n",
              "    <tr>\n",
              "      <th>36264</th>\n",
              "      <td>2018-04-11</td>\n",
              "      <td>02:00:00</td>\n",
              "      <td>MEXICO</td>\n",
              "      <td>NUEVO LEON</td>\n",
              "      <td>SAN NICOLAS DE LOS GARZA</td>\n",
              "      <td>SAN NICOLAS DE LOS GARZA</td>\n",
              "      <td>MEXICANA</td>\n",
              "      <td>1.6</td>\n",
              "      <td>DELGADA</td>\n",
              "      <td>MUJER</td>\n",
              "      <td>14</td>\n",
              "      <td>NO ESPECIFICADO</td>\n",
              "      <td>NO ESPECIFICADO</td>\n",
              "      <td>NINGUNO</td>\n",
              "      <td>PGJ - NUEVO LEON</td>\n",
              "    </tr>\n",
              "  </tbody>\n",
              "</table>\n",
              "<p>36265 rows × 15 columns</p>\n",
              "</div>\n",
              "      <button class=\"colab-df-convert\" onclick=\"convertToInteractive('df-590ad6e0-7482-4172-b973-2576e938d323')\"\n",
              "              title=\"Convert this dataframe to an interactive table.\"\n",
              "              style=\"display:none;\">\n",
              "        \n",
              "  <svg xmlns=\"http://www.w3.org/2000/svg\" height=\"24px\"viewBox=\"0 0 24 24\"\n",
              "       width=\"24px\">\n",
              "    <path d=\"M0 0h24v24H0V0z\" fill=\"none\"/>\n",
              "    <path d=\"M18.56 5.44l.94 2.06.94-2.06 2.06-.94-2.06-.94-.94-2.06-.94 2.06-2.06.94zm-11 1L8.5 8.5l.94-2.06 2.06-.94-2.06-.94L8.5 2.5l-.94 2.06-2.06.94zm10 10l.94 2.06.94-2.06 2.06-.94-2.06-.94-.94-2.06-.94 2.06-2.06.94z\"/><path d=\"M17.41 7.96l-1.37-1.37c-.4-.4-.92-.59-1.43-.59-.52 0-1.04.2-1.43.59L10.3 9.45l-7.72 7.72c-.78.78-.78 2.05 0 2.83L4 21.41c.39.39.9.59 1.41.59.51 0 1.02-.2 1.41-.59l7.78-7.78 2.81-2.81c.8-.78.8-2.07 0-2.86zM5.41 20L4 18.59l7.72-7.72 1.47 1.35L5.41 20z\"/>\n",
              "  </svg>\n",
              "      </button>\n",
              "      \n",
              "  <style>\n",
              "    .colab-df-container {\n",
              "      display:flex;\n",
              "      flex-wrap:wrap;\n",
              "      gap: 12px;\n",
              "    }\n",
              "\n",
              "    .colab-df-convert {\n",
              "      background-color: #E8F0FE;\n",
              "      border: none;\n",
              "      border-radius: 50%;\n",
              "      cursor: pointer;\n",
              "      display: none;\n",
              "      fill: #1967D2;\n",
              "      height: 32px;\n",
              "      padding: 0 0 0 0;\n",
              "      width: 32px;\n",
              "    }\n",
              "\n",
              "    .colab-df-convert:hover {\n",
              "      background-color: #E2EBFA;\n",
              "      box-shadow: 0px 1px 2px rgba(60, 64, 67, 0.3), 0px 1px 3px 1px rgba(60, 64, 67, 0.15);\n",
              "      fill: #174EA6;\n",
              "    }\n",
              "\n",
              "    [theme=dark] .colab-df-convert {\n",
              "      background-color: #3B4455;\n",
              "      fill: #D2E3FC;\n",
              "    }\n",
              "\n",
              "    [theme=dark] .colab-df-convert:hover {\n",
              "      background-color: #434B5C;\n",
              "      box-shadow: 0px 1px 3px 1px rgba(0, 0, 0, 0.15);\n",
              "      filter: drop-shadow(0px 1px 2px rgba(0, 0, 0, 0.3));\n",
              "      fill: #FFFFFF;\n",
              "    }\n",
              "  </style>\n",
              "\n",
              "      <script>\n",
              "        const buttonEl =\n",
              "          document.querySelector('#df-590ad6e0-7482-4172-b973-2576e938d323 button.colab-df-convert');\n",
              "        buttonEl.style.display =\n",
              "          google.colab.kernel.accessAllowed ? 'block' : 'none';\n",
              "\n",
              "        async function convertToInteractive(key) {\n",
              "          const element = document.querySelector('#df-590ad6e0-7482-4172-b973-2576e938d323');\n",
              "          const dataTable =\n",
              "            await google.colab.kernel.invokeFunction('convertToInteractive',\n",
              "                                                     [key], {});\n",
              "          if (!dataTable) return;\n",
              "\n",
              "          const docLinkHtml = 'Like what you see? Visit the ' +\n",
              "            '<a target=\"_blank\" href=https://colab.research.google.com/notebooks/data_table.ipynb>data table notebook</a>'\n",
              "            + ' to learn more about interactive tables.';\n",
              "          element.innerHTML = '';\n",
              "          dataTable['output_type'] = 'display_data';\n",
              "          await google.colab.output.renderOutput(dataTable, element);\n",
              "          const docLink = document.createElement('div');\n",
              "          docLink.innerHTML = docLinkHtml;\n",
              "          element.appendChild(docLink);\n",
              "        }\n",
              "      </script>\n",
              "    </div>\n",
              "  </div>\n",
              "  "
            ]
          },
          "metadata": {},
          "execution_count": 12
        }
      ],
      "source": [
        "df"
      ]
    },
    {
      "cell_type": "markdown",
      "metadata": {
        "id": "7f418359"
      },
      "source": [
        "## Análisis exploratorio de datos"
      ]
    },
    {
      "cell_type": "markdown",
      "metadata": {
        "id": "64a3a988"
      },
      "source": [
        ":Primero, obtenemos las dimensiones de nuestro `DataFrame`."
      ]
    },
    {
      "cell_type": "code",
      "execution_count": 13,
      "metadata": {
        "ExecuteTime": {
          "end_time": "2022-09-14T01:51:18.512314Z",
          "start_time": "2022-09-14T01:51:18.506503Z"
        },
        "colab": {
          "base_uri": "https://localhost:8080/"
        },
        "id": "c375fd99",
        "outputId": "0afa1f1e-40de-4087-c092-23016b4710e4"
      },
      "outputs": [
        {
          "output_type": "execute_result",
          "data": {
            "text/plain": [
              "(36265, 15)"
            ]
          },
          "metadata": {},
          "execution_count": 13
        }
      ],
      "source": [
        "df.shape"
      ]
    },
    {
      "cell_type": "markdown",
      "metadata": {
        "id": "32dc3855"
      },
      "source": [
        "| Nuestro dataframe tiene 36265 renglones (observaciones), y 15 columnas (variables)."
      ]
    },
    {
      "cell_type": "markdown",
      "metadata": {
        "id": "FVGtUI_8Besi"
      },
      "source": [
        "**Veamos cuáles son nuestras variables.**"
      ]
    },
    {
      "cell_type": "markdown",
      "metadata": {
        "id": "VFDVUGqOBesj"
      },
      "source": [
        "Usando dtypes podemos listar cada una de nuestras variables junto con su tipo de dato. "
      ]
    },
    {
      "cell_type": "code",
      "execution_count": 14,
      "metadata": {
        "ExecuteTime": {
          "end_time": "2022-09-14T01:51:20.498118Z",
          "start_time": "2022-09-14T01:51:20.491784Z"
        },
        "colab": {
          "base_uri": "https://localhost:8080/"
        },
        "id": "hl6BSNFiBesj",
        "outputId": "e7f719ed-8f69-4e45-9417-32d86c97e0d8"
      },
      "outputs": [
        {
          "output_type": "execute_result",
          "data": {
            "text/plain": [
              "Fecha en que se le vio por ultima vez        object\n",
              "Hora en que se le vio por ultima vez         object\n",
              "Pais en que se le vio por ultima vez         object\n",
              "Entidad en que se le vio por ultima vez      object\n",
              "Municipio en que se le vio por ultima vez    object\n",
              "Localidad en que se le vio por ultima vez    object\n",
              "Nacionalidad                                 object\n",
              "Estatura                                     object\n",
              "Complexion                                   object\n",
              "Sexo                                         object\n",
              "Edad                                         object\n",
              "Descripcion de senas particulares            object\n",
              "Etnia                                        object\n",
              "Discapacidad                                 object\n",
              "Dependencia que envio la informacion         object\n",
              "dtype: object"
            ]
          },
          "metadata": {},
          "execution_count": 14
        }
      ],
      "source": [
        "df.dtypes"
      ]
    },
    {
      "cell_type": "markdown",
      "metadata": {
        "id": "6ca200fb"
      },
      "source": [
        "> De acuerdo con el resultado de la anterior celda, nuestras 15 variables y sus tipos de datos (por defecto) son:\n",
        "    \n",
        "| Nombre de variable | Tipo |\n",
        "| -----------------  | ---- |\n",
        "| Fecha en que se le vio por ultima vez        | object |\n",
        "| Hora en que se le vio por ultima vez         | object |\n",
        "| Pais en que se le vio por ultima vez         | object |\n",
        "| Entidad en que se le vio por ultima vez      | object |\n",
        "| Municipio en que se le vio por ultima vez    | object |\n",
        "| Localidad en que se le vio por ultima vez    | object |\n",
        "| Nacionalidad                                 | object |\n",
        "| Estatura                                     | object |\n",
        "| Complexion                                   | object |\n",
        "| Sexo                                         | object |\n",
        "| Edad                                         | object |\n",
        "| Descripcion de senas particulares            | object |\n",
        "| Etnia                                        | object |\n",
        "| Discapacidad                                 | object |\n",
        "| Dependencia que envio la informacion         | object |\n"
      ]
    },
    {
      "cell_type": "code",
      "execution_count": 15,
      "metadata": {
        "ExecuteTime": {
          "end_time": "2022-09-14T01:51:24.416443Z",
          "start_time": "2022-09-14T01:51:24.412142Z"
        },
        "scrolled": false,
        "colab": {
          "base_uri": "https://localhost:8080/"
        },
        "id": "dwMIEVunBesk",
        "outputId": "41e0be7d-5d82-419f-87c3-4cc4efe833d7"
      },
      "outputs": [
        {
          "output_type": "execute_result",
          "data": {
            "text/plain": [
              "RangeIndex(start=0, stop=36265, step=1)"
            ]
          },
          "metadata": {},
          "execution_count": 15
        }
      ],
      "source": [
        "df.index"
      ]
    },
    {
      "cell_type": "markdown",
      "metadata": {
        "id": "b7b9f7ae"
      },
      "source": [
        "> Del anterior comando, `pandas` nos dice que nuestras observaciones están indizadas por valores numéricos que empiezan desde el 0 y terminan en 36265."
      ]
    },
    {
      "cell_type": "markdown",
      "metadata": {
        "id": "Iz1bnsuSBesm"
      },
      "source": [
        "Finalmente, echamos un vistazo a los datos para darnos una mejor idea de cómo está compuesto nuestro `DataFrame` a analizar."
      ]
    },
    {
      "cell_type": "code",
      "execution_count": 16,
      "metadata": {
        "ExecuteTime": {
          "end_time": "2022-09-14T01:51:26.117176Z",
          "start_time": "2022-09-14T01:51:26.105873Z"
        },
        "colab": {
          "base_uri": "https://localhost:8080/",
          "height": 625
        },
        "id": "dInUAzVeBesn",
        "outputId": "4f46ceef-a339-4dd5-daf8-30781d1448d7"
      },
      "outputs": [
        {
          "output_type": "execute_result",
          "data": {
            "text/plain": [
              "  Fecha en que se le vio por ultima vez Hora en que se le vio por ultima vez  \\\n",
              "0                            2012-03-18                             05:00:00   \n",
              "1                            2007-02-05                             02:00:26   \n",
              "2                            2009-03-14                             08:30:54   \n",
              "3                            2006-12-23                             08:00:28   \n",
              "4                            2008-01-11                             12:00:17   \n",
              "\n",
              "  Pais en que se le vio por ultima vez  \\\n",
              "0                               MEXICO   \n",
              "1                               MEXICO   \n",
              "2                               MEXICO   \n",
              "3                               MEXICO   \n",
              "4                               MEXICO   \n",
              "\n",
              "  Entidad en que se le vio por ultima vez  \\\n",
              "0                                  SONORA   \n",
              "1                        ESTADO DE MEXICO   \n",
              "2                        ESTADO DE MEXICO   \n",
              "3                        ESTADO DE MEXICO   \n",
              "4                        ESTADO DE MEXICO   \n",
              "\n",
              "  Municipio en que se le vio por ultima vez  \\\n",
              "0                                   NAVOJOA   \n",
              "1                            VALLE DE BRAVO   \n",
              "2                                    CHALCO   \n",
              "3                       TLALNEPANTLA DE BAZ   \n",
              "4                                    TOLUCA   \n",
              "\n",
              "  Localidad en que se le vio por ultima vez Nacionalidad Estatura Complexion  \\\n",
              "0                                   NAVOJOA     MEXICANA      1.1    DELGADA   \n",
              "1                            VALLE DE BRAVO     MEXICANA      1.1    DELGADA   \n",
              "2                                    CHALCO     MEXICANA      1.1    DELGADA   \n",
              "3                       TLALNEPANTLA DE BAZ     MEXICANA      1.1    DELGADA   \n",
              "4                                    TOLUCA     MEXICANA      1.1    DELGADA   \n",
              "\n",
              "     Sexo Edad                  Descripcion de senas particulares  \\\n",
              "0   MUJER    7  TIENE UNA CICATRIZ EN LA RODILLA IZQUIERDA POR...   \n",
              "1   MUJER    4                                    NO ESPECIFICADO   \n",
              "2  HOMBRE    6  MANCHAS, PARTE SUPERIOR DE PIERNA DERECHA, CIC...   \n",
              "3  HOMBRE   10  LUNARES, A LA ALTURA DE LA CINTURAFORMA DE MAN...   \n",
              "4  HOMBRE    4                                    NO ESPECIFICADO   \n",
              "\n",
              "             Etnia Discapacidad Dependencia que envio la informacion  \n",
              "0  NO ESPECIFICADO      NINGUNO                         FGE - SONORA  \n",
              "1  NO ESPECIFICADO      NINGUNO               FGJ - ESTADO DE MEXICO  \n",
              "2  NO ESPECIFICADO      NINGUNO               FGJ - ESTADO DE MEXICO  \n",
              "3  NO ESPECIFICADO      NINGUNO               FGJ - ESTADO DE MEXICO  \n",
              "4  NO ESPECIFICADO      NINGUNO               FGJ - ESTADO DE MEXICO  "
            ],
            "text/html": [
              "\n",
              "  <div id=\"df-ddeed849-92f0-4b10-8a9f-1c51b11dbec4\">\n",
              "    <div class=\"colab-df-container\">\n",
              "      <div>\n",
              "<style scoped>\n",
              "    .dataframe tbody tr th:only-of-type {\n",
              "        vertical-align: middle;\n",
              "    }\n",
              "\n",
              "    .dataframe tbody tr th {\n",
              "        vertical-align: top;\n",
              "    }\n",
              "\n",
              "    .dataframe thead th {\n",
              "        text-align: right;\n",
              "    }\n",
              "</style>\n",
              "<table border=\"1\" class=\"dataframe\">\n",
              "  <thead>\n",
              "    <tr style=\"text-align: right;\">\n",
              "      <th></th>\n",
              "      <th>Fecha en que se le vio por ultima vez</th>\n",
              "      <th>Hora en que se le vio por ultima vez</th>\n",
              "      <th>Pais en que se le vio por ultima vez</th>\n",
              "      <th>Entidad en que se le vio por ultima vez</th>\n",
              "      <th>Municipio en que se le vio por ultima vez</th>\n",
              "      <th>Localidad en que se le vio por ultima vez</th>\n",
              "      <th>Nacionalidad</th>\n",
              "      <th>Estatura</th>\n",
              "      <th>Complexion</th>\n",
              "      <th>Sexo</th>\n",
              "      <th>Edad</th>\n",
              "      <th>Descripcion de senas particulares</th>\n",
              "      <th>Etnia</th>\n",
              "      <th>Discapacidad</th>\n",
              "      <th>Dependencia que envio la informacion</th>\n",
              "    </tr>\n",
              "  </thead>\n",
              "  <tbody>\n",
              "    <tr>\n",
              "      <th>0</th>\n",
              "      <td>2012-03-18</td>\n",
              "      <td>05:00:00</td>\n",
              "      <td>MEXICO</td>\n",
              "      <td>SONORA</td>\n",
              "      <td>NAVOJOA</td>\n",
              "      <td>NAVOJOA</td>\n",
              "      <td>MEXICANA</td>\n",
              "      <td>1.1</td>\n",
              "      <td>DELGADA</td>\n",
              "      <td>MUJER</td>\n",
              "      <td>7</td>\n",
              "      <td>TIENE UNA CICATRIZ EN LA RODILLA IZQUIERDA POR...</td>\n",
              "      <td>NO ESPECIFICADO</td>\n",
              "      <td>NINGUNO</td>\n",
              "      <td>FGE - SONORA</td>\n",
              "    </tr>\n",
              "    <tr>\n",
              "      <th>1</th>\n",
              "      <td>2007-02-05</td>\n",
              "      <td>02:00:26</td>\n",
              "      <td>MEXICO</td>\n",
              "      <td>ESTADO DE MEXICO</td>\n",
              "      <td>VALLE DE BRAVO</td>\n",
              "      <td>VALLE DE BRAVO</td>\n",
              "      <td>MEXICANA</td>\n",
              "      <td>1.1</td>\n",
              "      <td>DELGADA</td>\n",
              "      <td>MUJER</td>\n",
              "      <td>4</td>\n",
              "      <td>NO ESPECIFICADO</td>\n",
              "      <td>NO ESPECIFICADO</td>\n",
              "      <td>NINGUNO</td>\n",
              "      <td>FGJ - ESTADO DE MEXICO</td>\n",
              "    </tr>\n",
              "    <tr>\n",
              "      <th>2</th>\n",
              "      <td>2009-03-14</td>\n",
              "      <td>08:30:54</td>\n",
              "      <td>MEXICO</td>\n",
              "      <td>ESTADO DE MEXICO</td>\n",
              "      <td>CHALCO</td>\n",
              "      <td>CHALCO</td>\n",
              "      <td>MEXICANA</td>\n",
              "      <td>1.1</td>\n",
              "      <td>DELGADA</td>\n",
              "      <td>HOMBRE</td>\n",
              "      <td>6</td>\n",
              "      <td>MANCHAS, PARTE SUPERIOR DE PIERNA DERECHA, CIC...</td>\n",
              "      <td>NO ESPECIFICADO</td>\n",
              "      <td>NINGUNO</td>\n",
              "      <td>FGJ - ESTADO DE MEXICO</td>\n",
              "    </tr>\n",
              "    <tr>\n",
              "      <th>3</th>\n",
              "      <td>2006-12-23</td>\n",
              "      <td>08:00:28</td>\n",
              "      <td>MEXICO</td>\n",
              "      <td>ESTADO DE MEXICO</td>\n",
              "      <td>TLALNEPANTLA DE BAZ</td>\n",
              "      <td>TLALNEPANTLA DE BAZ</td>\n",
              "      <td>MEXICANA</td>\n",
              "      <td>1.1</td>\n",
              "      <td>DELGADA</td>\n",
              "      <td>HOMBRE</td>\n",
              "      <td>10</td>\n",
              "      <td>LUNARES, A LA ALTURA DE LA CINTURAFORMA DE MAN...</td>\n",
              "      <td>NO ESPECIFICADO</td>\n",
              "      <td>NINGUNO</td>\n",
              "      <td>FGJ - ESTADO DE MEXICO</td>\n",
              "    </tr>\n",
              "    <tr>\n",
              "      <th>4</th>\n",
              "      <td>2008-01-11</td>\n",
              "      <td>12:00:17</td>\n",
              "      <td>MEXICO</td>\n",
              "      <td>ESTADO DE MEXICO</td>\n",
              "      <td>TOLUCA</td>\n",
              "      <td>TOLUCA</td>\n",
              "      <td>MEXICANA</td>\n",
              "      <td>1.1</td>\n",
              "      <td>DELGADA</td>\n",
              "      <td>HOMBRE</td>\n",
              "      <td>4</td>\n",
              "      <td>NO ESPECIFICADO</td>\n",
              "      <td>NO ESPECIFICADO</td>\n",
              "      <td>NINGUNO</td>\n",
              "      <td>FGJ - ESTADO DE MEXICO</td>\n",
              "    </tr>\n",
              "  </tbody>\n",
              "</table>\n",
              "</div>\n",
              "      <button class=\"colab-df-convert\" onclick=\"convertToInteractive('df-ddeed849-92f0-4b10-8a9f-1c51b11dbec4')\"\n",
              "              title=\"Convert this dataframe to an interactive table.\"\n",
              "              style=\"display:none;\">\n",
              "        \n",
              "  <svg xmlns=\"http://www.w3.org/2000/svg\" height=\"24px\"viewBox=\"0 0 24 24\"\n",
              "       width=\"24px\">\n",
              "    <path d=\"M0 0h24v24H0V0z\" fill=\"none\"/>\n",
              "    <path d=\"M18.56 5.44l.94 2.06.94-2.06 2.06-.94-2.06-.94-.94-2.06-.94 2.06-2.06.94zm-11 1L8.5 8.5l.94-2.06 2.06-.94-2.06-.94L8.5 2.5l-.94 2.06-2.06.94zm10 10l.94 2.06.94-2.06 2.06-.94-2.06-.94-.94-2.06-.94 2.06-2.06.94z\"/><path d=\"M17.41 7.96l-1.37-1.37c-.4-.4-.92-.59-1.43-.59-.52 0-1.04.2-1.43.59L10.3 9.45l-7.72 7.72c-.78.78-.78 2.05 0 2.83L4 21.41c.39.39.9.59 1.41.59.51 0 1.02-.2 1.41-.59l7.78-7.78 2.81-2.81c.8-.78.8-2.07 0-2.86zM5.41 20L4 18.59l7.72-7.72 1.47 1.35L5.41 20z\"/>\n",
              "  </svg>\n",
              "      </button>\n",
              "      \n",
              "  <style>\n",
              "    .colab-df-container {\n",
              "      display:flex;\n",
              "      flex-wrap:wrap;\n",
              "      gap: 12px;\n",
              "    }\n",
              "\n",
              "    .colab-df-convert {\n",
              "      background-color: #E8F0FE;\n",
              "      border: none;\n",
              "      border-radius: 50%;\n",
              "      cursor: pointer;\n",
              "      display: none;\n",
              "      fill: #1967D2;\n",
              "      height: 32px;\n",
              "      padding: 0 0 0 0;\n",
              "      width: 32px;\n",
              "    }\n",
              "\n",
              "    .colab-df-convert:hover {\n",
              "      background-color: #E2EBFA;\n",
              "      box-shadow: 0px 1px 2px rgba(60, 64, 67, 0.3), 0px 1px 3px 1px rgba(60, 64, 67, 0.15);\n",
              "      fill: #174EA6;\n",
              "    }\n",
              "\n",
              "    [theme=dark] .colab-df-convert {\n",
              "      background-color: #3B4455;\n",
              "      fill: #D2E3FC;\n",
              "    }\n",
              "\n",
              "    [theme=dark] .colab-df-convert:hover {\n",
              "      background-color: #434B5C;\n",
              "      box-shadow: 0px 1px 3px 1px rgba(0, 0, 0, 0.15);\n",
              "      filter: drop-shadow(0px 1px 2px rgba(0, 0, 0, 0.3));\n",
              "      fill: #FFFFFF;\n",
              "    }\n",
              "  </style>\n",
              "\n",
              "      <script>\n",
              "        const buttonEl =\n",
              "          document.querySelector('#df-ddeed849-92f0-4b10-8a9f-1c51b11dbec4 button.colab-df-convert');\n",
              "        buttonEl.style.display =\n",
              "          google.colab.kernel.accessAllowed ? 'block' : 'none';\n",
              "\n",
              "        async function convertToInteractive(key) {\n",
              "          const element = document.querySelector('#df-ddeed849-92f0-4b10-8a9f-1c51b11dbec4');\n",
              "          const dataTable =\n",
              "            await google.colab.kernel.invokeFunction('convertToInteractive',\n",
              "                                                     [key], {});\n",
              "          if (!dataTable) return;\n",
              "\n",
              "          const docLinkHtml = 'Like what you see? Visit the ' +\n",
              "            '<a target=\"_blank\" href=https://colab.research.google.com/notebooks/data_table.ipynb>data table notebook</a>'\n",
              "            + ' to learn more about interactive tables.';\n",
              "          element.innerHTML = '';\n",
              "          dataTable['output_type'] = 'display_data';\n",
              "          await google.colab.output.renderOutput(dataTable, element);\n",
              "          const docLink = document.createElement('div');\n",
              "          docLink.innerHTML = docLinkHtml;\n",
              "          element.appendChild(docLink);\n",
              "        }\n",
              "      </script>\n",
              "    </div>\n",
              "  </div>\n",
              "  "
            ]
          },
          "metadata": {},
          "execution_count": 16
        }
      ],
      "source": [
        "df.head(5)"
      ]
    },
    {
      "cell_type": "code",
      "execution_count": 17,
      "metadata": {
        "ExecuteTime": {
          "end_time": "2022-09-14T01:51:28.542379Z",
          "start_time": "2022-09-14T01:51:28.524805Z"
        },
        "scrolled": false,
        "colab": {
          "base_uri": "https://localhost:8080/",
          "height": 984
        },
        "id": "we_CwYJhBesn",
        "outputId": "f07c1e05-5479-4d6b-fb2e-d22d66a13a0b"
      },
      "outputs": [
        {
          "output_type": "execute_result",
          "data": {
            "text/plain": [
              "      Fecha en que se le vio por ultima vez  \\\n",
              "36255                            2018-04-25   \n",
              "36256                            2018-04-22   \n",
              "36257                            2017-07-02   \n",
              "36258                            2017-04-06   \n",
              "36259                            2018-04-15   \n",
              "36260                            2018-04-26   \n",
              "36261                            2018-01-08   \n",
              "36262                            2015-02-02   \n",
              "36263                            2017-08-22   \n",
              "36264                            2018-04-11   \n",
              "\n",
              "      Hora en que se le vio por ultima vez  \\\n",
              "36255                             06:30:00   \n",
              "36256                             11:30:00   \n",
              "36257                             11:14:59   \n",
              "36258                             02:00:00   \n",
              "36259                             06:30:00   \n",
              "36260                             08:00:00   \n",
              "36261                             11:00:00   \n",
              "36262                             07:00:00   \n",
              "36263                             04:00:00   \n",
              "36264                             02:00:00   \n",
              "\n",
              "      Pais en que se le vio por ultima vez  \\\n",
              "36255                               MEXICO   \n",
              "36256                               MEXICO   \n",
              "36257                               MEXICO   \n",
              "36258                               MEXICO   \n",
              "36259                               MEXICO   \n",
              "36260                               MEXICO   \n",
              "36261                               MEXICO   \n",
              "36262                               MEXICO   \n",
              "36263                               MEXICO   \n",
              "36264                               MEXICO   \n",
              "\n",
              "      Entidad en que se le vio por ultima vez  \\\n",
              "36255                                  PUEBLA   \n",
              "36256                                  PUEBLA   \n",
              "36257                                  SONORA   \n",
              "36258                                  COLIMA   \n",
              "36259                                  COLIMA   \n",
              "36260                                  PUEBLA   \n",
              "36261                                  COLIMA   \n",
              "36262                                  PUEBLA   \n",
              "36263                                  COLIMA   \n",
              "36264                              NUEVO LEON   \n",
              "\n",
              "      Municipio en que se le vio por ultima vez  \\\n",
              "36255                     SAN MARTIN TEXMELUCAN   \n",
              "36256                                    PUEBLA   \n",
              "36257                                   CANANEA   \n",
              "36258                                MANZANILLO   \n",
              "36259                                    COLIMA   \n",
              "36260                                    PUEBLA   \n",
              "36261                          VILLA DE ALVAREZ   \n",
              "36262                                     CHILA   \n",
              "36263                          VILLA DE ALVAREZ   \n",
              "36264                  SAN NICOLAS DE LOS GARZA   \n",
              "\n",
              "      Localidad en que se le vio por ultima vez Nacionalidad         Estatura  \\\n",
              "36255                     SAN MARTIN TEXMELUCAN     MEXICANA              1.7   \n",
              "36256                                    PUEBLA     MEXICANA             1.52   \n",
              "36257                                   CANANEA     MEXICANA  NO ESPECIFICADO   \n",
              "36258                                  SANTIAGO     MEXICANA             1.71   \n",
              "36259                                    COLIMA     MEXICANA             1.59   \n",
              "36260                                    PUEBLA     MEXICANA              1.6   \n",
              "36261                          VILLA DE ALVAREZ     MEXICANA              1.7   \n",
              "36262                      CHILAS DE LAS FLORES     MEXICANA             1.77   \n",
              "36263                          VILLA DE ALVAREZ     MEXICANA             1.76   \n",
              "36264                  SAN NICOLAS DE LOS GARZA     MEXICANA              1.6   \n",
              "\n",
              "            Complexion    Sexo             Edad  \\\n",
              "36255          DELGADA  HOMBRE               26   \n",
              "36256          DELGADA   MUJER               18   \n",
              "36257  NO ESPECIFICADO  HOMBRE  NO ESPECIFICADO   \n",
              "36258          ROBUSTA  HOMBRE               22   \n",
              "36259          ROBUSTA  HOMBRE               57   \n",
              "36260          DELGADA  HOMBRE               22   \n",
              "36261          ROBUSTA   MUJER               27   \n",
              "36262          MEDIANA   MUJER               86   \n",
              "36263          ROBUSTA  HOMBRE               41   \n",
              "36264          DELGADA   MUJER               14   \n",
              "\n",
              "                       Descripcion de senas particulares            Etnia  \\\n",
              "36255  PECAS EN EL ROSTRO, PERFORACION EN LA ORJA IZQ...  NO ESPECIFICADO   \n",
              "36256  PERFORACION EN LA LENGUA Y MANCHA BLANCA EN ME...  NO ESPECIFICADO   \n",
              "36257                                    NO ESPECIFICADO  NO ESPECIFICADO   \n",
              "36258                                    NO ESPECIFICADO  NO ESPECIFICADO   \n",
              "36259  TIENE UNA CICATRIZ EN LA PARTE BAJA DE SU ABDO...  NO ESPECIFICADO   \n",
              "36260  LUNAR EN LA MEJILLA Y TATUAJE EN EL CUELLO EN ...  NO ESPECIFICADO   \n",
              "36261  EL OJO IZQUIERDO TIENE UN ENFERMEDAD COMO TIC,...  NO ESPECIFICADO   \n",
              "36262                                    NO ESPECIFICADO  NO ESPECIFICADO   \n",
              "36263  TATUAJE EN EL BRAZO IZQUIERDO CON LA IMAGEN DE...  NO ESPECIFICADO   \n",
              "36264                                    NO ESPECIFICADO  NO ESPECIFICADO   \n",
              "\n",
              "      Discapacidad Dependencia que envio la informacion  \n",
              "36255      NINGUNO                         FGE - PUEBLA  \n",
              "36256      NINGUNO                         FGE - PUEBLA  \n",
              "36257      NINGUNO                         FGE - SONORA  \n",
              "36258      NINGUNO                         PGJ - COLIMA  \n",
              "36259      NINGUNO                         PGJ - COLIMA  \n",
              "36260      NINGUNO                         FGE - PUEBLA  \n",
              "36261      NINGUNO                         PGJ - COLIMA  \n",
              "36262      NINGUNO                         FGE - PUEBLA  \n",
              "36263      NINGUNO                         PGJ - COLIMA  \n",
              "36264      NINGUNO                     PGJ - NUEVO LEON  "
            ],
            "text/html": [
              "\n",
              "  <div id=\"df-b081b333-77e5-4a78-b115-2c20aea326f1\">\n",
              "    <div class=\"colab-df-container\">\n",
              "      <div>\n",
              "<style scoped>\n",
              "    .dataframe tbody tr th:only-of-type {\n",
              "        vertical-align: middle;\n",
              "    }\n",
              "\n",
              "    .dataframe tbody tr th {\n",
              "        vertical-align: top;\n",
              "    }\n",
              "\n",
              "    .dataframe thead th {\n",
              "        text-align: right;\n",
              "    }\n",
              "</style>\n",
              "<table border=\"1\" class=\"dataframe\">\n",
              "  <thead>\n",
              "    <tr style=\"text-align: right;\">\n",
              "      <th></th>\n",
              "      <th>Fecha en que se le vio por ultima vez</th>\n",
              "      <th>Hora en que se le vio por ultima vez</th>\n",
              "      <th>Pais en que se le vio por ultima vez</th>\n",
              "      <th>Entidad en que se le vio por ultima vez</th>\n",
              "      <th>Municipio en que se le vio por ultima vez</th>\n",
              "      <th>Localidad en que se le vio por ultima vez</th>\n",
              "      <th>Nacionalidad</th>\n",
              "      <th>Estatura</th>\n",
              "      <th>Complexion</th>\n",
              "      <th>Sexo</th>\n",
              "      <th>Edad</th>\n",
              "      <th>Descripcion de senas particulares</th>\n",
              "      <th>Etnia</th>\n",
              "      <th>Discapacidad</th>\n",
              "      <th>Dependencia que envio la informacion</th>\n",
              "    </tr>\n",
              "  </thead>\n",
              "  <tbody>\n",
              "    <tr>\n",
              "      <th>36255</th>\n",
              "      <td>2018-04-25</td>\n",
              "      <td>06:30:00</td>\n",
              "      <td>MEXICO</td>\n",
              "      <td>PUEBLA</td>\n",
              "      <td>SAN MARTIN TEXMELUCAN</td>\n",
              "      <td>SAN MARTIN TEXMELUCAN</td>\n",
              "      <td>MEXICANA</td>\n",
              "      <td>1.7</td>\n",
              "      <td>DELGADA</td>\n",
              "      <td>HOMBRE</td>\n",
              "      <td>26</td>\n",
              "      <td>PECAS EN EL ROSTRO, PERFORACION EN LA ORJA IZQ...</td>\n",
              "      <td>NO ESPECIFICADO</td>\n",
              "      <td>NINGUNO</td>\n",
              "      <td>FGE - PUEBLA</td>\n",
              "    </tr>\n",
              "    <tr>\n",
              "      <th>36256</th>\n",
              "      <td>2018-04-22</td>\n",
              "      <td>11:30:00</td>\n",
              "      <td>MEXICO</td>\n",
              "      <td>PUEBLA</td>\n",
              "      <td>PUEBLA</td>\n",
              "      <td>PUEBLA</td>\n",
              "      <td>MEXICANA</td>\n",
              "      <td>1.52</td>\n",
              "      <td>DELGADA</td>\n",
              "      <td>MUJER</td>\n",
              "      <td>18</td>\n",
              "      <td>PERFORACION EN LA LENGUA Y MANCHA BLANCA EN ME...</td>\n",
              "      <td>NO ESPECIFICADO</td>\n",
              "      <td>NINGUNO</td>\n",
              "      <td>FGE - PUEBLA</td>\n",
              "    </tr>\n",
              "    <tr>\n",
              "      <th>36257</th>\n",
              "      <td>2017-07-02</td>\n",
              "      <td>11:14:59</td>\n",
              "      <td>MEXICO</td>\n",
              "      <td>SONORA</td>\n",
              "      <td>CANANEA</td>\n",
              "      <td>CANANEA</td>\n",
              "      <td>MEXICANA</td>\n",
              "      <td>NO ESPECIFICADO</td>\n",
              "      <td>NO ESPECIFICADO</td>\n",
              "      <td>HOMBRE</td>\n",
              "      <td>NO ESPECIFICADO</td>\n",
              "      <td>NO ESPECIFICADO</td>\n",
              "      <td>NO ESPECIFICADO</td>\n",
              "      <td>NINGUNO</td>\n",
              "      <td>FGE - SONORA</td>\n",
              "    </tr>\n",
              "    <tr>\n",
              "      <th>36258</th>\n",
              "      <td>2017-04-06</td>\n",
              "      <td>02:00:00</td>\n",
              "      <td>MEXICO</td>\n",
              "      <td>COLIMA</td>\n",
              "      <td>MANZANILLO</td>\n",
              "      <td>SANTIAGO</td>\n",
              "      <td>MEXICANA</td>\n",
              "      <td>1.71</td>\n",
              "      <td>ROBUSTA</td>\n",
              "      <td>HOMBRE</td>\n",
              "      <td>22</td>\n",
              "      <td>NO ESPECIFICADO</td>\n",
              "      <td>NO ESPECIFICADO</td>\n",
              "      <td>NINGUNO</td>\n",
              "      <td>PGJ - COLIMA</td>\n",
              "    </tr>\n",
              "    <tr>\n",
              "      <th>36259</th>\n",
              "      <td>2018-04-15</td>\n",
              "      <td>06:30:00</td>\n",
              "      <td>MEXICO</td>\n",
              "      <td>COLIMA</td>\n",
              "      <td>COLIMA</td>\n",
              "      <td>COLIMA</td>\n",
              "      <td>MEXICANA</td>\n",
              "      <td>1.59</td>\n",
              "      <td>ROBUSTA</td>\n",
              "      <td>HOMBRE</td>\n",
              "      <td>57</td>\n",
              "      <td>TIENE UNA CICATRIZ EN LA PARTE BAJA DE SU ABDO...</td>\n",
              "      <td>NO ESPECIFICADO</td>\n",
              "      <td>NINGUNO</td>\n",
              "      <td>PGJ - COLIMA</td>\n",
              "    </tr>\n",
              "    <tr>\n",
              "      <th>36260</th>\n",
              "      <td>2018-04-26</td>\n",
              "      <td>08:00:00</td>\n",
              "      <td>MEXICO</td>\n",
              "      <td>PUEBLA</td>\n",
              "      <td>PUEBLA</td>\n",
              "      <td>PUEBLA</td>\n",
              "      <td>MEXICANA</td>\n",
              "      <td>1.6</td>\n",
              "      <td>DELGADA</td>\n",
              "      <td>HOMBRE</td>\n",
              "      <td>22</td>\n",
              "      <td>LUNAR EN LA MEJILLA Y TATUAJE EN EL CUELLO EN ...</td>\n",
              "      <td>NO ESPECIFICADO</td>\n",
              "      <td>NINGUNO</td>\n",
              "      <td>FGE - PUEBLA</td>\n",
              "    </tr>\n",
              "    <tr>\n",
              "      <th>36261</th>\n",
              "      <td>2018-01-08</td>\n",
              "      <td>11:00:00</td>\n",
              "      <td>MEXICO</td>\n",
              "      <td>COLIMA</td>\n",
              "      <td>VILLA DE ALVAREZ</td>\n",
              "      <td>VILLA DE ALVAREZ</td>\n",
              "      <td>MEXICANA</td>\n",
              "      <td>1.7</td>\n",
              "      <td>ROBUSTA</td>\n",
              "      <td>MUJER</td>\n",
              "      <td>27</td>\n",
              "      <td>EL OJO IZQUIERDO TIENE UN ENFERMEDAD COMO TIC,...</td>\n",
              "      <td>NO ESPECIFICADO</td>\n",
              "      <td>NINGUNO</td>\n",
              "      <td>PGJ - COLIMA</td>\n",
              "    </tr>\n",
              "    <tr>\n",
              "      <th>36262</th>\n",
              "      <td>2015-02-02</td>\n",
              "      <td>07:00:00</td>\n",
              "      <td>MEXICO</td>\n",
              "      <td>PUEBLA</td>\n",
              "      <td>CHILA</td>\n",
              "      <td>CHILAS DE LAS FLORES</td>\n",
              "      <td>MEXICANA</td>\n",
              "      <td>1.77</td>\n",
              "      <td>MEDIANA</td>\n",
              "      <td>MUJER</td>\n",
              "      <td>86</td>\n",
              "      <td>NO ESPECIFICADO</td>\n",
              "      <td>NO ESPECIFICADO</td>\n",
              "      <td>NINGUNO</td>\n",
              "      <td>FGE - PUEBLA</td>\n",
              "    </tr>\n",
              "    <tr>\n",
              "      <th>36263</th>\n",
              "      <td>2017-08-22</td>\n",
              "      <td>04:00:00</td>\n",
              "      <td>MEXICO</td>\n",
              "      <td>COLIMA</td>\n",
              "      <td>VILLA DE ALVAREZ</td>\n",
              "      <td>VILLA DE ALVAREZ</td>\n",
              "      <td>MEXICANA</td>\n",
              "      <td>1.76</td>\n",
              "      <td>ROBUSTA</td>\n",
              "      <td>HOMBRE</td>\n",
              "      <td>41</td>\n",
              "      <td>TATUAJE EN EL BRAZO IZQUIERDO CON LA IMAGEN DE...</td>\n",
              "      <td>NO ESPECIFICADO</td>\n",
              "      <td>NINGUNO</td>\n",
              "      <td>PGJ - COLIMA</td>\n",
              "    </tr>\n",
              "    <tr>\n",
              "      <th>36264</th>\n",
              "      <td>2018-04-11</td>\n",
              "      <td>02:00:00</td>\n",
              "      <td>MEXICO</td>\n",
              "      <td>NUEVO LEON</td>\n",
              "      <td>SAN NICOLAS DE LOS GARZA</td>\n",
              "      <td>SAN NICOLAS DE LOS GARZA</td>\n",
              "      <td>MEXICANA</td>\n",
              "      <td>1.6</td>\n",
              "      <td>DELGADA</td>\n",
              "      <td>MUJER</td>\n",
              "      <td>14</td>\n",
              "      <td>NO ESPECIFICADO</td>\n",
              "      <td>NO ESPECIFICADO</td>\n",
              "      <td>NINGUNO</td>\n",
              "      <td>PGJ - NUEVO LEON</td>\n",
              "    </tr>\n",
              "  </tbody>\n",
              "</table>\n",
              "</div>\n",
              "      <button class=\"colab-df-convert\" onclick=\"convertToInteractive('df-b081b333-77e5-4a78-b115-2c20aea326f1')\"\n",
              "              title=\"Convert this dataframe to an interactive table.\"\n",
              "              style=\"display:none;\">\n",
              "        \n",
              "  <svg xmlns=\"http://www.w3.org/2000/svg\" height=\"24px\"viewBox=\"0 0 24 24\"\n",
              "       width=\"24px\">\n",
              "    <path d=\"M0 0h24v24H0V0z\" fill=\"none\"/>\n",
              "    <path d=\"M18.56 5.44l.94 2.06.94-2.06 2.06-.94-2.06-.94-.94-2.06-.94 2.06-2.06.94zm-11 1L8.5 8.5l.94-2.06 2.06-.94-2.06-.94L8.5 2.5l-.94 2.06-2.06.94zm10 10l.94 2.06.94-2.06 2.06-.94-2.06-.94-.94-2.06-.94 2.06-2.06.94z\"/><path d=\"M17.41 7.96l-1.37-1.37c-.4-.4-.92-.59-1.43-.59-.52 0-1.04.2-1.43.59L10.3 9.45l-7.72 7.72c-.78.78-.78 2.05 0 2.83L4 21.41c.39.39.9.59 1.41.59.51 0 1.02-.2 1.41-.59l7.78-7.78 2.81-2.81c.8-.78.8-2.07 0-2.86zM5.41 20L4 18.59l7.72-7.72 1.47 1.35L5.41 20z\"/>\n",
              "  </svg>\n",
              "      </button>\n",
              "      \n",
              "  <style>\n",
              "    .colab-df-container {\n",
              "      display:flex;\n",
              "      flex-wrap:wrap;\n",
              "      gap: 12px;\n",
              "    }\n",
              "\n",
              "    .colab-df-convert {\n",
              "      background-color: #E8F0FE;\n",
              "      border: none;\n",
              "      border-radius: 50%;\n",
              "      cursor: pointer;\n",
              "      display: none;\n",
              "      fill: #1967D2;\n",
              "      height: 32px;\n",
              "      padding: 0 0 0 0;\n",
              "      width: 32px;\n",
              "    }\n",
              "\n",
              "    .colab-df-convert:hover {\n",
              "      background-color: #E2EBFA;\n",
              "      box-shadow: 0px 1px 2px rgba(60, 64, 67, 0.3), 0px 1px 3px 1px rgba(60, 64, 67, 0.15);\n",
              "      fill: #174EA6;\n",
              "    }\n",
              "\n",
              "    [theme=dark] .colab-df-convert {\n",
              "      background-color: #3B4455;\n",
              "      fill: #D2E3FC;\n",
              "    }\n",
              "\n",
              "    [theme=dark] .colab-df-convert:hover {\n",
              "      background-color: #434B5C;\n",
              "      box-shadow: 0px 1px 3px 1px rgba(0, 0, 0, 0.15);\n",
              "      filter: drop-shadow(0px 1px 2px rgba(0, 0, 0, 0.3));\n",
              "      fill: #FFFFFF;\n",
              "    }\n",
              "  </style>\n",
              "\n",
              "      <script>\n",
              "        const buttonEl =\n",
              "          document.querySelector('#df-b081b333-77e5-4a78-b115-2c20aea326f1 button.colab-df-convert');\n",
              "        buttonEl.style.display =\n",
              "          google.colab.kernel.accessAllowed ? 'block' : 'none';\n",
              "\n",
              "        async function convertToInteractive(key) {\n",
              "          const element = document.querySelector('#df-b081b333-77e5-4a78-b115-2c20aea326f1');\n",
              "          const dataTable =\n",
              "            await google.colab.kernel.invokeFunction('convertToInteractive',\n",
              "                                                     [key], {});\n",
              "          if (!dataTable) return;\n",
              "\n",
              "          const docLinkHtml = 'Like what you see? Visit the ' +\n",
              "            '<a target=\"_blank\" href=https://colab.research.google.com/notebooks/data_table.ipynb>data table notebook</a>'\n",
              "            + ' to learn more about interactive tables.';\n",
              "          element.innerHTML = '';\n",
              "          dataTable['output_type'] = 'display_data';\n",
              "          await google.colab.output.renderOutput(dataTable, element);\n",
              "          const docLink = document.createElement('div');\n",
              "          docLink.innerHTML = docLinkHtml;\n",
              "          element.appendChild(docLink);\n",
              "        }\n",
              "      </script>\n",
              "    </div>\n",
              "  </div>\n",
              "  "
            ]
          },
          "metadata": {},
          "execution_count": 17
        }
      ],
      "source": [
        "df.tail(10)"
      ]
    },
    {
      "cell_type": "markdown",
      "metadata": {
        "id": "tdeGv25_Beso"
      },
      "source": [
        "> Del vistazo a los últimos 10 valores de nuestro dataset podemos observar que nuestro dataset contiene algunos datos faltantes etiquetados por el valor `NO ESPECIFICADO`. Esto es importante tenerlo en cuenta para nuestra limpieza de datos."
      ]
    },
    {
      "cell_type": "markdown",
      "metadata": {
        "id": "DdXPRzKaBeso"
      },
      "source": [
        "### Explorando columnas"
      ]
    },
    {
      "cell_type": "markdown",
      "metadata": {
        "id": "0z_d7IuaBesp"
      },
      "source": [
        "Para la exploración de nuetras columnas crearemos una función a la que le podamos pasar como parámetros el nombre de nuestro dataset y la columna de la cual queramos conocer los diferentes valores posibles que toma."
      ]
    },
    {
      "cell_type": "code",
      "execution_count": 18,
      "metadata": {
        "ExecuteTime": {
          "end_time": "2022-09-14T01:51:37.078661Z",
          "start_time": "2022-09-14T01:51:37.073860Z"
        },
        "id": "bciyqMsnBesp"
      },
      "outputs": [],
      "source": [
        "def val_unicos_col(df, col_name):\n",
        "    return set(df[col_name])"
      ]
    },
    {
      "cell_type": "markdown",
      "metadata": {
        "id": "BKATcp-nBesq"
      },
      "source": [
        "**Fecha en que se le vio por última vez**"
      ]
    },
    {
      "cell_type": "code",
      "execution_count": 19,
      "metadata": {
        "ExecuteTime": {
          "end_time": "2022-09-14T01:52:00.729052Z",
          "start_time": "2022-09-14T01:52:00.722812Z"
        },
        "colab": {
          "base_uri": "https://localhost:8080/"
        },
        "id": "GE4xqiFLBesq",
        "outputId": "e8140837-101c-47e2-a63e-4a60ac46c28e"
      },
      "outputs": [
        {
          "output_type": "execute_result",
          "data": {
            "text/plain": [
              "0        2012-03-18\n",
              "1        2007-02-05\n",
              "2        2009-03-14\n",
              "3        2006-12-23\n",
              "4        2008-01-11\n",
              "            ...    \n",
              "36260    2018-04-26\n",
              "36261    2018-01-08\n",
              "36262    2015-02-02\n",
              "36263    2017-08-22\n",
              "36264    2018-04-11\n",
              "Name: Fecha en que se le vio por ultima vez, Length: 36265, dtype: object"
            ]
          },
          "metadata": {},
          "execution_count": 19
        }
      ],
      "source": [
        "df['Fecha en que se le vio por ultima vez']"
      ]
    },
    {
      "cell_type": "markdown",
      "metadata": {
        "id": "F5iDNqQPBesr"
      },
      "source": [
        "En esta columna podemos observar entre que años se encuentran los registros de desapariciones de nuestro dataset."
      ]
    },
    {
      "cell_type": "code",
      "execution_count": 20,
      "metadata": {
        "ExecuteTime": {
          "end_time": "2022-09-14T01:52:15.056227Z",
          "start_time": "2022-09-14T01:52:15.029419Z"
        },
        "colab": {
          "base_uri": "https://localhost:8080/"
        },
        "id": "czujyNk2Besr",
        "outputId": "e7d0aeb6-7507-4855-9b03-0adb9e6bc786"
      },
      "outputs": [
        {
          "output_type": "stream",
          "name": "stdout",
          "text": [
            "Fecha más antigua: 1968\n",
            "Fecha más reciente: 2018\n"
          ]
        }
      ],
      "source": [
        "years = pd.to_numeric(df['Fecha en que se le vio por ultima vez'].str[:4], errors='coerce')\n",
        "\n",
        "print(f\"Fecha más antigua: {round(years.min())}\")\n",
        "print(f\"Fecha más reciente: {round(years.max())}\")"
      ]
    },
    {
      "cell_type": "markdown",
      "metadata": {
        "id": "v5agU0EVBesr"
      },
      "source": [
        "> Nuestros registros van de 1968 a 2018, esto nos dice que hay registros de personas desaparecidas desde 1968 que hasta la fecha no han podido ser localizadas."
      ]
    },
    {
      "cell_type": "markdown",
      "metadata": {
        "id": "n5oBsZvvBess"
      },
      "source": [
        "**País en que se le vio por última vez**"
      ]
    },
    {
      "cell_type": "markdown",
      "metadata": {
        "id": "yM8LDFKiBess"
      },
      "source": [
        "¿Será que existe alguna observación para la cual el pais donde se le vió por última vez sea distinto de México?\n",
        "Para contestar esta incógnita podemos ver si la cantidad de registros que satisfacen que `df['Pais en que se le vio por ultima vez'] != 'MEXICO']` es mayor a 0"
      ]
    },
    {
      "cell_type": "code",
      "execution_count": 21,
      "metadata": {
        "ExecuteTime": {
          "end_time": "2022-09-14T01:53:27.345797Z",
          "start_time": "2022-09-14T01:53:27.338736Z"
        },
        "colab": {
          "base_uri": "https://localhost:8080/"
        },
        "id": "I9F4UfznBess",
        "outputId": "a62f4d5d-a00b-4e27-a4d0-d32d694bfec9"
      },
      "outputs": [
        {
          "output_type": "execute_result",
          "data": {
            "text/plain": [
              "False"
            ]
          },
          "metadata": {},
          "execution_count": 21
        }
      ],
      "source": [
        "len(df.loc[df['Pais en que se le vio por ultima vez'] != 'MEXICO']) > 0"
      ]
    },
    {
      "cell_type": "markdown",
      "metadata": {
        "id": "p9Cy0OYFBest"
      },
      "source": [
        "> Como la instrucción anterior retornó `False`, entonces el País en el que se le vio por última vez siempre es México."
      ]
    },
    {
      "cell_type": "markdown",
      "metadata": {
        "id": "03OyCdbRBesu"
      },
      "source": [
        "**Entidad en que se le vio por última vez**"
      ]
    },
    {
      "cell_type": "markdown",
      "metadata": {
        "id": "iRQgNADuBesu"
      },
      "source": [
        "¿Cuáles son todos los posibles valores que puede tomar la variable `Entidad en que se le vio por ultima vez`?"
      ]
    },
    {
      "cell_type": "code",
      "execution_count": 22,
      "metadata": {
        "ExecuteTime": {
          "end_time": "2022-09-14T01:53:30.797958Z",
          "start_time": "2022-09-14T01:53:30.792177Z"
        },
        "scrolled": false,
        "colab": {
          "base_uri": "https://localhost:8080/"
        },
        "id": "spq4tpj8Besv",
        "outputId": "5f73639b-06eb-4100-9e09-ec0afc0b6723"
      },
      "outputs": [
        {
          "output_type": "execute_result",
          "data": {
            "text/plain": [
              "{'AGUASCALIENTES',\n",
              " 'BAJA CALIFORNIA',\n",
              " 'BAJA CALIFORNIA SUR',\n",
              " 'CAMPECHE',\n",
              " 'CHIAPAS',\n",
              " 'CHIHUAHUA',\n",
              " 'CIUDAD DE MEXICO',\n",
              " 'COAHUILA DE ZARAGOZA',\n",
              " 'COLIMA',\n",
              " 'DURANGO',\n",
              " 'ESTADO DE MEXICO',\n",
              " 'GUANAJUATO',\n",
              " 'GUERRERO',\n",
              " 'HIDALGO',\n",
              " 'JALISCO',\n",
              " 'MICHOACAN',\n",
              " 'MORELOS',\n",
              " 'NAYARIT',\n",
              " 'NO ESPECIFICADO',\n",
              " 'NUEVO LEON',\n",
              " 'OAXACA',\n",
              " 'PUEBLA',\n",
              " 'QUERETARO',\n",
              " 'QUINTANA ROO',\n",
              " 'SAN LUIS POTOSI',\n",
              " 'SINALOA',\n",
              " 'SONORA',\n",
              " 'TABASCO',\n",
              " 'TAMAULIPAS',\n",
              " 'TLAXCALA',\n",
              " 'VERACRUZ',\n",
              " 'YUCATAN',\n",
              " 'ZACATECAS'}"
            ]
          },
          "metadata": {},
          "execution_count": 22
        }
      ],
      "source": [
        "columna = 'Entidad en que se le vio por ultima vez'\n",
        "\n",
        "val_unicos_col(df, columna)"
      ]
    },
    {
      "cell_type": "markdown",
      "metadata": {
        "id": "1dTXeMLNBesw"
      },
      "source": [
        "> Podemos observar que nuestros dataset contiene registros de los 32 estados de la república mexicana"
      ]
    },
    {
      "cell_type": "markdown",
      "metadata": {
        "id": "s6sXUMTdBesw"
      },
      "source": [
        "**Municipio en que se le vio por última vez**"
      ]
    },
    {
      "cell_type": "markdown",
      "metadata": {
        "id": "0GsJJsDFBesx"
      },
      "source": [
        "¿Cuáles son todos los posibles valores que puede tomar esta variable?"
      ]
    },
    {
      "cell_type": "code",
      "execution_count": 23,
      "metadata": {
        "ExecuteTime": {
          "end_time": "2022-09-14T01:53:34.423811Z",
          "start_time": "2022-09-14T01:53:34.417103Z"
        },
        "colab": {
          "base_uri": "https://localhost:8080/"
        },
        "id": "SpxLJutrBesx",
        "outputId": "1a8532cd-9b40-4d77-950c-d4d2477032bf"
      },
      "outputs": [
        {
          "output_type": "execute_result",
          "data": {
            "text/plain": [
              "1068"
            ]
          },
          "metadata": {},
          "execution_count": 23
        }
      ],
      "source": [
        "columna = 'Municipio en que se le vio por ultima vez'\n",
        "\n",
        "len(val_unicos_col(df, columna))"
      ]
    },
    {
      "cell_type": "markdown",
      "metadata": {
        "id": "Mkz42buOBesy"
      },
      "source": [
        "> Vemos que son muchos los municipios, por lo que mejor preguntamos por la cantidad de municipios únicos. La respuesta a esta pregunta es 1068 municipios únicos."
      ]
    },
    {
      "cell_type": "markdown",
      "metadata": {
        "id": "_X_Pp1czBesy"
      },
      "source": [
        "**Localidad en que se le vio por última vez**"
      ]
    },
    {
      "cell_type": "markdown",
      "metadata": {
        "id": "FyCBJWRsBesy"
      },
      "source": [
        "¿Cuáles son todos los posibles valores que puede tomar esta variable?"
      ]
    },
    {
      "cell_type": "code",
      "execution_count": 24,
      "metadata": {
        "ExecuteTime": {
          "end_time": "2022-09-14T01:53:36.659493Z",
          "start_time": "2022-09-14T01:53:36.651011Z"
        },
        "scrolled": false,
        "colab": {
          "base_uri": "https://localhost:8080/"
        },
        "id": "1INwaZvvBesy",
        "outputId": "5b92214f-4cd1-46f7-936b-bb64603b7b3c"
      },
      "outputs": [
        {
          "output_type": "execute_result",
          "data": {
            "text/plain": [
              "2676"
            ]
          },
          "metadata": {},
          "execution_count": 24
        }
      ],
      "source": [
        "col_name = 'Localidad en que se le vio por ultima vez'\n",
        "\n",
        "len(val_unicos_col(df, col_name))"
      ]
    },
    {
      "cell_type": "markdown",
      "metadata": {
        "id": "o7SUoxWaBesz"
      },
      "source": [
        "> De nuevo, vemos que son muchas las localidades, por lo que mejor preguntamos por la cantidad de valores únicos que toma la variable. La respuesta a esta pregunta es 2676 localidades únicas."
      ]
    },
    {
      "cell_type": "markdown",
      "metadata": {
        "id": "0m_4WNiIBesz"
      },
      "source": [
        "**Nacionalidad**"
      ]
    },
    {
      "cell_type": "markdown",
      "metadata": {
        "id": "wJrStM6cBesz"
      },
      "source": [
        "Vale la pena preguntarse si la variable Nacionalidad toma valores distintos de MEXICANA."
      ]
    },
    {
      "cell_type": "code",
      "execution_count": 25,
      "metadata": {
        "ExecuteTime": {
          "end_time": "2022-09-14T01:53:49.405682Z",
          "start_time": "2022-09-14T01:53:49.397612Z"
        },
        "colab": {
          "base_uri": "https://localhost:8080/"
        },
        "id": "AZG5uKJzBesz",
        "outputId": "d74c1f1f-c38b-4c0a-af7b-8e6666209a03"
      },
      "outputs": [
        {
          "output_type": "execute_result",
          "data": {
            "text/plain": [
              "{'ALEMANA',\n",
              " 'ARGENTINA',\n",
              " 'BRASILEÑA',\n",
              " 'CANADIENSE',\n",
              " 'CHINA',\n",
              " 'COLOMBIANA',\n",
              " 'COSTARICENSE',\n",
              " 'CUBANA',\n",
              " 'DOMINICANA',\n",
              " 'ERITREA',\n",
              " 'ESPAÑOLA',\n",
              " 'ESTADOUNIDENSE',\n",
              " 'FRANCESA',\n",
              " 'GUATEMALTECO',\n",
              " 'HAITIANA',\n",
              " 'HOLANDESA',\n",
              " 'HONDUREÑA',\n",
              " 'ITALIANA',\n",
              " 'MEXICANA',\n",
              " 'NICARAGUENSE',\n",
              " 'NO ESPECIFICADO',\n",
              " 'PANAMEÑA',\n",
              " 'PARAGUAYA',\n",
              " 'PERUANA',\n",
              " 'SALVADOREÑA',\n",
              " 'VENEZOLANA'}"
            ]
          },
          "metadata": {},
          "execution_count": 25
        }
      ],
      "source": [
        "columna = 'Nacionalidad'\n",
        "\n",
        "val_unicos_col(df, columna)"
      ]
    },
    {
      "cell_type": "markdown",
      "metadata": {
        "id": "nIj6wb96Besz"
      },
      "source": [
        "> Listando los valores unicos de esta columna podemos afirmar que en efecto la variable Nacionalidad toma valores distintos de MEXICANA."
      ]
    },
    {
      "cell_type": "markdown",
      "metadata": {
        "id": "qM4dSM_uBes0"
      },
      "source": [
        "**Estatura**"
      ]
    },
    {
      "cell_type": "markdown",
      "metadata": {
        "id": "2r8nTfp9Bes0"
      },
      "source": [
        "Investiguemos cuál es el rango de alturas."
      ]
    },
    {
      "cell_type": "code",
      "execution_count": 26,
      "metadata": {
        "ExecuteTime": {
          "end_time": "2022-09-14T01:53:53.714409Z",
          "start_time": "2022-09-14T01:53:53.705959Z"
        },
        "scrolled": true,
        "colab": {
          "base_uri": "https://localhost:8080/"
        },
        "id": "P4bMYTcgBes0",
        "outputId": "92fc7101-1eef-489a-eaa8-8b7049c4913f"
      },
      "outputs": [
        {
          "output_type": "execute_result",
          "data": {
            "text/plain": [
              "{'0.3',\n",
              " '0.35',\n",
              " '0.4',\n",
              " '0.42',\n",
              " '0.45',\n",
              " '0.47',\n",
              " '0.49',\n",
              " '0.5',\n",
              " '0.51',\n",
              " '0.52',\n",
              " '0.53',\n",
              " '0.54',\n",
              " '0.55',\n",
              " '0.56',\n",
              " '0.57',\n",
              " '0.58',\n",
              " '0.6',\n",
              " '0.61',\n",
              " '0.62',\n",
              " '0.63',\n",
              " '0.64',\n",
              " '0.65',\n",
              " '0.66',\n",
              " '0.68',\n",
              " '0.7',\n",
              " '0.73',\n",
              " '0.75',\n",
              " '0.76',\n",
              " '0.77',\n",
              " '0.78',\n",
              " '0.8',\n",
              " '0.81',\n",
              " '0.82',\n",
              " '0.83',\n",
              " '0.84',\n",
              " '0.85',\n",
              " '0.86',\n",
              " '0.87',\n",
              " '0.89',\n",
              " '0.9',\n",
              " '0.91',\n",
              " '0.92',\n",
              " '0.93',\n",
              " '0.94',\n",
              " '0.95',\n",
              " '0.96',\n",
              " '0.97',\n",
              " '0.98',\n",
              " '0.99',\n",
              " '1',\n",
              " '1.01',\n",
              " '1.02',\n",
              " '1.03',\n",
              " '1.04',\n",
              " '1.05',\n",
              " '1.06',\n",
              " '1.07',\n",
              " '1.1',\n",
              " '1.11',\n",
              " '1.13',\n",
              " '1.14',\n",
              " '1.15',\n",
              " '1.16',\n",
              " '1.17',\n",
              " '1.2',\n",
              " '1.21',\n",
              " '1.22',\n",
              " '1.23',\n",
              " '1.25',\n",
              " '1.27',\n",
              " '1.28',\n",
              " '1.29',\n",
              " '1.3',\n",
              " '1.31',\n",
              " '1.32',\n",
              " '1.33',\n",
              " '1.34',\n",
              " '1.35',\n",
              " '1.36',\n",
              " '1.37',\n",
              " '1.38',\n",
              " '1.39',\n",
              " '1.4',\n",
              " '1.41',\n",
              " '1.42',\n",
              " '1.43',\n",
              " '1.44',\n",
              " '1.45',\n",
              " '1.46',\n",
              " '1.47',\n",
              " '1.48',\n",
              " '1.49',\n",
              " '1.5',\n",
              " '1.51',\n",
              " '1.52',\n",
              " '1.53',\n",
              " '1.54',\n",
              " '1.55',\n",
              " '1.56',\n",
              " '1.57',\n",
              " '1.58',\n",
              " '1.59',\n",
              " '1.6',\n",
              " '1.61',\n",
              " '1.62',\n",
              " '1.63',\n",
              " '1.64',\n",
              " '1.65',\n",
              " '1.66',\n",
              " '1.67',\n",
              " '1.68',\n",
              " '1.69',\n",
              " '1.7',\n",
              " '1.71',\n",
              " '1.72',\n",
              " '1.73',\n",
              " '1.74',\n",
              " '1.75',\n",
              " '1.76',\n",
              " '1.77',\n",
              " '1.78',\n",
              " '1.79',\n",
              " '1.8',\n",
              " '1.81',\n",
              " '1.82',\n",
              " '1.83',\n",
              " '1.84',\n",
              " '1.85',\n",
              " '1.86',\n",
              " '1.87',\n",
              " '1.88',\n",
              " '1.89',\n",
              " '1.9',\n",
              " '1.91',\n",
              " '1.92',\n",
              " '1.93',\n",
              " '1.94',\n",
              " '1.95',\n",
              " '1.96',\n",
              " '1.97',\n",
              " '1.98',\n",
              " '130',\n",
              " '155',\n",
              " '170',\n",
              " '2',\n",
              " '2.04',\n",
              " '50',\n",
              " '56',\n",
              " '70',\n",
              " '72',\n",
              " '80',\n",
              " '90',\n",
              " 'NO ESPECIFICADO',\n",
              " 'no ESPECIFICADO'}"
            ]
          },
          "metadata": {},
          "execution_count": 26
        }
      ],
      "source": [
        "val_unicos_col(df, 'Estatura')"
      ]
    },
    {
      "cell_type": "markdown",
      "metadata": {
        "id": "wx3sHJwRBes0"
      },
      "source": [
        "> Aquí nos encontramos un problema en la forma que se encuentran registradas algunas alturas, hay alturas registradas en centímetros y alturas registradas en metros. Además, identificamos otra forma en la que se registran valores nulos, esta vez como \"no ESPECIFICADO\".\n",
        "Entonces esperaremos a responder esta pregunta después de realizar nuestra limpieza y transformación de datos."
      ]
    },
    {
      "cell_type": "markdown",
      "metadata": {
        "id": "blE57MUQBes1"
      },
      "source": [
        "**Complexión**"
      ]
    },
    {
      "cell_type": "markdown",
      "metadata": {
        "id": "ot1oVZSWBes1"
      },
      "source": [
        "Veamos qué valores únicos puede tomar esta variable."
      ]
    },
    {
      "cell_type": "code",
      "execution_count": 27,
      "metadata": {
        "ExecuteTime": {
          "end_time": "2022-09-14T01:55:49.882160Z",
          "start_time": "2022-09-14T01:55:49.875395Z"
        },
        "scrolled": true,
        "colab": {
          "base_uri": "https://localhost:8080/"
        },
        "id": "x3dmU_pqBes1",
        "outputId": "c5e6fe97-fcc1-40e3-9593-abc4a965817b"
      },
      "outputs": [
        {
          "output_type": "execute_result",
          "data": {
            "text/plain": [
              "{'DELGADA',\n",
              " 'MEDIANA',\n",
              " 'NO ESPECIFICADO',\n",
              " 'No Especificado',\n",
              " 'OBESA',\n",
              " 'ROBUSTA'}"
            ]
          },
          "metadata": {},
          "execution_count": 27
        }
      ],
      "source": [
        "columna = 'Complexion'\n",
        "\n",
        "val_unicos_col(df, columna)"
      ]
    },
    {
      "cell_type": "markdown",
      "metadata": {
        "id": "NjSnmBX2Bes1"
      },
      "source": [
        "> Podemos observar cuatro categorías diferentes registradas en nuestro dataset. Además, identificamos otra forma en la que se registran valores nulos, esta vez como \"No Especificado\"."
      ]
    },
    {
      "cell_type": "markdown",
      "metadata": {
        "id": "mxuRQs-uBes2"
      },
      "source": [
        "**Sexo**"
      ]
    },
    {
      "cell_type": "markdown",
      "metadata": {
        "id": "QGTT4w78Bes2"
      },
      "source": [
        "Podemos preguntarnos si el campo Sexo permite el registro de gente no binaria o alguna otra forma de identificación."
      ]
    },
    {
      "cell_type": "code",
      "execution_count": 28,
      "metadata": {
        "ExecuteTime": {
          "end_time": "2022-09-14T01:56:03.387261Z",
          "start_time": "2022-09-14T01:56:03.376746Z"
        },
        "colab": {
          "base_uri": "https://localhost:8080/"
        },
        "id": "-7tLD5N0Bes2",
        "outputId": "841f7865-a2e6-43f8-aca8-6c37c0d6952c"
      },
      "outputs": [
        {
          "output_type": "execute_result",
          "data": {
            "text/plain": [
              "{'HOMBRE', 'MUJER'}"
            ]
          },
          "metadata": {},
          "execution_count": 28
        }
      ],
      "source": [
        "columna = 'Sexo'\n",
        "val_unicos_col(df, columna)"
      ]
    },
    {
      "cell_type": "markdown",
      "metadata": {
        "id": "PkUfuMnMBes3"
      },
      "source": [
        "> Observamos que la variable Sexo sólo admite dos valores: HOMBRE y MUJER."
      ]
    },
    {
      "cell_type": "markdown",
      "metadata": {
        "id": "AhIZv_m2Bes3"
      },
      "source": [
        "**Edad**"
      ]
    },
    {
      "cell_type": "markdown",
      "metadata": {
        "id": "tfQcFDbiBes3"
      },
      "source": [
        "Veamos cuál es el rango de edad."
      ]
    },
    {
      "cell_type": "code",
      "execution_count": 29,
      "metadata": {
        "ExecuteTime": {
          "end_time": "2022-09-14T01:56:39.891868Z",
          "start_time": "2022-09-14T01:56:39.875383Z"
        },
        "colab": {
          "base_uri": "https://localhost:8080/"
        },
        "id": "Bqf9M89aBes3",
        "outputId": "7e608d58-84d6-4a2f-af6e-59a9964560db"
      },
      "outputs": [
        {
          "output_type": "stream",
          "name": "stdout",
          "text": [
            "Edad menor: 1\n",
            "Edad mayor: 103\n"
          ]
        }
      ],
      "source": [
        "edad = pd.to_numeric(df['Edad'], errors='coerce')\n",
        "\n",
        "print(f\"Edad menor: {round(edad.min())}\")\n",
        "print(f\"Edad mayor: {round(edad.max())}\")"
      ]
    },
    {
      "cell_type": "markdown",
      "metadata": {
        "id": "1xNaONtPBes4"
      },
      "source": [
        "> Entonces, el rango de edad va desde 1 año hasta 103 años."
      ]
    },
    {
      "cell_type": "markdown",
      "metadata": {
        "ExecuteTime": {
          "end_time": "2022-09-13T01:28:04.612552Z",
          "start_time": "2022-09-13T01:28:04.606479Z"
        },
        "id": "DOJwnxJxBes4"
      },
      "source": [
        "**Descripción de señas particulares**"
      ]
    },
    {
      "cell_type": "code",
      "execution_count": 30,
      "metadata": {
        "ExecuteTime": {
          "end_time": "2022-09-14T01:57:01.913480Z",
          "start_time": "2022-09-14T01:57:01.907508Z"
        },
        "scrolled": true,
        "colab": {
          "base_uri": "https://localhost:8080/"
        },
        "id": "RVEgtKm5Bes4",
        "outputId": "d8ca2865-f7bc-4cb0-af51-37191bdc401b"
      },
      "outputs": [
        {
          "output_type": "execute_result",
          "data": {
            "text/plain": [
              "0        TIENE UNA CICATRIZ EN LA RODILLA IZQUIERDA POR...\n",
              "1                                          NO ESPECIFICADO\n",
              "2        MANCHAS, PARTE SUPERIOR DE PIERNA DERECHA, CIC...\n",
              "3        LUNARES, A LA ALTURA DE LA CINTURAFORMA DE MAN...\n",
              "4                                          NO ESPECIFICADO\n",
              "                               ...                        \n",
              "36260    LUNAR EN LA MEJILLA Y TATUAJE EN EL CUELLO EN ...\n",
              "36261    EL OJO IZQUIERDO TIENE UN ENFERMEDAD COMO TIC,...\n",
              "36262                                      NO ESPECIFICADO\n",
              "36263    TATUAJE EN EL BRAZO IZQUIERDO CON LA IMAGEN DE...\n",
              "36264                                      NO ESPECIFICADO\n",
              "Name: Descripcion de senas particulares, Length: 36265, dtype: object"
            ]
          },
          "metadata": {},
          "execution_count": 30
        }
      ],
      "source": [
        "df['Descripcion de senas particulares']"
      ]
    },
    {
      "cell_type": "markdown",
      "metadata": {
        "ExecuteTime": {
          "end_time": "2022-09-13T01:29:17.603497Z",
          "start_time": "2022-09-13T01:29:17.597358Z"
        },
        "id": "985PdyzsBes4"
      },
      "source": [
        "> Observamos que esta variable contiene campos de texto de distintas longitudes."
      ]
    },
    {
      "cell_type": "markdown",
      "metadata": {
        "id": "XJFNejOABes5"
      },
      "source": [
        "**Entnia**"
      ]
    },
    {
      "cell_type": "markdown",
      "metadata": {
        "id": "Qv0di9uGBes5"
      },
      "source": [
        "Los valores que toma la variable Etnia son:"
      ]
    },
    {
      "cell_type": "code",
      "execution_count": 31,
      "metadata": {
        "ExecuteTime": {
          "end_time": "2022-09-14T01:57:08.765905Z",
          "start_time": "2022-09-14T01:57:08.759529Z"
        },
        "colab": {
          "base_uri": "https://localhost:8080/"
        },
        "id": "Yty-XHiBBes6",
        "outputId": "23be6db7-8b5e-4c28-a535-31de16cec8eb"
      },
      "outputs": [
        {
          "output_type": "execute_result",
          "data": {
            "text/plain": [
              "{'AMUZGOS OAXACA',\n",
              " 'CHATINOS',\n",
              " 'CHICHIMECAS',\n",
              " 'CHINANTECOS',\n",
              " 'CHOLES',\n",
              " 'HUASTECOS',\n",
              " 'HUICHOLES',\n",
              " 'MAMES',\n",
              " 'MAYAS',\n",
              " 'MEXICANEROS',\n",
              " 'MIXTECOS',\n",
              " 'NAHUAS',\n",
              " 'NO ESPECIFICADO',\n",
              " 'OTOMIES',\n",
              " 'PAMES',\n",
              " 'SERIS',\n",
              " 'TARAHUMARAS - RARAMURI',\n",
              " 'TLALPANECOS',\n",
              " 'TOTONACAS',\n",
              " 'YAQUIS'}"
            ]
          },
          "metadata": {},
          "execution_count": 31
        }
      ],
      "source": [
        "columna = 'Etnia'\n",
        "\n",
        "val_unicos_col(df, columna)"
      ]
    },
    {
      "cell_type": "markdown",
      "metadata": {
        "id": "1dwjAcTSBes6"
      },
      "source": [
        "**Discapacidad**"
      ]
    },
    {
      "cell_type": "markdown",
      "metadata": {
        "id": "CnJnyffKBes7"
      },
      "source": [
        "Los valores que toma la variable 'Discapacidad' son:"
      ]
    },
    {
      "cell_type": "code",
      "execution_count": 32,
      "metadata": {
        "ExecuteTime": {
          "end_time": "2022-09-14T01:18:32.901975Z",
          "start_time": "2022-09-14T01:18:32.893607Z"
        },
        "colab": {
          "base_uri": "https://localhost:8080/"
        },
        "id": "82N0uWNmBes7",
        "outputId": "5c7ddf1b-ce1a-4a72-db41-adb7bae0b82a"
      },
      "outputs": [
        {
          "output_type": "execute_result",
          "data": {
            "text/plain": [
              "{'AUTISMO', 'NINGUNO', 'NO ESPECIFICADO', 'SINDROME DE DOWN'}"
            ]
          },
          "metadata": {},
          "execution_count": 32
        }
      ],
      "source": [
        "columna = 'Discapacidad'\n",
        "\n",
        "val_unicos_col(df, columna)"
      ]
    },
    {
      "cell_type": "markdown",
      "metadata": {
        "id": "9cvnCiDlBes8"
      },
      "source": [
        "**Dependencia que envió la información**"
      ]
    },
    {
      "cell_type": "markdown",
      "metadata": {
        "id": "-PoCN3YBBes9"
      },
      "source": [
        "Finalmente, listemos los valores de nuestra ultima columna."
      ]
    },
    {
      "cell_type": "code",
      "execution_count": 33,
      "metadata": {
        "ExecuteTime": {
          "end_time": "2022-09-14T01:57:44.622226Z",
          "start_time": "2022-09-14T01:57:44.617770Z"
        },
        "colab": {
          "base_uri": "https://localhost:8080/"
        },
        "id": "PP0LI_rbBes9",
        "outputId": "d3f289de-a196-4b2c-b530-218415b98dd7"
      },
      "outputs": [
        {
          "output_type": "execute_result",
          "data": {
            "text/plain": [
              "{'FGE - AGUASCALIENTES',\n",
              " 'FGE - CAMPECHE',\n",
              " 'FGE - CHIAPAS',\n",
              " 'FGE - CHIHUAHUA',\n",
              " 'FGE - COAHUILA',\n",
              " 'FGE - DURANGO',\n",
              " 'FGE - GUERRERO',\n",
              " 'FGE - JALISCO',\n",
              " 'FGE - MORELOS',\n",
              " 'FGE - NAYARIT',\n",
              " 'FGE - OAXACA',\n",
              " 'FGE - PUEBLA',\n",
              " 'FGE - QUERETARO',\n",
              " 'FGE - QUINTANA ROO',\n",
              " 'FGE - SAN LUIS POTOSI',\n",
              " 'FGE - SINALOA',\n",
              " 'FGE - SONORA',\n",
              " 'FGE - TABASCO',\n",
              " 'FGE - VERACRUZ',\n",
              " 'FGE - YUCATAN',\n",
              " 'FGE - ZACATECAS',\n",
              " 'FGJ - ESTADO DE MEXICO',\n",
              " 'PGJ - BAJA CALIFORNIA',\n",
              " 'PGJ - BAJA CALIFORNIA SUR',\n",
              " 'PGJ - CIUDAD DE MEXICO',\n",
              " 'PGJ - COLIMA',\n",
              " 'PGJ - GUANAJUATO',\n",
              " 'PGJ - HIDALGO',\n",
              " 'PGJ - MICHOACAN',\n",
              " 'PGJ - NUEVO LEON',\n",
              " 'PGJ - TAMAULIPAS',\n",
              " 'PGJ - TLAXCALA'}"
            ]
          },
          "metadata": {},
          "execution_count": 33
        }
      ],
      "source": [
        "columna = 'Dependencia que envio la informacion'\n",
        "\n",
        "val_unicos_col(df, columna)"
      ]
    },
    {
      "cell_type": "markdown",
      "metadata": {
        "id": "32Dq_N4nBes-"
      },
      "source": [
        "> Se muestran las diferentes fiscalías y procuradurías que se encargaron de reportar los registros de desaparición."
      ]
    },
    {
      "cell_type": "markdown",
      "metadata": {
        "id": "SXJ3oqajBes-"
      },
      "source": [
        "### Conclusiones del primer análisis exploratorio de datos"
      ]
    },
    {
      "cell_type": "markdown",
      "metadata": {
        "id": "AiLpcWOiBes_"
      },
      "source": [
        "> Nuestro dataset está constituido de 36265 observaciones de 15 variables indizadas del 0 al 36264. Nuestras variables son\n",
        "\n",
        "| Variable |\n",
        "| -------  |\n",
        "| Fecha en que se le vio por ultima vez        |\n",
        "| Hora en que se le vio por ultima vez         |\n",
        "| Pais en que se le vio por ultima vez         |\n",
        "| Entidad en que se le vio por ultima vez      |\n",
        "| Municipio en que se le vio por ultima vez    |\n",
        "| Localidad en que se le vio por ultima vez    |\n",
        "| Nacionalidad                                 |\n",
        "| Estatura                                     |\n",
        "| Complexion                                   |\n",
        "| Sexo                                         |\n",
        "| Edad                                         |\n",
        "| Descripcion de senas particulares            |\n",
        "| Etnia                                        |\n",
        "| Discapacidad                                 |\n",
        "| Dependencia que envio la informacion         |\n",
        "\n",
        "> De una observación preliminar de los primeros y últimos 10 datos podemos observar que el tipo de dato inferido por pandas es erróneo (el tipo de dato inferido para todas las columnas fue `object`).\n",
        "\n",
        "> La propuesta es la siguiente:\n",
        "\n",
        "| Variable | Tipo |\n",
        "| -------  | ---- |\n",
        "| Fecha en que se le vio por ultima vez        | Fecha con formato 'yyyy-mm-dd' |\n",
        "| Hora en que se le vio por ultima vez         | Hora con formato 'hh:mm:ss' |\n",
        "| Pais en que se le vio por ultima vez         | Categórico (`MEXICO`) |\n",
        "| Entidad en que se le vio por ultima vez      | Categórico (valores de `val_col_entidad`) |\n",
        "| Municipio en que se le vio por ultima vez    | Categórica (valores de `val_col_municipio`) |\n",
        "| Localidad en que se le vio por ultima vez    | Categórica (valores de `val_col_localidad`) |\n",
        "| Nacionalidad                                 | Categórica (valores de `val_col_nacionalidad`) |\n",
        "| Estatura                                     | Numérico float64 (valores en metros) |\n",
        "| Complexion                                   | Categórica (`DELGADA`, `MEDIANA`, `NO ESPECIFICADA`, `OBESA`, `ROBUSTA`) |\n",
        "| Sexo                                         | Categórica (`HOMBRE`, `MUJER`) |\n",
        "| Edad                                         | Numérico int64 (`1` a `103`) |\n",
        "| Descripcion de senas particulares            | Object (string) |\n",
        "| Etnia                                        | Categórica (valores de  `val_col_etnia`)|\n",
        "| Discapacidad                                 | Categórica (`AUTISMO`, `NINGUNO`, `NO ESPECIFICADO`, `SINDROME DE DOWN`) |\n",
        "| Dependencia que envio la informacion         | Categórica (valores de `val_col_dependencia`) |\n",
        "\n",
        "> Nuestro dataframe no cuenta con valores NaN estrictamente, sin embargo, tenemos registros con el valor de 'NO ESPECIFICADO' (en algunas columnas encontramos variaciones de este) por lo que tendremos que tomar esto en cuenta en la siguiente etapa de limpieza."
      ]
    },
    {
      "cell_type": "markdown",
      "metadata": {
        "id": "u1Ku2J8FBetA"
      },
      "source": [
        "## Limpieza de datos y agregaciones"
      ]
    },
    {
      "cell_type": "markdown",
      "metadata": {
        "id": "3FM1MLHnBetB"
      },
      "source": [
        "    - Explora tu dataset con el fin de encontrar los NaNs que contiene. Piensa en la distribución de NaNs por columna y por fila.\n",
        "    \n",
        "    - Piensa cuáles son los procedimientos que puedes aplicar a tus NaNs. ¿Tenemos que eliminar las filas/columnas que tienen esos NaNs? ¿O podríamos rellenar esos NaNs con algún valor de manera que podamos retener esas filas/columnas?\n",
        "    \n",
        "    - Limpia tu dataset de manera que no quede ningún NaN.\n",
        "    \n",
        "    - Reindexa tu dataset si lo consideras necesario.\n",
        "    \n",
        "    - Renombra tus columnas si lo consideras necesario.\n",
        "    \n",
        "    - Prueba aplicar agregaciones a tu DataFrame para ver si puedes empezar a responder algunas de las preguntas que te planteaste anteriormente. \n",
        "    \n"
      ]
    },
    {
      "cell_type": "markdown",
      "metadata": {
        "id": "Uoc9YtWaBetB"
      },
      "source": [
        "### Busqueda de NaNs"
      ]
    },
    {
      "cell_type": "code",
      "execution_count": 34,
      "metadata": {
        "ExecuteTime": {
          "end_time": "2022-09-14T01:58:31.765434Z",
          "start_time": "2022-09-14T01:58:31.717176Z"
        },
        "colab": {
          "base_uri": "https://localhost:8080/"
        },
        "id": "Scs8jGT4BetB",
        "outputId": "b25e15ba-83b5-49de-8f6f-4ad45fc9357c"
      },
      "outputs": [
        {
          "output_type": "execute_result",
          "data": {
            "text/plain": [
              "Fecha en que se le vio por ultima vez        0\n",
              "Hora en que se le vio por ultima vez         0\n",
              "Pais en que se le vio por ultima vez         0\n",
              "Entidad en que se le vio por ultima vez      0\n",
              "Municipio en que se le vio por ultima vez    0\n",
              "Localidad en que se le vio por ultima vez    0\n",
              "Nacionalidad                                 0\n",
              "Estatura                                     0\n",
              "Complexion                                   0\n",
              "Sexo                                         0\n",
              "Edad                                         0\n",
              "Descripcion de senas particulares            0\n",
              "Etnia                                        0\n",
              "Discapacidad                                 0\n",
              "Dependencia que envio la informacion         0\n",
              "dtype: int64"
            ]
          },
          "metadata": {},
          "execution_count": 34
        }
      ],
      "source": [
        "df.isna().sum()"
      ]
    },
    {
      "cell_type": "markdown",
      "metadata": {
        "id": "sr1od_3TBetC"
      },
      "source": [
        "> Como nos percatamos en el análisis exploratorio, no contamos con valores faltantes indicados como NaN, sin embargo, identificamos que en nuestro dataset la categoría 'NO ESPECIFICADO' y sus variaciones en cuanto a su escritura ('No Especificado',  'no ESPECIFICADO') fungen como registros de valores faltantes."
      ]
    },
    {
      "cell_type": "markdown",
      "metadata": {
        "id": "kRhRKPOBBetC"
      },
      "source": [
        "Vamos a realizar el conteo por columna de las ocurrencias del valor 'NO ESPECIFICADO' (y sus variaciones) indicando el porcentaje que representa el número de faltantes respecto al total de registros en nuestro dataframe. "
      ]
    },
    {
      "cell_type": "code",
      "execution_count": 35,
      "metadata": {
        "ExecuteTime": {
          "end_time": "2022-09-14T01:58:37.963631Z",
          "start_time": "2022-09-14T01:58:37.894450Z"
        },
        "scrolled": false,
        "colab": {
          "base_uri": "https://localhost:8080/"
        },
        "id": "wFC3XfUpBetD",
        "outputId": "c05a4e2b-24bc-4952-a92c-4c367fc62204"
      },
      "outputs": [
        {
          "output_type": "stream",
          "name": "stdout",
          "text": [
            "Columna                                    =NO ESPECIFICADO=  Porcentaje\n",
            "\n",
            "Fecha en que se le vio por ultima vez      |              338      0.93%\n",
            "Hora en que se le vio por ultima vez       |               16      0.04%\n",
            "Pais en que se le vio por ultima vez       |                0       0.0%\n",
            "Entidad en que se le vio por ultima vez    |               29      0.08%\n",
            "Municipio en que se le vio por ultima vez  |              668      1.84%\n",
            "Localidad en que se le vio por ultima vez  |             3413      9.41%\n",
            "Nacionalidad                               |             2040      5.63%\n",
            "Estatura                                   |            11008     30.35%\n",
            "Complexion                                 |            11295     31.15%\n",
            "Sexo                                       |                0       0.0%\n",
            "Edad                                       |             3156       8.7%\n",
            "Descripcion de senas particulares          |            18914     52.15%\n",
            "Etnia                                      |            36133     99.64%\n",
            "Discapacidad                               |             1047      2.89%\n",
            "Dependencia que envio la informacion       |                0       0.0%\n"
          ]
        }
      ],
      "source": [
        "print(f'{(\"Columna\"):42} =NO ESPECIFICADO=  Porcentaje\\n')\n",
        "for col in df.columns:\n",
        "    total = (df[col] == \"NO ESPECIFICADO\").sum()+(df[col] == \"No Especificado\").sum()+(df[col] == \"no ESPECIFICADO\").sum()\n",
        "    print(f'{(col):42} | {(total):16} {(round((total*100)/df.shape[0], 2)):9}%')"
      ]
    },
    {
      "cell_type": "markdown",
      "metadata": {
        "id": "IYANqJAYBetD"
      },
      "source": [
        "> Tenemos columnas con nula presencia de faltantes, poca presencia y algunas columnas en donde la cantidad de faltantes es considerable. Pasemos a tomar decisiones sobre como trabajaremos con los valores faltantes en cada columna."
      ]
    },
    {
      "cell_type": "markdown",
      "metadata": {
        "id": "NmV9jWrCBetD"
      },
      "source": [
        "Primero crearemos una copia de nuestro dataframe original para conservarlo."
      ]
    },
    {
      "cell_type": "code",
      "execution_count": 36,
      "metadata": {
        "ExecuteTime": {
          "end_time": "2022-09-14T02:00:16.784571Z",
          "start_time": "2022-09-14T02:00:16.776261Z"
        },
        "id": "9vq7YHG_BetE"
      },
      "outputs": [],
      "source": [
        "df_original = df.copy()"
      ]
    },
    {
      "cell_type": "markdown",
      "metadata": {
        "id": "R5aC5p4ABetE"
      },
      "source": [
        "Ahora transformemos todos nuestros valores de 'NO ESPECIFICADO' (y sus variaciones) a NaN"
      ]
    },
    {
      "cell_type": "code",
      "execution_count": 37,
      "metadata": {
        "ExecuteTime": {
          "end_time": "2022-09-14T02:01:05.109340Z",
          "start_time": "2022-09-14T02:01:05.048541Z"
        },
        "id": "rJ7F3SViBetF"
      },
      "outputs": [],
      "source": [
        "df = df.replace('NO ESPECIFICADO',np.NaN)\n",
        "df = df.replace('No Especificado',np.NaN)\n",
        "df = df.replace('no ESPECIFICADO',np.NaN)"
      ]
    },
    {
      "cell_type": "code",
      "execution_count": 38,
      "metadata": {
        "ExecuteTime": {
          "end_time": "2022-09-14T02:01:07.306381Z",
          "start_time": "2022-09-14T02:01:07.252594Z"
        },
        "scrolled": true,
        "colab": {
          "base_uri": "https://localhost:8080/"
        },
        "id": "iu-ajoTKBetF",
        "outputId": "ea9acb8e-06eb-4d6a-8ac1-64f21d990f68"
      },
      "outputs": [
        {
          "output_type": "execute_result",
          "data": {
            "text/plain": [
              "Fecha en que se le vio por ultima vez          338\n",
              "Hora en que se le vio por ultima vez            16\n",
              "Pais en que se le vio por ultima vez             0\n",
              "Entidad en que se le vio por ultima vez         29\n",
              "Municipio en que se le vio por ultima vez      668\n",
              "Localidad en que se le vio por ultima vez     3413\n",
              "Nacionalidad                                  2040\n",
              "Estatura                                     11008\n",
              "Complexion                                   11295\n",
              "Sexo                                             0\n",
              "Edad                                          3156\n",
              "Descripcion de senas particulares            18914\n",
              "Etnia                                        36133\n",
              "Discapacidad                                  1047\n",
              "Dependencia que envio la informacion             0\n",
              "dtype: int64"
            ]
          },
          "metadata": {},
          "execution_count": 38
        }
      ],
      "source": [
        "df.isna().sum()"
      ]
    },
    {
      "cell_type": "markdown",
      "metadata": {
        "id": "ZZqt4D83BetG"
      },
      "source": [
        "> Podemos ver que el conteo de faltantes coincide con el que realizamos previamente."
      ]
    },
    {
      "cell_type": "markdown",
      "metadata": {
        "id": "2UdjXW7EBetH"
      },
      "source": [
        "### Limpiando NaNs"
      ]
    },
    {
      "cell_type": "markdown",
      "metadata": {
        "id": "sAS59WSyBetH"
      },
      "source": [
        "**Fecha en que se le vio por ultima vez**"
      ]
    },
    {
      "cell_type": "markdown",
      "metadata": {
        "id": "2vCXF7OlBetH"
      },
      "source": [
        "La variable que registra la fecha en la que se vio por última vez a una persona es una variable muy importante en nuestro conjunto de datos y en el contexto del problema. Rellenar esta variable con algún tipo de dato puede hacer que el valor asignado pierda sentido o generar información errónea acerca del problema. Por esto eliminaremos los registros que contengan valores faltantes en esta columna."
      ]
    },
    {
      "cell_type": "code",
      "execution_count": 39,
      "metadata": {
        "ExecuteTime": {
          "end_time": "2022-09-14T02:01:19.608509Z",
          "start_time": "2022-09-14T02:01:19.585562Z"
        },
        "id": "p_3l1g7GBetI"
      },
      "outputs": [],
      "source": [
        "df = df.dropna(subset=['Fecha en que se le vio por ultima vez'])"
      ]
    },
    {
      "cell_type": "code",
      "execution_count": 40,
      "metadata": {
        "ExecuteTime": {
          "end_time": "2022-09-14T02:01:22.189707Z",
          "start_time": "2022-09-14T02:01:22.128371Z"
        },
        "colab": {
          "base_uri": "https://localhost:8080/"
        },
        "id": "RYVABLzMBetI",
        "outputId": "b7ec56c3-0896-4a0f-ebdf-8af9b1a0c2d6"
      },
      "outputs": [
        {
          "output_type": "execute_result",
          "data": {
            "text/plain": [
              "Fecha en que se le vio por ultima vez            0\n",
              "Hora en que se le vio por ultima vez             0\n",
              "Pais en que se le vio por ultima vez             0\n",
              "Entidad en que se le vio por ultima vez         26\n",
              "Municipio en que se le vio por ultima vez      635\n",
              "Localidad en que se le vio por ultima vez     3345\n",
              "Nacionalidad                                  2028\n",
              "Estatura                                     10784\n",
              "Complexion                                   11157\n",
              "Sexo                                             0\n",
              "Edad                                          3088\n",
              "Descripcion de senas particulares            18704\n",
              "Etnia                                        35795\n",
              "Discapacidad                                  1043\n",
              "Dependencia que envio la informacion             0\n",
              "dtype: int64"
            ]
          },
          "metadata": {},
          "execution_count": 40
        }
      ],
      "source": [
        "df.isna().sum()"
      ]
    },
    {
      "cell_type": "markdown",
      "metadata": {
        "id": "0o7b1ZxHBetI"
      },
      "source": [
        "> Observamos que con las filas eliminadas a partir de los faltantes en las fechas, también eliminamos los registros faltantes en 'Hora en que se le vio por última vez', esto no representa una gran repercusión, pues al igual que la columna de fechas, los registros de horas eran datos importantes que no nos convenía rellenar y manipular."
      ]
    },
    {
      "cell_type": "markdown",
      "metadata": {
        "ExecuteTime": {
          "end_time": "2022-09-13T02:43:57.427139Z",
          "start_time": "2022-09-13T02:43:57.423209Z"
        },
        "id": "B-cmmB0-BetJ"
      },
      "source": [
        "**Entidad en que se le vio por ultima vez**"
      ]
    },
    {
      "cell_type": "markdown",
      "metadata": {
        "id": "M6cLIhA1BetJ"
      },
      "source": [
        "Esta columna contiene el estado de la república en el que se vio por última vez a la persona desaparecida, la cantidad de faltantes es pequeña y no representa un gran porcentaje respecto al total de registros. Además, es muy probable que en las filas en donde existan faltantes respecto a esta columna, también encontraremos faltantes en las columnas de 'Municipio en que se le vio por última vez' y 'Localidad en que se le vio por última vez'. Entonces eliminemos las filas con faltantes en esta columna."
      ]
    },
    {
      "cell_type": "code",
      "execution_count": 41,
      "metadata": {
        "ExecuteTime": {
          "end_time": "2022-09-14T02:01:35.026862Z",
          "start_time": "2022-09-14T02:01:35.007175Z"
        },
        "id": "v5F_ijYiBetJ"
      },
      "outputs": [],
      "source": [
        "df = df.dropna(subset=['Entidad en que se le vio por ultima vez'])"
      ]
    },
    {
      "cell_type": "code",
      "execution_count": 42,
      "metadata": {
        "ExecuteTime": {
          "end_time": "2022-09-14T02:01:36.944874Z",
          "start_time": "2022-09-14T02:01:36.892943Z"
        },
        "colab": {
          "base_uri": "https://localhost:8080/"
        },
        "id": "aM3KcnoMBetJ",
        "outputId": "dbd4adf8-41fe-46cc-8202-d185d73f40ef"
      },
      "outputs": [
        {
          "output_type": "execute_result",
          "data": {
            "text/plain": [
              "Fecha en que se le vio por ultima vez            0\n",
              "Hora en que se le vio por ultima vez             0\n",
              "Pais en que se le vio por ultima vez             0\n",
              "Entidad en que se le vio por ultima vez          0\n",
              "Municipio en que se le vio por ultima vez      609\n",
              "Localidad en que se le vio por ultima vez     3319\n",
              "Nacionalidad                                  2027\n",
              "Estatura                                     10778\n",
              "Complexion                                   11150\n",
              "Sexo                                             0\n",
              "Edad                                          3084\n",
              "Descripcion de senas particulares            18690\n",
              "Etnia                                        35770\n",
              "Discapacidad                                  1043\n",
              "Dependencia que envio la informacion             0\n",
              "dtype: int64"
            ]
          },
          "metadata": {},
          "execution_count": 42
        }
      ],
      "source": [
        "df.isna().sum()"
      ]
    },
    {
      "cell_type": "markdown",
      "metadata": {
        "id": "vN_cbT8VBetK"
      },
      "source": [
        "> Como se sospechó, al eliminar los faltantes respecto a la columna de entidad, eliminamos NaNs presentes en las dos columnas relacionadas."
      ]
    },
    {
      "cell_type": "markdown",
      "metadata": {
        "id": "izaDtbtDBetK"
      },
      "source": [
        "Pasemos a la eliminación de las columnas que no serán necesarias para responder las preguntas que nos realizamos, o bien que no aportan demasiada información."
      ]
    },
    {
      "cell_type": "markdown",
      "metadata": {
        "id": "ZlwLenc0BetK"
      },
      "source": [
        "**Pais en que se le vio por ultima vez**"
      ]
    },
    {
      "cell_type": "markdown",
      "metadata": {
        "id": "2hFln-bTBetL"
      },
      "source": [
        "Esta columna tiene el mismo valor (México) para todos los registros de la lista, por el contexto del problema podemos inferir el porqué de este valor. Podemos eliminar esta columna, pues no representa información relevante."
      ]
    },
    {
      "cell_type": "code",
      "execution_count": 43,
      "metadata": {
        "ExecuteTime": {
          "end_time": "2022-09-14T02:02:02.877036Z",
          "start_time": "2022-09-14T02:02:02.870483Z"
        },
        "id": "gaDHp644BetL"
      },
      "outputs": [],
      "source": [
        "df = df.drop(columns=['Pais en que se le vio por ultima vez'])"
      ]
    },
    {
      "cell_type": "markdown",
      "metadata": {
        "id": "T65q2lzfBetM"
      },
      "source": [
        "**Etnia**"
      ]
    },
    {
      "cell_type": "markdown",
      "metadata": {
        "id": "raJD8sJlBetM"
      },
      "source": [
        "La columna `Etnia` tiene 36133 registros con el valor “no especificado”, es una cantidad muy grande y posiblemente no nos aporte mucho para un análisis. "
      ]
    },
    {
      "cell_type": "code",
      "execution_count": 44,
      "metadata": {
        "ExecuteTime": {
          "end_time": "2022-09-14T02:02:07.324852Z",
          "start_time": "2022-09-14T02:02:07.317473Z"
        },
        "id": "MRfk51cfBetN"
      },
      "outputs": [],
      "source": [
        "df = df.drop(columns=['Etnia'])"
      ]
    },
    {
      "cell_type": "code",
      "execution_count": 45,
      "metadata": {
        "ExecuteTime": {
          "end_time": "2022-09-14T02:02:10.972825Z",
          "start_time": "2022-09-14T02:02:10.968768Z"
        },
        "colab": {
          "base_uri": "https://localhost:8080/"
        },
        "id": "IAH9jxO8BetO",
        "outputId": "611b50b3-2de1-46b4-a3e8-d8c3550a6643"
      },
      "outputs": [
        {
          "output_type": "execute_result",
          "data": {
            "text/plain": [
              "Index(['Fecha en que se le vio por ultima vez',\n",
              "       'Hora en que se le vio por ultima vez',\n",
              "       'Entidad en que se le vio por ultima vez',\n",
              "       'Municipio en que se le vio por ultima vez',\n",
              "       'Localidad en que se le vio por ultima vez', 'Nacionalidad', 'Estatura',\n",
              "       'Complexion', 'Sexo', 'Edad', 'Descripcion de senas particulares',\n",
              "       'Discapacidad', 'Dependencia que envio la informacion'],\n",
              "      dtype='object')"
            ]
          },
          "metadata": {},
          "execution_count": 45
        }
      ],
      "source": [
        "df.columns"
      ]
    },
    {
      "cell_type": "markdown",
      "metadata": {
        "id": "uRyEcZqiBetO"
      },
      "source": [
        "> Las columnas han sido eliminadas correctamente de nuestro dataframe."
      ]
    },
    {
      "cell_type": "markdown",
      "metadata": {
        "id": "WOvSfVw3BetP"
      },
      "source": [
        "Remplazamos los valores faltantes por la media en el caso de columnas numéricas que son relevantes para nuestro análisis. No se eliminan porque reducirían bastante el data frame, y no se remplazan por cero porque sería un valor con un significado incoherente (altura cero es algo que no existe)."
      ]
    },
    {
      "cell_type": "markdown",
      "metadata": {
        "id": "qYhSlqWeBetP"
      },
      "source": [
        "**Estatura**"
      ]
    },
    {
      "cell_type": "markdown",
      "metadata": {
        "id": "-bToa5nYBetQ"
      },
      "source": [
        "Realizaremos una imputación simple usando la media."
      ]
    },
    {
      "cell_type": "markdown",
      "metadata": {
        "id": "SNWRCzGABetR"
      },
      "source": [
        "Adelantaremos el proceso de transformación en esta columna para facilitar la imputación. Exploremos nuevamente los valores que toma esta variable."
      ]
    },
    {
      "cell_type": "code",
      "execution_count": 46,
      "metadata": {
        "ExecuteTime": {
          "end_time": "2022-09-14T02:02:14.949570Z",
          "start_time": "2022-09-14T02:02:14.941251Z"
        },
        "colab": {
          "base_uri": "https://localhost:8080/"
        },
        "id": "kw52ujOKBetR",
        "outputId": "4009c8bd-d1ae-4b9d-fd17-5c9ccd152753"
      },
      "outputs": [
        {
          "output_type": "execute_result",
          "data": {
            "text/plain": [
              "{'0.3',\n",
              " '0.35',\n",
              " '0.4',\n",
              " '0.42',\n",
              " '0.45',\n",
              " '0.47',\n",
              " '0.49',\n",
              " '0.5',\n",
              " '0.51',\n",
              " '0.52',\n",
              " '0.53',\n",
              " '0.54',\n",
              " '0.55',\n",
              " '0.56',\n",
              " '0.57',\n",
              " '0.58',\n",
              " '0.6',\n",
              " '0.61',\n",
              " '0.62',\n",
              " '0.63',\n",
              " '0.64',\n",
              " '0.65',\n",
              " '0.66',\n",
              " '0.68',\n",
              " '0.7',\n",
              " '0.73',\n",
              " '0.75',\n",
              " '0.76',\n",
              " '0.77',\n",
              " '0.78',\n",
              " '0.8',\n",
              " '0.81',\n",
              " '0.82',\n",
              " '0.83',\n",
              " '0.84',\n",
              " '0.85',\n",
              " '0.86',\n",
              " '0.87',\n",
              " '0.89',\n",
              " '0.9',\n",
              " '0.91',\n",
              " '0.92',\n",
              " '0.93',\n",
              " '0.94',\n",
              " '0.95',\n",
              " '0.96',\n",
              " '0.97',\n",
              " '0.98',\n",
              " '0.99',\n",
              " '1',\n",
              " '1.01',\n",
              " '1.02',\n",
              " '1.03',\n",
              " '1.04',\n",
              " '1.05',\n",
              " '1.06',\n",
              " '1.07',\n",
              " '1.1',\n",
              " '1.11',\n",
              " '1.13',\n",
              " '1.14',\n",
              " '1.15',\n",
              " '1.16',\n",
              " '1.17',\n",
              " '1.2',\n",
              " '1.21',\n",
              " '1.22',\n",
              " '1.23',\n",
              " '1.25',\n",
              " '1.27',\n",
              " '1.28',\n",
              " '1.29',\n",
              " '1.3',\n",
              " '1.31',\n",
              " '1.32',\n",
              " '1.33',\n",
              " '1.34',\n",
              " '1.35',\n",
              " '1.36',\n",
              " '1.37',\n",
              " '1.38',\n",
              " '1.39',\n",
              " '1.4',\n",
              " '1.41',\n",
              " '1.42',\n",
              " '1.43',\n",
              " '1.44',\n",
              " '1.45',\n",
              " '1.46',\n",
              " '1.47',\n",
              " '1.48',\n",
              " '1.49',\n",
              " '1.5',\n",
              " '1.51',\n",
              " '1.52',\n",
              " '1.53',\n",
              " '1.54',\n",
              " '1.55',\n",
              " '1.56',\n",
              " '1.57',\n",
              " '1.58',\n",
              " '1.59',\n",
              " '1.6',\n",
              " '1.61',\n",
              " '1.62',\n",
              " '1.63',\n",
              " '1.64',\n",
              " '1.65',\n",
              " '1.66',\n",
              " '1.67',\n",
              " '1.68',\n",
              " '1.69',\n",
              " '1.7',\n",
              " '1.71',\n",
              " '1.72',\n",
              " '1.73',\n",
              " '1.74',\n",
              " '1.75',\n",
              " '1.76',\n",
              " '1.77',\n",
              " '1.78',\n",
              " '1.79',\n",
              " '1.8',\n",
              " '1.81',\n",
              " '1.82',\n",
              " '1.83',\n",
              " '1.84',\n",
              " '1.85',\n",
              " '1.86',\n",
              " '1.87',\n",
              " '1.88',\n",
              " '1.89',\n",
              " '1.9',\n",
              " '1.91',\n",
              " '1.92',\n",
              " '1.93',\n",
              " '1.94',\n",
              " '1.95',\n",
              " '1.96',\n",
              " '1.97',\n",
              " '1.98',\n",
              " '130',\n",
              " '155',\n",
              " '170',\n",
              " '2',\n",
              " '2.04',\n",
              " '50',\n",
              " '56',\n",
              " '70',\n",
              " '72',\n",
              " '80',\n",
              " '90',\n",
              " nan}"
            ]
          },
          "metadata": {},
          "execution_count": 46
        }
      ],
      "source": [
        "val_unicos_col(df, 'Estatura')"
      ]
    },
    {
      "cell_type": "markdown",
      "metadata": {
        "id": "0d4TaqFRBetS"
      },
      "source": [
        "> La mayoría de los valores se encuentran en un rango de 0 a 2.04, esto nos dice que se maneja la medición en metros. Sin embargo, encontramos valores superiores a 50, es muy probable que estos estén registrados en centímetros. "
      ]
    },
    {
      "cell_type": "markdown",
      "metadata": {
        "id": "NWulVz04BetS"
      },
      "source": [
        "Vamos a convertir nuestros valores a tipo flotante y manejarlos en metros, haciendo la conversión respectiva."
      ]
    },
    {
      "cell_type": "code",
      "execution_count": 47,
      "metadata": {
        "ExecuteTime": {
          "end_time": "2022-09-14T02:02:47.909803Z",
          "start_time": "2022-09-14T02:02:47.884212Z"
        },
        "id": "KB_jNuEnBetS"
      },
      "outputs": [],
      "source": [
        "df['Estatura'] = df['Estatura'].astype(float)\n",
        "df['Estatura'] = df['Estatura'].apply(lambda x: x/100 if (x >= 3) else x)"
      ]
    },
    {
      "cell_type": "markdown",
      "metadata": {
        "id": "IwM7s0emBetS"
      },
      "source": [
        "> Ahora todas nuestras estaturas están representadas en metros."
      ]
    },
    {
      "cell_type": "markdown",
      "metadata": {
        "id": "YlE1y-McBetT"
      },
      "source": [
        "Pasemos a la imputación usando la media."
      ]
    },
    {
      "cell_type": "code",
      "execution_count": 48,
      "metadata": {
        "ExecuteTime": {
          "end_time": "2022-09-14T02:02:51.684570Z",
          "start_time": "2022-09-14T02:02:51.679550Z"
        },
        "colab": {
          "base_uri": "https://localhost:8080/"
        },
        "id": "VVLC6ctiBetT",
        "outputId": "45fa342f-8a57-42d5-de90-aa9e45fee5ab"
      },
      "outputs": [
        {
          "output_type": "execute_result",
          "data": {
            "text/plain": [
              "1.64"
            ]
          },
          "metadata": {},
          "execution_count": 48
        }
      ],
      "source": [
        "estatura_promedio = round(df['Estatura'].mean(), 2)\n",
        "estatura_promedio"
      ]
    },
    {
      "cell_type": "code",
      "execution_count": 49,
      "metadata": {
        "ExecuteTime": {
          "end_time": "2022-09-14T02:02:55.795148Z",
          "start_time": "2022-09-14T02:02:55.791888Z"
        },
        "id": "wNG2bCUWBetT"
      },
      "outputs": [],
      "source": [
        "df['Estatura'] = df['Estatura'].fillna(estatura_promedio)"
      ]
    },
    {
      "cell_type": "code",
      "execution_count": 50,
      "metadata": {
        "ExecuteTime": {
          "end_time": "2022-09-14T02:02:58.852952Z",
          "start_time": "2022-09-14T02:02:58.843316Z"
        },
        "colab": {
          "base_uri": "https://localhost:8080/"
        },
        "id": "jZZ5S0i8BetU",
        "outputId": "02a2f7cc-a099-4ced-8c3d-252df63411ba"
      },
      "outputs": [
        {
          "output_type": "execute_result",
          "data": {
            "text/plain": [
              "1.64"
            ]
          },
          "metadata": {},
          "execution_count": 50
        }
      ],
      "source": [
        "round(df['Estatura'].mean(), 2)"
      ]
    },
    {
      "cell_type": "code",
      "execution_count": 51,
      "metadata": {
        "ExecuteTime": {
          "end_time": "2022-09-14T02:03:03.433817Z",
          "start_time": "2022-09-14T02:03:03.379085Z"
        },
        "colab": {
          "base_uri": "https://localhost:8080/"
        },
        "id": "AL6WJPBtBetU",
        "outputId": "f088c33d-bf67-4de5-ff54-8bd17a62fec9"
      },
      "outputs": [
        {
          "output_type": "execute_result",
          "data": {
            "text/plain": [
              "Fecha en que se le vio por ultima vez            0\n",
              "Hora en que se le vio por ultima vez             0\n",
              "Entidad en que se le vio por ultima vez          0\n",
              "Municipio en que se le vio por ultima vez      609\n",
              "Localidad en que se le vio por ultima vez     3319\n",
              "Nacionalidad                                  2027\n",
              "Estatura                                         0\n",
              "Complexion                                   11150\n",
              "Sexo                                             0\n",
              "Edad                                          3084\n",
              "Descripcion de senas particulares            18690\n",
              "Discapacidad                                  1043\n",
              "Dependencia que envio la informacion             0\n",
              "dtype: int64"
            ]
          },
          "metadata": {},
          "execution_count": 51
        }
      ],
      "source": [
        "df.isna().sum()"
      ]
    },
    {
      "cell_type": "markdown",
      "metadata": {
        "id": "gkSq-pbxBetV"
      },
      "source": [
        "> Nuestros valores faltantes en 'Estatura' han sido remplazados por la media, y la media con los valores remplazados sigue siendo igual a 1.64."
      ]
    },
    {
      "cell_type": "markdown",
      "metadata": {
        "id": "k85Q3zWMBetV"
      },
      "source": [
        "**Edad**"
      ]
    },
    {
      "cell_type": "markdown",
      "metadata": {
        "id": "jt8E4DFXBetW"
      },
      "source": [
        "Aplicaremos una transformación similar en nuestra columna de edades, convirtiendo nuestros valores a enteros. "
      ]
    },
    {
      "cell_type": "markdown",
      "metadata": {
        "id": "nuCYmLPLBetX"
      },
      "source": [
        "Pasemos a la imputación usando la mediana."
      ]
    },
    {
      "cell_type": "code",
      "execution_count": 52,
      "metadata": {
        "ExecuteTime": {
          "end_time": "2022-09-14T02:03:53.552203Z",
          "start_time": "2022-09-14T02:03:53.545338Z"
        },
        "colab": {
          "base_uri": "https://localhost:8080/"
        },
        "id": "RSHg_xIEBetX",
        "outputId": "99bc8e42-2675-44eb-8938-dd6f230eda28"
      },
      "outputs": [
        {
          "output_type": "execute_result",
          "data": {
            "text/plain": [
              "28.0"
            ]
          },
          "metadata": {},
          "execution_count": 52
        }
      ],
      "source": [
        "edad_mediana = df['Edad'].median()\n",
        "edad_mediana"
      ]
    },
    {
      "cell_type": "code",
      "execution_count": 53,
      "metadata": {
        "ExecuteTime": {
          "end_time": "2022-09-14T02:03:57.632516Z",
          "start_time": "2022-09-14T02:03:57.627847Z"
        },
        "id": "K9d-DYIXBetX"
      },
      "outputs": [],
      "source": [
        "df['Edad'] = df['Edad'].fillna(edad_mediana)"
      ]
    },
    {
      "cell_type": "code",
      "execution_count": 54,
      "metadata": {
        "ExecuteTime": {
          "end_time": "2022-09-14T02:03:59.583027Z",
          "start_time": "2022-09-14T02:03:59.577978Z"
        },
        "colab": {
          "base_uri": "https://localhost:8080/"
        },
        "id": "uZ5dMvaDBetY",
        "outputId": "73310458-df61-4d24-d51b-7245c8a0eeeb"
      },
      "outputs": [
        {
          "output_type": "execute_result",
          "data": {
            "text/plain": [
              "28"
            ]
          },
          "metadata": {},
          "execution_count": 54
        }
      ],
      "source": [
        "df['Edad'].median().astype(int)"
      ]
    },
    {
      "cell_type": "code",
      "source": [
        "df[\"Edad\"]= df[\"Edad\"].astype(int)"
      ],
      "metadata": {
        "id": "yDop0VLWGXWb"
      },
      "execution_count": 55,
      "outputs": []
    },
    {
      "cell_type": "markdown",
      "metadata": {
        "ExecuteTime": {
          "end_time": "2022-09-13T19:25:09.785598Z",
          "start_time": "2022-09-13T19:25:09.780889Z"
        },
        "id": "fHd7cXAMBetW"
      },
      "source": [
        "> Ahora todas nuestras edades están representadas en enteros."
      ]
    },
    {
      "cell_type": "code",
      "execution_count": 56,
      "metadata": {
        "ExecuteTime": {
          "end_time": "2022-09-14T02:04:02.160527Z",
          "start_time": "2022-09-14T02:04:02.109707Z"
        },
        "colab": {
          "base_uri": "https://localhost:8080/"
        },
        "id": "v1i8jPSABetY",
        "outputId": "34d38022-f5d2-4362-9bc9-5da3dbbe5744"
      },
      "outputs": [
        {
          "output_type": "execute_result",
          "data": {
            "text/plain": [
              "Fecha en que se le vio por ultima vez            0\n",
              "Hora en que se le vio por ultima vez             0\n",
              "Entidad en que se le vio por ultima vez          0\n",
              "Municipio en que se le vio por ultima vez      609\n",
              "Localidad en que se le vio por ultima vez     3319\n",
              "Nacionalidad                                  2027\n",
              "Estatura                                         0\n",
              "Complexion                                   11150\n",
              "Sexo                                             0\n",
              "Edad                                             0\n",
              "Descripcion de senas particulares            18690\n",
              "Discapacidad                                  1043\n",
              "Dependencia que envio la informacion             0\n",
              "dtype: int64"
            ]
          },
          "metadata": {},
          "execution_count": 56
        }
      ],
      "source": [
        "df.isna().sum()"
      ]
    },
    {
      "cell_type": "code",
      "source": [
        "df.dtypes"
      ],
      "metadata": {
        "colab": {
          "base_uri": "https://localhost:8080/"
        },
        "id": "yUBIX7i-F8oH",
        "outputId": "2572a69c-6c5e-4912-92a5-ed7823192bc1"
      },
      "execution_count": 57,
      "outputs": [
        {
          "output_type": "execute_result",
          "data": {
            "text/plain": [
              "Fecha en que se le vio por ultima vez         object\n",
              "Hora en que se le vio por ultima vez          object\n",
              "Entidad en que se le vio por ultima vez       object\n",
              "Municipio en que se le vio por ultima vez     object\n",
              "Localidad en que se le vio por ultima vez     object\n",
              "Nacionalidad                                  object\n",
              "Estatura                                     float64\n",
              "Complexion                                    object\n",
              "Sexo                                          object\n",
              "Edad                                           int64\n",
              "Descripcion de senas particulares             object\n",
              "Discapacidad                                  object\n",
              "Dependencia que envio la informacion          object\n",
              "dtype: object"
            ]
          },
          "metadata": {},
          "execution_count": 57
        }
      ]
    },
    {
      "cell_type": "markdown",
      "metadata": {
        "id": "se7TuV0SBetY"
      },
      "source": [
        "> Nuestros valores faltantes en 'Edad' han sido remplazados por la mediana, y la mediana con los valores remplazados sigue siendo igual a 28."
      ]
    },
    {
      "cell_type": "markdown",
      "metadata": {
        "id": "JgXPsrPYBetZ"
      },
      "source": [
        "En las columnas donde los valores faltantes siguen presentes, vele la pena conservar el valor categórico de 'NO ESPECIFICADO'. Regresaremos los valores NaN al valor 'NO ESPECIFICADO' (esta vez sin ninguna variación) en las columnas restantes, esas columnas son:\n",
        "\n",
        "*   Municipio en que se le vio por ultima vez\n",
        "*   Localidad en que se le vio por ultima vez\n",
        "*   Nacionalidad\n",
        "*   Complexion\n",
        "*   Descripcion de senas particulares\n",
        "*   Discapacidad"
      ]
    },
    {
      "cell_type": "code",
      "execution_count": 58,
      "metadata": {
        "ExecuteTime": {
          "end_time": "2022-09-14T02:05:06.909409Z",
          "start_time": "2022-09-14T02:05:06.872883Z"
        },
        "id": "AeB1cuFjBetZ"
      },
      "outputs": [],
      "source": [
        "df = df.fillna('NO ESPECIFICADO')"
      ]
    },
    {
      "cell_type": "code",
      "execution_count": 59,
      "metadata": {
        "ExecuteTime": {
          "end_time": "2022-09-14T02:05:18.745391Z",
          "start_time": "2022-09-14T02:05:18.699452Z"
        },
        "colab": {
          "base_uri": "https://localhost:8080/"
        },
        "id": "Q_T_ncs9BetZ",
        "outputId": "285a7da4-425a-4740-bc36-750aab584c9b"
      },
      "outputs": [
        {
          "output_type": "execute_result",
          "data": {
            "text/plain": [
              "Fecha en que se le vio por ultima vez        0\n",
              "Hora en que se le vio por ultima vez         0\n",
              "Entidad en que se le vio por ultima vez      0\n",
              "Municipio en que se le vio por ultima vez    0\n",
              "Localidad en que se le vio por ultima vez    0\n",
              "Nacionalidad                                 0\n",
              "Estatura                                     0\n",
              "Complexion                                   0\n",
              "Sexo                                         0\n",
              "Edad                                         0\n",
              "Descripcion de senas particulares            0\n",
              "Discapacidad                                 0\n",
              "Dependencia que envio la informacion         0\n",
              "dtype: int64"
            ]
          },
          "metadata": {},
          "execution_count": 59
        }
      ],
      "source": [
        "df.isna().sum()"
      ]
    },
    {
      "cell_type": "markdown",
      "metadata": {
        "id": "_1d0NNdVBeta"
      },
      "source": [
        "> Hemos limpiado nuestro dataframe de datos faltantes."
      ]
    },
    {
      "cell_type": "markdown",
      "metadata": {
        "id": "1A16opQwBeta"
      },
      "source": [
        "Vamos a comprar las dimensiones de nuestro dataframe sin datos faltantes y nuestro dataframe original. "
      ]
    },
    {
      "cell_type": "code",
      "execution_count": 60,
      "metadata": {
        "ExecuteTime": {
          "end_time": "2022-09-14T02:05:30.039481Z",
          "start_time": "2022-09-14T02:05:30.035912Z"
        },
        "colab": {
          "base_uri": "https://localhost:8080/"
        },
        "id": "Ch4BCWI3Beta",
        "outputId": "c7048f6c-04a5-42f1-a6c5-dee69829ed8c"
      },
      "outputs": [
        {
          "output_type": "stream",
          "name": "stdout",
          "text": [
            "Original: 36265 \n",
            "Sin NaNs: 35901\n",
            "Registros eliminados: 364\n",
            "Porcentaje eliminado: 1.004%\n"
          ]
        }
      ],
      "source": [
        "print(f\"Original: {df_original.shape[0]} \\nSin NaNs: {df.shape[0]}\")\n",
        "print(f\"Registros eliminados: {df_original.shape[0]-df.shape[0]}\")\n",
        "print(f\"Porcentaje eliminado: {round(((df_original.shape[0]-df.shape[0])*100)/df_original.shape[0], 3)}%\")"
      ]
    },
    {
      "cell_type": "markdown",
      "metadata": {
        "id": "Uh4BVCcpBetb"
      },
      "source": [
        "> Observamos que eliminamos 364 registros, lo que representa un 1.004% del total original."
      ]
    },
    {
      "cell_type": "markdown",
      "metadata": {
        "id": "uxNp36FGBetb"
      },
      "source": [
        "### Reindexando"
      ]
    },
    {
      "cell_type": "code",
      "execution_count": 61,
      "metadata": {
        "ExecuteTime": {
          "end_time": "2022-09-14T02:05:40.946674Z",
          "start_time": "2022-09-14T02:05:40.938443Z"
        },
        "colab": {
          "base_uri": "https://localhost:8080/",
          "height": 396
        },
        "id": "o18eGIC9Betb",
        "outputId": "9bc4df8d-30f4-46f4-df77-bcc190f2ac1f"
      },
      "outputs": [
        {
          "output_type": "execute_result",
          "data": {
            "text/plain": [
              "      Fecha en que se le vio por ultima vez  \\\n",
              "36263                            2017-08-22   \n",
              "36264                            2018-04-11   \n",
              "\n",
              "      Hora en que se le vio por ultima vez  \\\n",
              "36263                             04:00:00   \n",
              "36264                             02:00:00   \n",
              "\n",
              "      Entidad en que se le vio por ultima vez  \\\n",
              "36263                                  COLIMA   \n",
              "36264                              NUEVO LEON   \n",
              "\n",
              "      Municipio en que se le vio por ultima vez  \\\n",
              "36263                          VILLA DE ALVAREZ   \n",
              "36264                  SAN NICOLAS DE LOS GARZA   \n",
              "\n",
              "      Localidad en que se le vio por ultima vez Nacionalidad  Estatura  \\\n",
              "36263                          VILLA DE ALVAREZ     MEXICANA      1.76   \n",
              "36264                  SAN NICOLAS DE LOS GARZA     MEXICANA      1.60   \n",
              "\n",
              "      Complexion    Sexo  Edad  \\\n",
              "36263    ROBUSTA  HOMBRE    41   \n",
              "36264    DELGADA   MUJER    14   \n",
              "\n",
              "                       Descripcion de senas particulares Discapacidad  \\\n",
              "36263  TATUAJE EN EL BRAZO IZQUIERDO CON LA IMAGEN DE...      NINGUNO   \n",
              "36264                                    NO ESPECIFICADO      NINGUNO   \n",
              "\n",
              "      Dependencia que envio la informacion  \n",
              "36263                         PGJ - COLIMA  \n",
              "36264                     PGJ - NUEVO LEON  "
            ],
            "text/html": [
              "\n",
              "  <div id=\"df-e04fe832-14b1-47b6-bae4-0704cba15f10\">\n",
              "    <div class=\"colab-df-container\">\n",
              "      <div>\n",
              "<style scoped>\n",
              "    .dataframe tbody tr th:only-of-type {\n",
              "        vertical-align: middle;\n",
              "    }\n",
              "\n",
              "    .dataframe tbody tr th {\n",
              "        vertical-align: top;\n",
              "    }\n",
              "\n",
              "    .dataframe thead th {\n",
              "        text-align: right;\n",
              "    }\n",
              "</style>\n",
              "<table border=\"1\" class=\"dataframe\">\n",
              "  <thead>\n",
              "    <tr style=\"text-align: right;\">\n",
              "      <th></th>\n",
              "      <th>Fecha en que se le vio por ultima vez</th>\n",
              "      <th>Hora en que se le vio por ultima vez</th>\n",
              "      <th>Entidad en que se le vio por ultima vez</th>\n",
              "      <th>Municipio en que se le vio por ultima vez</th>\n",
              "      <th>Localidad en que se le vio por ultima vez</th>\n",
              "      <th>Nacionalidad</th>\n",
              "      <th>Estatura</th>\n",
              "      <th>Complexion</th>\n",
              "      <th>Sexo</th>\n",
              "      <th>Edad</th>\n",
              "      <th>Descripcion de senas particulares</th>\n",
              "      <th>Discapacidad</th>\n",
              "      <th>Dependencia que envio la informacion</th>\n",
              "    </tr>\n",
              "  </thead>\n",
              "  <tbody>\n",
              "    <tr>\n",
              "      <th>36263</th>\n",
              "      <td>2017-08-22</td>\n",
              "      <td>04:00:00</td>\n",
              "      <td>COLIMA</td>\n",
              "      <td>VILLA DE ALVAREZ</td>\n",
              "      <td>VILLA DE ALVAREZ</td>\n",
              "      <td>MEXICANA</td>\n",
              "      <td>1.76</td>\n",
              "      <td>ROBUSTA</td>\n",
              "      <td>HOMBRE</td>\n",
              "      <td>41</td>\n",
              "      <td>TATUAJE EN EL BRAZO IZQUIERDO CON LA IMAGEN DE...</td>\n",
              "      <td>NINGUNO</td>\n",
              "      <td>PGJ - COLIMA</td>\n",
              "    </tr>\n",
              "    <tr>\n",
              "      <th>36264</th>\n",
              "      <td>2018-04-11</td>\n",
              "      <td>02:00:00</td>\n",
              "      <td>NUEVO LEON</td>\n",
              "      <td>SAN NICOLAS DE LOS GARZA</td>\n",
              "      <td>SAN NICOLAS DE LOS GARZA</td>\n",
              "      <td>MEXICANA</td>\n",
              "      <td>1.60</td>\n",
              "      <td>DELGADA</td>\n",
              "      <td>MUJER</td>\n",
              "      <td>14</td>\n",
              "      <td>NO ESPECIFICADO</td>\n",
              "      <td>NINGUNO</td>\n",
              "      <td>PGJ - NUEVO LEON</td>\n",
              "    </tr>\n",
              "  </tbody>\n",
              "</table>\n",
              "</div>\n",
              "      <button class=\"colab-df-convert\" onclick=\"convertToInteractive('df-e04fe832-14b1-47b6-bae4-0704cba15f10')\"\n",
              "              title=\"Convert this dataframe to an interactive table.\"\n",
              "              style=\"display:none;\">\n",
              "        \n",
              "  <svg xmlns=\"http://www.w3.org/2000/svg\" height=\"24px\"viewBox=\"0 0 24 24\"\n",
              "       width=\"24px\">\n",
              "    <path d=\"M0 0h24v24H0V0z\" fill=\"none\"/>\n",
              "    <path d=\"M18.56 5.44l.94 2.06.94-2.06 2.06-.94-2.06-.94-.94-2.06-.94 2.06-2.06.94zm-11 1L8.5 8.5l.94-2.06 2.06-.94-2.06-.94L8.5 2.5l-.94 2.06-2.06.94zm10 10l.94 2.06.94-2.06 2.06-.94-2.06-.94-.94-2.06-.94 2.06-2.06.94z\"/><path d=\"M17.41 7.96l-1.37-1.37c-.4-.4-.92-.59-1.43-.59-.52 0-1.04.2-1.43.59L10.3 9.45l-7.72 7.72c-.78.78-.78 2.05 0 2.83L4 21.41c.39.39.9.59 1.41.59.51 0 1.02-.2 1.41-.59l7.78-7.78 2.81-2.81c.8-.78.8-2.07 0-2.86zM5.41 20L4 18.59l7.72-7.72 1.47 1.35L5.41 20z\"/>\n",
              "  </svg>\n",
              "      </button>\n",
              "      \n",
              "  <style>\n",
              "    .colab-df-container {\n",
              "      display:flex;\n",
              "      flex-wrap:wrap;\n",
              "      gap: 12px;\n",
              "    }\n",
              "\n",
              "    .colab-df-convert {\n",
              "      background-color: #E8F0FE;\n",
              "      border: none;\n",
              "      border-radius: 50%;\n",
              "      cursor: pointer;\n",
              "      display: none;\n",
              "      fill: #1967D2;\n",
              "      height: 32px;\n",
              "      padding: 0 0 0 0;\n",
              "      width: 32px;\n",
              "    }\n",
              "\n",
              "    .colab-df-convert:hover {\n",
              "      background-color: #E2EBFA;\n",
              "      box-shadow: 0px 1px 2px rgba(60, 64, 67, 0.3), 0px 1px 3px 1px rgba(60, 64, 67, 0.15);\n",
              "      fill: #174EA6;\n",
              "    }\n",
              "\n",
              "    [theme=dark] .colab-df-convert {\n",
              "      background-color: #3B4455;\n",
              "      fill: #D2E3FC;\n",
              "    }\n",
              "\n",
              "    [theme=dark] .colab-df-convert:hover {\n",
              "      background-color: #434B5C;\n",
              "      box-shadow: 0px 1px 3px 1px rgba(0, 0, 0, 0.15);\n",
              "      filter: drop-shadow(0px 1px 2px rgba(0, 0, 0, 0.3));\n",
              "      fill: #FFFFFF;\n",
              "    }\n",
              "  </style>\n",
              "\n",
              "      <script>\n",
              "        const buttonEl =\n",
              "          document.querySelector('#df-e04fe832-14b1-47b6-bae4-0704cba15f10 button.colab-df-convert');\n",
              "        buttonEl.style.display =\n",
              "          google.colab.kernel.accessAllowed ? 'block' : 'none';\n",
              "\n",
              "        async function convertToInteractive(key) {\n",
              "          const element = document.querySelector('#df-e04fe832-14b1-47b6-bae4-0704cba15f10');\n",
              "          const dataTable =\n",
              "            await google.colab.kernel.invokeFunction('convertToInteractive',\n",
              "                                                     [key], {});\n",
              "          if (!dataTable) return;\n",
              "\n",
              "          const docLinkHtml = 'Like what you see? Visit the ' +\n",
              "            '<a target=\"_blank\" href=https://colab.research.google.com/notebooks/data_table.ipynb>data table notebook</a>'\n",
              "            + ' to learn more about interactive tables.';\n",
              "          element.innerHTML = '';\n",
              "          dataTable['output_type'] = 'display_data';\n",
              "          await google.colab.output.renderOutput(dataTable, element);\n",
              "          const docLink = document.createElement('div');\n",
              "          docLink.innerHTML = docLinkHtml;\n",
              "          element.appendChild(docLink);\n",
              "        }\n",
              "      </script>\n",
              "    </div>\n",
              "  </div>\n",
              "  "
            ]
          },
          "metadata": {},
          "execution_count": 61
        }
      ],
      "source": [
        "df.tail(2)"
      ]
    },
    {
      "cell_type": "markdown",
      "metadata": {
        "id": "R8K65kwhBetc"
      },
      "source": [
        "> Podemos ver que el número de filas ya no coincide con el índice del último registro. "
      ]
    },
    {
      "cell_type": "markdown",
      "metadata": {
        "id": "boXkCLdCBetc"
      },
      "source": [
        "Vamos a reindexar y después establecer nuestros índices empezando desde 1."
      ]
    },
    {
      "cell_type": "code",
      "execution_count": 62,
      "metadata": {
        "ExecuteTime": {
          "end_time": "2022-09-14T02:05:57.309065Z",
          "start_time": "2022-09-14T02:05:57.299228Z"
        },
        "id": "g55NwHXuBetc"
      },
      "outputs": [],
      "source": [
        "df = df.reset_index(drop=True)\n",
        "\n",
        "df.index = df.index + 1"
      ]
    },
    {
      "cell_type": "code",
      "execution_count": 63,
      "metadata": {
        "ExecuteTime": {
          "end_time": "2022-09-14T02:05:58.964232Z",
          "start_time": "2022-09-14T02:05:58.946760Z"
        },
        "colab": {
          "base_uri": "https://localhost:8080/",
          "height": 1000
        },
        "id": "bIngdwFnBetd",
        "outputId": "ea678e0e-5104-4325-ace4-c2bc64b76e36"
      },
      "outputs": [
        {
          "output_type": "execute_result",
          "data": {
            "text/plain": [
              "      Fecha en que se le vio por ultima vez  \\\n",
              "1                                2012-03-18   \n",
              "2                                2007-02-05   \n",
              "3                                2009-03-14   \n",
              "4                                2006-12-23   \n",
              "5                                2008-01-11   \n",
              "...                                     ...   \n",
              "35897                            2018-04-26   \n",
              "35898                            2018-01-08   \n",
              "35899                            2015-02-02   \n",
              "35900                            2017-08-22   \n",
              "35901                            2018-04-11   \n",
              "\n",
              "      Hora en que se le vio por ultima vez  \\\n",
              "1                                 05:00:00   \n",
              "2                                 02:00:26   \n",
              "3                                 08:30:54   \n",
              "4                                 08:00:28   \n",
              "5                                 12:00:17   \n",
              "...                                    ...   \n",
              "35897                             08:00:00   \n",
              "35898                             11:00:00   \n",
              "35899                             07:00:00   \n",
              "35900                             04:00:00   \n",
              "35901                             02:00:00   \n",
              "\n",
              "      Entidad en que se le vio por ultima vez  \\\n",
              "1                                      SONORA   \n",
              "2                            ESTADO DE MEXICO   \n",
              "3                            ESTADO DE MEXICO   \n",
              "4                            ESTADO DE MEXICO   \n",
              "5                            ESTADO DE MEXICO   \n",
              "...                                       ...   \n",
              "35897                                  PUEBLA   \n",
              "35898                                  COLIMA   \n",
              "35899                                  PUEBLA   \n",
              "35900                                  COLIMA   \n",
              "35901                              NUEVO LEON   \n",
              "\n",
              "      Municipio en que se le vio por ultima vez  \\\n",
              "1                                       NAVOJOA   \n",
              "2                                VALLE DE BRAVO   \n",
              "3                                        CHALCO   \n",
              "4                           TLALNEPANTLA DE BAZ   \n",
              "5                                        TOLUCA   \n",
              "...                                         ...   \n",
              "35897                                    PUEBLA   \n",
              "35898                          VILLA DE ALVAREZ   \n",
              "35899                                     CHILA   \n",
              "35900                          VILLA DE ALVAREZ   \n",
              "35901                  SAN NICOLAS DE LOS GARZA   \n",
              "\n",
              "      Localidad en que se le vio por ultima vez Nacionalidad  Estatura  \\\n",
              "1                                       NAVOJOA     MEXICANA      1.10   \n",
              "2                                VALLE DE BRAVO     MEXICANA      1.10   \n",
              "3                                        CHALCO     MEXICANA      1.10   \n",
              "4                           TLALNEPANTLA DE BAZ     MEXICANA      1.10   \n",
              "5                                        TOLUCA     MEXICANA      1.10   \n",
              "...                                         ...          ...       ...   \n",
              "35897                                    PUEBLA     MEXICANA      1.60   \n",
              "35898                          VILLA DE ALVAREZ     MEXICANA      1.70   \n",
              "35899                      CHILAS DE LAS FLORES     MEXICANA      1.77   \n",
              "35900                          VILLA DE ALVAREZ     MEXICANA      1.76   \n",
              "35901                  SAN NICOLAS DE LOS GARZA     MEXICANA      1.60   \n",
              "\n",
              "      Complexion    Sexo  Edad  \\\n",
              "1        DELGADA   MUJER     7   \n",
              "2        DELGADA   MUJER     4   \n",
              "3        DELGADA  HOMBRE     6   \n",
              "4        DELGADA  HOMBRE    10   \n",
              "5        DELGADA  HOMBRE     4   \n",
              "...          ...     ...   ...   \n",
              "35897    DELGADA  HOMBRE    22   \n",
              "35898    ROBUSTA   MUJER    27   \n",
              "35899    MEDIANA   MUJER    86   \n",
              "35900    ROBUSTA  HOMBRE    41   \n",
              "35901    DELGADA   MUJER    14   \n",
              "\n",
              "                       Descripcion de senas particulares Discapacidad  \\\n",
              "1      TIENE UNA CICATRIZ EN LA RODILLA IZQUIERDA POR...      NINGUNO   \n",
              "2                                        NO ESPECIFICADO      NINGUNO   \n",
              "3      MANCHAS, PARTE SUPERIOR DE PIERNA DERECHA, CIC...      NINGUNO   \n",
              "4      LUNARES, A LA ALTURA DE LA CINTURAFORMA DE MAN...      NINGUNO   \n",
              "5                                        NO ESPECIFICADO      NINGUNO   \n",
              "...                                                  ...          ...   \n",
              "35897  LUNAR EN LA MEJILLA Y TATUAJE EN EL CUELLO EN ...      NINGUNO   \n",
              "35898  EL OJO IZQUIERDO TIENE UN ENFERMEDAD COMO TIC,...      NINGUNO   \n",
              "35899                                    NO ESPECIFICADO      NINGUNO   \n",
              "35900  TATUAJE EN EL BRAZO IZQUIERDO CON LA IMAGEN DE...      NINGUNO   \n",
              "35901                                    NO ESPECIFICADO      NINGUNO   \n",
              "\n",
              "      Dependencia que envio la informacion  \n",
              "1                             FGE - SONORA  \n",
              "2                   FGJ - ESTADO DE MEXICO  \n",
              "3                   FGJ - ESTADO DE MEXICO  \n",
              "4                   FGJ - ESTADO DE MEXICO  \n",
              "5                   FGJ - ESTADO DE MEXICO  \n",
              "...                                    ...  \n",
              "35897                         FGE - PUEBLA  \n",
              "35898                         PGJ - COLIMA  \n",
              "35899                         FGE - PUEBLA  \n",
              "35900                         PGJ - COLIMA  \n",
              "35901                     PGJ - NUEVO LEON  \n",
              "\n",
              "[35901 rows x 13 columns]"
            ],
            "text/html": [
              "\n",
              "  <div id=\"df-b9dbf6f4-97bd-463f-926b-4fb851b0bb8d\">\n",
              "    <div class=\"colab-df-container\">\n",
              "      <div>\n",
              "<style scoped>\n",
              "    .dataframe tbody tr th:only-of-type {\n",
              "        vertical-align: middle;\n",
              "    }\n",
              "\n",
              "    .dataframe tbody tr th {\n",
              "        vertical-align: top;\n",
              "    }\n",
              "\n",
              "    .dataframe thead th {\n",
              "        text-align: right;\n",
              "    }\n",
              "</style>\n",
              "<table border=\"1\" class=\"dataframe\">\n",
              "  <thead>\n",
              "    <tr style=\"text-align: right;\">\n",
              "      <th></th>\n",
              "      <th>Fecha en que se le vio por ultima vez</th>\n",
              "      <th>Hora en que se le vio por ultima vez</th>\n",
              "      <th>Entidad en que se le vio por ultima vez</th>\n",
              "      <th>Municipio en que se le vio por ultima vez</th>\n",
              "      <th>Localidad en que se le vio por ultima vez</th>\n",
              "      <th>Nacionalidad</th>\n",
              "      <th>Estatura</th>\n",
              "      <th>Complexion</th>\n",
              "      <th>Sexo</th>\n",
              "      <th>Edad</th>\n",
              "      <th>Descripcion de senas particulares</th>\n",
              "      <th>Discapacidad</th>\n",
              "      <th>Dependencia que envio la informacion</th>\n",
              "    </tr>\n",
              "  </thead>\n",
              "  <tbody>\n",
              "    <tr>\n",
              "      <th>1</th>\n",
              "      <td>2012-03-18</td>\n",
              "      <td>05:00:00</td>\n",
              "      <td>SONORA</td>\n",
              "      <td>NAVOJOA</td>\n",
              "      <td>NAVOJOA</td>\n",
              "      <td>MEXICANA</td>\n",
              "      <td>1.10</td>\n",
              "      <td>DELGADA</td>\n",
              "      <td>MUJER</td>\n",
              "      <td>7</td>\n",
              "      <td>TIENE UNA CICATRIZ EN LA RODILLA IZQUIERDA POR...</td>\n",
              "      <td>NINGUNO</td>\n",
              "      <td>FGE - SONORA</td>\n",
              "    </tr>\n",
              "    <tr>\n",
              "      <th>2</th>\n",
              "      <td>2007-02-05</td>\n",
              "      <td>02:00:26</td>\n",
              "      <td>ESTADO DE MEXICO</td>\n",
              "      <td>VALLE DE BRAVO</td>\n",
              "      <td>VALLE DE BRAVO</td>\n",
              "      <td>MEXICANA</td>\n",
              "      <td>1.10</td>\n",
              "      <td>DELGADA</td>\n",
              "      <td>MUJER</td>\n",
              "      <td>4</td>\n",
              "      <td>NO ESPECIFICADO</td>\n",
              "      <td>NINGUNO</td>\n",
              "      <td>FGJ - ESTADO DE MEXICO</td>\n",
              "    </tr>\n",
              "    <tr>\n",
              "      <th>3</th>\n",
              "      <td>2009-03-14</td>\n",
              "      <td>08:30:54</td>\n",
              "      <td>ESTADO DE MEXICO</td>\n",
              "      <td>CHALCO</td>\n",
              "      <td>CHALCO</td>\n",
              "      <td>MEXICANA</td>\n",
              "      <td>1.10</td>\n",
              "      <td>DELGADA</td>\n",
              "      <td>HOMBRE</td>\n",
              "      <td>6</td>\n",
              "      <td>MANCHAS, PARTE SUPERIOR DE PIERNA DERECHA, CIC...</td>\n",
              "      <td>NINGUNO</td>\n",
              "      <td>FGJ - ESTADO DE MEXICO</td>\n",
              "    </tr>\n",
              "    <tr>\n",
              "      <th>4</th>\n",
              "      <td>2006-12-23</td>\n",
              "      <td>08:00:28</td>\n",
              "      <td>ESTADO DE MEXICO</td>\n",
              "      <td>TLALNEPANTLA DE BAZ</td>\n",
              "      <td>TLALNEPANTLA DE BAZ</td>\n",
              "      <td>MEXICANA</td>\n",
              "      <td>1.10</td>\n",
              "      <td>DELGADA</td>\n",
              "      <td>HOMBRE</td>\n",
              "      <td>10</td>\n",
              "      <td>LUNARES, A LA ALTURA DE LA CINTURAFORMA DE MAN...</td>\n",
              "      <td>NINGUNO</td>\n",
              "      <td>FGJ - ESTADO DE MEXICO</td>\n",
              "    </tr>\n",
              "    <tr>\n",
              "      <th>5</th>\n",
              "      <td>2008-01-11</td>\n",
              "      <td>12:00:17</td>\n",
              "      <td>ESTADO DE MEXICO</td>\n",
              "      <td>TOLUCA</td>\n",
              "      <td>TOLUCA</td>\n",
              "      <td>MEXICANA</td>\n",
              "      <td>1.10</td>\n",
              "      <td>DELGADA</td>\n",
              "      <td>HOMBRE</td>\n",
              "      <td>4</td>\n",
              "      <td>NO ESPECIFICADO</td>\n",
              "      <td>NINGUNO</td>\n",
              "      <td>FGJ - ESTADO DE MEXICO</td>\n",
              "    </tr>\n",
              "    <tr>\n",
              "      <th>...</th>\n",
              "      <td>...</td>\n",
              "      <td>...</td>\n",
              "      <td>...</td>\n",
              "      <td>...</td>\n",
              "      <td>...</td>\n",
              "      <td>...</td>\n",
              "      <td>...</td>\n",
              "      <td>...</td>\n",
              "      <td>...</td>\n",
              "      <td>...</td>\n",
              "      <td>...</td>\n",
              "      <td>...</td>\n",
              "      <td>...</td>\n",
              "    </tr>\n",
              "    <tr>\n",
              "      <th>35897</th>\n",
              "      <td>2018-04-26</td>\n",
              "      <td>08:00:00</td>\n",
              "      <td>PUEBLA</td>\n",
              "      <td>PUEBLA</td>\n",
              "      <td>PUEBLA</td>\n",
              "      <td>MEXICANA</td>\n",
              "      <td>1.60</td>\n",
              "      <td>DELGADA</td>\n",
              "      <td>HOMBRE</td>\n",
              "      <td>22</td>\n",
              "      <td>LUNAR EN LA MEJILLA Y TATUAJE EN EL CUELLO EN ...</td>\n",
              "      <td>NINGUNO</td>\n",
              "      <td>FGE - PUEBLA</td>\n",
              "    </tr>\n",
              "    <tr>\n",
              "      <th>35898</th>\n",
              "      <td>2018-01-08</td>\n",
              "      <td>11:00:00</td>\n",
              "      <td>COLIMA</td>\n",
              "      <td>VILLA DE ALVAREZ</td>\n",
              "      <td>VILLA DE ALVAREZ</td>\n",
              "      <td>MEXICANA</td>\n",
              "      <td>1.70</td>\n",
              "      <td>ROBUSTA</td>\n",
              "      <td>MUJER</td>\n",
              "      <td>27</td>\n",
              "      <td>EL OJO IZQUIERDO TIENE UN ENFERMEDAD COMO TIC,...</td>\n",
              "      <td>NINGUNO</td>\n",
              "      <td>PGJ - COLIMA</td>\n",
              "    </tr>\n",
              "    <tr>\n",
              "      <th>35899</th>\n",
              "      <td>2015-02-02</td>\n",
              "      <td>07:00:00</td>\n",
              "      <td>PUEBLA</td>\n",
              "      <td>CHILA</td>\n",
              "      <td>CHILAS DE LAS FLORES</td>\n",
              "      <td>MEXICANA</td>\n",
              "      <td>1.77</td>\n",
              "      <td>MEDIANA</td>\n",
              "      <td>MUJER</td>\n",
              "      <td>86</td>\n",
              "      <td>NO ESPECIFICADO</td>\n",
              "      <td>NINGUNO</td>\n",
              "      <td>FGE - PUEBLA</td>\n",
              "    </tr>\n",
              "    <tr>\n",
              "      <th>35900</th>\n",
              "      <td>2017-08-22</td>\n",
              "      <td>04:00:00</td>\n",
              "      <td>COLIMA</td>\n",
              "      <td>VILLA DE ALVAREZ</td>\n",
              "      <td>VILLA DE ALVAREZ</td>\n",
              "      <td>MEXICANA</td>\n",
              "      <td>1.76</td>\n",
              "      <td>ROBUSTA</td>\n",
              "      <td>HOMBRE</td>\n",
              "      <td>41</td>\n",
              "      <td>TATUAJE EN EL BRAZO IZQUIERDO CON LA IMAGEN DE...</td>\n",
              "      <td>NINGUNO</td>\n",
              "      <td>PGJ - COLIMA</td>\n",
              "    </tr>\n",
              "    <tr>\n",
              "      <th>35901</th>\n",
              "      <td>2018-04-11</td>\n",
              "      <td>02:00:00</td>\n",
              "      <td>NUEVO LEON</td>\n",
              "      <td>SAN NICOLAS DE LOS GARZA</td>\n",
              "      <td>SAN NICOLAS DE LOS GARZA</td>\n",
              "      <td>MEXICANA</td>\n",
              "      <td>1.60</td>\n",
              "      <td>DELGADA</td>\n",
              "      <td>MUJER</td>\n",
              "      <td>14</td>\n",
              "      <td>NO ESPECIFICADO</td>\n",
              "      <td>NINGUNO</td>\n",
              "      <td>PGJ - NUEVO LEON</td>\n",
              "    </tr>\n",
              "  </tbody>\n",
              "</table>\n",
              "<p>35901 rows × 13 columns</p>\n",
              "</div>\n",
              "      <button class=\"colab-df-convert\" onclick=\"convertToInteractive('df-b9dbf6f4-97bd-463f-926b-4fb851b0bb8d')\"\n",
              "              title=\"Convert this dataframe to an interactive table.\"\n",
              "              style=\"display:none;\">\n",
              "        \n",
              "  <svg xmlns=\"http://www.w3.org/2000/svg\" height=\"24px\"viewBox=\"0 0 24 24\"\n",
              "       width=\"24px\">\n",
              "    <path d=\"M0 0h24v24H0V0z\" fill=\"none\"/>\n",
              "    <path d=\"M18.56 5.44l.94 2.06.94-2.06 2.06-.94-2.06-.94-.94-2.06-.94 2.06-2.06.94zm-11 1L8.5 8.5l.94-2.06 2.06-.94-2.06-.94L8.5 2.5l-.94 2.06-2.06.94zm10 10l.94 2.06.94-2.06 2.06-.94-2.06-.94-.94-2.06-.94 2.06-2.06.94z\"/><path d=\"M17.41 7.96l-1.37-1.37c-.4-.4-.92-.59-1.43-.59-.52 0-1.04.2-1.43.59L10.3 9.45l-7.72 7.72c-.78.78-.78 2.05 0 2.83L4 21.41c.39.39.9.59 1.41.59.51 0 1.02-.2 1.41-.59l7.78-7.78 2.81-2.81c.8-.78.8-2.07 0-2.86zM5.41 20L4 18.59l7.72-7.72 1.47 1.35L5.41 20z\"/>\n",
              "  </svg>\n",
              "      </button>\n",
              "      \n",
              "  <style>\n",
              "    .colab-df-container {\n",
              "      display:flex;\n",
              "      flex-wrap:wrap;\n",
              "      gap: 12px;\n",
              "    }\n",
              "\n",
              "    .colab-df-convert {\n",
              "      background-color: #E8F0FE;\n",
              "      border: none;\n",
              "      border-radius: 50%;\n",
              "      cursor: pointer;\n",
              "      display: none;\n",
              "      fill: #1967D2;\n",
              "      height: 32px;\n",
              "      padding: 0 0 0 0;\n",
              "      width: 32px;\n",
              "    }\n",
              "\n",
              "    .colab-df-convert:hover {\n",
              "      background-color: #E2EBFA;\n",
              "      box-shadow: 0px 1px 2px rgba(60, 64, 67, 0.3), 0px 1px 3px 1px rgba(60, 64, 67, 0.15);\n",
              "      fill: #174EA6;\n",
              "    }\n",
              "\n",
              "    [theme=dark] .colab-df-convert {\n",
              "      background-color: #3B4455;\n",
              "      fill: #D2E3FC;\n",
              "    }\n",
              "\n",
              "    [theme=dark] .colab-df-convert:hover {\n",
              "      background-color: #434B5C;\n",
              "      box-shadow: 0px 1px 3px 1px rgba(0, 0, 0, 0.15);\n",
              "      filter: drop-shadow(0px 1px 2px rgba(0, 0, 0, 0.3));\n",
              "      fill: #FFFFFF;\n",
              "    }\n",
              "  </style>\n",
              "\n",
              "      <script>\n",
              "        const buttonEl =\n",
              "          document.querySelector('#df-b9dbf6f4-97bd-463f-926b-4fb851b0bb8d button.colab-df-convert');\n",
              "        buttonEl.style.display =\n",
              "          google.colab.kernel.accessAllowed ? 'block' : 'none';\n",
              "\n",
              "        async function convertToInteractive(key) {\n",
              "          const element = document.querySelector('#df-b9dbf6f4-97bd-463f-926b-4fb851b0bb8d');\n",
              "          const dataTable =\n",
              "            await google.colab.kernel.invokeFunction('convertToInteractive',\n",
              "                                                     [key], {});\n",
              "          if (!dataTable) return;\n",
              "\n",
              "          const docLinkHtml = 'Like what you see? Visit the ' +\n",
              "            '<a target=\"_blank\" href=https://colab.research.google.com/notebooks/data_table.ipynb>data table notebook</a>'\n",
              "            + ' to learn more about interactive tables.';\n",
              "          element.innerHTML = '';\n",
              "          dataTable['output_type'] = 'display_data';\n",
              "          await google.colab.output.renderOutput(dataTable, element);\n",
              "          const docLink = document.createElement('div');\n",
              "          docLink.innerHTML = docLinkHtml;\n",
              "          element.appendChild(docLink);\n",
              "        }\n",
              "      </script>\n",
              "    </div>\n",
              "  </div>\n",
              "  "
            ]
          },
          "metadata": {},
          "execution_count": 63
        }
      ],
      "source": [
        "df"
      ]
    },
    {
      "cell_type": "markdown",
      "metadata": {
        "id": "da2YtOkJBete"
      },
      "source": [
        "> Ahora el número de filas ya no coincide con el índice del último registro y la indexación comienza desde 1. "
      ]
    },
    {
      "cell_type": "markdown",
      "metadata": {
        "id": "wt9F0IJ8Bete"
      },
      "source": [
        "### Renombrando columnas"
      ]
    },
    {
      "cell_type": "code",
      "execution_count": 64,
      "metadata": {
        "ExecuteTime": {
          "end_time": "2022-09-14T02:06:18.395000Z",
          "start_time": "2022-09-14T02:06:18.389267Z"
        },
        "colab": {
          "base_uri": "https://localhost:8080/"
        },
        "id": "X4UFwuV6Bete",
        "outputId": "53d9555c-ea10-4236-d34a-1126f7e02b4b"
      },
      "outputs": [
        {
          "output_type": "execute_result",
          "data": {
            "text/plain": [
              "Index(['Fecha en que se le vio por ultima vez',\n",
              "       'Hora en que se le vio por ultima vez',\n",
              "       'Entidad en que se le vio por ultima vez',\n",
              "       'Municipio en que se le vio por ultima vez',\n",
              "       'Localidad en que se le vio por ultima vez', 'Nacionalidad', 'Estatura',\n",
              "       'Complexion', 'Sexo', 'Edad', 'Descripcion de senas particulares',\n",
              "       'Discapacidad', 'Dependencia que envio la informacion'],\n",
              "      dtype='object')"
            ]
          },
          "metadata": {},
          "execution_count": 64
        }
      ],
      "source": [
        "df.columns"
      ]
    },
    {
      "cell_type": "markdown",
      "metadata": {
        "id": "zEW9c2jZBetf"
      },
      "source": [
        "> Observamos el nombre de las columnas, podemos estandarizar los nombres para cumplir la convención snake case."
      ]
    },
    {
      "cell_type": "markdown",
      "metadata": {
        "id": "cEO_HcqABetf"
      },
      "source": [
        "Construimos un diccionario con el mapeo de los nombres de las columnas esperados."
      ]
    },
    {
      "cell_type": "code",
      "execution_count": 65,
      "metadata": {
        "ExecuteTime": {
          "end_time": "2022-09-14T02:06:26.688669Z",
          "start_time": "2022-09-14T02:06:26.668534Z"
        },
        "colab": {
          "base_uri": "https://localhost:8080/",
          "height": 840
        },
        "id": "HwtdYIuMBetf",
        "outputId": "d49301bd-511c-4aa9-a944-9d9686eff278"
      },
      "outputs": [
        {
          "output_type": "execute_result",
          "data": {
            "text/plain": [
              "            fecha      hora           entidad                 municipio  \\\n",
              "1      2012-03-18  05:00:00            SONORA                   NAVOJOA   \n",
              "2      2007-02-05  02:00:26  ESTADO DE MEXICO            VALLE DE BRAVO   \n",
              "3      2009-03-14  08:30:54  ESTADO DE MEXICO                    CHALCO   \n",
              "4      2006-12-23  08:00:28  ESTADO DE MEXICO       TLALNEPANTLA DE BAZ   \n",
              "5      2008-01-11  12:00:17  ESTADO DE MEXICO                    TOLUCA   \n",
              "...           ...       ...               ...                       ...   \n",
              "35897  2018-04-26  08:00:00            PUEBLA                    PUEBLA   \n",
              "35898  2018-01-08  11:00:00            COLIMA          VILLA DE ALVAREZ   \n",
              "35899  2015-02-02  07:00:00            PUEBLA                     CHILA   \n",
              "35900  2017-08-22  04:00:00            COLIMA          VILLA DE ALVAREZ   \n",
              "35901  2018-04-11  02:00:00        NUEVO LEON  SAN NICOLAS DE LOS GARZA   \n",
              "\n",
              "                      localidad nacionalidad  estatura complexion    sexo  \\\n",
              "1                       NAVOJOA     MEXICANA      1.10    DELGADA   MUJER   \n",
              "2                VALLE DE BRAVO     MEXICANA      1.10    DELGADA   MUJER   \n",
              "3                        CHALCO     MEXICANA      1.10    DELGADA  HOMBRE   \n",
              "4           TLALNEPANTLA DE BAZ     MEXICANA      1.10    DELGADA  HOMBRE   \n",
              "5                        TOLUCA     MEXICANA      1.10    DELGADA  HOMBRE   \n",
              "...                         ...          ...       ...        ...     ...   \n",
              "35897                    PUEBLA     MEXICANA      1.60    DELGADA  HOMBRE   \n",
              "35898          VILLA DE ALVAREZ     MEXICANA      1.70    ROBUSTA   MUJER   \n",
              "35899      CHILAS DE LAS FLORES     MEXICANA      1.77    MEDIANA   MUJER   \n",
              "35900          VILLA DE ALVAREZ     MEXICANA      1.76    ROBUSTA  HOMBRE   \n",
              "35901  SAN NICOLAS DE LOS GARZA     MEXICANA      1.60    DELGADA   MUJER   \n",
              "\n",
              "       edad                                 senas_particulares discapacidad  \\\n",
              "1         7  TIENE UNA CICATRIZ EN LA RODILLA IZQUIERDA POR...      NINGUNO   \n",
              "2         4                                    NO ESPECIFICADO      NINGUNO   \n",
              "3         6  MANCHAS, PARTE SUPERIOR DE PIERNA DERECHA, CIC...      NINGUNO   \n",
              "4        10  LUNARES, A LA ALTURA DE LA CINTURAFORMA DE MAN...      NINGUNO   \n",
              "5         4                                    NO ESPECIFICADO      NINGUNO   \n",
              "...     ...                                                ...          ...   \n",
              "35897    22  LUNAR EN LA MEJILLA Y TATUAJE EN EL CUELLO EN ...      NINGUNO   \n",
              "35898    27  EL OJO IZQUIERDO TIENE UN ENFERMEDAD COMO TIC,...      NINGUNO   \n",
              "35899    86                                    NO ESPECIFICADO      NINGUNO   \n",
              "35900    41  TATUAJE EN EL BRAZO IZQUIERDO CON LA IMAGEN DE...      NINGUNO   \n",
              "35901    14                                    NO ESPECIFICADO      NINGUNO   \n",
              "\n",
              "            dependecia_origen  \n",
              "1                FGE - SONORA  \n",
              "2      FGJ - ESTADO DE MEXICO  \n",
              "3      FGJ - ESTADO DE MEXICO  \n",
              "4      FGJ - ESTADO DE MEXICO  \n",
              "5      FGJ - ESTADO DE MEXICO  \n",
              "...                       ...  \n",
              "35897            FGE - PUEBLA  \n",
              "35898            PGJ - COLIMA  \n",
              "35899            FGE - PUEBLA  \n",
              "35900            PGJ - COLIMA  \n",
              "35901        PGJ - NUEVO LEON  \n",
              "\n",
              "[35901 rows x 13 columns]"
            ],
            "text/html": [
              "\n",
              "  <div id=\"df-15699d61-19b9-4c1e-a686-39f4a5b9a2da\">\n",
              "    <div class=\"colab-df-container\">\n",
              "      <div>\n",
              "<style scoped>\n",
              "    .dataframe tbody tr th:only-of-type {\n",
              "        vertical-align: middle;\n",
              "    }\n",
              "\n",
              "    .dataframe tbody tr th {\n",
              "        vertical-align: top;\n",
              "    }\n",
              "\n",
              "    .dataframe thead th {\n",
              "        text-align: right;\n",
              "    }\n",
              "</style>\n",
              "<table border=\"1\" class=\"dataframe\">\n",
              "  <thead>\n",
              "    <tr style=\"text-align: right;\">\n",
              "      <th></th>\n",
              "      <th>fecha</th>\n",
              "      <th>hora</th>\n",
              "      <th>entidad</th>\n",
              "      <th>municipio</th>\n",
              "      <th>localidad</th>\n",
              "      <th>nacionalidad</th>\n",
              "      <th>estatura</th>\n",
              "      <th>complexion</th>\n",
              "      <th>sexo</th>\n",
              "      <th>edad</th>\n",
              "      <th>senas_particulares</th>\n",
              "      <th>discapacidad</th>\n",
              "      <th>dependecia_origen</th>\n",
              "    </tr>\n",
              "  </thead>\n",
              "  <tbody>\n",
              "    <tr>\n",
              "      <th>1</th>\n",
              "      <td>2012-03-18</td>\n",
              "      <td>05:00:00</td>\n",
              "      <td>SONORA</td>\n",
              "      <td>NAVOJOA</td>\n",
              "      <td>NAVOJOA</td>\n",
              "      <td>MEXICANA</td>\n",
              "      <td>1.10</td>\n",
              "      <td>DELGADA</td>\n",
              "      <td>MUJER</td>\n",
              "      <td>7</td>\n",
              "      <td>TIENE UNA CICATRIZ EN LA RODILLA IZQUIERDA POR...</td>\n",
              "      <td>NINGUNO</td>\n",
              "      <td>FGE - SONORA</td>\n",
              "    </tr>\n",
              "    <tr>\n",
              "      <th>2</th>\n",
              "      <td>2007-02-05</td>\n",
              "      <td>02:00:26</td>\n",
              "      <td>ESTADO DE MEXICO</td>\n",
              "      <td>VALLE DE BRAVO</td>\n",
              "      <td>VALLE DE BRAVO</td>\n",
              "      <td>MEXICANA</td>\n",
              "      <td>1.10</td>\n",
              "      <td>DELGADA</td>\n",
              "      <td>MUJER</td>\n",
              "      <td>4</td>\n",
              "      <td>NO ESPECIFICADO</td>\n",
              "      <td>NINGUNO</td>\n",
              "      <td>FGJ - ESTADO DE MEXICO</td>\n",
              "    </tr>\n",
              "    <tr>\n",
              "      <th>3</th>\n",
              "      <td>2009-03-14</td>\n",
              "      <td>08:30:54</td>\n",
              "      <td>ESTADO DE MEXICO</td>\n",
              "      <td>CHALCO</td>\n",
              "      <td>CHALCO</td>\n",
              "      <td>MEXICANA</td>\n",
              "      <td>1.10</td>\n",
              "      <td>DELGADA</td>\n",
              "      <td>HOMBRE</td>\n",
              "      <td>6</td>\n",
              "      <td>MANCHAS, PARTE SUPERIOR DE PIERNA DERECHA, CIC...</td>\n",
              "      <td>NINGUNO</td>\n",
              "      <td>FGJ - ESTADO DE MEXICO</td>\n",
              "    </tr>\n",
              "    <tr>\n",
              "      <th>4</th>\n",
              "      <td>2006-12-23</td>\n",
              "      <td>08:00:28</td>\n",
              "      <td>ESTADO DE MEXICO</td>\n",
              "      <td>TLALNEPANTLA DE BAZ</td>\n",
              "      <td>TLALNEPANTLA DE BAZ</td>\n",
              "      <td>MEXICANA</td>\n",
              "      <td>1.10</td>\n",
              "      <td>DELGADA</td>\n",
              "      <td>HOMBRE</td>\n",
              "      <td>10</td>\n",
              "      <td>LUNARES, A LA ALTURA DE LA CINTURAFORMA DE MAN...</td>\n",
              "      <td>NINGUNO</td>\n",
              "      <td>FGJ - ESTADO DE MEXICO</td>\n",
              "    </tr>\n",
              "    <tr>\n",
              "      <th>5</th>\n",
              "      <td>2008-01-11</td>\n",
              "      <td>12:00:17</td>\n",
              "      <td>ESTADO DE MEXICO</td>\n",
              "      <td>TOLUCA</td>\n",
              "      <td>TOLUCA</td>\n",
              "      <td>MEXICANA</td>\n",
              "      <td>1.10</td>\n",
              "      <td>DELGADA</td>\n",
              "      <td>HOMBRE</td>\n",
              "      <td>4</td>\n",
              "      <td>NO ESPECIFICADO</td>\n",
              "      <td>NINGUNO</td>\n",
              "      <td>FGJ - ESTADO DE MEXICO</td>\n",
              "    </tr>\n",
              "    <tr>\n",
              "      <th>...</th>\n",
              "      <td>...</td>\n",
              "      <td>...</td>\n",
              "      <td>...</td>\n",
              "      <td>...</td>\n",
              "      <td>...</td>\n",
              "      <td>...</td>\n",
              "      <td>...</td>\n",
              "      <td>...</td>\n",
              "      <td>...</td>\n",
              "      <td>...</td>\n",
              "      <td>...</td>\n",
              "      <td>...</td>\n",
              "      <td>...</td>\n",
              "    </tr>\n",
              "    <tr>\n",
              "      <th>35897</th>\n",
              "      <td>2018-04-26</td>\n",
              "      <td>08:00:00</td>\n",
              "      <td>PUEBLA</td>\n",
              "      <td>PUEBLA</td>\n",
              "      <td>PUEBLA</td>\n",
              "      <td>MEXICANA</td>\n",
              "      <td>1.60</td>\n",
              "      <td>DELGADA</td>\n",
              "      <td>HOMBRE</td>\n",
              "      <td>22</td>\n",
              "      <td>LUNAR EN LA MEJILLA Y TATUAJE EN EL CUELLO EN ...</td>\n",
              "      <td>NINGUNO</td>\n",
              "      <td>FGE - PUEBLA</td>\n",
              "    </tr>\n",
              "    <tr>\n",
              "      <th>35898</th>\n",
              "      <td>2018-01-08</td>\n",
              "      <td>11:00:00</td>\n",
              "      <td>COLIMA</td>\n",
              "      <td>VILLA DE ALVAREZ</td>\n",
              "      <td>VILLA DE ALVAREZ</td>\n",
              "      <td>MEXICANA</td>\n",
              "      <td>1.70</td>\n",
              "      <td>ROBUSTA</td>\n",
              "      <td>MUJER</td>\n",
              "      <td>27</td>\n",
              "      <td>EL OJO IZQUIERDO TIENE UN ENFERMEDAD COMO TIC,...</td>\n",
              "      <td>NINGUNO</td>\n",
              "      <td>PGJ - COLIMA</td>\n",
              "    </tr>\n",
              "    <tr>\n",
              "      <th>35899</th>\n",
              "      <td>2015-02-02</td>\n",
              "      <td>07:00:00</td>\n",
              "      <td>PUEBLA</td>\n",
              "      <td>CHILA</td>\n",
              "      <td>CHILAS DE LAS FLORES</td>\n",
              "      <td>MEXICANA</td>\n",
              "      <td>1.77</td>\n",
              "      <td>MEDIANA</td>\n",
              "      <td>MUJER</td>\n",
              "      <td>86</td>\n",
              "      <td>NO ESPECIFICADO</td>\n",
              "      <td>NINGUNO</td>\n",
              "      <td>FGE - PUEBLA</td>\n",
              "    </tr>\n",
              "    <tr>\n",
              "      <th>35900</th>\n",
              "      <td>2017-08-22</td>\n",
              "      <td>04:00:00</td>\n",
              "      <td>COLIMA</td>\n",
              "      <td>VILLA DE ALVAREZ</td>\n",
              "      <td>VILLA DE ALVAREZ</td>\n",
              "      <td>MEXICANA</td>\n",
              "      <td>1.76</td>\n",
              "      <td>ROBUSTA</td>\n",
              "      <td>HOMBRE</td>\n",
              "      <td>41</td>\n",
              "      <td>TATUAJE EN EL BRAZO IZQUIERDO CON LA IMAGEN DE...</td>\n",
              "      <td>NINGUNO</td>\n",
              "      <td>PGJ - COLIMA</td>\n",
              "    </tr>\n",
              "    <tr>\n",
              "      <th>35901</th>\n",
              "      <td>2018-04-11</td>\n",
              "      <td>02:00:00</td>\n",
              "      <td>NUEVO LEON</td>\n",
              "      <td>SAN NICOLAS DE LOS GARZA</td>\n",
              "      <td>SAN NICOLAS DE LOS GARZA</td>\n",
              "      <td>MEXICANA</td>\n",
              "      <td>1.60</td>\n",
              "      <td>DELGADA</td>\n",
              "      <td>MUJER</td>\n",
              "      <td>14</td>\n",
              "      <td>NO ESPECIFICADO</td>\n",
              "      <td>NINGUNO</td>\n",
              "      <td>PGJ - NUEVO LEON</td>\n",
              "    </tr>\n",
              "  </tbody>\n",
              "</table>\n",
              "<p>35901 rows × 13 columns</p>\n",
              "</div>\n",
              "      <button class=\"colab-df-convert\" onclick=\"convertToInteractive('df-15699d61-19b9-4c1e-a686-39f4a5b9a2da')\"\n",
              "              title=\"Convert this dataframe to an interactive table.\"\n",
              "              style=\"display:none;\">\n",
              "        \n",
              "  <svg xmlns=\"http://www.w3.org/2000/svg\" height=\"24px\"viewBox=\"0 0 24 24\"\n",
              "       width=\"24px\">\n",
              "    <path d=\"M0 0h24v24H0V0z\" fill=\"none\"/>\n",
              "    <path d=\"M18.56 5.44l.94 2.06.94-2.06 2.06-.94-2.06-.94-.94-2.06-.94 2.06-2.06.94zm-11 1L8.5 8.5l.94-2.06 2.06-.94-2.06-.94L8.5 2.5l-.94 2.06-2.06.94zm10 10l.94 2.06.94-2.06 2.06-.94-2.06-.94-.94-2.06-.94 2.06-2.06.94z\"/><path d=\"M17.41 7.96l-1.37-1.37c-.4-.4-.92-.59-1.43-.59-.52 0-1.04.2-1.43.59L10.3 9.45l-7.72 7.72c-.78.78-.78 2.05 0 2.83L4 21.41c.39.39.9.59 1.41.59.51 0 1.02-.2 1.41-.59l7.78-7.78 2.81-2.81c.8-.78.8-2.07 0-2.86zM5.41 20L4 18.59l7.72-7.72 1.47 1.35L5.41 20z\"/>\n",
              "  </svg>\n",
              "      </button>\n",
              "      \n",
              "  <style>\n",
              "    .colab-df-container {\n",
              "      display:flex;\n",
              "      flex-wrap:wrap;\n",
              "      gap: 12px;\n",
              "    }\n",
              "\n",
              "    .colab-df-convert {\n",
              "      background-color: #E8F0FE;\n",
              "      border: none;\n",
              "      border-radius: 50%;\n",
              "      cursor: pointer;\n",
              "      display: none;\n",
              "      fill: #1967D2;\n",
              "      height: 32px;\n",
              "      padding: 0 0 0 0;\n",
              "      width: 32px;\n",
              "    }\n",
              "\n",
              "    .colab-df-convert:hover {\n",
              "      background-color: #E2EBFA;\n",
              "      box-shadow: 0px 1px 2px rgba(60, 64, 67, 0.3), 0px 1px 3px 1px rgba(60, 64, 67, 0.15);\n",
              "      fill: #174EA6;\n",
              "    }\n",
              "\n",
              "    [theme=dark] .colab-df-convert {\n",
              "      background-color: #3B4455;\n",
              "      fill: #D2E3FC;\n",
              "    }\n",
              "\n",
              "    [theme=dark] .colab-df-convert:hover {\n",
              "      background-color: #434B5C;\n",
              "      box-shadow: 0px 1px 3px 1px rgba(0, 0, 0, 0.15);\n",
              "      filter: drop-shadow(0px 1px 2px rgba(0, 0, 0, 0.3));\n",
              "      fill: #FFFFFF;\n",
              "    }\n",
              "  </style>\n",
              "\n",
              "      <script>\n",
              "        const buttonEl =\n",
              "          document.querySelector('#df-15699d61-19b9-4c1e-a686-39f4a5b9a2da button.colab-df-convert');\n",
              "        buttonEl.style.display =\n",
              "          google.colab.kernel.accessAllowed ? 'block' : 'none';\n",
              "\n",
              "        async function convertToInteractive(key) {\n",
              "          const element = document.querySelector('#df-15699d61-19b9-4c1e-a686-39f4a5b9a2da');\n",
              "          const dataTable =\n",
              "            await google.colab.kernel.invokeFunction('convertToInteractive',\n",
              "                                                     [key], {});\n",
              "          if (!dataTable) return;\n",
              "\n",
              "          const docLinkHtml = 'Like what you see? Visit the ' +\n",
              "            '<a target=\"_blank\" href=https://colab.research.google.com/notebooks/data_table.ipynb>data table notebook</a>'\n",
              "            + ' to learn more about interactive tables.';\n",
              "          element.innerHTML = '';\n",
              "          dataTable['output_type'] = 'display_data';\n",
              "          await google.colab.output.renderOutput(dataTable, element);\n",
              "          const docLink = document.createElement('div');\n",
              "          docLink.innerHTML = docLinkHtml;\n",
              "          element.appendChild(docLink);\n",
              "        }\n",
              "      </script>\n",
              "    </div>\n",
              "  </div>\n",
              "  "
            ]
          },
          "metadata": {},
          "execution_count": 65
        }
      ],
      "source": [
        "column_name_mapping = {\n",
        "    'Fecha en que se le vio por ultima vez': 'fecha',\n",
        "    'Hora en que se le vio por ultima vez': 'hora',\n",
        "    'Entidad en que se le vio por ultima vez': 'entidad',\n",
        "    'Municipio en que se le vio por ultima vez': 'municipio',\n",
        "    'Localidad en que se le vio por ultima vez': 'localidad',\n",
        "    'Nacionalidad': 'nacionalidad',\n",
        "    'Estatura': 'estatura',\n",
        "    'Complexion': 'complexion',\n",
        "    'Sexo': 'sexo',\n",
        "    'Edad': 'edad',\n",
        "    'Descripcion de senas particulares': 'senas_particulares',\n",
        "    'Discapacidad': 'discapacidad',\n",
        "    'Dependencia que envio la informacion': 'dependecia_origen'\n",
        "    \n",
        "}\n",
        "\n",
        "df = df.rename(columns=column_name_mapping)\n",
        "df"
      ]
    },
    {
      "cell_type": "markdown",
      "metadata": {
        "id": "T6n9pLKCBetg"
      },
      "source": [
        "> Nuestros nombres se encuentran estandarizados y cumplen la convención snake case."
      ]
    },
    {
      "cell_type": "markdown",
      "metadata": {
        "id": "iLOl0zh-Betg"
      },
      "source": [
        "### Agregaciones"
      ]
    },
    {
      "cell_type": "markdown",
      "metadata": {
        "id": "iEkHrBohBeth"
      },
      "source": [
        "![image.png](attachment:image.png)"
      ]
    },
    {
      "cell_type": "code",
      "execution_count": 66,
      "metadata": {
        "ExecuteTime": {
          "end_time": "2022-09-14T02:07:40.280074Z",
          "start_time": "2022-09-14T02:07:40.256430Z"
        },
        "colab": {
          "base_uri": "https://localhost:8080/",
          "height": 175
        },
        "id": "5fNOo9sMBeth",
        "outputId": "fdbfd344-392a-4ec2-e8a1-7d66ad2e0e06"
      },
      "outputs": [
        {
          "output_type": "execute_result",
          "data": {
            "text/plain": [
              "            count       mean        std  min    25%    50%   75%     max\n",
              "estatura  35901.0   1.639094   0.136044  0.3   1.62   1.64   1.7    2.04\n",
              "edad      35901.0  30.549929  14.370017  1.0  21.00  28.00  38.0  103.00"
            ],
            "text/html": [
              "\n",
              "  <div id=\"df-f71fd317-8ce3-41fd-b754-955d5b643033\">\n",
              "    <div class=\"colab-df-container\">\n",
              "      <div>\n",
              "<style scoped>\n",
              "    .dataframe tbody tr th:only-of-type {\n",
              "        vertical-align: middle;\n",
              "    }\n",
              "\n",
              "    .dataframe tbody tr th {\n",
              "        vertical-align: top;\n",
              "    }\n",
              "\n",
              "    .dataframe thead th {\n",
              "        text-align: right;\n",
              "    }\n",
              "</style>\n",
              "<table border=\"1\" class=\"dataframe\">\n",
              "  <thead>\n",
              "    <tr style=\"text-align: right;\">\n",
              "      <th></th>\n",
              "      <th>count</th>\n",
              "      <th>mean</th>\n",
              "      <th>std</th>\n",
              "      <th>min</th>\n",
              "      <th>25%</th>\n",
              "      <th>50%</th>\n",
              "      <th>75%</th>\n",
              "      <th>max</th>\n",
              "    </tr>\n",
              "  </thead>\n",
              "  <tbody>\n",
              "    <tr>\n",
              "      <th>estatura</th>\n",
              "      <td>35901.0</td>\n",
              "      <td>1.639094</td>\n",
              "      <td>0.136044</td>\n",
              "      <td>0.3</td>\n",
              "      <td>1.62</td>\n",
              "      <td>1.64</td>\n",
              "      <td>1.7</td>\n",
              "      <td>2.04</td>\n",
              "    </tr>\n",
              "    <tr>\n",
              "      <th>edad</th>\n",
              "      <td>35901.0</td>\n",
              "      <td>30.549929</td>\n",
              "      <td>14.370017</td>\n",
              "      <td>1.0</td>\n",
              "      <td>21.00</td>\n",
              "      <td>28.00</td>\n",
              "      <td>38.0</td>\n",
              "      <td>103.00</td>\n",
              "    </tr>\n",
              "  </tbody>\n",
              "</table>\n",
              "</div>\n",
              "      <button class=\"colab-df-convert\" onclick=\"convertToInteractive('df-f71fd317-8ce3-41fd-b754-955d5b643033')\"\n",
              "              title=\"Convert this dataframe to an interactive table.\"\n",
              "              style=\"display:none;\">\n",
              "        \n",
              "  <svg xmlns=\"http://www.w3.org/2000/svg\" height=\"24px\"viewBox=\"0 0 24 24\"\n",
              "       width=\"24px\">\n",
              "    <path d=\"M0 0h24v24H0V0z\" fill=\"none\"/>\n",
              "    <path d=\"M18.56 5.44l.94 2.06.94-2.06 2.06-.94-2.06-.94-.94-2.06-.94 2.06-2.06.94zm-11 1L8.5 8.5l.94-2.06 2.06-.94-2.06-.94L8.5 2.5l-.94 2.06-2.06.94zm10 10l.94 2.06.94-2.06 2.06-.94-2.06-.94-.94-2.06-.94 2.06-2.06.94z\"/><path d=\"M17.41 7.96l-1.37-1.37c-.4-.4-.92-.59-1.43-.59-.52 0-1.04.2-1.43.59L10.3 9.45l-7.72 7.72c-.78.78-.78 2.05 0 2.83L4 21.41c.39.39.9.59 1.41.59.51 0 1.02-.2 1.41-.59l7.78-7.78 2.81-2.81c.8-.78.8-2.07 0-2.86zM5.41 20L4 18.59l7.72-7.72 1.47 1.35L5.41 20z\"/>\n",
              "  </svg>\n",
              "      </button>\n",
              "      \n",
              "  <style>\n",
              "    .colab-df-container {\n",
              "      display:flex;\n",
              "      flex-wrap:wrap;\n",
              "      gap: 12px;\n",
              "    }\n",
              "\n",
              "    .colab-df-convert {\n",
              "      background-color: #E8F0FE;\n",
              "      border: none;\n",
              "      border-radius: 50%;\n",
              "      cursor: pointer;\n",
              "      display: none;\n",
              "      fill: #1967D2;\n",
              "      height: 32px;\n",
              "      padding: 0 0 0 0;\n",
              "      width: 32px;\n",
              "    }\n",
              "\n",
              "    .colab-df-convert:hover {\n",
              "      background-color: #E2EBFA;\n",
              "      box-shadow: 0px 1px 2px rgba(60, 64, 67, 0.3), 0px 1px 3px 1px rgba(60, 64, 67, 0.15);\n",
              "      fill: #174EA6;\n",
              "    }\n",
              "\n",
              "    [theme=dark] .colab-df-convert {\n",
              "      background-color: #3B4455;\n",
              "      fill: #D2E3FC;\n",
              "    }\n",
              "\n",
              "    [theme=dark] .colab-df-convert:hover {\n",
              "      background-color: #434B5C;\n",
              "      box-shadow: 0px 1px 3px 1px rgba(0, 0, 0, 0.15);\n",
              "      filter: drop-shadow(0px 1px 2px rgba(0, 0, 0, 0.3));\n",
              "      fill: #FFFFFF;\n",
              "    }\n",
              "  </style>\n",
              "\n",
              "      <script>\n",
              "        const buttonEl =\n",
              "          document.querySelector('#df-f71fd317-8ce3-41fd-b754-955d5b643033 button.colab-df-convert');\n",
              "        buttonEl.style.display =\n",
              "          google.colab.kernel.accessAllowed ? 'block' : 'none';\n",
              "\n",
              "        async function convertToInteractive(key) {\n",
              "          const element = document.querySelector('#df-f71fd317-8ce3-41fd-b754-955d5b643033');\n",
              "          const dataTable =\n",
              "            await google.colab.kernel.invokeFunction('convertToInteractive',\n",
              "                                                     [key], {});\n",
              "          if (!dataTable) return;\n",
              "\n",
              "          const docLinkHtml = 'Like what you see? Visit the ' +\n",
              "            '<a target=\"_blank\" href=https://colab.research.google.com/notebooks/data_table.ipynb>data table notebook</a>'\n",
              "            + ' to learn more about interactive tables.';\n",
              "          element.innerHTML = '';\n",
              "          dataTable['output_type'] = 'display_data';\n",
              "          await google.colab.output.renderOutput(dataTable, element);\n",
              "          const docLink = document.createElement('div');\n",
              "          docLink.innerHTML = docLinkHtml;\n",
              "          element.appendChild(docLink);\n",
              "        }\n",
              "      </script>\n",
              "    </div>\n",
              "  </div>\n",
              "  "
            ]
          },
          "metadata": {},
          "execution_count": 66
        }
      ],
      "source": [
        "df.describe().T"
      ]
    },
    {
      "cell_type": "markdown",
      "metadata": {
        "id": "nORzelAKBeti"
      },
      "source": [
        "## Automatización y APIs"
      ]
    },
    {
      "cell_type": "markdown",
      "metadata": {
        "id": "8dE4n0FpBeti"
      },
      "source": [
        "    Puede que sea un API que complemente tu dataset original (eso sería lo mejor de lo mejor)\n",
        "\n",
        "     Puedes también explorar la posibilidad de automatizar algunos de los procesos de limpieza que has realizado con tu dataset. Si encuentras dónde podría ser útil y te animas a hacerlo, recuerda proteger tu código con estructuras try except para que la automatización no falle."
      ]
    },
    {
      "cell_type": "code",
      "execution_count": 66,
      "metadata": {
        "id": "5e-ZSkUPBetj"
      },
      "outputs": [],
      "source": []
    },
    {
      "cell_type": "markdown",
      "metadata": {
        "id": "tf1PVMsuBetj"
      },
      "source": [
        "## Transformación, filtración y ordenamiento de datos"
      ]
    },
    {
      "cell_type": "markdown",
      "metadata": {
        "id": "qV4drAdnBetk"
      },
      "source": [
        "\n",
        "    - Checa que todos tus datos tengan el tipo de dato correcto. Si no es así, usa casting para convertir tus datos al tipo de dato correcto (recuerda que tipos de dato como datetime64 se guardan como strings cuando están en archivos .csv, así que tendrás que convertirlos al tipo de dato apropiado cada vez que importes tu archivo.)\n",
        "    \n",
        "    - Si tienes columnas de texto, asegúrate de que todas tengan el formato correcto. Si no es así, utiliza las técnicas de manipulación de strings para darles el formato que necesitas.\n",
        "    \n",
        "    - Si consideras que alguna de tus columnas sería más clara si los datos tuvieran otro formato o representación usa map para transformar los datos de esa columna.\n",
        "    \n",
        "    - Si crees que es posible generar nuevas columnas útiles a partir de las columnas que ya tienes, usa apply para generar nuevos datos a partir de los que tienes y añádelos a tu dataset.\n",
        "    \n",
        "    - Con el fin de responder algunas de las preguntas que te planteaste acerca de tu dataset, usa filtros y sorting para crear nuevos subconjuntos y reordenamientos que sean más adecuados para responder tus preguntas. Primero comienza intentando responder las preguntas que te planteaste al principio, pero después puedes solamente explorar para ver si encuentras otras preguntas que no te habías planteado anteriormente.\n"
      ]
    },
    {
      "cell_type": "markdown",
      "metadata": {
        "id": "imXu4XHXBetk"
      },
      "source": [
        "### Casting"
      ]
    },
    {
      "cell_type": "markdown",
      "metadata": {
        "id": "v2Kh8SgBBetk"
      },
      "source": [
        "Observemos nuevamente nuestras columnas y su tipo de dato."
      ]
    },
    {
      "cell_type": "code",
      "execution_count": 67,
      "metadata": {
        "ExecuteTime": {
          "end_time": "2022-09-14T02:11:30.032029Z",
          "start_time": "2022-09-14T02:11:30.021368Z"
        },
        "scrolled": true,
        "colab": {
          "base_uri": "https://localhost:8080/"
        },
        "id": "H6lBrufZBetl",
        "outputId": "18da47f2-6f2a-4f5d-9e37-986092dbc592"
      },
      "outputs": [
        {
          "output_type": "execute_result",
          "data": {
            "text/plain": [
              "fecha                  object\n",
              "hora                   object\n",
              "entidad                object\n",
              "municipio              object\n",
              "localidad              object\n",
              "nacionalidad           object\n",
              "estatura              float64\n",
              "complexion             object\n",
              "sexo                   object\n",
              "edad                    int64\n",
              "senas_particulares     object\n",
              "discapacidad           object\n",
              "dependecia_origen      object\n",
              "dtype: object"
            ]
          },
          "metadata": {},
          "execution_count": 67
        }
      ],
      "source": [
        "df.dtypes"
      ]
    },
    {
      "cell_type": "markdown",
      "metadata": {
        "id": "s8yMprQuBetl"
      },
      "source": [
        "> Ya realizamos el casting correspondiente en nuestras variables numéricas 'estatura' y 'edad' pero aún tenemos dos columnas que tienen un tipo de dato incorrecto. "
      ]
    },
    {
      "cell_type": "markdown",
      "metadata": {
        "id": "D6WB0gqyBetl"
      },
      "source": [
        "Usaremos el método `astype` y un diccionario de conversión para cambiar el tipo de datos de las columnas 'fecha' y 'hora'."
      ]
    },
    {
      "cell_type": "code",
      "execution_count": 68,
      "metadata": {
        "ExecuteTime": {
          "end_time": "2022-09-14T02:11:54.785016Z",
          "start_time": "2022-09-14T02:11:54.782579Z"
        },
        "id": "elxetCc7Betl"
      },
      "outputs": [],
      "source": [
        "diccionario_de_conversion = {\n",
        "    'fecha': 'datetime64',\n",
        "    'hora': 'datetime64'\n",
        "}"
      ]
    },
    {
      "cell_type": "code",
      "execution_count": 69,
      "metadata": {
        "ExecuteTime": {
          "end_time": "2022-09-14T02:11:57.087426Z",
          "start_time": "2022-09-14T02:11:57.032578Z"
        },
        "id": "TrsnrZQfBetm"
      },
      "outputs": [],
      "source": [
        "df = df.astype(diccionario_de_conversion)"
      ]
    },
    {
      "cell_type": "code",
      "execution_count": 70,
      "metadata": {
        "ExecuteTime": {
          "end_time": "2022-09-14T02:11:58.986706Z",
          "start_time": "2022-09-14T02:11:58.982851Z"
        },
        "colab": {
          "base_uri": "https://localhost:8080/"
        },
        "id": "wt9YA-j1Betm",
        "outputId": "8cc0afdd-e56a-4a2e-edc0-8629c7a95648"
      },
      "outputs": [
        {
          "output_type": "execute_result",
          "data": {
            "text/plain": [
              "1       2012-03-18\n",
              "2       2007-02-05\n",
              "3       2009-03-14\n",
              "4       2006-12-23\n",
              "5       2008-01-11\n",
              "           ...    \n",
              "35897   2018-04-26\n",
              "35898   2018-01-08\n",
              "35899   2015-02-02\n",
              "35900   2017-08-22\n",
              "35901   2018-04-11\n",
              "Name: fecha, Length: 35901, dtype: datetime64[ns]"
            ]
          },
          "metadata": {},
          "execution_count": 70
        }
      ],
      "source": [
        "df['fecha']"
      ]
    },
    {
      "cell_type": "code",
      "execution_count": 71,
      "metadata": {
        "ExecuteTime": {
          "end_time": "2022-09-14T02:12:03.003948Z",
          "start_time": "2022-09-14T02:12:02.993647Z"
        },
        "colab": {
          "base_uri": "https://localhost:8080/"
        },
        "id": "eYGHPE5BBetm",
        "outputId": "01ae6404-38ed-432d-ffb2-1924039a1432"
      },
      "outputs": [
        {
          "output_type": "execute_result",
          "data": {
            "text/plain": [
              "1       2022-09-15 05:00:00\n",
              "2       2022-09-15 02:00:26\n",
              "3       2022-09-15 08:30:54\n",
              "4       2022-09-15 08:00:28\n",
              "5       2022-09-15 12:00:17\n",
              "                ...        \n",
              "35897   2022-09-15 08:00:00\n",
              "35898   2022-09-15 11:00:00\n",
              "35899   2022-09-15 07:00:00\n",
              "35900   2022-09-15 04:00:00\n",
              "35901   2022-09-15 02:00:00\n",
              "Name: hora, Length: 35901, dtype: datetime64[ns]"
            ]
          },
          "metadata": {},
          "execution_count": 71
        }
      ],
      "source": [
        "df['hora']"
      ]
    },
    {
      "cell_type": "markdown",
      "metadata": {
        "id": "JHAH1ZKEBetm"
      },
      "source": [
        "> Las variables fecha y hora ya son de tipo `datetime64`, sin embargo, a los valores de hora se les ha agregado la fecha actual, debemos corregir esto."
      ]
    },
    {
      "cell_type": "markdown",
      "metadata": {
        "id": "lPMGmE9nBetm"
      },
      "source": [
        "Extraemos únicamente el registro del tiempo de la columna 'hora'."
      ]
    },
    {
      "cell_type": "code",
      "execution_count": 72,
      "metadata": {
        "ExecuteTime": {
          "end_time": "2022-09-14T02:12:28.751131Z",
          "start_time": "2022-09-14T02:12:28.735310Z"
        },
        "colab": {
          "base_uri": "https://localhost:8080/"
        },
        "id": "iqQvEVYnBetn",
        "outputId": "20bd37ed-8b9b-46ef-c9aa-96b6537ec497"
      },
      "outputs": [
        {
          "output_type": "execute_result",
          "data": {
            "text/plain": [
              "1        05:00:00\n",
              "2        02:00:26\n",
              "3        08:30:54\n",
              "4        08:00:28\n",
              "5        12:00:17\n",
              "           ...   \n",
              "35897    08:00:00\n",
              "35898    11:00:00\n",
              "35899    07:00:00\n",
              "35900    04:00:00\n",
              "35901    02:00:00\n",
              "Name: hora, Length: 35901, dtype: object"
            ]
          },
          "metadata": {},
          "execution_count": 72
        }
      ],
      "source": [
        "df['hora'] = df['hora'].dt.time\n",
        "df['hora']"
      ]
    },
    {
      "cell_type": "code",
      "execution_count": 73,
      "metadata": {
        "ExecuteTime": {
          "end_time": "2022-09-14T02:13:05.799614Z",
          "start_time": "2022-09-14T02:13:05.794872Z"
        },
        "colab": {
          "base_uri": "https://localhost:8080/"
        },
        "id": "ZdemRTGgBetn",
        "outputId": "158c0bcc-5ecc-4a8e-fa4b-762d75044031"
      },
      "outputs": [
        {
          "output_type": "execute_result",
          "data": {
            "text/plain": [
              "fecha                 datetime64[ns]\n",
              "hora                          object\n",
              "entidad                       object\n",
              "municipio                     object\n",
              "localidad                     object\n",
              "nacionalidad                  object\n",
              "estatura                     float64\n",
              "complexion                    object\n",
              "sexo                          object\n",
              "edad                           int64\n",
              "senas_particulares            object\n",
              "discapacidad                  object\n",
              "dependecia_origen             object\n",
              "dtype: object"
            ]
          },
          "metadata": {},
          "execution_count": 73
        }
      ],
      "source": [
        "df.dtypes"
      ]
    },
    {
      "cell_type": "markdown",
      "metadata": {
        "id": "NRH9Aa0IBetn"
      },
      "source": [
        "> Vemos que el formato de 'fecha' ahora aparece como `datetime64[ns]`, en el caso de la columna 'hora' lo sigue mostrando como object porque es una extracción de  `datetime64[ns]`."
      ]
    },
    {
      "cell_type": "markdown",
      "metadata": {
        "ExecuteTime": {
          "end_time": "2022-09-14T00:40:37.260277Z",
          "start_time": "2022-09-14T00:40:37.256744Z"
        },
        "id": "TCHqvf4TBetn"
      },
      "source": [
        "### Manipulación de Strings"
      ]
    },
    {
      "cell_type": "code",
      "execution_count": 74,
      "metadata": {
        "ExecuteTime": {
          "end_time": "2022-09-14T02:13:35.900470Z",
          "start_time": "2022-09-14T02:13:35.888987Z"
        },
        "colab": {
          "base_uri": "https://localhost:8080/",
          "height": 325
        },
        "id": "uWH5KWQfBetn",
        "outputId": "e378be46-1588-4d09-e80a-d8f05a8bbb7b"
      },
      "outputs": [
        {
          "output_type": "execute_result",
          "data": {
            "text/plain": [
              "       fecha      hora           entidad       municipio       localidad  \\\n",
              "1 2012-03-18  05:00:00            SONORA         NAVOJOA         NAVOJOA   \n",
              "2 2007-02-05  02:00:26  ESTADO DE MEXICO  VALLE DE BRAVO  VALLE DE BRAVO   \n",
              "3 2009-03-14  08:30:54  ESTADO DE MEXICO          CHALCO          CHALCO   \n",
              "\n",
              "  nacionalidad  estatura complexion    sexo  edad  \\\n",
              "1     MEXICANA       1.1    DELGADA   MUJER     7   \n",
              "2     MEXICANA       1.1    DELGADA   MUJER     4   \n",
              "3     MEXICANA       1.1    DELGADA  HOMBRE     6   \n",
              "\n",
              "                                  senas_particulares discapacidad  \\\n",
              "1  TIENE UNA CICATRIZ EN LA RODILLA IZQUIERDA POR...      NINGUNO   \n",
              "2                                    NO ESPECIFICADO      NINGUNO   \n",
              "3  MANCHAS, PARTE SUPERIOR DE PIERNA DERECHA, CIC...      NINGUNO   \n",
              "\n",
              "        dependecia_origen  \n",
              "1            FGE - SONORA  \n",
              "2  FGJ - ESTADO DE MEXICO  \n",
              "3  FGJ - ESTADO DE MEXICO  "
            ],
            "text/html": [
              "\n",
              "  <div id=\"df-e2fea5c8-f87d-4845-9efb-eee95380e5fb\">\n",
              "    <div class=\"colab-df-container\">\n",
              "      <div>\n",
              "<style scoped>\n",
              "    .dataframe tbody tr th:only-of-type {\n",
              "        vertical-align: middle;\n",
              "    }\n",
              "\n",
              "    .dataframe tbody tr th {\n",
              "        vertical-align: top;\n",
              "    }\n",
              "\n",
              "    .dataframe thead th {\n",
              "        text-align: right;\n",
              "    }\n",
              "</style>\n",
              "<table border=\"1\" class=\"dataframe\">\n",
              "  <thead>\n",
              "    <tr style=\"text-align: right;\">\n",
              "      <th></th>\n",
              "      <th>fecha</th>\n",
              "      <th>hora</th>\n",
              "      <th>entidad</th>\n",
              "      <th>municipio</th>\n",
              "      <th>localidad</th>\n",
              "      <th>nacionalidad</th>\n",
              "      <th>estatura</th>\n",
              "      <th>complexion</th>\n",
              "      <th>sexo</th>\n",
              "      <th>edad</th>\n",
              "      <th>senas_particulares</th>\n",
              "      <th>discapacidad</th>\n",
              "      <th>dependecia_origen</th>\n",
              "    </tr>\n",
              "  </thead>\n",
              "  <tbody>\n",
              "    <tr>\n",
              "      <th>1</th>\n",
              "      <td>2012-03-18</td>\n",
              "      <td>05:00:00</td>\n",
              "      <td>SONORA</td>\n",
              "      <td>NAVOJOA</td>\n",
              "      <td>NAVOJOA</td>\n",
              "      <td>MEXICANA</td>\n",
              "      <td>1.1</td>\n",
              "      <td>DELGADA</td>\n",
              "      <td>MUJER</td>\n",
              "      <td>7</td>\n",
              "      <td>TIENE UNA CICATRIZ EN LA RODILLA IZQUIERDA POR...</td>\n",
              "      <td>NINGUNO</td>\n",
              "      <td>FGE - SONORA</td>\n",
              "    </tr>\n",
              "    <tr>\n",
              "      <th>2</th>\n",
              "      <td>2007-02-05</td>\n",
              "      <td>02:00:26</td>\n",
              "      <td>ESTADO DE MEXICO</td>\n",
              "      <td>VALLE DE BRAVO</td>\n",
              "      <td>VALLE DE BRAVO</td>\n",
              "      <td>MEXICANA</td>\n",
              "      <td>1.1</td>\n",
              "      <td>DELGADA</td>\n",
              "      <td>MUJER</td>\n",
              "      <td>4</td>\n",
              "      <td>NO ESPECIFICADO</td>\n",
              "      <td>NINGUNO</td>\n",
              "      <td>FGJ - ESTADO DE MEXICO</td>\n",
              "    </tr>\n",
              "    <tr>\n",
              "      <th>3</th>\n",
              "      <td>2009-03-14</td>\n",
              "      <td>08:30:54</td>\n",
              "      <td>ESTADO DE MEXICO</td>\n",
              "      <td>CHALCO</td>\n",
              "      <td>CHALCO</td>\n",
              "      <td>MEXICANA</td>\n",
              "      <td>1.1</td>\n",
              "      <td>DELGADA</td>\n",
              "      <td>HOMBRE</td>\n",
              "      <td>6</td>\n",
              "      <td>MANCHAS, PARTE SUPERIOR DE PIERNA DERECHA, CIC...</td>\n",
              "      <td>NINGUNO</td>\n",
              "      <td>FGJ - ESTADO DE MEXICO</td>\n",
              "    </tr>\n",
              "  </tbody>\n",
              "</table>\n",
              "</div>\n",
              "      <button class=\"colab-df-convert\" onclick=\"convertToInteractive('df-e2fea5c8-f87d-4845-9efb-eee95380e5fb')\"\n",
              "              title=\"Convert this dataframe to an interactive table.\"\n",
              "              style=\"display:none;\">\n",
              "        \n",
              "  <svg xmlns=\"http://www.w3.org/2000/svg\" height=\"24px\"viewBox=\"0 0 24 24\"\n",
              "       width=\"24px\">\n",
              "    <path d=\"M0 0h24v24H0V0z\" fill=\"none\"/>\n",
              "    <path d=\"M18.56 5.44l.94 2.06.94-2.06 2.06-.94-2.06-.94-.94-2.06-.94 2.06-2.06.94zm-11 1L8.5 8.5l.94-2.06 2.06-.94-2.06-.94L8.5 2.5l-.94 2.06-2.06.94zm10 10l.94 2.06.94-2.06 2.06-.94-2.06-.94-.94-2.06-.94 2.06-2.06.94z\"/><path d=\"M17.41 7.96l-1.37-1.37c-.4-.4-.92-.59-1.43-.59-.52 0-1.04.2-1.43.59L10.3 9.45l-7.72 7.72c-.78.78-.78 2.05 0 2.83L4 21.41c.39.39.9.59 1.41.59.51 0 1.02-.2 1.41-.59l7.78-7.78 2.81-2.81c.8-.78.8-2.07 0-2.86zM5.41 20L4 18.59l7.72-7.72 1.47 1.35L5.41 20z\"/>\n",
              "  </svg>\n",
              "      </button>\n",
              "      \n",
              "  <style>\n",
              "    .colab-df-container {\n",
              "      display:flex;\n",
              "      flex-wrap:wrap;\n",
              "      gap: 12px;\n",
              "    }\n",
              "\n",
              "    .colab-df-convert {\n",
              "      background-color: #E8F0FE;\n",
              "      border: none;\n",
              "      border-radius: 50%;\n",
              "      cursor: pointer;\n",
              "      display: none;\n",
              "      fill: #1967D2;\n",
              "      height: 32px;\n",
              "      padding: 0 0 0 0;\n",
              "      width: 32px;\n",
              "    }\n",
              "\n",
              "    .colab-df-convert:hover {\n",
              "      background-color: #E2EBFA;\n",
              "      box-shadow: 0px 1px 2px rgba(60, 64, 67, 0.3), 0px 1px 3px 1px rgba(60, 64, 67, 0.15);\n",
              "      fill: #174EA6;\n",
              "    }\n",
              "\n",
              "    [theme=dark] .colab-df-convert {\n",
              "      background-color: #3B4455;\n",
              "      fill: #D2E3FC;\n",
              "    }\n",
              "\n",
              "    [theme=dark] .colab-df-convert:hover {\n",
              "      background-color: #434B5C;\n",
              "      box-shadow: 0px 1px 3px 1px rgba(0, 0, 0, 0.15);\n",
              "      filter: drop-shadow(0px 1px 2px rgba(0, 0, 0, 0.3));\n",
              "      fill: #FFFFFF;\n",
              "    }\n",
              "  </style>\n",
              "\n",
              "      <script>\n",
              "        const buttonEl =\n",
              "          document.querySelector('#df-e2fea5c8-f87d-4845-9efb-eee95380e5fb button.colab-df-convert');\n",
              "        buttonEl.style.display =\n",
              "          google.colab.kernel.accessAllowed ? 'block' : 'none';\n",
              "\n",
              "        async function convertToInteractive(key) {\n",
              "          const element = document.querySelector('#df-e2fea5c8-f87d-4845-9efb-eee95380e5fb');\n",
              "          const dataTable =\n",
              "            await google.colab.kernel.invokeFunction('convertToInteractive',\n",
              "                                                     [key], {});\n",
              "          if (!dataTable) return;\n",
              "\n",
              "          const docLinkHtml = 'Like what you see? Visit the ' +\n",
              "            '<a target=\"_blank\" href=https://colab.research.google.com/notebooks/data_table.ipynb>data table notebook</a>'\n",
              "            + ' to learn more about interactive tables.';\n",
              "          element.innerHTML = '';\n",
              "          dataTable['output_type'] = 'display_data';\n",
              "          await google.colab.output.renderOutput(dataTable, element);\n",
              "          const docLink = document.createElement('div');\n",
              "          docLink.innerHTML = docLinkHtml;\n",
              "          element.appendChild(docLink);\n",
              "        }\n",
              "      </script>\n",
              "    </div>\n",
              "  </div>\n",
              "  "
            ]
          },
          "metadata": {},
          "execution_count": 74
        }
      ],
      "source": [
        "df.head(3)"
      ]
    },
    {
      "cell_type": "markdown",
      "metadata": {
        "id": "nXZT7_WTBeto"
      },
      "source": [
        "Los textos de nuestras variables de tipo `string` están en mayúsculas. Vamos a modificar el patrón iniciando con mayúscula la primera letra de cada palabra."
      ]
    },
    {
      "cell_type": "code",
      "execution_count": 75,
      "metadata": {
        "ExecuteTime": {
          "end_time": "2022-09-14T02:14:06.816839Z",
          "start_time": "2022-09-14T02:14:06.727895Z"
        },
        "id": "muZeWqu2Beto"
      },
      "outputs": [],
      "source": [
        "columnas = ['entidad', 'municipio', 'localidad', 'nacionalidad', 'complexion', 'sexo', 'senas_particulares', 'discapacidad']\n",
        "\n",
        "for col in columnas:\n",
        "    df[col] = df[col].str.title()"
      ]
    },
    {
      "cell_type": "markdown",
      "metadata": {
        "id": "PamtbY6qBeto"
      },
      "source": [
        "En el caso de los valores de dependencia origen nos encontramos con las siglas de las dependencias, por lo tanto, debemos mantenerlas de esta forma. Podemos extraer las letras correspondientes a las siglas y aplicar `.str.title()` únicamente en el resto del texto."
      ]
    },
    {
      "cell_type": "code",
      "execution_count": 76,
      "metadata": {
        "ExecuteTime": {
          "end_time": "2022-09-14T02:14:48.562278Z",
          "start_time": "2022-09-14T02:14:48.528223Z"
        },
        "id": "RxbVBh7tBeto"
      },
      "outputs": [],
      "source": [
        "df['dependecia_origen'] = df['dependecia_origen'].str[:6] + df['dependecia_origen'].str[6:].str.title()"
      ]
    },
    {
      "cell_type": "code",
      "execution_count": 77,
      "metadata": {
        "ExecuteTime": {
          "end_time": "2022-09-14T02:14:50.735070Z",
          "start_time": "2022-09-14T02:14:50.716590Z"
        },
        "scrolled": false,
        "colab": {
          "base_uri": "https://localhost:8080/",
          "height": 806
        },
        "id": "oI1-dShPBeto",
        "outputId": "2188e076-b8fc-43de-e6ef-34f98971f61c"
      },
      "outputs": [
        {
          "output_type": "execute_result",
          "data": {
            "text/plain": [
              "           fecha      hora           entidad                 municipio  \\\n",
              "1     2012-03-18  05:00:00            Sonora                   Navojoa   \n",
              "2     2007-02-05  02:00:26  Estado De Mexico            Valle De Bravo   \n",
              "3     2009-03-14  08:30:54  Estado De Mexico                    Chalco   \n",
              "4     2006-12-23  08:00:28  Estado De Mexico       Tlalnepantla De Baz   \n",
              "5     2008-01-11  12:00:17  Estado De Mexico                    Toluca   \n",
              "...          ...       ...               ...                       ...   \n",
              "35897 2018-04-26  08:00:00            Puebla                    Puebla   \n",
              "35898 2018-01-08  11:00:00            Colima          Villa De Alvarez   \n",
              "35899 2015-02-02  07:00:00            Puebla                     Chila   \n",
              "35900 2017-08-22  04:00:00            Colima          Villa De Alvarez   \n",
              "35901 2018-04-11  02:00:00        Nuevo Leon  San Nicolas De Los Garza   \n",
              "\n",
              "                      localidad nacionalidad  estatura complexion    sexo  \\\n",
              "1                       Navojoa     Mexicana      1.10    Delgada   Mujer   \n",
              "2                Valle De Bravo     Mexicana      1.10    Delgada   Mujer   \n",
              "3                        Chalco     Mexicana      1.10    Delgada  Hombre   \n",
              "4           Tlalnepantla De Baz     Mexicana      1.10    Delgada  Hombre   \n",
              "5                        Toluca     Mexicana      1.10    Delgada  Hombre   \n",
              "...                         ...          ...       ...        ...     ...   \n",
              "35897                    Puebla     Mexicana      1.60    Delgada  Hombre   \n",
              "35898          Villa De Alvarez     Mexicana      1.70    Robusta   Mujer   \n",
              "35899      Chilas De Las Flores     Mexicana      1.77    Mediana   Mujer   \n",
              "35900          Villa De Alvarez     Mexicana      1.76    Robusta  Hombre   \n",
              "35901  San Nicolas De Los Garza     Mexicana      1.60    Delgada   Mujer   \n",
              "\n",
              "       edad                                 senas_particulares discapacidad  \\\n",
              "1         7  Tiene Una Cicatriz En La Rodilla Izquierda Por...      Ninguno   \n",
              "2         4                                    No Especificado      Ninguno   \n",
              "3         6  Manchas, Parte Superior De Pierna Derecha, Cic...      Ninguno   \n",
              "4        10  Lunares, A La Altura De La Cinturaforma De Man...      Ninguno   \n",
              "5         4                                    No Especificado      Ninguno   \n",
              "...     ...                                                ...          ...   \n",
              "35897    22  Lunar En La Mejilla Y Tatuaje En El Cuello En ...      Ninguno   \n",
              "35898    27  El Ojo Izquierdo Tiene Un Enfermedad Como Tic,...      Ninguno   \n",
              "35899    86                                    No Especificado      Ninguno   \n",
              "35900    41  Tatuaje En El Brazo Izquierdo Con La Imagen De...      Ninguno   \n",
              "35901    14                                    No Especificado      Ninguno   \n",
              "\n",
              "            dependecia_origen  \n",
              "1                FGE - Sonora  \n",
              "2      FGJ - Estado De Mexico  \n",
              "3      FGJ - Estado De Mexico  \n",
              "4      FGJ - Estado De Mexico  \n",
              "5      FGJ - Estado De Mexico  \n",
              "...                       ...  \n",
              "35897            FGE - Puebla  \n",
              "35898            PGJ - Colima  \n",
              "35899            FGE - Puebla  \n",
              "35900            PGJ - Colima  \n",
              "35901        PGJ - Nuevo Leon  \n",
              "\n",
              "[35901 rows x 13 columns]"
            ],
            "text/html": [
              "\n",
              "  <div id=\"df-206e9050-3f9f-46b7-9c02-d22a1e9215ee\">\n",
              "    <div class=\"colab-df-container\">\n",
              "      <div>\n",
              "<style scoped>\n",
              "    .dataframe tbody tr th:only-of-type {\n",
              "        vertical-align: middle;\n",
              "    }\n",
              "\n",
              "    .dataframe tbody tr th {\n",
              "        vertical-align: top;\n",
              "    }\n",
              "\n",
              "    .dataframe thead th {\n",
              "        text-align: right;\n",
              "    }\n",
              "</style>\n",
              "<table border=\"1\" class=\"dataframe\">\n",
              "  <thead>\n",
              "    <tr style=\"text-align: right;\">\n",
              "      <th></th>\n",
              "      <th>fecha</th>\n",
              "      <th>hora</th>\n",
              "      <th>entidad</th>\n",
              "      <th>municipio</th>\n",
              "      <th>localidad</th>\n",
              "      <th>nacionalidad</th>\n",
              "      <th>estatura</th>\n",
              "      <th>complexion</th>\n",
              "      <th>sexo</th>\n",
              "      <th>edad</th>\n",
              "      <th>senas_particulares</th>\n",
              "      <th>discapacidad</th>\n",
              "      <th>dependecia_origen</th>\n",
              "    </tr>\n",
              "  </thead>\n",
              "  <tbody>\n",
              "    <tr>\n",
              "      <th>1</th>\n",
              "      <td>2012-03-18</td>\n",
              "      <td>05:00:00</td>\n",
              "      <td>Sonora</td>\n",
              "      <td>Navojoa</td>\n",
              "      <td>Navojoa</td>\n",
              "      <td>Mexicana</td>\n",
              "      <td>1.10</td>\n",
              "      <td>Delgada</td>\n",
              "      <td>Mujer</td>\n",
              "      <td>7</td>\n",
              "      <td>Tiene Una Cicatriz En La Rodilla Izquierda Por...</td>\n",
              "      <td>Ninguno</td>\n",
              "      <td>FGE - Sonora</td>\n",
              "    </tr>\n",
              "    <tr>\n",
              "      <th>2</th>\n",
              "      <td>2007-02-05</td>\n",
              "      <td>02:00:26</td>\n",
              "      <td>Estado De Mexico</td>\n",
              "      <td>Valle De Bravo</td>\n",
              "      <td>Valle De Bravo</td>\n",
              "      <td>Mexicana</td>\n",
              "      <td>1.10</td>\n",
              "      <td>Delgada</td>\n",
              "      <td>Mujer</td>\n",
              "      <td>4</td>\n",
              "      <td>No Especificado</td>\n",
              "      <td>Ninguno</td>\n",
              "      <td>FGJ - Estado De Mexico</td>\n",
              "    </tr>\n",
              "    <tr>\n",
              "      <th>3</th>\n",
              "      <td>2009-03-14</td>\n",
              "      <td>08:30:54</td>\n",
              "      <td>Estado De Mexico</td>\n",
              "      <td>Chalco</td>\n",
              "      <td>Chalco</td>\n",
              "      <td>Mexicana</td>\n",
              "      <td>1.10</td>\n",
              "      <td>Delgada</td>\n",
              "      <td>Hombre</td>\n",
              "      <td>6</td>\n",
              "      <td>Manchas, Parte Superior De Pierna Derecha, Cic...</td>\n",
              "      <td>Ninguno</td>\n",
              "      <td>FGJ - Estado De Mexico</td>\n",
              "    </tr>\n",
              "    <tr>\n",
              "      <th>4</th>\n",
              "      <td>2006-12-23</td>\n",
              "      <td>08:00:28</td>\n",
              "      <td>Estado De Mexico</td>\n",
              "      <td>Tlalnepantla De Baz</td>\n",
              "      <td>Tlalnepantla De Baz</td>\n",
              "      <td>Mexicana</td>\n",
              "      <td>1.10</td>\n",
              "      <td>Delgada</td>\n",
              "      <td>Hombre</td>\n",
              "      <td>10</td>\n",
              "      <td>Lunares, A La Altura De La Cinturaforma De Man...</td>\n",
              "      <td>Ninguno</td>\n",
              "      <td>FGJ - Estado De Mexico</td>\n",
              "    </tr>\n",
              "    <tr>\n",
              "      <th>5</th>\n",
              "      <td>2008-01-11</td>\n",
              "      <td>12:00:17</td>\n",
              "      <td>Estado De Mexico</td>\n",
              "      <td>Toluca</td>\n",
              "      <td>Toluca</td>\n",
              "      <td>Mexicana</td>\n",
              "      <td>1.10</td>\n",
              "      <td>Delgada</td>\n",
              "      <td>Hombre</td>\n",
              "      <td>4</td>\n",
              "      <td>No Especificado</td>\n",
              "      <td>Ninguno</td>\n",
              "      <td>FGJ - Estado De Mexico</td>\n",
              "    </tr>\n",
              "    <tr>\n",
              "      <th>...</th>\n",
              "      <td>...</td>\n",
              "      <td>...</td>\n",
              "      <td>...</td>\n",
              "      <td>...</td>\n",
              "      <td>...</td>\n",
              "      <td>...</td>\n",
              "      <td>...</td>\n",
              "      <td>...</td>\n",
              "      <td>...</td>\n",
              "      <td>...</td>\n",
              "      <td>...</td>\n",
              "      <td>...</td>\n",
              "      <td>...</td>\n",
              "    </tr>\n",
              "    <tr>\n",
              "      <th>35897</th>\n",
              "      <td>2018-04-26</td>\n",
              "      <td>08:00:00</td>\n",
              "      <td>Puebla</td>\n",
              "      <td>Puebla</td>\n",
              "      <td>Puebla</td>\n",
              "      <td>Mexicana</td>\n",
              "      <td>1.60</td>\n",
              "      <td>Delgada</td>\n",
              "      <td>Hombre</td>\n",
              "      <td>22</td>\n",
              "      <td>Lunar En La Mejilla Y Tatuaje En El Cuello En ...</td>\n",
              "      <td>Ninguno</td>\n",
              "      <td>FGE - Puebla</td>\n",
              "    </tr>\n",
              "    <tr>\n",
              "      <th>35898</th>\n",
              "      <td>2018-01-08</td>\n",
              "      <td>11:00:00</td>\n",
              "      <td>Colima</td>\n",
              "      <td>Villa De Alvarez</td>\n",
              "      <td>Villa De Alvarez</td>\n",
              "      <td>Mexicana</td>\n",
              "      <td>1.70</td>\n",
              "      <td>Robusta</td>\n",
              "      <td>Mujer</td>\n",
              "      <td>27</td>\n",
              "      <td>El Ojo Izquierdo Tiene Un Enfermedad Como Tic,...</td>\n",
              "      <td>Ninguno</td>\n",
              "      <td>PGJ - Colima</td>\n",
              "    </tr>\n",
              "    <tr>\n",
              "      <th>35899</th>\n",
              "      <td>2015-02-02</td>\n",
              "      <td>07:00:00</td>\n",
              "      <td>Puebla</td>\n",
              "      <td>Chila</td>\n",
              "      <td>Chilas De Las Flores</td>\n",
              "      <td>Mexicana</td>\n",
              "      <td>1.77</td>\n",
              "      <td>Mediana</td>\n",
              "      <td>Mujer</td>\n",
              "      <td>86</td>\n",
              "      <td>No Especificado</td>\n",
              "      <td>Ninguno</td>\n",
              "      <td>FGE - Puebla</td>\n",
              "    </tr>\n",
              "    <tr>\n",
              "      <th>35900</th>\n",
              "      <td>2017-08-22</td>\n",
              "      <td>04:00:00</td>\n",
              "      <td>Colima</td>\n",
              "      <td>Villa De Alvarez</td>\n",
              "      <td>Villa De Alvarez</td>\n",
              "      <td>Mexicana</td>\n",
              "      <td>1.76</td>\n",
              "      <td>Robusta</td>\n",
              "      <td>Hombre</td>\n",
              "      <td>41</td>\n",
              "      <td>Tatuaje En El Brazo Izquierdo Con La Imagen De...</td>\n",
              "      <td>Ninguno</td>\n",
              "      <td>PGJ - Colima</td>\n",
              "    </tr>\n",
              "    <tr>\n",
              "      <th>35901</th>\n",
              "      <td>2018-04-11</td>\n",
              "      <td>02:00:00</td>\n",
              "      <td>Nuevo Leon</td>\n",
              "      <td>San Nicolas De Los Garza</td>\n",
              "      <td>San Nicolas De Los Garza</td>\n",
              "      <td>Mexicana</td>\n",
              "      <td>1.60</td>\n",
              "      <td>Delgada</td>\n",
              "      <td>Mujer</td>\n",
              "      <td>14</td>\n",
              "      <td>No Especificado</td>\n",
              "      <td>Ninguno</td>\n",
              "      <td>PGJ - Nuevo Leon</td>\n",
              "    </tr>\n",
              "  </tbody>\n",
              "</table>\n",
              "<p>35901 rows × 13 columns</p>\n",
              "</div>\n",
              "      <button class=\"colab-df-convert\" onclick=\"convertToInteractive('df-206e9050-3f9f-46b7-9c02-d22a1e9215ee')\"\n",
              "              title=\"Convert this dataframe to an interactive table.\"\n",
              "              style=\"display:none;\">\n",
              "        \n",
              "  <svg xmlns=\"http://www.w3.org/2000/svg\" height=\"24px\"viewBox=\"0 0 24 24\"\n",
              "       width=\"24px\">\n",
              "    <path d=\"M0 0h24v24H0V0z\" fill=\"none\"/>\n",
              "    <path d=\"M18.56 5.44l.94 2.06.94-2.06 2.06-.94-2.06-.94-.94-2.06-.94 2.06-2.06.94zm-11 1L8.5 8.5l.94-2.06 2.06-.94-2.06-.94L8.5 2.5l-.94 2.06-2.06.94zm10 10l.94 2.06.94-2.06 2.06-.94-2.06-.94-.94-2.06-.94 2.06-2.06.94z\"/><path d=\"M17.41 7.96l-1.37-1.37c-.4-.4-.92-.59-1.43-.59-.52 0-1.04.2-1.43.59L10.3 9.45l-7.72 7.72c-.78.78-.78 2.05 0 2.83L4 21.41c.39.39.9.59 1.41.59.51 0 1.02-.2 1.41-.59l7.78-7.78 2.81-2.81c.8-.78.8-2.07 0-2.86zM5.41 20L4 18.59l7.72-7.72 1.47 1.35L5.41 20z\"/>\n",
              "  </svg>\n",
              "      </button>\n",
              "      \n",
              "  <style>\n",
              "    .colab-df-container {\n",
              "      display:flex;\n",
              "      flex-wrap:wrap;\n",
              "      gap: 12px;\n",
              "    }\n",
              "\n",
              "    .colab-df-convert {\n",
              "      background-color: #E8F0FE;\n",
              "      border: none;\n",
              "      border-radius: 50%;\n",
              "      cursor: pointer;\n",
              "      display: none;\n",
              "      fill: #1967D2;\n",
              "      height: 32px;\n",
              "      padding: 0 0 0 0;\n",
              "      width: 32px;\n",
              "    }\n",
              "\n",
              "    .colab-df-convert:hover {\n",
              "      background-color: #E2EBFA;\n",
              "      box-shadow: 0px 1px 2px rgba(60, 64, 67, 0.3), 0px 1px 3px 1px rgba(60, 64, 67, 0.15);\n",
              "      fill: #174EA6;\n",
              "    }\n",
              "\n",
              "    [theme=dark] .colab-df-convert {\n",
              "      background-color: #3B4455;\n",
              "      fill: #D2E3FC;\n",
              "    }\n",
              "\n",
              "    [theme=dark] .colab-df-convert:hover {\n",
              "      background-color: #434B5C;\n",
              "      box-shadow: 0px 1px 3px 1px rgba(0, 0, 0, 0.15);\n",
              "      filter: drop-shadow(0px 1px 2px rgba(0, 0, 0, 0.3));\n",
              "      fill: #FFFFFF;\n",
              "    }\n",
              "  </style>\n",
              "\n",
              "      <script>\n",
              "        const buttonEl =\n",
              "          document.querySelector('#df-206e9050-3f9f-46b7-9c02-d22a1e9215ee button.colab-df-convert');\n",
              "        buttonEl.style.display =\n",
              "          google.colab.kernel.accessAllowed ? 'block' : 'none';\n",
              "\n",
              "        async function convertToInteractive(key) {\n",
              "          const element = document.querySelector('#df-206e9050-3f9f-46b7-9c02-d22a1e9215ee');\n",
              "          const dataTable =\n",
              "            await google.colab.kernel.invokeFunction('convertToInteractive',\n",
              "                                                     [key], {});\n",
              "          if (!dataTable) return;\n",
              "\n",
              "          const docLinkHtml = 'Like what you see? Visit the ' +\n",
              "            '<a target=\"_blank\" href=https://colab.research.google.com/notebooks/data_table.ipynb>data table notebook</a>'\n",
              "            + ' to learn more about interactive tables.';\n",
              "          element.innerHTML = '';\n",
              "          dataTable['output_type'] = 'display_data';\n",
              "          await google.colab.output.renderOutput(dataTable, element);\n",
              "          const docLink = document.createElement('div');\n",
              "          docLink.innerHTML = docLinkHtml;\n",
              "          element.appendChild(docLink);\n",
              "        }\n",
              "      </script>\n",
              "    </div>\n",
              "  </div>\n",
              "  "
            ]
          },
          "metadata": {},
          "execution_count": 77
        }
      ],
      "source": [
        "df"
      ]
    },
    {
      "cell_type": "markdown",
      "source": [
        "Dado que la información ya está en el formato deseado, podemos empezar a crear nuevas columnas y segmentar el `DataFrame` para contestar las preguntas descritas en el proyecto"
      ],
      "metadata": {
        "id": "0scBa7eeABat"
      }
    },
    {
      "cell_type": "markdown",
      "source": [
        "**¿En qué parte del país desaparecen más personas?**\n",
        "\n",
        "---\n",
        "\n"
      ],
      "metadata": {
        "id": "J0uN8ELOBWom"
      }
    },
    {
      "cell_type": "markdown",
      "source": [
        "Para poder contestar esta pregunta simplemente hacemos una agrupación de los casos de desaparecidos por entidad."
      ],
      "metadata": {
        "id": "zd1QEWpMBa3Q"
      }
    },
    {
      "cell_type": "code",
      "execution_count": 78,
      "metadata": {
        "ExecuteTime": {
          "end_time": "2022-09-14T02:30:34.612654Z",
          "start_time": "2022-09-14T02:30:34.594753Z"
        },
        "colab": {
          "base_uri": "https://localhost:8080/",
          "height": 1000
        },
        "id": "ErUYnmWQBetp",
        "outputId": "61e36744-3fff-4aff-e549-96ab8ed00d49"
      },
      "outputs": [
        {
          "output_type": "execute_result",
          "data": {
            "text/plain": [
              "                 entidad  total\n",
              "0                 Sonora   2150\n",
              "1       Estado De Mexico   3890\n",
              "2              Chihuahua   2181\n",
              "3               Tlaxcala     24\n",
              "4                 Colima    592\n",
              "5                Morelos    239\n",
              "6                Hidalgo    145\n",
              "7                Durango    415\n",
              "8              Queretaro    283\n",
              "9             Guanajuato    615\n",
              "10               Sinaloa   3023\n",
              "11            Nuevo Leon   2895\n",
              "12               Jalisco   3361\n",
              "13             Zacatecas    510\n",
              "14   Baja California Sur     39\n",
              "15       Baja California    865\n",
              "16        Aguascalientes    222\n",
              "17       San Luis Potosi     96\n",
              "18                Puebla   2066\n",
              "19              Campeche     34\n",
              "20                Oaxaca    190\n",
              "21              Veracruz    520\n",
              "22  Coahuila De Zaragoza   1714\n",
              "23            Tamaulipas   5987\n",
              "24             Michoacan   1207\n",
              "25               Yucatan     99\n",
              "26              Guerrero   1438\n",
              "27               Tabasco     67\n",
              "28      Ciudad De Mexico    727\n",
              "29          Quintana Roo     61\n",
              "30               Chiapas    108\n",
              "31               Nayarit    138"
            ],
            "text/html": [
              "\n",
              "  <div id=\"df-ba481c63-5f15-457d-a587-21ca39814b81\">\n",
              "    <div class=\"colab-df-container\">\n",
              "      <div>\n",
              "<style scoped>\n",
              "    .dataframe tbody tr th:only-of-type {\n",
              "        vertical-align: middle;\n",
              "    }\n",
              "\n",
              "    .dataframe tbody tr th {\n",
              "        vertical-align: top;\n",
              "    }\n",
              "\n",
              "    .dataframe thead th {\n",
              "        text-align: right;\n",
              "    }\n",
              "</style>\n",
              "<table border=\"1\" class=\"dataframe\">\n",
              "  <thead>\n",
              "    <tr style=\"text-align: right;\">\n",
              "      <th></th>\n",
              "      <th>entidad</th>\n",
              "      <th>total</th>\n",
              "    </tr>\n",
              "  </thead>\n",
              "  <tbody>\n",
              "    <tr>\n",
              "      <th>0</th>\n",
              "      <td>Sonora</td>\n",
              "      <td>2150</td>\n",
              "    </tr>\n",
              "    <tr>\n",
              "      <th>1</th>\n",
              "      <td>Estado De Mexico</td>\n",
              "      <td>3890</td>\n",
              "    </tr>\n",
              "    <tr>\n",
              "      <th>2</th>\n",
              "      <td>Chihuahua</td>\n",
              "      <td>2181</td>\n",
              "    </tr>\n",
              "    <tr>\n",
              "      <th>3</th>\n",
              "      <td>Tlaxcala</td>\n",
              "      <td>24</td>\n",
              "    </tr>\n",
              "    <tr>\n",
              "      <th>4</th>\n",
              "      <td>Colima</td>\n",
              "      <td>592</td>\n",
              "    </tr>\n",
              "    <tr>\n",
              "      <th>5</th>\n",
              "      <td>Morelos</td>\n",
              "      <td>239</td>\n",
              "    </tr>\n",
              "    <tr>\n",
              "      <th>6</th>\n",
              "      <td>Hidalgo</td>\n",
              "      <td>145</td>\n",
              "    </tr>\n",
              "    <tr>\n",
              "      <th>7</th>\n",
              "      <td>Durango</td>\n",
              "      <td>415</td>\n",
              "    </tr>\n",
              "    <tr>\n",
              "      <th>8</th>\n",
              "      <td>Queretaro</td>\n",
              "      <td>283</td>\n",
              "    </tr>\n",
              "    <tr>\n",
              "      <th>9</th>\n",
              "      <td>Guanajuato</td>\n",
              "      <td>615</td>\n",
              "    </tr>\n",
              "    <tr>\n",
              "      <th>10</th>\n",
              "      <td>Sinaloa</td>\n",
              "      <td>3023</td>\n",
              "    </tr>\n",
              "    <tr>\n",
              "      <th>11</th>\n",
              "      <td>Nuevo Leon</td>\n",
              "      <td>2895</td>\n",
              "    </tr>\n",
              "    <tr>\n",
              "      <th>12</th>\n",
              "      <td>Jalisco</td>\n",
              "      <td>3361</td>\n",
              "    </tr>\n",
              "    <tr>\n",
              "      <th>13</th>\n",
              "      <td>Zacatecas</td>\n",
              "      <td>510</td>\n",
              "    </tr>\n",
              "    <tr>\n",
              "      <th>14</th>\n",
              "      <td>Baja California Sur</td>\n",
              "      <td>39</td>\n",
              "    </tr>\n",
              "    <tr>\n",
              "      <th>15</th>\n",
              "      <td>Baja California</td>\n",
              "      <td>865</td>\n",
              "    </tr>\n",
              "    <tr>\n",
              "      <th>16</th>\n",
              "      <td>Aguascalientes</td>\n",
              "      <td>222</td>\n",
              "    </tr>\n",
              "    <tr>\n",
              "      <th>17</th>\n",
              "      <td>San Luis Potosi</td>\n",
              "      <td>96</td>\n",
              "    </tr>\n",
              "    <tr>\n",
              "      <th>18</th>\n",
              "      <td>Puebla</td>\n",
              "      <td>2066</td>\n",
              "    </tr>\n",
              "    <tr>\n",
              "      <th>19</th>\n",
              "      <td>Campeche</td>\n",
              "      <td>34</td>\n",
              "    </tr>\n",
              "    <tr>\n",
              "      <th>20</th>\n",
              "      <td>Oaxaca</td>\n",
              "      <td>190</td>\n",
              "    </tr>\n",
              "    <tr>\n",
              "      <th>21</th>\n",
              "      <td>Veracruz</td>\n",
              "      <td>520</td>\n",
              "    </tr>\n",
              "    <tr>\n",
              "      <th>22</th>\n",
              "      <td>Coahuila De Zaragoza</td>\n",
              "      <td>1714</td>\n",
              "    </tr>\n",
              "    <tr>\n",
              "      <th>23</th>\n",
              "      <td>Tamaulipas</td>\n",
              "      <td>5987</td>\n",
              "    </tr>\n",
              "    <tr>\n",
              "      <th>24</th>\n",
              "      <td>Michoacan</td>\n",
              "      <td>1207</td>\n",
              "    </tr>\n",
              "    <tr>\n",
              "      <th>25</th>\n",
              "      <td>Yucatan</td>\n",
              "      <td>99</td>\n",
              "    </tr>\n",
              "    <tr>\n",
              "      <th>26</th>\n",
              "      <td>Guerrero</td>\n",
              "      <td>1438</td>\n",
              "    </tr>\n",
              "    <tr>\n",
              "      <th>27</th>\n",
              "      <td>Tabasco</td>\n",
              "      <td>67</td>\n",
              "    </tr>\n",
              "    <tr>\n",
              "      <th>28</th>\n",
              "      <td>Ciudad De Mexico</td>\n",
              "      <td>727</td>\n",
              "    </tr>\n",
              "    <tr>\n",
              "      <th>29</th>\n",
              "      <td>Quintana Roo</td>\n",
              "      <td>61</td>\n",
              "    </tr>\n",
              "    <tr>\n",
              "      <th>30</th>\n",
              "      <td>Chiapas</td>\n",
              "      <td>108</td>\n",
              "    </tr>\n",
              "    <tr>\n",
              "      <th>31</th>\n",
              "      <td>Nayarit</td>\n",
              "      <td>138</td>\n",
              "    </tr>\n",
              "  </tbody>\n",
              "</table>\n",
              "</div>\n",
              "      <button class=\"colab-df-convert\" onclick=\"convertToInteractive('df-ba481c63-5f15-457d-a587-21ca39814b81')\"\n",
              "              title=\"Convert this dataframe to an interactive table.\"\n",
              "              style=\"display:none;\">\n",
              "        \n",
              "  <svg xmlns=\"http://www.w3.org/2000/svg\" height=\"24px\"viewBox=\"0 0 24 24\"\n",
              "       width=\"24px\">\n",
              "    <path d=\"M0 0h24v24H0V0z\" fill=\"none\"/>\n",
              "    <path d=\"M18.56 5.44l.94 2.06.94-2.06 2.06-.94-2.06-.94-.94-2.06-.94 2.06-2.06.94zm-11 1L8.5 8.5l.94-2.06 2.06-.94-2.06-.94L8.5 2.5l-.94 2.06-2.06.94zm10 10l.94 2.06.94-2.06 2.06-.94-2.06-.94-.94-2.06-.94 2.06-2.06.94z\"/><path d=\"M17.41 7.96l-1.37-1.37c-.4-.4-.92-.59-1.43-.59-.52 0-1.04.2-1.43.59L10.3 9.45l-7.72 7.72c-.78.78-.78 2.05 0 2.83L4 21.41c.39.39.9.59 1.41.59.51 0 1.02-.2 1.41-.59l7.78-7.78 2.81-2.81c.8-.78.8-2.07 0-2.86zM5.41 20L4 18.59l7.72-7.72 1.47 1.35L5.41 20z\"/>\n",
              "  </svg>\n",
              "      </button>\n",
              "      \n",
              "  <style>\n",
              "    .colab-df-container {\n",
              "      display:flex;\n",
              "      flex-wrap:wrap;\n",
              "      gap: 12px;\n",
              "    }\n",
              "\n",
              "    .colab-df-convert {\n",
              "      background-color: #E8F0FE;\n",
              "      border: none;\n",
              "      border-radius: 50%;\n",
              "      cursor: pointer;\n",
              "      display: none;\n",
              "      fill: #1967D2;\n",
              "      height: 32px;\n",
              "      padding: 0 0 0 0;\n",
              "      width: 32px;\n",
              "    }\n",
              "\n",
              "    .colab-df-convert:hover {\n",
              "      background-color: #E2EBFA;\n",
              "      box-shadow: 0px 1px 2px rgba(60, 64, 67, 0.3), 0px 1px 3px 1px rgba(60, 64, 67, 0.15);\n",
              "      fill: #174EA6;\n",
              "    }\n",
              "\n",
              "    [theme=dark] .colab-df-convert {\n",
              "      background-color: #3B4455;\n",
              "      fill: #D2E3FC;\n",
              "    }\n",
              "\n",
              "    [theme=dark] .colab-df-convert:hover {\n",
              "      background-color: #434B5C;\n",
              "      box-shadow: 0px 1px 3px 1px rgba(0, 0, 0, 0.15);\n",
              "      filter: drop-shadow(0px 1px 2px rgba(0, 0, 0, 0.3));\n",
              "      fill: #FFFFFF;\n",
              "    }\n",
              "  </style>\n",
              "\n",
              "      <script>\n",
              "        const buttonEl =\n",
              "          document.querySelector('#df-ba481c63-5f15-457d-a587-21ca39814b81 button.colab-df-convert');\n",
              "        buttonEl.style.display =\n",
              "          google.colab.kernel.accessAllowed ? 'block' : 'none';\n",
              "\n",
              "        async function convertToInteractive(key) {\n",
              "          const element = document.querySelector('#df-ba481c63-5f15-457d-a587-21ca39814b81');\n",
              "          const dataTable =\n",
              "            await google.colab.kernel.invokeFunction('convertToInteractive',\n",
              "                                                     [key], {});\n",
              "          if (!dataTable) return;\n",
              "\n",
              "          const docLinkHtml = 'Like what you see? Visit the ' +\n",
              "            '<a target=\"_blank\" href=https://colab.research.google.com/notebooks/data_table.ipynb>data table notebook</a>'\n",
              "            + ' to learn more about interactive tables.';\n",
              "          element.innerHTML = '';\n",
              "          dataTable['output_type'] = 'display_data';\n",
              "          await google.colab.output.renderOutput(dataTable, element);\n",
              "          const docLink = document.createElement('div');\n",
              "          docLink.innerHTML = docLinkHtml;\n",
              "          element.appendChild(docLink);\n",
              "        }\n",
              "      </script>\n",
              "    </div>\n",
              "  </div>\n",
              "  "
            ]
          },
          "metadata": {},
          "execution_count": 78
        }
      ],
      "source": [
        "df_entidad= df.groupby(['entidad'], sort=False).size().reset_index(name='total')\n",
        "df_entidad"
      ]
    },
    {
      "cell_type": "markdown",
      "source": [
        "Una vez generado el nuevo `DataFrame`, buscamos el valor máximo."
      ],
      "metadata": {
        "id": "0B2HXIcSDVPE"
      }
    },
    {
      "cell_type": "code",
      "source": [
        "df_entidad.sort_values('total', ascending=False)"
      ],
      "metadata": {
        "colab": {
          "base_uri": "https://localhost:8080/",
          "height": 1000
        },
        "id": "0_DXjvcHDIek",
        "outputId": "3c024e5c-5133-46c9-fb06-6fbb5b28bc7b"
      },
      "execution_count": 79,
      "outputs": [
        {
          "output_type": "execute_result",
          "data": {
            "text/plain": [
              "                 entidad  total\n",
              "23            Tamaulipas   5987\n",
              "1       Estado De Mexico   3890\n",
              "12               Jalisco   3361\n",
              "10               Sinaloa   3023\n",
              "11            Nuevo Leon   2895\n",
              "2              Chihuahua   2181\n",
              "0                 Sonora   2150\n",
              "18                Puebla   2066\n",
              "22  Coahuila De Zaragoza   1714\n",
              "26              Guerrero   1438\n",
              "24             Michoacan   1207\n",
              "15       Baja California    865\n",
              "28      Ciudad De Mexico    727\n",
              "9             Guanajuato    615\n",
              "4                 Colima    592\n",
              "21              Veracruz    520\n",
              "13             Zacatecas    510\n",
              "7                Durango    415\n",
              "8              Queretaro    283\n",
              "5                Morelos    239\n",
              "16        Aguascalientes    222\n",
              "20                Oaxaca    190\n",
              "6                Hidalgo    145\n",
              "31               Nayarit    138\n",
              "30               Chiapas    108\n",
              "25               Yucatan     99\n",
              "17       San Luis Potosi     96\n",
              "27               Tabasco     67\n",
              "29          Quintana Roo     61\n",
              "14   Baja California Sur     39\n",
              "19              Campeche     34\n",
              "3               Tlaxcala     24"
            ],
            "text/html": [
              "\n",
              "  <div id=\"df-95b2fa79-54f0-4684-9dd2-6c0eeaeb010a\">\n",
              "    <div class=\"colab-df-container\">\n",
              "      <div>\n",
              "<style scoped>\n",
              "    .dataframe tbody tr th:only-of-type {\n",
              "        vertical-align: middle;\n",
              "    }\n",
              "\n",
              "    .dataframe tbody tr th {\n",
              "        vertical-align: top;\n",
              "    }\n",
              "\n",
              "    .dataframe thead th {\n",
              "        text-align: right;\n",
              "    }\n",
              "</style>\n",
              "<table border=\"1\" class=\"dataframe\">\n",
              "  <thead>\n",
              "    <tr style=\"text-align: right;\">\n",
              "      <th></th>\n",
              "      <th>entidad</th>\n",
              "      <th>total</th>\n",
              "    </tr>\n",
              "  </thead>\n",
              "  <tbody>\n",
              "    <tr>\n",
              "      <th>23</th>\n",
              "      <td>Tamaulipas</td>\n",
              "      <td>5987</td>\n",
              "    </tr>\n",
              "    <tr>\n",
              "      <th>1</th>\n",
              "      <td>Estado De Mexico</td>\n",
              "      <td>3890</td>\n",
              "    </tr>\n",
              "    <tr>\n",
              "      <th>12</th>\n",
              "      <td>Jalisco</td>\n",
              "      <td>3361</td>\n",
              "    </tr>\n",
              "    <tr>\n",
              "      <th>10</th>\n",
              "      <td>Sinaloa</td>\n",
              "      <td>3023</td>\n",
              "    </tr>\n",
              "    <tr>\n",
              "      <th>11</th>\n",
              "      <td>Nuevo Leon</td>\n",
              "      <td>2895</td>\n",
              "    </tr>\n",
              "    <tr>\n",
              "      <th>2</th>\n",
              "      <td>Chihuahua</td>\n",
              "      <td>2181</td>\n",
              "    </tr>\n",
              "    <tr>\n",
              "      <th>0</th>\n",
              "      <td>Sonora</td>\n",
              "      <td>2150</td>\n",
              "    </tr>\n",
              "    <tr>\n",
              "      <th>18</th>\n",
              "      <td>Puebla</td>\n",
              "      <td>2066</td>\n",
              "    </tr>\n",
              "    <tr>\n",
              "      <th>22</th>\n",
              "      <td>Coahuila De Zaragoza</td>\n",
              "      <td>1714</td>\n",
              "    </tr>\n",
              "    <tr>\n",
              "      <th>26</th>\n",
              "      <td>Guerrero</td>\n",
              "      <td>1438</td>\n",
              "    </tr>\n",
              "    <tr>\n",
              "      <th>24</th>\n",
              "      <td>Michoacan</td>\n",
              "      <td>1207</td>\n",
              "    </tr>\n",
              "    <tr>\n",
              "      <th>15</th>\n",
              "      <td>Baja California</td>\n",
              "      <td>865</td>\n",
              "    </tr>\n",
              "    <tr>\n",
              "      <th>28</th>\n",
              "      <td>Ciudad De Mexico</td>\n",
              "      <td>727</td>\n",
              "    </tr>\n",
              "    <tr>\n",
              "      <th>9</th>\n",
              "      <td>Guanajuato</td>\n",
              "      <td>615</td>\n",
              "    </tr>\n",
              "    <tr>\n",
              "      <th>4</th>\n",
              "      <td>Colima</td>\n",
              "      <td>592</td>\n",
              "    </tr>\n",
              "    <tr>\n",
              "      <th>21</th>\n",
              "      <td>Veracruz</td>\n",
              "      <td>520</td>\n",
              "    </tr>\n",
              "    <tr>\n",
              "      <th>13</th>\n",
              "      <td>Zacatecas</td>\n",
              "      <td>510</td>\n",
              "    </tr>\n",
              "    <tr>\n",
              "      <th>7</th>\n",
              "      <td>Durango</td>\n",
              "      <td>415</td>\n",
              "    </tr>\n",
              "    <tr>\n",
              "      <th>8</th>\n",
              "      <td>Queretaro</td>\n",
              "      <td>283</td>\n",
              "    </tr>\n",
              "    <tr>\n",
              "      <th>5</th>\n",
              "      <td>Morelos</td>\n",
              "      <td>239</td>\n",
              "    </tr>\n",
              "    <tr>\n",
              "      <th>16</th>\n",
              "      <td>Aguascalientes</td>\n",
              "      <td>222</td>\n",
              "    </tr>\n",
              "    <tr>\n",
              "      <th>20</th>\n",
              "      <td>Oaxaca</td>\n",
              "      <td>190</td>\n",
              "    </tr>\n",
              "    <tr>\n",
              "      <th>6</th>\n",
              "      <td>Hidalgo</td>\n",
              "      <td>145</td>\n",
              "    </tr>\n",
              "    <tr>\n",
              "      <th>31</th>\n",
              "      <td>Nayarit</td>\n",
              "      <td>138</td>\n",
              "    </tr>\n",
              "    <tr>\n",
              "      <th>30</th>\n",
              "      <td>Chiapas</td>\n",
              "      <td>108</td>\n",
              "    </tr>\n",
              "    <tr>\n",
              "      <th>25</th>\n",
              "      <td>Yucatan</td>\n",
              "      <td>99</td>\n",
              "    </tr>\n",
              "    <tr>\n",
              "      <th>17</th>\n",
              "      <td>San Luis Potosi</td>\n",
              "      <td>96</td>\n",
              "    </tr>\n",
              "    <tr>\n",
              "      <th>27</th>\n",
              "      <td>Tabasco</td>\n",
              "      <td>67</td>\n",
              "    </tr>\n",
              "    <tr>\n",
              "      <th>29</th>\n",
              "      <td>Quintana Roo</td>\n",
              "      <td>61</td>\n",
              "    </tr>\n",
              "    <tr>\n",
              "      <th>14</th>\n",
              "      <td>Baja California Sur</td>\n",
              "      <td>39</td>\n",
              "    </tr>\n",
              "    <tr>\n",
              "      <th>19</th>\n",
              "      <td>Campeche</td>\n",
              "      <td>34</td>\n",
              "    </tr>\n",
              "    <tr>\n",
              "      <th>3</th>\n",
              "      <td>Tlaxcala</td>\n",
              "      <td>24</td>\n",
              "    </tr>\n",
              "  </tbody>\n",
              "</table>\n",
              "</div>\n",
              "      <button class=\"colab-df-convert\" onclick=\"convertToInteractive('df-95b2fa79-54f0-4684-9dd2-6c0eeaeb010a')\"\n",
              "              title=\"Convert this dataframe to an interactive table.\"\n",
              "              style=\"display:none;\">\n",
              "        \n",
              "  <svg xmlns=\"http://www.w3.org/2000/svg\" height=\"24px\"viewBox=\"0 0 24 24\"\n",
              "       width=\"24px\">\n",
              "    <path d=\"M0 0h24v24H0V0z\" fill=\"none\"/>\n",
              "    <path d=\"M18.56 5.44l.94 2.06.94-2.06 2.06-.94-2.06-.94-.94-2.06-.94 2.06-2.06.94zm-11 1L8.5 8.5l.94-2.06 2.06-.94-2.06-.94L8.5 2.5l-.94 2.06-2.06.94zm10 10l.94 2.06.94-2.06 2.06-.94-2.06-.94-.94-2.06-.94 2.06-2.06.94z\"/><path d=\"M17.41 7.96l-1.37-1.37c-.4-.4-.92-.59-1.43-.59-.52 0-1.04.2-1.43.59L10.3 9.45l-7.72 7.72c-.78.78-.78 2.05 0 2.83L4 21.41c.39.39.9.59 1.41.59.51 0 1.02-.2 1.41-.59l7.78-7.78 2.81-2.81c.8-.78.8-2.07 0-2.86zM5.41 20L4 18.59l7.72-7.72 1.47 1.35L5.41 20z\"/>\n",
              "  </svg>\n",
              "      </button>\n",
              "      \n",
              "  <style>\n",
              "    .colab-df-container {\n",
              "      display:flex;\n",
              "      flex-wrap:wrap;\n",
              "      gap: 12px;\n",
              "    }\n",
              "\n",
              "    .colab-df-convert {\n",
              "      background-color: #E8F0FE;\n",
              "      border: none;\n",
              "      border-radius: 50%;\n",
              "      cursor: pointer;\n",
              "      display: none;\n",
              "      fill: #1967D2;\n",
              "      height: 32px;\n",
              "      padding: 0 0 0 0;\n",
              "      width: 32px;\n",
              "    }\n",
              "\n",
              "    .colab-df-convert:hover {\n",
              "      background-color: #E2EBFA;\n",
              "      box-shadow: 0px 1px 2px rgba(60, 64, 67, 0.3), 0px 1px 3px 1px rgba(60, 64, 67, 0.15);\n",
              "      fill: #174EA6;\n",
              "    }\n",
              "\n",
              "    [theme=dark] .colab-df-convert {\n",
              "      background-color: #3B4455;\n",
              "      fill: #D2E3FC;\n",
              "    }\n",
              "\n",
              "    [theme=dark] .colab-df-convert:hover {\n",
              "      background-color: #434B5C;\n",
              "      box-shadow: 0px 1px 3px 1px rgba(0, 0, 0, 0.15);\n",
              "      filter: drop-shadow(0px 1px 2px rgba(0, 0, 0, 0.3));\n",
              "      fill: #FFFFFF;\n",
              "    }\n",
              "  </style>\n",
              "\n",
              "      <script>\n",
              "        const buttonEl =\n",
              "          document.querySelector('#df-95b2fa79-54f0-4684-9dd2-6c0eeaeb010a button.colab-df-convert');\n",
              "        buttonEl.style.display =\n",
              "          google.colab.kernel.accessAllowed ? 'block' : 'none';\n",
              "\n",
              "        async function convertToInteractive(key) {\n",
              "          const element = document.querySelector('#df-95b2fa79-54f0-4684-9dd2-6c0eeaeb010a');\n",
              "          const dataTable =\n",
              "            await google.colab.kernel.invokeFunction('convertToInteractive',\n",
              "                                                     [key], {});\n",
              "          if (!dataTable) return;\n",
              "\n",
              "          const docLinkHtml = 'Like what you see? Visit the ' +\n",
              "            '<a target=\"_blank\" href=https://colab.research.google.com/notebooks/data_table.ipynb>data table notebook</a>'\n",
              "            + ' to learn more about interactive tables.';\n",
              "          element.innerHTML = '';\n",
              "          dataTable['output_type'] = 'display_data';\n",
              "          await google.colab.output.renderOutput(dataTable, element);\n",
              "          const docLink = document.createElement('div');\n",
              "          docLink.innerHTML = docLinkHtml;\n",
              "          element.appendChild(docLink);\n",
              "        }\n",
              "      </script>\n",
              "    </div>\n",
              "  </div>\n",
              "  "
            ]
          },
          "metadata": {},
          "execution_count": 79
        }
      ]
    },
    {
      "cell_type": "markdown",
      "source": [
        "\n",
        "\n",
        "> El Estado o Entidad con mayor casos de desaparecidos registrados en el periodo de 1968 al 2018 es Tamaulipas con 5,987 personas desaparecidas. También se puede ver que el Estado con menos casos de desaparecidos es Tlaxcala.\n",
        "\n"
      ],
      "metadata": {
        "id": "qWyfeAhFDnMJ"
      }
    },
    {
      "cell_type": "markdown",
      "source": [
        "Gracias a la naturaleza del registro, la pregunta hecha se puede contestar de manera más específica incluyendo el municipio e incluso la localidad."
      ],
      "metadata": {
        "id": "PSZ8JMwHiC9p"
      }
    },
    {
      "cell_type": "code",
      "execution_count": 80,
      "metadata": {
        "ExecuteTime": {
          "end_time": "2022-09-14T02:30:30.188604Z",
          "start_time": "2022-09-14T02:30:30.174540Z"
        },
        "colab": {
          "base_uri": "https://localhost:8080/",
          "height": 473
        },
        "id": "2XMjlIsJBetp",
        "outputId": "81a7f054-51e3-4640-a0bb-812019c2d625"
      },
      "outputs": [
        {
          "output_type": "stream",
          "name": "stderr",
          "text": [
            "/usr/local/lib/python3.7/dist-packages/ipykernel_launcher.py:1: UserWarning: Pandas doesn't allow columns to be created via a new attribute name - see https://pandas.pydata.org/pandas-docs/stable/indexing.html#attribute-access\n",
            "  \"\"\"Entry point for launching an IPython kernel.\n"
          ]
        },
        {
          "output_type": "execute_result",
          "data": {
            "text/plain": [
              "               entidad            municipio  total\n",
              "0               Sonora              Navojoa     76\n",
              "1     Estado De Mexico       Valle De Bravo     30\n",
              "2     Estado De Mexico               Chalco    129\n",
              "3     Estado De Mexico  Tlalnepantla De Baz     88\n",
              "4     Estado De Mexico               Toluca    346\n",
              "...                ...                  ...    ...\n",
              "1159            Puebla              Piaxtla      1\n",
              "1160            Puebla          Petlalcingo      1\n",
              "1161           Yucatan               Chemax      1\n",
              "1162        Nuevo Leon                 Mina      1\n",
              "1163            Puebla                Chila      1\n",
              "\n",
              "[1164 rows x 3 columns]"
            ],
            "text/html": [
              "\n",
              "  <div id=\"df-830e4a2b-d971-4a9d-90d4-65ff01669a5c\">\n",
              "    <div class=\"colab-df-container\">\n",
              "      <div>\n",
              "<style scoped>\n",
              "    .dataframe tbody tr th:only-of-type {\n",
              "        vertical-align: middle;\n",
              "    }\n",
              "\n",
              "    .dataframe tbody tr th {\n",
              "        vertical-align: top;\n",
              "    }\n",
              "\n",
              "    .dataframe thead th {\n",
              "        text-align: right;\n",
              "    }\n",
              "</style>\n",
              "<table border=\"1\" class=\"dataframe\">\n",
              "  <thead>\n",
              "    <tr style=\"text-align: right;\">\n",
              "      <th></th>\n",
              "      <th>entidad</th>\n",
              "      <th>municipio</th>\n",
              "      <th>total</th>\n",
              "    </tr>\n",
              "  </thead>\n",
              "  <tbody>\n",
              "    <tr>\n",
              "      <th>0</th>\n",
              "      <td>Sonora</td>\n",
              "      <td>Navojoa</td>\n",
              "      <td>76</td>\n",
              "    </tr>\n",
              "    <tr>\n",
              "      <th>1</th>\n",
              "      <td>Estado De Mexico</td>\n",
              "      <td>Valle De Bravo</td>\n",
              "      <td>30</td>\n",
              "    </tr>\n",
              "    <tr>\n",
              "      <th>2</th>\n",
              "      <td>Estado De Mexico</td>\n",
              "      <td>Chalco</td>\n",
              "      <td>129</td>\n",
              "    </tr>\n",
              "    <tr>\n",
              "      <th>3</th>\n",
              "      <td>Estado De Mexico</td>\n",
              "      <td>Tlalnepantla De Baz</td>\n",
              "      <td>88</td>\n",
              "    </tr>\n",
              "    <tr>\n",
              "      <th>4</th>\n",
              "      <td>Estado De Mexico</td>\n",
              "      <td>Toluca</td>\n",
              "      <td>346</td>\n",
              "    </tr>\n",
              "    <tr>\n",
              "      <th>...</th>\n",
              "      <td>...</td>\n",
              "      <td>...</td>\n",
              "      <td>...</td>\n",
              "    </tr>\n",
              "    <tr>\n",
              "      <th>1159</th>\n",
              "      <td>Puebla</td>\n",
              "      <td>Piaxtla</td>\n",
              "      <td>1</td>\n",
              "    </tr>\n",
              "    <tr>\n",
              "      <th>1160</th>\n",
              "      <td>Puebla</td>\n",
              "      <td>Petlalcingo</td>\n",
              "      <td>1</td>\n",
              "    </tr>\n",
              "    <tr>\n",
              "      <th>1161</th>\n",
              "      <td>Yucatan</td>\n",
              "      <td>Chemax</td>\n",
              "      <td>1</td>\n",
              "    </tr>\n",
              "    <tr>\n",
              "      <th>1162</th>\n",
              "      <td>Nuevo Leon</td>\n",
              "      <td>Mina</td>\n",
              "      <td>1</td>\n",
              "    </tr>\n",
              "    <tr>\n",
              "      <th>1163</th>\n",
              "      <td>Puebla</td>\n",
              "      <td>Chila</td>\n",
              "      <td>1</td>\n",
              "    </tr>\n",
              "  </tbody>\n",
              "</table>\n",
              "<p>1164 rows × 3 columns</p>\n",
              "</div>\n",
              "      <button class=\"colab-df-convert\" onclick=\"convertToInteractive('df-830e4a2b-d971-4a9d-90d4-65ff01669a5c')\"\n",
              "              title=\"Convert this dataframe to an interactive table.\"\n",
              "              style=\"display:none;\">\n",
              "        \n",
              "  <svg xmlns=\"http://www.w3.org/2000/svg\" height=\"24px\"viewBox=\"0 0 24 24\"\n",
              "       width=\"24px\">\n",
              "    <path d=\"M0 0h24v24H0V0z\" fill=\"none\"/>\n",
              "    <path d=\"M18.56 5.44l.94 2.06.94-2.06 2.06-.94-2.06-.94-.94-2.06-.94 2.06-2.06.94zm-11 1L8.5 8.5l.94-2.06 2.06-.94-2.06-.94L8.5 2.5l-.94 2.06-2.06.94zm10 10l.94 2.06.94-2.06 2.06-.94-2.06-.94-.94-2.06-.94 2.06-2.06.94z\"/><path d=\"M17.41 7.96l-1.37-1.37c-.4-.4-.92-.59-1.43-.59-.52 0-1.04.2-1.43.59L10.3 9.45l-7.72 7.72c-.78.78-.78 2.05 0 2.83L4 21.41c.39.39.9.59 1.41.59.51 0 1.02-.2 1.41-.59l7.78-7.78 2.81-2.81c.8-.78.8-2.07 0-2.86zM5.41 20L4 18.59l7.72-7.72 1.47 1.35L5.41 20z\"/>\n",
              "  </svg>\n",
              "      </button>\n",
              "      \n",
              "  <style>\n",
              "    .colab-df-container {\n",
              "      display:flex;\n",
              "      flex-wrap:wrap;\n",
              "      gap: 12px;\n",
              "    }\n",
              "\n",
              "    .colab-df-convert {\n",
              "      background-color: #E8F0FE;\n",
              "      border: none;\n",
              "      border-radius: 50%;\n",
              "      cursor: pointer;\n",
              "      display: none;\n",
              "      fill: #1967D2;\n",
              "      height: 32px;\n",
              "      padding: 0 0 0 0;\n",
              "      width: 32px;\n",
              "    }\n",
              "\n",
              "    .colab-df-convert:hover {\n",
              "      background-color: #E2EBFA;\n",
              "      box-shadow: 0px 1px 2px rgba(60, 64, 67, 0.3), 0px 1px 3px 1px rgba(60, 64, 67, 0.15);\n",
              "      fill: #174EA6;\n",
              "    }\n",
              "\n",
              "    [theme=dark] .colab-df-convert {\n",
              "      background-color: #3B4455;\n",
              "      fill: #D2E3FC;\n",
              "    }\n",
              "\n",
              "    [theme=dark] .colab-df-convert:hover {\n",
              "      background-color: #434B5C;\n",
              "      box-shadow: 0px 1px 3px 1px rgba(0, 0, 0, 0.15);\n",
              "      filter: drop-shadow(0px 1px 2px rgba(0, 0, 0, 0.3));\n",
              "      fill: #FFFFFF;\n",
              "    }\n",
              "  </style>\n",
              "\n",
              "      <script>\n",
              "        const buttonEl =\n",
              "          document.querySelector('#df-830e4a2b-d971-4a9d-90d4-65ff01669a5c button.colab-df-convert');\n",
              "        buttonEl.style.display =\n",
              "          google.colab.kernel.accessAllowed ? 'block' : 'none';\n",
              "\n",
              "        async function convertToInteractive(key) {\n",
              "          const element = document.querySelector('#df-830e4a2b-d971-4a9d-90d4-65ff01669a5c');\n",
              "          const dataTable =\n",
              "            await google.colab.kernel.invokeFunction('convertToInteractive',\n",
              "                                                     [key], {});\n",
              "          if (!dataTable) return;\n",
              "\n",
              "          const docLinkHtml = 'Like what you see? Visit the ' +\n",
              "            '<a target=\"_blank\" href=https://colab.research.google.com/notebooks/data_table.ipynb>data table notebook</a>'\n",
              "            + ' to learn more about interactive tables.';\n",
              "          element.innerHTML = '';\n",
              "          dataTable['output_type'] = 'display_data';\n",
              "          await google.colab.output.renderOutput(dataTable, element);\n",
              "          const docLink = document.createElement('div');\n",
              "          docLink.innerHTML = docLinkHtml;\n",
              "          element.appendChild(docLink);\n",
              "        }\n",
              "      </script>\n",
              "    </div>\n",
              "  </div>\n",
              "  "
            ]
          },
          "metadata": {},
          "execution_count": 80
        }
      ],
      "source": [
        "df.entidad_municipio= df.groupby(['entidad', 'municipio'], sort=False).size().reset_index(name='total')\n",
        "df.entidad_municipio"
      ]
    },
    {
      "cell_type": "code",
      "execution_count": 99,
      "metadata": {
        "ExecuteTime": {
          "end_time": "2022-09-14T02:30:26.230790Z",
          "start_time": "2022-09-14T02:30:26.212035Z"
        },
        "colab": {
          "base_uri": "https://localhost:8080/",
          "height": 473
        },
        "id": "AkJ6x7O7Betp",
        "outputId": "2bbc4aa9-f206-403e-ffa6-fcd7dccecca7"
      },
      "outputs": [
        {
          "output_type": "stream",
          "name": "stderr",
          "text": [
            "/usr/local/lib/python3.7/dist-packages/ipykernel_launcher.py:1: UserWarning: Pandas doesn't allow columns to be created via a new attribute name - see https://pandas.pydata.org/pandas-docs/stable/indexing.html#attribute-access\n",
            "  \"\"\"Entry point for launching an IPython kernel.\n"
          ]
        },
        {
          "output_type": "execute_result",
          "data": {
            "text/plain": [
              "               entidad            municipio                   localidad  total\n",
              "0               Sonora              Navojoa                     Navojoa     68\n",
              "1     Estado De Mexico       Valle De Bravo              Valle De Bravo     25\n",
              "2     Estado De Mexico               Chalco                      Chalco    124\n",
              "3     Estado De Mexico  Tlalnepantla De Baz         Tlalnepantla De Baz     82\n",
              "4     Estado De Mexico               Toluca                      Toluca    312\n",
              "...                ...                  ...                         ...    ...\n",
              "3558        Nuevo Leon                 Mina                        Mina      1\n",
              "3559        Nuevo Leon            Monterrey                  Montyerrey      1\n",
              "3560            Puebla               Puebla  San Hipolito Xochiltenango      1\n",
              "3561            Sonora               Cajeme                     Obregon      1\n",
              "3562            Puebla                Chila        Chilas De Las Flores      1\n",
              "\n",
              "[3563 rows x 4 columns]"
            ],
            "text/html": [
              "\n",
              "  <div id=\"df-aa846c4b-94d4-4fe4-a949-0ea96cf0dfcc\">\n",
              "    <div class=\"colab-df-container\">\n",
              "      <div>\n",
              "<style scoped>\n",
              "    .dataframe tbody tr th:only-of-type {\n",
              "        vertical-align: middle;\n",
              "    }\n",
              "\n",
              "    .dataframe tbody tr th {\n",
              "        vertical-align: top;\n",
              "    }\n",
              "\n",
              "    .dataframe thead th {\n",
              "        text-align: right;\n",
              "    }\n",
              "</style>\n",
              "<table border=\"1\" class=\"dataframe\">\n",
              "  <thead>\n",
              "    <tr style=\"text-align: right;\">\n",
              "      <th></th>\n",
              "      <th>entidad</th>\n",
              "      <th>municipio</th>\n",
              "      <th>localidad</th>\n",
              "      <th>total</th>\n",
              "    </tr>\n",
              "  </thead>\n",
              "  <tbody>\n",
              "    <tr>\n",
              "      <th>0</th>\n",
              "      <td>Sonora</td>\n",
              "      <td>Navojoa</td>\n",
              "      <td>Navojoa</td>\n",
              "      <td>68</td>\n",
              "    </tr>\n",
              "    <tr>\n",
              "      <th>1</th>\n",
              "      <td>Estado De Mexico</td>\n",
              "      <td>Valle De Bravo</td>\n",
              "      <td>Valle De Bravo</td>\n",
              "      <td>25</td>\n",
              "    </tr>\n",
              "    <tr>\n",
              "      <th>2</th>\n",
              "      <td>Estado De Mexico</td>\n",
              "      <td>Chalco</td>\n",
              "      <td>Chalco</td>\n",
              "      <td>124</td>\n",
              "    </tr>\n",
              "    <tr>\n",
              "      <th>3</th>\n",
              "      <td>Estado De Mexico</td>\n",
              "      <td>Tlalnepantla De Baz</td>\n",
              "      <td>Tlalnepantla De Baz</td>\n",
              "      <td>82</td>\n",
              "    </tr>\n",
              "    <tr>\n",
              "      <th>4</th>\n",
              "      <td>Estado De Mexico</td>\n",
              "      <td>Toluca</td>\n",
              "      <td>Toluca</td>\n",
              "      <td>312</td>\n",
              "    </tr>\n",
              "    <tr>\n",
              "      <th>...</th>\n",
              "      <td>...</td>\n",
              "      <td>...</td>\n",
              "      <td>...</td>\n",
              "      <td>...</td>\n",
              "    </tr>\n",
              "    <tr>\n",
              "      <th>3558</th>\n",
              "      <td>Nuevo Leon</td>\n",
              "      <td>Mina</td>\n",
              "      <td>Mina</td>\n",
              "      <td>1</td>\n",
              "    </tr>\n",
              "    <tr>\n",
              "      <th>3559</th>\n",
              "      <td>Nuevo Leon</td>\n",
              "      <td>Monterrey</td>\n",
              "      <td>Montyerrey</td>\n",
              "      <td>1</td>\n",
              "    </tr>\n",
              "    <tr>\n",
              "      <th>3560</th>\n",
              "      <td>Puebla</td>\n",
              "      <td>Puebla</td>\n",
              "      <td>San Hipolito Xochiltenango</td>\n",
              "      <td>1</td>\n",
              "    </tr>\n",
              "    <tr>\n",
              "      <th>3561</th>\n",
              "      <td>Sonora</td>\n",
              "      <td>Cajeme</td>\n",
              "      <td>Obregon</td>\n",
              "      <td>1</td>\n",
              "    </tr>\n",
              "    <tr>\n",
              "      <th>3562</th>\n",
              "      <td>Puebla</td>\n",
              "      <td>Chila</td>\n",
              "      <td>Chilas De Las Flores</td>\n",
              "      <td>1</td>\n",
              "    </tr>\n",
              "  </tbody>\n",
              "</table>\n",
              "<p>3563 rows × 4 columns</p>\n",
              "</div>\n",
              "      <button class=\"colab-df-convert\" onclick=\"convertToInteractive('df-aa846c4b-94d4-4fe4-a949-0ea96cf0dfcc')\"\n",
              "              title=\"Convert this dataframe to an interactive table.\"\n",
              "              style=\"display:none;\">\n",
              "        \n",
              "  <svg xmlns=\"http://www.w3.org/2000/svg\" height=\"24px\"viewBox=\"0 0 24 24\"\n",
              "       width=\"24px\">\n",
              "    <path d=\"M0 0h24v24H0V0z\" fill=\"none\"/>\n",
              "    <path d=\"M18.56 5.44l.94 2.06.94-2.06 2.06-.94-2.06-.94-.94-2.06-.94 2.06-2.06.94zm-11 1L8.5 8.5l.94-2.06 2.06-.94-2.06-.94L8.5 2.5l-.94 2.06-2.06.94zm10 10l.94 2.06.94-2.06 2.06-.94-2.06-.94-.94-2.06-.94 2.06-2.06.94z\"/><path d=\"M17.41 7.96l-1.37-1.37c-.4-.4-.92-.59-1.43-.59-.52 0-1.04.2-1.43.59L10.3 9.45l-7.72 7.72c-.78.78-.78 2.05 0 2.83L4 21.41c.39.39.9.59 1.41.59.51 0 1.02-.2 1.41-.59l7.78-7.78 2.81-2.81c.8-.78.8-2.07 0-2.86zM5.41 20L4 18.59l7.72-7.72 1.47 1.35L5.41 20z\"/>\n",
              "  </svg>\n",
              "      </button>\n",
              "      \n",
              "  <style>\n",
              "    .colab-df-container {\n",
              "      display:flex;\n",
              "      flex-wrap:wrap;\n",
              "      gap: 12px;\n",
              "    }\n",
              "\n",
              "    .colab-df-convert {\n",
              "      background-color: #E8F0FE;\n",
              "      border: none;\n",
              "      border-radius: 50%;\n",
              "      cursor: pointer;\n",
              "      display: none;\n",
              "      fill: #1967D2;\n",
              "      height: 32px;\n",
              "      padding: 0 0 0 0;\n",
              "      width: 32px;\n",
              "    }\n",
              "\n",
              "    .colab-df-convert:hover {\n",
              "      background-color: #E2EBFA;\n",
              "      box-shadow: 0px 1px 2px rgba(60, 64, 67, 0.3), 0px 1px 3px 1px rgba(60, 64, 67, 0.15);\n",
              "      fill: #174EA6;\n",
              "    }\n",
              "\n",
              "    [theme=dark] .colab-df-convert {\n",
              "      background-color: #3B4455;\n",
              "      fill: #D2E3FC;\n",
              "    }\n",
              "\n",
              "    [theme=dark] .colab-df-convert:hover {\n",
              "      background-color: #434B5C;\n",
              "      box-shadow: 0px 1px 3px 1px rgba(0, 0, 0, 0.15);\n",
              "      filter: drop-shadow(0px 1px 2px rgba(0, 0, 0, 0.3));\n",
              "      fill: #FFFFFF;\n",
              "    }\n",
              "  </style>\n",
              "\n",
              "      <script>\n",
              "        const buttonEl =\n",
              "          document.querySelector('#df-aa846c4b-94d4-4fe4-a949-0ea96cf0dfcc button.colab-df-convert');\n",
              "        buttonEl.style.display =\n",
              "          google.colab.kernel.accessAllowed ? 'block' : 'none';\n",
              "\n",
              "        async function convertToInteractive(key) {\n",
              "          const element = document.querySelector('#df-aa846c4b-94d4-4fe4-a949-0ea96cf0dfcc');\n",
              "          const dataTable =\n",
              "            await google.colab.kernel.invokeFunction('convertToInteractive',\n",
              "                                                     [key], {});\n",
              "          if (!dataTable) return;\n",
              "\n",
              "          const docLinkHtml = 'Like what you see? Visit the ' +\n",
              "            '<a target=\"_blank\" href=https://colab.research.google.com/notebooks/data_table.ipynb>data table notebook</a>'\n",
              "            + ' to learn more about interactive tables.';\n",
              "          element.innerHTML = '';\n",
              "          dataTable['output_type'] = 'display_data';\n",
              "          await google.colab.output.renderOutput(dataTable, element);\n",
              "          const docLink = document.createElement('div');\n",
              "          docLink.innerHTML = docLinkHtml;\n",
              "          element.appendChild(docLink);\n",
              "        }\n",
              "      </script>\n",
              "    </div>\n",
              "  </div>\n",
              "  "
            ]
          },
          "metadata": {},
          "execution_count": 99
        }
      ],
      "source": [
        "df.entidad_municipio_localidad= df.groupby(['entidad', 'municipio', 'localidad'], sort=False).size().reset_index(name='total')\n",
        "df.entidad_municipio_localidad"
      ]
    },
    {
      "cell_type": "markdown",
      "source": [
        "Ahora podemos ver cuál es el municipio y localidad que tiene el mayor número de casos.\n",
        "\n",
        "\n"
      ],
      "metadata": {
        "id": "qBEkf4XylqUI"
      }
    },
    {
      "cell_type": "code",
      "source": [
        "df.entidad_municipio_localidad.sort_values('total', ascending=False)"
      ],
      "metadata": {
        "colab": {
          "base_uri": "https://localhost:8080/",
          "height": 419
        },
        "id": "LAF--0rAlx-2",
        "outputId": "c65527b5-2cff-4ba3-9ed1-cad3c0d1c830"
      },
      "execution_count": 100,
      "outputs": [
        {
          "output_type": "execute_result",
          "data": {
            "text/plain": [
              "         entidad     municipio                 localidad  total\n",
              "367   Tamaulipas     Matamoros                 Matamoros   1157\n",
              "99    Nuevo Leon     Monterrey                 Monterrey    989\n",
              "372   Tamaulipas       Reynosa                   Reynosa    965\n",
              "366   Tamaulipas  Nuevo Laredo              Nuevo Laredo    952\n",
              "285       Puebla        Puebla                    Puebla    926\n",
              "...          ...           ...                       ...    ...\n",
              "1949  Tamaulipas  San Fernando  Ejido Laguna De San Juan      1\n",
              "1947      Puebla  Tecamachalco               Yehualtepec      1\n",
              "345       Puebla        Puebla     San Martin Texmelucan      1\n",
              "1945  Tamaulipas     Matamoros              El Mezquital      1\n",
              "3562      Puebla         Chila      Chilas De Las Flores      1\n",
              "\n",
              "[3563 rows x 4 columns]"
            ],
            "text/html": [
              "\n",
              "  <div id=\"df-6366cae4-50d6-4cd5-a421-a4a69cfc3d39\">\n",
              "    <div class=\"colab-df-container\">\n",
              "      <div>\n",
              "<style scoped>\n",
              "    .dataframe tbody tr th:only-of-type {\n",
              "        vertical-align: middle;\n",
              "    }\n",
              "\n",
              "    .dataframe tbody tr th {\n",
              "        vertical-align: top;\n",
              "    }\n",
              "\n",
              "    .dataframe thead th {\n",
              "        text-align: right;\n",
              "    }\n",
              "</style>\n",
              "<table border=\"1\" class=\"dataframe\">\n",
              "  <thead>\n",
              "    <tr style=\"text-align: right;\">\n",
              "      <th></th>\n",
              "      <th>entidad</th>\n",
              "      <th>municipio</th>\n",
              "      <th>localidad</th>\n",
              "      <th>total</th>\n",
              "    </tr>\n",
              "  </thead>\n",
              "  <tbody>\n",
              "    <tr>\n",
              "      <th>367</th>\n",
              "      <td>Tamaulipas</td>\n",
              "      <td>Matamoros</td>\n",
              "      <td>Matamoros</td>\n",
              "      <td>1157</td>\n",
              "    </tr>\n",
              "    <tr>\n",
              "      <th>99</th>\n",
              "      <td>Nuevo Leon</td>\n",
              "      <td>Monterrey</td>\n",
              "      <td>Monterrey</td>\n",
              "      <td>989</td>\n",
              "    </tr>\n",
              "    <tr>\n",
              "      <th>372</th>\n",
              "      <td>Tamaulipas</td>\n",
              "      <td>Reynosa</td>\n",
              "      <td>Reynosa</td>\n",
              "      <td>965</td>\n",
              "    </tr>\n",
              "    <tr>\n",
              "      <th>366</th>\n",
              "      <td>Tamaulipas</td>\n",
              "      <td>Nuevo Laredo</td>\n",
              "      <td>Nuevo Laredo</td>\n",
              "      <td>952</td>\n",
              "    </tr>\n",
              "    <tr>\n",
              "      <th>285</th>\n",
              "      <td>Puebla</td>\n",
              "      <td>Puebla</td>\n",
              "      <td>Puebla</td>\n",
              "      <td>926</td>\n",
              "    </tr>\n",
              "    <tr>\n",
              "      <th>...</th>\n",
              "      <td>...</td>\n",
              "      <td>...</td>\n",
              "      <td>...</td>\n",
              "      <td>...</td>\n",
              "    </tr>\n",
              "    <tr>\n",
              "      <th>1949</th>\n",
              "      <td>Tamaulipas</td>\n",
              "      <td>San Fernando</td>\n",
              "      <td>Ejido Laguna De San Juan</td>\n",
              "      <td>1</td>\n",
              "    </tr>\n",
              "    <tr>\n",
              "      <th>1947</th>\n",
              "      <td>Puebla</td>\n",
              "      <td>Tecamachalco</td>\n",
              "      <td>Yehualtepec</td>\n",
              "      <td>1</td>\n",
              "    </tr>\n",
              "    <tr>\n",
              "      <th>345</th>\n",
              "      <td>Puebla</td>\n",
              "      <td>Puebla</td>\n",
              "      <td>San Martin Texmelucan</td>\n",
              "      <td>1</td>\n",
              "    </tr>\n",
              "    <tr>\n",
              "      <th>1945</th>\n",
              "      <td>Tamaulipas</td>\n",
              "      <td>Matamoros</td>\n",
              "      <td>El Mezquital</td>\n",
              "      <td>1</td>\n",
              "    </tr>\n",
              "    <tr>\n",
              "      <th>3562</th>\n",
              "      <td>Puebla</td>\n",
              "      <td>Chila</td>\n",
              "      <td>Chilas De Las Flores</td>\n",
              "      <td>1</td>\n",
              "    </tr>\n",
              "  </tbody>\n",
              "</table>\n",
              "<p>3563 rows × 4 columns</p>\n",
              "</div>\n",
              "      <button class=\"colab-df-convert\" onclick=\"convertToInteractive('df-6366cae4-50d6-4cd5-a421-a4a69cfc3d39')\"\n",
              "              title=\"Convert this dataframe to an interactive table.\"\n",
              "              style=\"display:none;\">\n",
              "        \n",
              "  <svg xmlns=\"http://www.w3.org/2000/svg\" height=\"24px\"viewBox=\"0 0 24 24\"\n",
              "       width=\"24px\">\n",
              "    <path d=\"M0 0h24v24H0V0z\" fill=\"none\"/>\n",
              "    <path d=\"M18.56 5.44l.94 2.06.94-2.06 2.06-.94-2.06-.94-.94-2.06-.94 2.06-2.06.94zm-11 1L8.5 8.5l.94-2.06 2.06-.94-2.06-.94L8.5 2.5l-.94 2.06-2.06.94zm10 10l.94 2.06.94-2.06 2.06-.94-2.06-.94-.94-2.06-.94 2.06-2.06.94z\"/><path d=\"M17.41 7.96l-1.37-1.37c-.4-.4-.92-.59-1.43-.59-.52 0-1.04.2-1.43.59L10.3 9.45l-7.72 7.72c-.78.78-.78 2.05 0 2.83L4 21.41c.39.39.9.59 1.41.59.51 0 1.02-.2 1.41-.59l7.78-7.78 2.81-2.81c.8-.78.8-2.07 0-2.86zM5.41 20L4 18.59l7.72-7.72 1.47 1.35L5.41 20z\"/>\n",
              "  </svg>\n",
              "      </button>\n",
              "      \n",
              "  <style>\n",
              "    .colab-df-container {\n",
              "      display:flex;\n",
              "      flex-wrap:wrap;\n",
              "      gap: 12px;\n",
              "    }\n",
              "\n",
              "    .colab-df-convert {\n",
              "      background-color: #E8F0FE;\n",
              "      border: none;\n",
              "      border-radius: 50%;\n",
              "      cursor: pointer;\n",
              "      display: none;\n",
              "      fill: #1967D2;\n",
              "      height: 32px;\n",
              "      padding: 0 0 0 0;\n",
              "      width: 32px;\n",
              "    }\n",
              "\n",
              "    .colab-df-convert:hover {\n",
              "      background-color: #E2EBFA;\n",
              "      box-shadow: 0px 1px 2px rgba(60, 64, 67, 0.3), 0px 1px 3px 1px rgba(60, 64, 67, 0.15);\n",
              "      fill: #174EA6;\n",
              "    }\n",
              "\n",
              "    [theme=dark] .colab-df-convert {\n",
              "      background-color: #3B4455;\n",
              "      fill: #D2E3FC;\n",
              "    }\n",
              "\n",
              "    [theme=dark] .colab-df-convert:hover {\n",
              "      background-color: #434B5C;\n",
              "      box-shadow: 0px 1px 3px 1px rgba(0, 0, 0, 0.15);\n",
              "      filter: drop-shadow(0px 1px 2px rgba(0, 0, 0, 0.3));\n",
              "      fill: #FFFFFF;\n",
              "    }\n",
              "  </style>\n",
              "\n",
              "      <script>\n",
              "        const buttonEl =\n",
              "          document.querySelector('#df-6366cae4-50d6-4cd5-a421-a4a69cfc3d39 button.colab-df-convert');\n",
              "        buttonEl.style.display =\n",
              "          google.colab.kernel.accessAllowed ? 'block' : 'none';\n",
              "\n",
              "        async function convertToInteractive(key) {\n",
              "          const element = document.querySelector('#df-6366cae4-50d6-4cd5-a421-a4a69cfc3d39');\n",
              "          const dataTable =\n",
              "            await google.colab.kernel.invokeFunction('convertToInteractive',\n",
              "                                                     [key], {});\n",
              "          if (!dataTable) return;\n",
              "\n",
              "          const docLinkHtml = 'Like what you see? Visit the ' +\n",
              "            '<a target=\"_blank\" href=https://colab.research.google.com/notebooks/data_table.ipynb>data table notebook</a>'\n",
              "            + ' to learn more about interactive tables.';\n",
              "          element.innerHTML = '';\n",
              "          dataTable['output_type'] = 'display_data';\n",
              "          await google.colab.output.renderOutput(dataTable, element);\n",
              "          const docLink = document.createElement('div');\n",
              "          docLink.innerHTML = docLinkHtml;\n",
              "          element.appendChild(docLink);\n",
              "        }\n",
              "      </script>\n",
              "    </div>\n",
              "  </div>\n",
              "  "
            ]
          },
          "metadata": {},
          "execution_count": 100
        }
      ]
    },
    {
      "cell_type": "markdown",
      "source": [
        "\n",
        "\n",
        "> Matamoros es el municipio y la localidad con más casos de personas desaparecidas en México. Podemos ver que en los primeros cinco lugares se encuentran municipios y localidades de Tamaulipas, Nuevo León y Puebla.\n",
        "\n",
        "\n",
        "\n"
      ],
      "metadata": {
        "id": "gWa1tQwTmC8S"
      }
    },
    {
      "cell_type": "markdown",
      "source": [
        "**¿En México solamente desaparecen mexicanos?**\n",
        "\n",
        "---\n",
        "\n"
      ],
      "metadata": {
        "id": "C8A6cd5wmkke"
      }
    },
    {
      "cell_type": "markdown",
      "source": [
        "Para poder saber la nacionalidad de las personas desaparecidas en México, podemos hacer un ``groupby``de la nacionalidad."
      ],
      "metadata": {
        "id": "0METFQkNmuuA"
      }
    },
    {
      "cell_type": "code",
      "execution_count": 104,
      "metadata": {
        "ExecuteTime": {
          "end_time": "2022-09-14T02:30:21.806684Z",
          "start_time": "2022-09-14T02:30:21.798028Z"
        },
        "scrolled": true,
        "colab": {
          "base_uri": "https://localhost:8080/",
          "height": 909
        },
        "id": "avpX5rx9Betp",
        "outputId": "b30e56c3-0e40-405a-8676-7e9434d904a3"
      },
      "outputs": [
        {
          "output_type": "stream",
          "name": "stderr",
          "text": [
            "/usr/local/lib/python3.7/dist-packages/ipykernel_launcher.py:1: UserWarning: Pandas doesn't allow columns to be created via a new attribute name - see https://pandas.pydata.org/pandas-docs/stable/indexing.html#attribute-access\n",
            "  \"\"\"Entry point for launching an IPython kernel.\n"
          ]
        },
        {
          "output_type": "execute_result",
          "data": {
            "text/plain": [
              "       nacionalidad  total\n",
              "0          Mexicana  33667\n",
              "1    Estadounidense    123\n",
              "2   No Especificado   2027\n",
              "3           Alemana      1\n",
              "4        Colombiana      9\n",
              "5           Eritrea      1\n",
              "6      Nicaraguense      1\n",
              "7            Cubana      3\n",
              "8         Hondureña     24\n",
              "9      Guatemalteco     11\n",
              "10         Española      3\n",
              "11          Peruana      2\n",
              "12       Dominicana      1\n",
              "13        Brasileña      1\n",
              "14        Holandesa      1\n",
              "15       Canadiense      3\n",
              "16      Salvadoreña      8\n",
              "17        Argentina      1\n",
              "18        Paraguaya      1\n",
              "19            China      1\n",
              "20         Haitiana      2\n",
              "21       Venezolana      4\n",
              "22         Panameña      1\n",
              "23     Costaricense      1\n",
              "24         Italiana      3\n",
              "25         Francesa      1"
            ],
            "text/html": [
              "\n",
              "  <div id=\"df-cf310b93-d5b8-408e-8d6a-02ce29fd02a2\">\n",
              "    <div class=\"colab-df-container\">\n",
              "      <div>\n",
              "<style scoped>\n",
              "    .dataframe tbody tr th:only-of-type {\n",
              "        vertical-align: middle;\n",
              "    }\n",
              "\n",
              "    .dataframe tbody tr th {\n",
              "        vertical-align: top;\n",
              "    }\n",
              "\n",
              "    .dataframe thead th {\n",
              "        text-align: right;\n",
              "    }\n",
              "</style>\n",
              "<table border=\"1\" class=\"dataframe\">\n",
              "  <thead>\n",
              "    <tr style=\"text-align: right;\">\n",
              "      <th></th>\n",
              "      <th>nacionalidad</th>\n",
              "      <th>total</th>\n",
              "    </tr>\n",
              "  </thead>\n",
              "  <tbody>\n",
              "    <tr>\n",
              "      <th>0</th>\n",
              "      <td>Mexicana</td>\n",
              "      <td>33667</td>\n",
              "    </tr>\n",
              "    <tr>\n",
              "      <th>1</th>\n",
              "      <td>Estadounidense</td>\n",
              "      <td>123</td>\n",
              "    </tr>\n",
              "    <tr>\n",
              "      <th>2</th>\n",
              "      <td>No Especificado</td>\n",
              "      <td>2027</td>\n",
              "    </tr>\n",
              "    <tr>\n",
              "      <th>3</th>\n",
              "      <td>Alemana</td>\n",
              "      <td>1</td>\n",
              "    </tr>\n",
              "    <tr>\n",
              "      <th>4</th>\n",
              "      <td>Colombiana</td>\n",
              "      <td>9</td>\n",
              "    </tr>\n",
              "    <tr>\n",
              "      <th>5</th>\n",
              "      <td>Eritrea</td>\n",
              "      <td>1</td>\n",
              "    </tr>\n",
              "    <tr>\n",
              "      <th>6</th>\n",
              "      <td>Nicaraguense</td>\n",
              "      <td>1</td>\n",
              "    </tr>\n",
              "    <tr>\n",
              "      <th>7</th>\n",
              "      <td>Cubana</td>\n",
              "      <td>3</td>\n",
              "    </tr>\n",
              "    <tr>\n",
              "      <th>8</th>\n",
              "      <td>Hondureña</td>\n",
              "      <td>24</td>\n",
              "    </tr>\n",
              "    <tr>\n",
              "      <th>9</th>\n",
              "      <td>Guatemalteco</td>\n",
              "      <td>11</td>\n",
              "    </tr>\n",
              "    <tr>\n",
              "      <th>10</th>\n",
              "      <td>Española</td>\n",
              "      <td>3</td>\n",
              "    </tr>\n",
              "    <tr>\n",
              "      <th>11</th>\n",
              "      <td>Peruana</td>\n",
              "      <td>2</td>\n",
              "    </tr>\n",
              "    <tr>\n",
              "      <th>12</th>\n",
              "      <td>Dominicana</td>\n",
              "      <td>1</td>\n",
              "    </tr>\n",
              "    <tr>\n",
              "      <th>13</th>\n",
              "      <td>Brasileña</td>\n",
              "      <td>1</td>\n",
              "    </tr>\n",
              "    <tr>\n",
              "      <th>14</th>\n",
              "      <td>Holandesa</td>\n",
              "      <td>1</td>\n",
              "    </tr>\n",
              "    <tr>\n",
              "      <th>15</th>\n",
              "      <td>Canadiense</td>\n",
              "      <td>3</td>\n",
              "    </tr>\n",
              "    <tr>\n",
              "      <th>16</th>\n",
              "      <td>Salvadoreña</td>\n",
              "      <td>8</td>\n",
              "    </tr>\n",
              "    <tr>\n",
              "      <th>17</th>\n",
              "      <td>Argentina</td>\n",
              "      <td>1</td>\n",
              "    </tr>\n",
              "    <tr>\n",
              "      <th>18</th>\n",
              "      <td>Paraguaya</td>\n",
              "      <td>1</td>\n",
              "    </tr>\n",
              "    <tr>\n",
              "      <th>19</th>\n",
              "      <td>China</td>\n",
              "      <td>1</td>\n",
              "    </tr>\n",
              "    <tr>\n",
              "      <th>20</th>\n",
              "      <td>Haitiana</td>\n",
              "      <td>2</td>\n",
              "    </tr>\n",
              "    <tr>\n",
              "      <th>21</th>\n",
              "      <td>Venezolana</td>\n",
              "      <td>4</td>\n",
              "    </tr>\n",
              "    <tr>\n",
              "      <th>22</th>\n",
              "      <td>Panameña</td>\n",
              "      <td>1</td>\n",
              "    </tr>\n",
              "    <tr>\n",
              "      <th>23</th>\n",
              "      <td>Costaricense</td>\n",
              "      <td>1</td>\n",
              "    </tr>\n",
              "    <tr>\n",
              "      <th>24</th>\n",
              "      <td>Italiana</td>\n",
              "      <td>3</td>\n",
              "    </tr>\n",
              "    <tr>\n",
              "      <th>25</th>\n",
              "      <td>Francesa</td>\n",
              "      <td>1</td>\n",
              "    </tr>\n",
              "  </tbody>\n",
              "</table>\n",
              "</div>\n",
              "      <button class=\"colab-df-convert\" onclick=\"convertToInteractive('df-cf310b93-d5b8-408e-8d6a-02ce29fd02a2')\"\n",
              "              title=\"Convert this dataframe to an interactive table.\"\n",
              "              style=\"display:none;\">\n",
              "        \n",
              "  <svg xmlns=\"http://www.w3.org/2000/svg\" height=\"24px\"viewBox=\"0 0 24 24\"\n",
              "       width=\"24px\">\n",
              "    <path d=\"M0 0h24v24H0V0z\" fill=\"none\"/>\n",
              "    <path d=\"M18.56 5.44l.94 2.06.94-2.06 2.06-.94-2.06-.94-.94-2.06-.94 2.06-2.06.94zm-11 1L8.5 8.5l.94-2.06 2.06-.94-2.06-.94L8.5 2.5l-.94 2.06-2.06.94zm10 10l.94 2.06.94-2.06 2.06-.94-2.06-.94-.94-2.06-.94 2.06-2.06.94z\"/><path d=\"M17.41 7.96l-1.37-1.37c-.4-.4-.92-.59-1.43-.59-.52 0-1.04.2-1.43.59L10.3 9.45l-7.72 7.72c-.78.78-.78 2.05 0 2.83L4 21.41c.39.39.9.59 1.41.59.51 0 1.02-.2 1.41-.59l7.78-7.78 2.81-2.81c.8-.78.8-2.07 0-2.86zM5.41 20L4 18.59l7.72-7.72 1.47 1.35L5.41 20z\"/>\n",
              "  </svg>\n",
              "      </button>\n",
              "      \n",
              "  <style>\n",
              "    .colab-df-container {\n",
              "      display:flex;\n",
              "      flex-wrap:wrap;\n",
              "      gap: 12px;\n",
              "    }\n",
              "\n",
              "    .colab-df-convert {\n",
              "      background-color: #E8F0FE;\n",
              "      border: none;\n",
              "      border-radius: 50%;\n",
              "      cursor: pointer;\n",
              "      display: none;\n",
              "      fill: #1967D2;\n",
              "      height: 32px;\n",
              "      padding: 0 0 0 0;\n",
              "      width: 32px;\n",
              "    }\n",
              "\n",
              "    .colab-df-convert:hover {\n",
              "      background-color: #E2EBFA;\n",
              "      box-shadow: 0px 1px 2px rgba(60, 64, 67, 0.3), 0px 1px 3px 1px rgba(60, 64, 67, 0.15);\n",
              "      fill: #174EA6;\n",
              "    }\n",
              "\n",
              "    [theme=dark] .colab-df-convert {\n",
              "      background-color: #3B4455;\n",
              "      fill: #D2E3FC;\n",
              "    }\n",
              "\n",
              "    [theme=dark] .colab-df-convert:hover {\n",
              "      background-color: #434B5C;\n",
              "      box-shadow: 0px 1px 3px 1px rgba(0, 0, 0, 0.15);\n",
              "      filter: drop-shadow(0px 1px 2px rgba(0, 0, 0, 0.3));\n",
              "      fill: #FFFFFF;\n",
              "    }\n",
              "  </style>\n",
              "\n",
              "      <script>\n",
              "        const buttonEl =\n",
              "          document.querySelector('#df-cf310b93-d5b8-408e-8d6a-02ce29fd02a2 button.colab-df-convert');\n",
              "        buttonEl.style.display =\n",
              "          google.colab.kernel.accessAllowed ? 'block' : 'none';\n",
              "\n",
              "        async function convertToInteractive(key) {\n",
              "          const element = document.querySelector('#df-cf310b93-d5b8-408e-8d6a-02ce29fd02a2');\n",
              "          const dataTable =\n",
              "            await google.colab.kernel.invokeFunction('convertToInteractive',\n",
              "                                                     [key], {});\n",
              "          if (!dataTable) return;\n",
              "\n",
              "          const docLinkHtml = 'Like what you see? Visit the ' +\n",
              "            '<a target=\"_blank\" href=https://colab.research.google.com/notebooks/data_table.ipynb>data table notebook</a>'\n",
              "            + ' to learn more about interactive tables.';\n",
              "          element.innerHTML = '';\n",
              "          dataTable['output_type'] = 'display_data';\n",
              "          await google.colab.output.renderOutput(dataTable, element);\n",
              "          const docLink = document.createElement('div');\n",
              "          docLink.innerHTML = docLinkHtml;\n",
              "          element.appendChild(docLink);\n",
              "        }\n",
              "      </script>\n",
              "    </div>\n",
              "  </div>\n",
              "  "
            ]
          },
          "metadata": {},
          "execution_count": 104
        }
      ],
      "source": [
        "df.desaparecidos_nacionalidad= df.groupby(['nacionalidad'], sort=False).size().reset_index(name='total')\n",
        "df.desaparecidos_nacionalidad"
      ]
    },
    {
      "cell_type": "markdown",
      "source": [
        "\n",
        "\n",
        "Con el nuevo `DataFrame` generado podemos ver que hay 24 nacionalidades que se mencionan en el registro de personas desaparecidas. Además de que existen muchos casos no especificados en el registro. \n",
        "\n",
        "\n",
        "> La gran mayoría de personas desaparecidas son mexicanxs. No obstante, también hay casos de estadounidenses, hondureñxs, italianxs, etc.\n",
        "\n",
        "\n",
        "\n"
      ],
      "metadata": {
        "id": "WNy7PSh8onKd"
      }
    },
    {
      "cell_type": "markdown",
      "source": [
        "**¿Desaparecen más hombres, mujeres o niños?**\n",
        "\n",
        "---\n",
        "\n"
      ],
      "metadata": {
        "id": "GgfZ9s9eqSYE"
      }
    },
    {
      "cell_type": "markdown",
      "source": [
        "Dado que no existe una columna que especifique si la persona que desapareció es menor de edad, esta pregunta la podemos contestar por partes. Primero visualizamos los casos de desaparición según el sexo de la persona."
      ],
      "metadata": {
        "id": "bGI9_elqqXB-"
      }
    },
    {
      "cell_type": "code",
      "execution_count": 83,
      "metadata": {
        "ExecuteTime": {
          "end_time": "2022-09-14T02:30:19.030068Z",
          "start_time": "2022-09-14T02:30:19.012483Z"
        },
        "colab": {
          "base_uri": "https://localhost:8080/",
          "height": 111
        },
        "id": "n9QaaknDBetp",
        "outputId": "c064b795-6b8a-46e2-ace0-d3b8aadcf85e"
      },
      "outputs": [
        {
          "output_type": "execute_result",
          "data": {
            "text/plain": [
              "     sexo  total\n",
              "0   Mujer   9226\n",
              "1  Hombre  26675"
            ],
            "text/html": [
              "\n",
              "  <div id=\"df-9f34c49a-68a2-41ee-8e60-4d91eee18c09\">\n",
              "    <div class=\"colab-df-container\">\n",
              "      <div>\n",
              "<style scoped>\n",
              "    .dataframe tbody tr th:only-of-type {\n",
              "        vertical-align: middle;\n",
              "    }\n",
              "\n",
              "    .dataframe tbody tr th {\n",
              "        vertical-align: top;\n",
              "    }\n",
              "\n",
              "    .dataframe thead th {\n",
              "        text-align: right;\n",
              "    }\n",
              "</style>\n",
              "<table border=\"1\" class=\"dataframe\">\n",
              "  <thead>\n",
              "    <tr style=\"text-align: right;\">\n",
              "      <th></th>\n",
              "      <th>sexo</th>\n",
              "      <th>total</th>\n",
              "    </tr>\n",
              "  </thead>\n",
              "  <tbody>\n",
              "    <tr>\n",
              "      <th>0</th>\n",
              "      <td>Mujer</td>\n",
              "      <td>9226</td>\n",
              "    </tr>\n",
              "    <tr>\n",
              "      <th>1</th>\n",
              "      <td>Hombre</td>\n",
              "      <td>26675</td>\n",
              "    </tr>\n",
              "  </tbody>\n",
              "</table>\n",
              "</div>\n",
              "      <button class=\"colab-df-convert\" onclick=\"convertToInteractive('df-9f34c49a-68a2-41ee-8e60-4d91eee18c09')\"\n",
              "              title=\"Convert this dataframe to an interactive table.\"\n",
              "              style=\"display:none;\">\n",
              "        \n",
              "  <svg xmlns=\"http://www.w3.org/2000/svg\" height=\"24px\"viewBox=\"0 0 24 24\"\n",
              "       width=\"24px\">\n",
              "    <path d=\"M0 0h24v24H0V0z\" fill=\"none\"/>\n",
              "    <path d=\"M18.56 5.44l.94 2.06.94-2.06 2.06-.94-2.06-.94-.94-2.06-.94 2.06-2.06.94zm-11 1L8.5 8.5l.94-2.06 2.06-.94-2.06-.94L8.5 2.5l-.94 2.06-2.06.94zm10 10l.94 2.06.94-2.06 2.06-.94-2.06-.94-.94-2.06-.94 2.06-2.06.94z\"/><path d=\"M17.41 7.96l-1.37-1.37c-.4-.4-.92-.59-1.43-.59-.52 0-1.04.2-1.43.59L10.3 9.45l-7.72 7.72c-.78.78-.78 2.05 0 2.83L4 21.41c.39.39.9.59 1.41.59.51 0 1.02-.2 1.41-.59l7.78-7.78 2.81-2.81c.8-.78.8-2.07 0-2.86zM5.41 20L4 18.59l7.72-7.72 1.47 1.35L5.41 20z\"/>\n",
              "  </svg>\n",
              "      </button>\n",
              "      \n",
              "  <style>\n",
              "    .colab-df-container {\n",
              "      display:flex;\n",
              "      flex-wrap:wrap;\n",
              "      gap: 12px;\n",
              "    }\n",
              "\n",
              "    .colab-df-convert {\n",
              "      background-color: #E8F0FE;\n",
              "      border: none;\n",
              "      border-radius: 50%;\n",
              "      cursor: pointer;\n",
              "      display: none;\n",
              "      fill: #1967D2;\n",
              "      height: 32px;\n",
              "      padding: 0 0 0 0;\n",
              "      width: 32px;\n",
              "    }\n",
              "\n",
              "    .colab-df-convert:hover {\n",
              "      background-color: #E2EBFA;\n",
              "      box-shadow: 0px 1px 2px rgba(60, 64, 67, 0.3), 0px 1px 3px 1px rgba(60, 64, 67, 0.15);\n",
              "      fill: #174EA6;\n",
              "    }\n",
              "\n",
              "    [theme=dark] .colab-df-convert {\n",
              "      background-color: #3B4455;\n",
              "      fill: #D2E3FC;\n",
              "    }\n",
              "\n",
              "    [theme=dark] .colab-df-convert:hover {\n",
              "      background-color: #434B5C;\n",
              "      box-shadow: 0px 1px 3px 1px rgba(0, 0, 0, 0.15);\n",
              "      filter: drop-shadow(0px 1px 2px rgba(0, 0, 0, 0.3));\n",
              "      fill: #FFFFFF;\n",
              "    }\n",
              "  </style>\n",
              "\n",
              "      <script>\n",
              "        const buttonEl =\n",
              "          document.querySelector('#df-9f34c49a-68a2-41ee-8e60-4d91eee18c09 button.colab-df-convert');\n",
              "        buttonEl.style.display =\n",
              "          google.colab.kernel.accessAllowed ? 'block' : 'none';\n",
              "\n",
              "        async function convertToInteractive(key) {\n",
              "          const element = document.querySelector('#df-9f34c49a-68a2-41ee-8e60-4d91eee18c09');\n",
              "          const dataTable =\n",
              "            await google.colab.kernel.invokeFunction('convertToInteractive',\n",
              "                                                     [key], {});\n",
              "          if (!dataTable) return;\n",
              "\n",
              "          const docLinkHtml = 'Like what you see? Visit the ' +\n",
              "            '<a target=\"_blank\" href=https://colab.research.google.com/notebooks/data_table.ipynb>data table notebook</a>'\n",
              "            + ' to learn more about interactive tables.';\n",
              "          element.innerHTML = '';\n",
              "          dataTable['output_type'] = 'display_data';\n",
              "          await google.colab.output.renderOutput(dataTable, element);\n",
              "          const docLink = document.createElement('div');\n",
              "          docLink.innerHTML = docLinkHtml;\n",
              "          element.appendChild(docLink);\n",
              "        }\n",
              "      </script>\n",
              "    </div>\n",
              "  </div>\n",
              "  "
            ]
          },
          "metadata": {},
          "execution_count": 83
        }
      ],
      "source": [
        "df.groupby(['sexo'], sort=False).size().reset_index(name='total')"
      ]
    },
    {
      "cell_type": "markdown",
      "source": [
        "\n",
        "\n",
        "> Según los datos del registro, hay 9,226 mujeres desaparecidas y 26,675 hombres desaparecidos. La mayoría de las personas desaparecidas en México son hombres.\n",
        "\n"
      ],
      "metadata": {
        "id": "JFGXbQ1kq-X6"
      }
    },
    {
      "cell_type": "markdown",
      "source": [
        "De igual manera, podemos observar los casos de personas desaparecidas por sexo y edad."
      ],
      "metadata": {
        "id": "Ssa4V-3Lra2D"
      }
    },
    {
      "cell_type": "code",
      "execution_count": 111,
      "metadata": {
        "ExecuteTime": {
          "end_time": "2022-09-14T02:30:16.081944Z",
          "start_time": "2022-09-14T02:30:16.068544Z"
        },
        "scrolled": true,
        "colab": {
          "base_uri": "https://localhost:8080/",
          "height": 419
        },
        "id": "xoaDkc6_Betq",
        "outputId": "1e45bada-30c6-43f7-c6f9-9fd492e2f229"
      },
      "outputs": [
        {
          "output_type": "execute_result",
          "data": {
            "text/plain": [
              "       sexo  edad  total\n",
              "27   Hombre    28   3115\n",
              "25   Hombre    26    873\n",
              "126   Mujer    28    849\n",
              "20   Hombre    21    797\n",
              "114   Mujer    16    783\n",
              "..      ...   ...    ...\n",
              "186   Mujer    88      1\n",
              "187   Mujer    89      1\n",
              "94   Hombre    96      1\n",
              "191   Mujer    96      1\n",
              "192   Mujer    97      1\n",
              "\n",
              "[193 rows x 3 columns]"
            ],
            "text/html": [
              "\n",
              "  <div id=\"df-47beb1fa-b33a-4677-ac23-05492cd5a1e4\">\n",
              "    <div class=\"colab-df-container\">\n",
              "      <div>\n",
              "<style scoped>\n",
              "    .dataframe tbody tr th:only-of-type {\n",
              "        vertical-align: middle;\n",
              "    }\n",
              "\n",
              "    .dataframe tbody tr th {\n",
              "        vertical-align: top;\n",
              "    }\n",
              "\n",
              "    .dataframe thead th {\n",
              "        text-align: right;\n",
              "    }\n",
              "</style>\n",
              "<table border=\"1\" class=\"dataframe\">\n",
              "  <thead>\n",
              "    <tr style=\"text-align: right;\">\n",
              "      <th></th>\n",
              "      <th>sexo</th>\n",
              "      <th>edad</th>\n",
              "      <th>total</th>\n",
              "    </tr>\n",
              "  </thead>\n",
              "  <tbody>\n",
              "    <tr>\n",
              "      <th>27</th>\n",
              "      <td>Hombre</td>\n",
              "      <td>28</td>\n",
              "      <td>3115</td>\n",
              "    </tr>\n",
              "    <tr>\n",
              "      <th>25</th>\n",
              "      <td>Hombre</td>\n",
              "      <td>26</td>\n",
              "      <td>873</td>\n",
              "    </tr>\n",
              "    <tr>\n",
              "      <th>126</th>\n",
              "      <td>Mujer</td>\n",
              "      <td>28</td>\n",
              "      <td>849</td>\n",
              "    </tr>\n",
              "    <tr>\n",
              "      <th>20</th>\n",
              "      <td>Hombre</td>\n",
              "      <td>21</td>\n",
              "      <td>797</td>\n",
              "    </tr>\n",
              "    <tr>\n",
              "      <th>114</th>\n",
              "      <td>Mujer</td>\n",
              "      <td>16</td>\n",
              "      <td>783</td>\n",
              "    </tr>\n",
              "    <tr>\n",
              "      <th>...</th>\n",
              "      <td>...</td>\n",
              "      <td>...</td>\n",
              "      <td>...</td>\n",
              "    </tr>\n",
              "    <tr>\n",
              "      <th>186</th>\n",
              "      <td>Mujer</td>\n",
              "      <td>88</td>\n",
              "      <td>1</td>\n",
              "    </tr>\n",
              "    <tr>\n",
              "      <th>187</th>\n",
              "      <td>Mujer</td>\n",
              "      <td>89</td>\n",
              "      <td>1</td>\n",
              "    </tr>\n",
              "    <tr>\n",
              "      <th>94</th>\n",
              "      <td>Hombre</td>\n",
              "      <td>96</td>\n",
              "      <td>1</td>\n",
              "    </tr>\n",
              "    <tr>\n",
              "      <th>191</th>\n",
              "      <td>Mujer</td>\n",
              "      <td>96</td>\n",
              "      <td>1</td>\n",
              "    </tr>\n",
              "    <tr>\n",
              "      <th>192</th>\n",
              "      <td>Mujer</td>\n",
              "      <td>97</td>\n",
              "      <td>1</td>\n",
              "    </tr>\n",
              "  </tbody>\n",
              "</table>\n",
              "<p>193 rows × 3 columns</p>\n",
              "</div>\n",
              "      <button class=\"colab-df-convert\" onclick=\"convertToInteractive('df-47beb1fa-b33a-4677-ac23-05492cd5a1e4')\"\n",
              "              title=\"Convert this dataframe to an interactive table.\"\n",
              "              style=\"display:none;\">\n",
              "        \n",
              "  <svg xmlns=\"http://www.w3.org/2000/svg\" height=\"24px\"viewBox=\"0 0 24 24\"\n",
              "       width=\"24px\">\n",
              "    <path d=\"M0 0h24v24H0V0z\" fill=\"none\"/>\n",
              "    <path d=\"M18.56 5.44l.94 2.06.94-2.06 2.06-.94-2.06-.94-.94-2.06-.94 2.06-2.06.94zm-11 1L8.5 8.5l.94-2.06 2.06-.94-2.06-.94L8.5 2.5l-.94 2.06-2.06.94zm10 10l.94 2.06.94-2.06 2.06-.94-2.06-.94-.94-2.06-.94 2.06-2.06.94z\"/><path d=\"M17.41 7.96l-1.37-1.37c-.4-.4-.92-.59-1.43-.59-.52 0-1.04.2-1.43.59L10.3 9.45l-7.72 7.72c-.78.78-.78 2.05 0 2.83L4 21.41c.39.39.9.59 1.41.59.51 0 1.02-.2 1.41-.59l7.78-7.78 2.81-2.81c.8-.78.8-2.07 0-2.86zM5.41 20L4 18.59l7.72-7.72 1.47 1.35L5.41 20z\"/>\n",
              "  </svg>\n",
              "      </button>\n",
              "      \n",
              "  <style>\n",
              "    .colab-df-container {\n",
              "      display:flex;\n",
              "      flex-wrap:wrap;\n",
              "      gap: 12px;\n",
              "    }\n",
              "\n",
              "    .colab-df-convert {\n",
              "      background-color: #E8F0FE;\n",
              "      border: none;\n",
              "      border-radius: 50%;\n",
              "      cursor: pointer;\n",
              "      display: none;\n",
              "      fill: #1967D2;\n",
              "      height: 32px;\n",
              "      padding: 0 0 0 0;\n",
              "      width: 32px;\n",
              "    }\n",
              "\n",
              "    .colab-df-convert:hover {\n",
              "      background-color: #E2EBFA;\n",
              "      box-shadow: 0px 1px 2px rgba(60, 64, 67, 0.3), 0px 1px 3px 1px rgba(60, 64, 67, 0.15);\n",
              "      fill: #174EA6;\n",
              "    }\n",
              "\n",
              "    [theme=dark] .colab-df-convert {\n",
              "      background-color: #3B4455;\n",
              "      fill: #D2E3FC;\n",
              "    }\n",
              "\n",
              "    [theme=dark] .colab-df-convert:hover {\n",
              "      background-color: #434B5C;\n",
              "      box-shadow: 0px 1px 3px 1px rgba(0, 0, 0, 0.15);\n",
              "      filter: drop-shadow(0px 1px 2px rgba(0, 0, 0, 0.3));\n",
              "      fill: #FFFFFF;\n",
              "    }\n",
              "  </style>\n",
              "\n",
              "      <script>\n",
              "        const buttonEl =\n",
              "          document.querySelector('#df-47beb1fa-b33a-4677-ac23-05492cd5a1e4 button.colab-df-convert');\n",
              "        buttonEl.style.display =\n",
              "          google.colab.kernel.accessAllowed ? 'block' : 'none';\n",
              "\n",
              "        async function convertToInteractive(key) {\n",
              "          const element = document.querySelector('#df-47beb1fa-b33a-4677-ac23-05492cd5a1e4');\n",
              "          const dataTable =\n",
              "            await google.colab.kernel.invokeFunction('convertToInteractive',\n",
              "                                                     [key], {});\n",
              "          if (!dataTable) return;\n",
              "\n",
              "          const docLinkHtml = 'Like what you see? Visit the ' +\n",
              "            '<a target=\"_blank\" href=https://colab.research.google.com/notebooks/data_table.ipynb>data table notebook</a>'\n",
              "            + ' to learn more about interactive tables.';\n",
              "          element.innerHTML = '';\n",
              "          dataTable['output_type'] = 'display_data';\n",
              "          await google.colab.output.renderOutput(dataTable, element);\n",
              "          const docLink = document.createElement('div');\n",
              "          docLink.innerHTML = docLinkHtml;\n",
              "          element.appendChild(docLink);\n",
              "        }\n",
              "      </script>\n",
              "    </div>\n",
              "  </div>\n",
              "  "
            ]
          },
          "metadata": {},
          "execution_count": 111
        }
      ],
      "source": [
        "df.desaparecidos_sexo_edad= df.groupby(['sexo', 'edad'], sort=True).size().reset_index(name='total')\n",
        "df.desaparecidos_sexo_edad.sort_values('total', ascending= False)"
      ]
    },
    {
      "cell_type": "markdown",
      "source": [
        "\n",
        "\n",
        "> Los hombres de 28, 26, y 21 años de edad son las personas que tienen el mayor registro de desaparecidos, mientras que las mujeres de 28 y 16 años son las más vulnerables en la crisis de personas desaparecidas. De igual forma se puede ver que las personas de la tercera edad son las que menos registros de desaparición tienen.\n",
        "\n"
      ],
      "metadata": {
        "id": "vtSir769smTP"
      }
    },
    {
      "cell_type": "markdown",
      "source": [
        "Para poder saber la proporción de menores de edad que desaparecen a comparación de los mayores de edad se ejecuta un test en donde se evalúa si la edad registrada es mayor/igual o menor a 18."
      ],
      "metadata": {
        "id": "yNrRlNUUtSF-"
      }
    },
    {
      "cell_type": "code",
      "execution_count": 86,
      "metadata": {
        "ExecuteTime": {
          "end_time": "2022-09-14T02:57:10.630589Z",
          "start_time": "2022-09-14T02:57:10.626145Z"
        },
        "id": "O0UrWKWjBetq"
      },
      "outputs": [],
      "source": [
        "test = {\n",
        "    'Mayor de edad': (df['edad'] >= 18).sum(),\n",
        "    'Menor de edad': (df['edad'] < 18).sum()\n",
        "}"
      ]
    },
    {
      "cell_type": "code",
      "execution_count": 87,
      "metadata": {
        "ExecuteTime": {
          "end_time": "2022-09-14T02:57:16.854715Z",
          "start_time": "2022-09-14T02:57:16.849809Z"
        },
        "colab": {
          "base_uri": "https://localhost:8080/",
          "height": 80
        },
        "id": "l9hBllb6Betr",
        "outputId": "fa8d4e86-bef9-4e06-ec11-e5fc25501111"
      },
      "outputs": [
        {
          "output_type": "execute_result",
          "data": {
            "text/plain": [
              "   Mayor de edad  Menor de edad\n",
              "1          29466           6435"
            ],
            "text/html": [
              "\n",
              "  <div id=\"df-89601b30-f177-4e23-9c12-7175a8b8cefd\">\n",
              "    <div class=\"colab-df-container\">\n",
              "      <div>\n",
              "<style scoped>\n",
              "    .dataframe tbody tr th:only-of-type {\n",
              "        vertical-align: middle;\n",
              "    }\n",
              "\n",
              "    .dataframe tbody tr th {\n",
              "        vertical-align: top;\n",
              "    }\n",
              "\n",
              "    .dataframe thead th {\n",
              "        text-align: right;\n",
              "    }\n",
              "</style>\n",
              "<table border=\"1\" class=\"dataframe\">\n",
              "  <thead>\n",
              "    <tr style=\"text-align: right;\">\n",
              "      <th></th>\n",
              "      <th>Mayor de edad</th>\n",
              "      <th>Menor de edad</th>\n",
              "    </tr>\n",
              "  </thead>\n",
              "  <tbody>\n",
              "    <tr>\n",
              "      <th>1</th>\n",
              "      <td>29466</td>\n",
              "      <td>6435</td>\n",
              "    </tr>\n",
              "  </tbody>\n",
              "</table>\n",
              "</div>\n",
              "      <button class=\"colab-df-convert\" onclick=\"convertToInteractive('df-89601b30-f177-4e23-9c12-7175a8b8cefd')\"\n",
              "              title=\"Convert this dataframe to an interactive table.\"\n",
              "              style=\"display:none;\">\n",
              "        \n",
              "  <svg xmlns=\"http://www.w3.org/2000/svg\" height=\"24px\"viewBox=\"0 0 24 24\"\n",
              "       width=\"24px\">\n",
              "    <path d=\"M0 0h24v24H0V0z\" fill=\"none\"/>\n",
              "    <path d=\"M18.56 5.44l.94 2.06.94-2.06 2.06-.94-2.06-.94-.94-2.06-.94 2.06-2.06.94zm-11 1L8.5 8.5l.94-2.06 2.06-.94-2.06-.94L8.5 2.5l-.94 2.06-2.06.94zm10 10l.94 2.06.94-2.06 2.06-.94-2.06-.94-.94-2.06-.94 2.06-2.06.94z\"/><path d=\"M17.41 7.96l-1.37-1.37c-.4-.4-.92-.59-1.43-.59-.52 0-1.04.2-1.43.59L10.3 9.45l-7.72 7.72c-.78.78-.78 2.05 0 2.83L4 21.41c.39.39.9.59 1.41.59.51 0 1.02-.2 1.41-.59l7.78-7.78 2.81-2.81c.8-.78.8-2.07 0-2.86zM5.41 20L4 18.59l7.72-7.72 1.47 1.35L5.41 20z\"/>\n",
              "  </svg>\n",
              "      </button>\n",
              "      \n",
              "  <style>\n",
              "    .colab-df-container {\n",
              "      display:flex;\n",
              "      flex-wrap:wrap;\n",
              "      gap: 12px;\n",
              "    }\n",
              "\n",
              "    .colab-df-convert {\n",
              "      background-color: #E8F0FE;\n",
              "      border: none;\n",
              "      border-radius: 50%;\n",
              "      cursor: pointer;\n",
              "      display: none;\n",
              "      fill: #1967D2;\n",
              "      height: 32px;\n",
              "      padding: 0 0 0 0;\n",
              "      width: 32px;\n",
              "    }\n",
              "\n",
              "    .colab-df-convert:hover {\n",
              "      background-color: #E2EBFA;\n",
              "      box-shadow: 0px 1px 2px rgba(60, 64, 67, 0.3), 0px 1px 3px 1px rgba(60, 64, 67, 0.15);\n",
              "      fill: #174EA6;\n",
              "    }\n",
              "\n",
              "    [theme=dark] .colab-df-convert {\n",
              "      background-color: #3B4455;\n",
              "      fill: #D2E3FC;\n",
              "    }\n",
              "\n",
              "    [theme=dark] .colab-df-convert:hover {\n",
              "      background-color: #434B5C;\n",
              "      box-shadow: 0px 1px 3px 1px rgba(0, 0, 0, 0.15);\n",
              "      filter: drop-shadow(0px 1px 2px rgba(0, 0, 0, 0.3));\n",
              "      fill: #FFFFFF;\n",
              "    }\n",
              "  </style>\n",
              "\n",
              "      <script>\n",
              "        const buttonEl =\n",
              "          document.querySelector('#df-89601b30-f177-4e23-9c12-7175a8b8cefd button.colab-df-convert');\n",
              "        buttonEl.style.display =\n",
              "          google.colab.kernel.accessAllowed ? 'block' : 'none';\n",
              "\n",
              "        async function convertToInteractive(key) {\n",
              "          const element = document.querySelector('#df-89601b30-f177-4e23-9c12-7175a8b8cefd');\n",
              "          const dataTable =\n",
              "            await google.colab.kernel.invokeFunction('convertToInteractive',\n",
              "                                                     [key], {});\n",
              "          if (!dataTable) return;\n",
              "\n",
              "          const docLinkHtml = 'Like what you see? Visit the ' +\n",
              "            '<a target=\"_blank\" href=https://colab.research.google.com/notebooks/data_table.ipynb>data table notebook</a>'\n",
              "            + ' to learn more about interactive tables.';\n",
              "          element.innerHTML = '';\n",
              "          dataTable['output_type'] = 'display_data';\n",
              "          await google.colab.output.renderOutput(dataTable, element);\n",
              "          const docLink = document.createElement('div');\n",
              "          docLink.innerHTML = docLinkHtml;\n",
              "          element.appendChild(docLink);\n",
              "        }\n",
              "      </script>\n",
              "    </div>\n",
              "  </div>\n",
              "  "
            ]
          },
          "metadata": {},
          "execution_count": 87
        }
      ],
      "source": [
        "pd.DataFrame(test, index=[1])"
      ]
    },
    {
      "cell_type": "markdown",
      "source": [
        "\n",
        "\n",
        "> Hay 29,466 casos de mayores de edad desaparecidos, siendo esto el 82% del total (35,901) de los registros de personas desaparecidas. Los menores de edad forman alrededor del 18% de los casos de personas desaparecidas.\n",
        "\n"
      ],
      "metadata": {
        "id": "jJ9x9ItSuFL2"
      }
    },
    {
      "cell_type": "markdown",
      "source": [
        "Según los resultados obtenidos, desaparecen más hombres que mujeres en México. Adicionalmente, desaparecen más personas mayores de edad que menores de edad."
      ],
      "metadata": {
        "id": "1CKUk2fsuzI7"
      }
    },
    {
      "cell_type": "markdown",
      "source": [
        "**¿Existe una relación entre el sexo de la persona desaparecida con respecto al lugar de desaparición?**\n",
        "\n",
        "---\n",
        "\n"
      ],
      "metadata": {
        "id": "4C2Pqj0jvcS_"
      }
    },
    {
      "cell_type": "markdown",
      "source": [
        "Con la información que ofrece el registro no se puede afirmar que exista una relación directa entre el lugar de desaparición y el sexo de la persona. Sin embargo se puede visualizar cuál es la frecuencia de edad más común de las personas según su sexo y lugar de desaparición."
      ],
      "metadata": {
        "id": "V6s4V4YnvftS"
      }
    },
    {
      "cell_type": "code",
      "execution_count": 112,
      "metadata": {
        "ExecuteTime": {
          "end_time": "2022-09-14T02:41:20.383398Z",
          "start_time": "2022-09-14T02:41:20.367230Z"
        },
        "colab": {
          "base_uri": "https://localhost:8080/",
          "height": 142
        },
        "id": "e5zE1pS8Betr",
        "outputId": "66c901b2-2bc7-4b5c-bbe0-e955e225aa39"
      },
      "outputs": [
        {
          "output_type": "execute_result",
          "data": {
            "text/plain": [
              "        edad           entidad\n",
              "sexo                          \n",
              "Hombre    28        Tamaulipas\n",
              "Mujer     28  Estado De Mexico"
            ],
            "text/html": [
              "\n",
              "  <div id=\"df-09883832-4be5-4f8c-9578-8d005750d4e9\">\n",
              "    <div class=\"colab-df-container\">\n",
              "      <div>\n",
              "<style scoped>\n",
              "    .dataframe tbody tr th:only-of-type {\n",
              "        vertical-align: middle;\n",
              "    }\n",
              "\n",
              "    .dataframe tbody tr th {\n",
              "        vertical-align: top;\n",
              "    }\n",
              "\n",
              "    .dataframe thead th {\n",
              "        text-align: right;\n",
              "    }\n",
              "</style>\n",
              "<table border=\"1\" class=\"dataframe\">\n",
              "  <thead>\n",
              "    <tr style=\"text-align: right;\">\n",
              "      <th></th>\n",
              "      <th>edad</th>\n",
              "      <th>entidad</th>\n",
              "    </tr>\n",
              "    <tr>\n",
              "      <th>sexo</th>\n",
              "      <th></th>\n",
              "      <th></th>\n",
              "    </tr>\n",
              "  </thead>\n",
              "  <tbody>\n",
              "    <tr>\n",
              "      <th>Hombre</th>\n",
              "      <td>28</td>\n",
              "      <td>Tamaulipas</td>\n",
              "    </tr>\n",
              "    <tr>\n",
              "      <th>Mujer</th>\n",
              "      <td>28</td>\n",
              "      <td>Estado De Mexico</td>\n",
              "    </tr>\n",
              "  </tbody>\n",
              "</table>\n",
              "</div>\n",
              "      <button class=\"colab-df-convert\" onclick=\"convertToInteractive('df-09883832-4be5-4f8c-9578-8d005750d4e9')\"\n",
              "              title=\"Convert this dataframe to an interactive table.\"\n",
              "              style=\"display:none;\">\n",
              "        \n",
              "  <svg xmlns=\"http://www.w3.org/2000/svg\" height=\"24px\"viewBox=\"0 0 24 24\"\n",
              "       width=\"24px\">\n",
              "    <path d=\"M0 0h24v24H0V0z\" fill=\"none\"/>\n",
              "    <path d=\"M18.56 5.44l.94 2.06.94-2.06 2.06-.94-2.06-.94-.94-2.06-.94 2.06-2.06.94zm-11 1L8.5 8.5l.94-2.06 2.06-.94-2.06-.94L8.5 2.5l-.94 2.06-2.06.94zm10 10l.94 2.06.94-2.06 2.06-.94-2.06-.94-.94-2.06-.94 2.06-2.06.94z\"/><path d=\"M17.41 7.96l-1.37-1.37c-.4-.4-.92-.59-1.43-.59-.52 0-1.04.2-1.43.59L10.3 9.45l-7.72 7.72c-.78.78-.78 2.05 0 2.83L4 21.41c.39.39.9.59 1.41.59.51 0 1.02-.2 1.41-.59l7.78-7.78 2.81-2.81c.8-.78.8-2.07 0-2.86zM5.41 20L4 18.59l7.72-7.72 1.47 1.35L5.41 20z\"/>\n",
              "  </svg>\n",
              "      </button>\n",
              "      \n",
              "  <style>\n",
              "    .colab-df-container {\n",
              "      display:flex;\n",
              "      flex-wrap:wrap;\n",
              "      gap: 12px;\n",
              "    }\n",
              "\n",
              "    .colab-df-convert {\n",
              "      background-color: #E8F0FE;\n",
              "      border: none;\n",
              "      border-radius: 50%;\n",
              "      cursor: pointer;\n",
              "      display: none;\n",
              "      fill: #1967D2;\n",
              "      height: 32px;\n",
              "      padding: 0 0 0 0;\n",
              "      width: 32px;\n",
              "    }\n",
              "\n",
              "    .colab-df-convert:hover {\n",
              "      background-color: #E2EBFA;\n",
              "      box-shadow: 0px 1px 2px rgba(60, 64, 67, 0.3), 0px 1px 3px 1px rgba(60, 64, 67, 0.15);\n",
              "      fill: #174EA6;\n",
              "    }\n",
              "\n",
              "    [theme=dark] .colab-df-convert {\n",
              "      background-color: #3B4455;\n",
              "      fill: #D2E3FC;\n",
              "    }\n",
              "\n",
              "    [theme=dark] .colab-df-convert:hover {\n",
              "      background-color: #434B5C;\n",
              "      box-shadow: 0px 1px 3px 1px rgba(0, 0, 0, 0.15);\n",
              "      filter: drop-shadow(0px 1px 2px rgba(0, 0, 0, 0.3));\n",
              "      fill: #FFFFFF;\n",
              "    }\n",
              "  </style>\n",
              "\n",
              "      <script>\n",
              "        const buttonEl =\n",
              "          document.querySelector('#df-09883832-4be5-4f8c-9578-8d005750d4e9 button.colab-df-convert');\n",
              "        buttonEl.style.display =\n",
              "          google.colab.kernel.accessAllowed ? 'block' : 'none';\n",
              "\n",
              "        async function convertToInteractive(key) {\n",
              "          const element = document.querySelector('#df-09883832-4be5-4f8c-9578-8d005750d4e9');\n",
              "          const dataTable =\n",
              "            await google.colab.kernel.invokeFunction('convertToInteractive',\n",
              "                                                     [key], {});\n",
              "          if (!dataTable) return;\n",
              "\n",
              "          const docLinkHtml = 'Like what you see? Visit the ' +\n",
              "            '<a target=\"_blank\" href=https://colab.research.google.com/notebooks/data_table.ipynb>data table notebook</a>'\n",
              "            + ' to learn more about interactive tables.';\n",
              "          element.innerHTML = '';\n",
              "          dataTable['output_type'] = 'display_data';\n",
              "          await google.colab.output.renderOutput(dataTable, element);\n",
              "          const docLink = document.createElement('div');\n",
              "          docLink.innerHTML = docLinkHtml;\n",
              "          element.appendChild(docLink);\n",
              "        }\n",
              "      </script>\n",
              "    </div>\n",
              "  </div>\n",
              "  "
            ]
          },
          "metadata": {},
          "execution_count": 112
        }
      ],
      "source": [
        "df.groupby('sexo')[['edad', 'entidad']].agg(pd.Series.mode)"
      ]
    },
    {
      "cell_type": "markdown",
      "source": [
        "\n",
        "\n",
        "> La edad, tanto de hombres como mujeres, con más casos de desaparecidos es de 28 años. No obstante, para los hombres el lugar de la desaparición es en Tamaulipas. Las mujeres tienen más casos de desaparición en el Estado de México. Esto va acorde a la investigación realizada en el proyecto dado que existe un aumento de violencia a las mujeres en el Estado de México. De igual manera, en el norte del país existe mucha violencia de grupos armados liderados en su mayoría por hombres.\n",
        "\n"
      ],
      "metadata": {
        "id": "vQIC4u2AwO0z"
      }
    },
    {
      "cell_type": "markdown",
      "source": [
        "A pesar de que esto no es una confirmación absoluta de que existe una relación entre la edad, el sexo, y el lugar de desaparición, podría llegar a ser un dato que respalde una investigación formal al respecto."
      ],
      "metadata": {
        "id": "Wdc_iJIEyBZV"
      }
    },
    {
      "cell_type": "markdown",
      "source": [
        "**¿Cuánto tiempo desaparecen las personas que encuentran?**\n",
        "\n",
        "\n",
        "---\n",
        "\n",
        "\n",
        "\n"
      ],
      "metadata": {
        "id": "8Jue36KOyjPX"
      }
    },
    {
      "cell_type": "markdown",
      "source": [
        "El registro usado en este proyecto no cuenta con el estado del caso, es decir si la persona registrada fue encontrada o no lo fue. Es por esto que esta pregunta no se puede responder en su totalidad. Sin embargo, saber cuántos días lleva la persona desaparecida es información relevante. Con los datos del registro es posible añadir una columna que indique los días que han transcurrido desde su desaparición."
      ],
      "metadata": {
        "id": "vQxgcanUyxuS"
      }
    },
    {
      "cell_type": "markdown",
      "source": [
        "Ya que el registro no contiene datos al día de hoy, no podemos asumir que las personas siguen desaparecidas en el presente. Por esto, vamos a tomar la última fecha que existe en el registro para hacer el conteo de días que han transcurrido desde su desaparición.\n",
        "\n"
      ],
      "metadata": {
        "id": "MYmSBoIFytVF"
      }
    },
    {
      "cell_type": "code",
      "execution_count": 90,
      "metadata": {
        "ExecuteTime": {
          "end_time": "2022-09-14T03:10:31.992780Z",
          "start_time": "2022-09-14T03:10:31.986892Z"
        },
        "scrolled": true,
        "colab": {
          "base_uri": "https://localhost:8080/"
        },
        "id": "kLPe5t2CBets",
        "outputId": "8ff39ab2-301a-404d-b90a-7f3350be8cd9"
      },
      "outputs": [
        {
          "output_type": "execute_result",
          "data": {
            "text/plain": [
              "Timestamp('2018-04-29 00:00:00')"
            ]
          },
          "metadata": {},
          "execution_count": 90
        }
      ],
      "source": [
        "df['fecha'].max()"
      ]
    },
    {
      "cell_type": "markdown",
      "source": [
        "\n",
        "\n",
        "> La última fecha que se encuentra registrada es del 29 de Abril del 2018.\n",
        "\n"
      ],
      "metadata": {
        "id": "oGMOm2UGz7fo"
      }
    },
    {
      "cell_type": "markdown",
      "metadata": {
        "id": "AWcrXP07Bets"
      },
      "source": [
        "En la información del catálogo de datos abiertos del Gobierno, las cifras presentan el total de registros de personas relacionadas con averiguaciones previas, carpetas de investigación o actas circunstanciadas del fuero común que permanecen sin localizar al corte del 30 de abril del 2018 distribuidas por año. Por tanto, tomaremos como última fecha el 30 de Abril del 2018."
      ]
    },
    {
      "cell_type": "markdown",
      "source": [
        "Definiendo la función `dias_desaparecidos` podemos hacer la resta de la fecha establecida como la fecha límite y la fecha de desaparición por cada caso. Usando `.apply` podemos realizar la resta elemento por elemento en el `DataFrame`. De esta manera calculamos los días que la persona lleva como desaparecida."
      ],
      "metadata": {
        "id": "Ivhll4kd0cpO"
      }
    },
    {
      "cell_type": "code",
      "execution_count": 91,
      "metadata": {
        "ExecuteTime": {
          "end_time": "2022-09-14T03:19:27.588210Z",
          "start_time": "2022-09-14T03:19:27.585363Z"
        },
        "id": "sHdvQn2VBets"
      },
      "outputs": [],
      "source": [
        "def dias_desaparecidos(value):\n",
        "    as_datetime = pd.to_datetime(value, unit='ms')\n",
        "    ultima_fecha = pd.to_datetime('2018-04-30')\n",
        "    dias_diferencia = (ultima_fecha - as_datetime).days\n",
        "    return dias_diferencia"
      ]
    },
    {
      "cell_type": "code",
      "execution_count": 92,
      "metadata": {
        "ExecuteTime": {
          "end_time": "2022-09-14T03:20:01.188027Z",
          "start_time": "2022-09-14T03:19:59.377095Z"
        },
        "id": "y2mG5grMBets"
      },
      "outputs": [],
      "source": [
        "df['dias_desaparecido'] = df['fecha'].apply(dias_desaparecidos)"
      ]
    },
    {
      "cell_type": "code",
      "execution_count": 93,
      "metadata": {
        "ExecuteTime": {
          "end_time": "2022-09-14T03:20:03.457105Z",
          "start_time": "2022-09-14T03:20:03.440396Z"
        },
        "colab": {
          "base_uri": "https://localhost:8080/",
          "height": 806
        },
        "id": "NWVuYvvDBett",
        "outputId": "8613d59b-f159-457c-ba0d-cf575ce4053a"
      },
      "outputs": [
        {
          "output_type": "execute_result",
          "data": {
            "text/plain": [
              "           fecha      hora           entidad                 municipio  \\\n",
              "1     2012-03-18  05:00:00            Sonora                   Navojoa   \n",
              "2     2007-02-05  02:00:26  Estado De Mexico            Valle De Bravo   \n",
              "3     2009-03-14  08:30:54  Estado De Mexico                    Chalco   \n",
              "4     2006-12-23  08:00:28  Estado De Mexico       Tlalnepantla De Baz   \n",
              "5     2008-01-11  12:00:17  Estado De Mexico                    Toluca   \n",
              "...          ...       ...               ...                       ...   \n",
              "35897 2018-04-26  08:00:00            Puebla                    Puebla   \n",
              "35898 2018-01-08  11:00:00            Colima          Villa De Alvarez   \n",
              "35899 2015-02-02  07:00:00            Puebla                     Chila   \n",
              "35900 2017-08-22  04:00:00            Colima          Villa De Alvarez   \n",
              "35901 2018-04-11  02:00:00        Nuevo Leon  San Nicolas De Los Garza   \n",
              "\n",
              "                      localidad nacionalidad  estatura complexion    sexo  \\\n",
              "1                       Navojoa     Mexicana      1.10    Delgada   Mujer   \n",
              "2                Valle De Bravo     Mexicana      1.10    Delgada   Mujer   \n",
              "3                        Chalco     Mexicana      1.10    Delgada  Hombre   \n",
              "4           Tlalnepantla De Baz     Mexicana      1.10    Delgada  Hombre   \n",
              "5                        Toluca     Mexicana      1.10    Delgada  Hombre   \n",
              "...                         ...          ...       ...        ...     ...   \n",
              "35897                    Puebla     Mexicana      1.60    Delgada  Hombre   \n",
              "35898          Villa De Alvarez     Mexicana      1.70    Robusta   Mujer   \n",
              "35899      Chilas De Las Flores     Mexicana      1.77    Mediana   Mujer   \n",
              "35900          Villa De Alvarez     Mexicana      1.76    Robusta  Hombre   \n",
              "35901  San Nicolas De Los Garza     Mexicana      1.60    Delgada   Mujer   \n",
              "\n",
              "       edad                                 senas_particulares discapacidad  \\\n",
              "1         7  Tiene Una Cicatriz En La Rodilla Izquierda Por...      Ninguno   \n",
              "2         4                                    No Especificado      Ninguno   \n",
              "3         6  Manchas, Parte Superior De Pierna Derecha, Cic...      Ninguno   \n",
              "4        10  Lunares, A La Altura De La Cinturaforma De Man...      Ninguno   \n",
              "5         4                                    No Especificado      Ninguno   \n",
              "...     ...                                                ...          ...   \n",
              "35897    22  Lunar En La Mejilla Y Tatuaje En El Cuello En ...      Ninguno   \n",
              "35898    27  El Ojo Izquierdo Tiene Un Enfermedad Como Tic,...      Ninguno   \n",
              "35899    86                                    No Especificado      Ninguno   \n",
              "35900    41  Tatuaje En El Brazo Izquierdo Con La Imagen De...      Ninguno   \n",
              "35901    14                                    No Especificado      Ninguno   \n",
              "\n",
              "            dependecia_origen  dias_desaparecido  \n",
              "1                FGE - Sonora               2234  \n",
              "2      FGJ - Estado De Mexico               4102  \n",
              "3      FGJ - Estado De Mexico               3334  \n",
              "4      FGJ - Estado De Mexico               4146  \n",
              "5      FGJ - Estado De Mexico               3762  \n",
              "...                       ...                ...  \n",
              "35897            FGE - Puebla                  4  \n",
              "35898            PGJ - Colima                112  \n",
              "35899            FGE - Puebla               1183  \n",
              "35900            PGJ - Colima                251  \n",
              "35901        PGJ - Nuevo Leon                 19  \n",
              "\n",
              "[35901 rows x 14 columns]"
            ],
            "text/html": [
              "\n",
              "  <div id=\"df-d0897d0a-3605-4f84-b42d-8a2c5e970f1e\">\n",
              "    <div class=\"colab-df-container\">\n",
              "      <div>\n",
              "<style scoped>\n",
              "    .dataframe tbody tr th:only-of-type {\n",
              "        vertical-align: middle;\n",
              "    }\n",
              "\n",
              "    .dataframe tbody tr th {\n",
              "        vertical-align: top;\n",
              "    }\n",
              "\n",
              "    .dataframe thead th {\n",
              "        text-align: right;\n",
              "    }\n",
              "</style>\n",
              "<table border=\"1\" class=\"dataframe\">\n",
              "  <thead>\n",
              "    <tr style=\"text-align: right;\">\n",
              "      <th></th>\n",
              "      <th>fecha</th>\n",
              "      <th>hora</th>\n",
              "      <th>entidad</th>\n",
              "      <th>municipio</th>\n",
              "      <th>localidad</th>\n",
              "      <th>nacionalidad</th>\n",
              "      <th>estatura</th>\n",
              "      <th>complexion</th>\n",
              "      <th>sexo</th>\n",
              "      <th>edad</th>\n",
              "      <th>senas_particulares</th>\n",
              "      <th>discapacidad</th>\n",
              "      <th>dependecia_origen</th>\n",
              "      <th>dias_desaparecido</th>\n",
              "    </tr>\n",
              "  </thead>\n",
              "  <tbody>\n",
              "    <tr>\n",
              "      <th>1</th>\n",
              "      <td>2012-03-18</td>\n",
              "      <td>05:00:00</td>\n",
              "      <td>Sonora</td>\n",
              "      <td>Navojoa</td>\n",
              "      <td>Navojoa</td>\n",
              "      <td>Mexicana</td>\n",
              "      <td>1.10</td>\n",
              "      <td>Delgada</td>\n",
              "      <td>Mujer</td>\n",
              "      <td>7</td>\n",
              "      <td>Tiene Una Cicatriz En La Rodilla Izquierda Por...</td>\n",
              "      <td>Ninguno</td>\n",
              "      <td>FGE - Sonora</td>\n",
              "      <td>2234</td>\n",
              "    </tr>\n",
              "    <tr>\n",
              "      <th>2</th>\n",
              "      <td>2007-02-05</td>\n",
              "      <td>02:00:26</td>\n",
              "      <td>Estado De Mexico</td>\n",
              "      <td>Valle De Bravo</td>\n",
              "      <td>Valle De Bravo</td>\n",
              "      <td>Mexicana</td>\n",
              "      <td>1.10</td>\n",
              "      <td>Delgada</td>\n",
              "      <td>Mujer</td>\n",
              "      <td>4</td>\n",
              "      <td>No Especificado</td>\n",
              "      <td>Ninguno</td>\n",
              "      <td>FGJ - Estado De Mexico</td>\n",
              "      <td>4102</td>\n",
              "    </tr>\n",
              "    <tr>\n",
              "      <th>3</th>\n",
              "      <td>2009-03-14</td>\n",
              "      <td>08:30:54</td>\n",
              "      <td>Estado De Mexico</td>\n",
              "      <td>Chalco</td>\n",
              "      <td>Chalco</td>\n",
              "      <td>Mexicana</td>\n",
              "      <td>1.10</td>\n",
              "      <td>Delgada</td>\n",
              "      <td>Hombre</td>\n",
              "      <td>6</td>\n",
              "      <td>Manchas, Parte Superior De Pierna Derecha, Cic...</td>\n",
              "      <td>Ninguno</td>\n",
              "      <td>FGJ - Estado De Mexico</td>\n",
              "      <td>3334</td>\n",
              "    </tr>\n",
              "    <tr>\n",
              "      <th>4</th>\n",
              "      <td>2006-12-23</td>\n",
              "      <td>08:00:28</td>\n",
              "      <td>Estado De Mexico</td>\n",
              "      <td>Tlalnepantla De Baz</td>\n",
              "      <td>Tlalnepantla De Baz</td>\n",
              "      <td>Mexicana</td>\n",
              "      <td>1.10</td>\n",
              "      <td>Delgada</td>\n",
              "      <td>Hombre</td>\n",
              "      <td>10</td>\n",
              "      <td>Lunares, A La Altura De La Cinturaforma De Man...</td>\n",
              "      <td>Ninguno</td>\n",
              "      <td>FGJ - Estado De Mexico</td>\n",
              "      <td>4146</td>\n",
              "    </tr>\n",
              "    <tr>\n",
              "      <th>5</th>\n",
              "      <td>2008-01-11</td>\n",
              "      <td>12:00:17</td>\n",
              "      <td>Estado De Mexico</td>\n",
              "      <td>Toluca</td>\n",
              "      <td>Toluca</td>\n",
              "      <td>Mexicana</td>\n",
              "      <td>1.10</td>\n",
              "      <td>Delgada</td>\n",
              "      <td>Hombre</td>\n",
              "      <td>4</td>\n",
              "      <td>No Especificado</td>\n",
              "      <td>Ninguno</td>\n",
              "      <td>FGJ - Estado De Mexico</td>\n",
              "      <td>3762</td>\n",
              "    </tr>\n",
              "    <tr>\n",
              "      <th>...</th>\n",
              "      <td>...</td>\n",
              "      <td>...</td>\n",
              "      <td>...</td>\n",
              "      <td>...</td>\n",
              "      <td>...</td>\n",
              "      <td>...</td>\n",
              "      <td>...</td>\n",
              "      <td>...</td>\n",
              "      <td>...</td>\n",
              "      <td>...</td>\n",
              "      <td>...</td>\n",
              "      <td>...</td>\n",
              "      <td>...</td>\n",
              "      <td>...</td>\n",
              "    </tr>\n",
              "    <tr>\n",
              "      <th>35897</th>\n",
              "      <td>2018-04-26</td>\n",
              "      <td>08:00:00</td>\n",
              "      <td>Puebla</td>\n",
              "      <td>Puebla</td>\n",
              "      <td>Puebla</td>\n",
              "      <td>Mexicana</td>\n",
              "      <td>1.60</td>\n",
              "      <td>Delgada</td>\n",
              "      <td>Hombre</td>\n",
              "      <td>22</td>\n",
              "      <td>Lunar En La Mejilla Y Tatuaje En El Cuello En ...</td>\n",
              "      <td>Ninguno</td>\n",
              "      <td>FGE - Puebla</td>\n",
              "      <td>4</td>\n",
              "    </tr>\n",
              "    <tr>\n",
              "      <th>35898</th>\n",
              "      <td>2018-01-08</td>\n",
              "      <td>11:00:00</td>\n",
              "      <td>Colima</td>\n",
              "      <td>Villa De Alvarez</td>\n",
              "      <td>Villa De Alvarez</td>\n",
              "      <td>Mexicana</td>\n",
              "      <td>1.70</td>\n",
              "      <td>Robusta</td>\n",
              "      <td>Mujer</td>\n",
              "      <td>27</td>\n",
              "      <td>El Ojo Izquierdo Tiene Un Enfermedad Como Tic,...</td>\n",
              "      <td>Ninguno</td>\n",
              "      <td>PGJ - Colima</td>\n",
              "      <td>112</td>\n",
              "    </tr>\n",
              "    <tr>\n",
              "      <th>35899</th>\n",
              "      <td>2015-02-02</td>\n",
              "      <td>07:00:00</td>\n",
              "      <td>Puebla</td>\n",
              "      <td>Chila</td>\n",
              "      <td>Chilas De Las Flores</td>\n",
              "      <td>Mexicana</td>\n",
              "      <td>1.77</td>\n",
              "      <td>Mediana</td>\n",
              "      <td>Mujer</td>\n",
              "      <td>86</td>\n",
              "      <td>No Especificado</td>\n",
              "      <td>Ninguno</td>\n",
              "      <td>FGE - Puebla</td>\n",
              "      <td>1183</td>\n",
              "    </tr>\n",
              "    <tr>\n",
              "      <th>35900</th>\n",
              "      <td>2017-08-22</td>\n",
              "      <td>04:00:00</td>\n",
              "      <td>Colima</td>\n",
              "      <td>Villa De Alvarez</td>\n",
              "      <td>Villa De Alvarez</td>\n",
              "      <td>Mexicana</td>\n",
              "      <td>1.76</td>\n",
              "      <td>Robusta</td>\n",
              "      <td>Hombre</td>\n",
              "      <td>41</td>\n",
              "      <td>Tatuaje En El Brazo Izquierdo Con La Imagen De...</td>\n",
              "      <td>Ninguno</td>\n",
              "      <td>PGJ - Colima</td>\n",
              "      <td>251</td>\n",
              "    </tr>\n",
              "    <tr>\n",
              "      <th>35901</th>\n",
              "      <td>2018-04-11</td>\n",
              "      <td>02:00:00</td>\n",
              "      <td>Nuevo Leon</td>\n",
              "      <td>San Nicolas De Los Garza</td>\n",
              "      <td>San Nicolas De Los Garza</td>\n",
              "      <td>Mexicana</td>\n",
              "      <td>1.60</td>\n",
              "      <td>Delgada</td>\n",
              "      <td>Mujer</td>\n",
              "      <td>14</td>\n",
              "      <td>No Especificado</td>\n",
              "      <td>Ninguno</td>\n",
              "      <td>PGJ - Nuevo Leon</td>\n",
              "      <td>19</td>\n",
              "    </tr>\n",
              "  </tbody>\n",
              "</table>\n",
              "<p>35901 rows × 14 columns</p>\n",
              "</div>\n",
              "      <button class=\"colab-df-convert\" onclick=\"convertToInteractive('df-d0897d0a-3605-4f84-b42d-8a2c5e970f1e')\"\n",
              "              title=\"Convert this dataframe to an interactive table.\"\n",
              "              style=\"display:none;\">\n",
              "        \n",
              "  <svg xmlns=\"http://www.w3.org/2000/svg\" height=\"24px\"viewBox=\"0 0 24 24\"\n",
              "       width=\"24px\">\n",
              "    <path d=\"M0 0h24v24H0V0z\" fill=\"none\"/>\n",
              "    <path d=\"M18.56 5.44l.94 2.06.94-2.06 2.06-.94-2.06-.94-.94-2.06-.94 2.06-2.06.94zm-11 1L8.5 8.5l.94-2.06 2.06-.94-2.06-.94L8.5 2.5l-.94 2.06-2.06.94zm10 10l.94 2.06.94-2.06 2.06-.94-2.06-.94-.94-2.06-.94 2.06-2.06.94z\"/><path d=\"M17.41 7.96l-1.37-1.37c-.4-.4-.92-.59-1.43-.59-.52 0-1.04.2-1.43.59L10.3 9.45l-7.72 7.72c-.78.78-.78 2.05 0 2.83L4 21.41c.39.39.9.59 1.41.59.51 0 1.02-.2 1.41-.59l7.78-7.78 2.81-2.81c.8-.78.8-2.07 0-2.86zM5.41 20L4 18.59l7.72-7.72 1.47 1.35L5.41 20z\"/>\n",
              "  </svg>\n",
              "      </button>\n",
              "      \n",
              "  <style>\n",
              "    .colab-df-container {\n",
              "      display:flex;\n",
              "      flex-wrap:wrap;\n",
              "      gap: 12px;\n",
              "    }\n",
              "\n",
              "    .colab-df-convert {\n",
              "      background-color: #E8F0FE;\n",
              "      border: none;\n",
              "      border-radius: 50%;\n",
              "      cursor: pointer;\n",
              "      display: none;\n",
              "      fill: #1967D2;\n",
              "      height: 32px;\n",
              "      padding: 0 0 0 0;\n",
              "      width: 32px;\n",
              "    }\n",
              "\n",
              "    .colab-df-convert:hover {\n",
              "      background-color: #E2EBFA;\n",
              "      box-shadow: 0px 1px 2px rgba(60, 64, 67, 0.3), 0px 1px 3px 1px rgba(60, 64, 67, 0.15);\n",
              "      fill: #174EA6;\n",
              "    }\n",
              "\n",
              "    [theme=dark] .colab-df-convert {\n",
              "      background-color: #3B4455;\n",
              "      fill: #D2E3FC;\n",
              "    }\n",
              "\n",
              "    [theme=dark] .colab-df-convert:hover {\n",
              "      background-color: #434B5C;\n",
              "      box-shadow: 0px 1px 3px 1px rgba(0, 0, 0, 0.15);\n",
              "      filter: drop-shadow(0px 1px 2px rgba(0, 0, 0, 0.3));\n",
              "      fill: #FFFFFF;\n",
              "    }\n",
              "  </style>\n",
              "\n",
              "      <script>\n",
              "        const buttonEl =\n",
              "          document.querySelector('#df-d0897d0a-3605-4f84-b42d-8a2c5e970f1e button.colab-df-convert');\n",
              "        buttonEl.style.display =\n",
              "          google.colab.kernel.accessAllowed ? 'block' : 'none';\n",
              "\n",
              "        async function convertToInteractive(key) {\n",
              "          const element = document.querySelector('#df-d0897d0a-3605-4f84-b42d-8a2c5e970f1e');\n",
              "          const dataTable =\n",
              "            await google.colab.kernel.invokeFunction('convertToInteractive',\n",
              "                                                     [key], {});\n",
              "          if (!dataTable) return;\n",
              "\n",
              "          const docLinkHtml = 'Like what you see? Visit the ' +\n",
              "            '<a target=\"_blank\" href=https://colab.research.google.com/notebooks/data_table.ipynb>data table notebook</a>'\n",
              "            + ' to learn more about interactive tables.';\n",
              "          element.innerHTML = '';\n",
              "          dataTable['output_type'] = 'display_data';\n",
              "          await google.colab.output.renderOutput(dataTable, element);\n",
              "          const docLink = document.createElement('div');\n",
              "          docLink.innerHTML = docLinkHtml;\n",
              "          element.appendChild(docLink);\n",
              "        }\n",
              "      </script>\n",
              "    </div>\n",
              "  </div>\n",
              "  "
            ]
          },
          "metadata": {},
          "execution_count": 93
        }
      ],
      "source": [
        "df"
      ]
    },
    {
      "cell_type": "markdown",
      "source": [
        "\n",
        "\n",
        "> Ahora el `DataFrame` contiene como última columna los días de desaparecido. Podemos ver que el caso de la primera posición lleva 2,236 días de desaparecido. \n",
        "\n"
      ],
      "metadata": {
        "id": "X5rKIzmZ1RZW"
      }
    },
    {
      "cell_type": "markdown",
      "source": [
        "**¿En qué años han desaparecido más personas?**\n",
        "\n",
        "---\n",
        "\n",
        "\n"
      ],
      "metadata": {
        "id": "pZ094jq-12El"
      }
    },
    {
      "cell_type": "markdown",
      "source": [
        "Si queremos contestar la pregunta únicamente con el año, necesitamos extraer el año de la fecha y agregarlo al `DataFrame`."
      ],
      "metadata": {
        "id": "X9-j1iiL17Hj"
      }
    },
    {
      "cell_type": "code",
      "execution_count": 94,
      "metadata": {
        "ExecuteTime": {
          "end_time": "2022-09-14T03:00:05.131543Z",
          "start_time": "2022-09-14T03:00:05.127680Z"
        },
        "id": "Sk8UC5lKBetu"
      },
      "outputs": [],
      "source": [
        "df['anio'] = df['fecha'].dt.year"
      ]
    },
    {
      "cell_type": "code",
      "execution_count": 95,
      "metadata": {
        "ExecuteTime": {
          "end_time": "2022-09-14T03:00:08.070958Z",
          "start_time": "2022-09-14T03:00:08.058703Z"
        },
        "colab": {
          "base_uri": "https://localhost:8080/",
          "height": 806
        },
        "id": "nTvtwLyPBetu",
        "outputId": "07e6a222-e664-408b-e2f4-03ca0ce8f925"
      },
      "outputs": [
        {
          "output_type": "execute_result",
          "data": {
            "text/plain": [
              "           fecha      hora           entidad                 municipio  \\\n",
              "1     2012-03-18  05:00:00            Sonora                   Navojoa   \n",
              "2     2007-02-05  02:00:26  Estado De Mexico            Valle De Bravo   \n",
              "3     2009-03-14  08:30:54  Estado De Mexico                    Chalco   \n",
              "4     2006-12-23  08:00:28  Estado De Mexico       Tlalnepantla De Baz   \n",
              "5     2008-01-11  12:00:17  Estado De Mexico                    Toluca   \n",
              "...          ...       ...               ...                       ...   \n",
              "35897 2018-04-26  08:00:00            Puebla                    Puebla   \n",
              "35898 2018-01-08  11:00:00            Colima          Villa De Alvarez   \n",
              "35899 2015-02-02  07:00:00            Puebla                     Chila   \n",
              "35900 2017-08-22  04:00:00            Colima          Villa De Alvarez   \n",
              "35901 2018-04-11  02:00:00        Nuevo Leon  San Nicolas De Los Garza   \n",
              "\n",
              "                      localidad nacionalidad  estatura complexion    sexo  \\\n",
              "1                       Navojoa     Mexicana      1.10    Delgada   Mujer   \n",
              "2                Valle De Bravo     Mexicana      1.10    Delgada   Mujer   \n",
              "3                        Chalco     Mexicana      1.10    Delgada  Hombre   \n",
              "4           Tlalnepantla De Baz     Mexicana      1.10    Delgada  Hombre   \n",
              "5                        Toluca     Mexicana      1.10    Delgada  Hombre   \n",
              "...                         ...          ...       ...        ...     ...   \n",
              "35897                    Puebla     Mexicana      1.60    Delgada  Hombre   \n",
              "35898          Villa De Alvarez     Mexicana      1.70    Robusta   Mujer   \n",
              "35899      Chilas De Las Flores     Mexicana      1.77    Mediana   Mujer   \n",
              "35900          Villa De Alvarez     Mexicana      1.76    Robusta  Hombre   \n",
              "35901  San Nicolas De Los Garza     Mexicana      1.60    Delgada   Mujer   \n",
              "\n",
              "       edad                                 senas_particulares discapacidad  \\\n",
              "1         7  Tiene Una Cicatriz En La Rodilla Izquierda Por...      Ninguno   \n",
              "2         4                                    No Especificado      Ninguno   \n",
              "3         6  Manchas, Parte Superior De Pierna Derecha, Cic...      Ninguno   \n",
              "4        10  Lunares, A La Altura De La Cinturaforma De Man...      Ninguno   \n",
              "5         4                                    No Especificado      Ninguno   \n",
              "...     ...                                                ...          ...   \n",
              "35897    22  Lunar En La Mejilla Y Tatuaje En El Cuello En ...      Ninguno   \n",
              "35898    27  El Ojo Izquierdo Tiene Un Enfermedad Como Tic,...      Ninguno   \n",
              "35899    86                                    No Especificado      Ninguno   \n",
              "35900    41  Tatuaje En El Brazo Izquierdo Con La Imagen De...      Ninguno   \n",
              "35901    14                                    No Especificado      Ninguno   \n",
              "\n",
              "            dependecia_origen  dias_desaparecido  anio  \n",
              "1                FGE - Sonora               2234  2012  \n",
              "2      FGJ - Estado De Mexico               4102  2007  \n",
              "3      FGJ - Estado De Mexico               3334  2009  \n",
              "4      FGJ - Estado De Mexico               4146  2006  \n",
              "5      FGJ - Estado De Mexico               3762  2008  \n",
              "...                       ...                ...   ...  \n",
              "35897            FGE - Puebla                  4  2018  \n",
              "35898            PGJ - Colima                112  2018  \n",
              "35899            FGE - Puebla               1183  2015  \n",
              "35900            PGJ - Colima                251  2017  \n",
              "35901        PGJ - Nuevo Leon                 19  2018  \n",
              "\n",
              "[35901 rows x 15 columns]"
            ],
            "text/html": [
              "\n",
              "  <div id=\"df-ed715b02-a7c5-4e72-b179-e88a6c5c2b2f\">\n",
              "    <div class=\"colab-df-container\">\n",
              "      <div>\n",
              "<style scoped>\n",
              "    .dataframe tbody tr th:only-of-type {\n",
              "        vertical-align: middle;\n",
              "    }\n",
              "\n",
              "    .dataframe tbody tr th {\n",
              "        vertical-align: top;\n",
              "    }\n",
              "\n",
              "    .dataframe thead th {\n",
              "        text-align: right;\n",
              "    }\n",
              "</style>\n",
              "<table border=\"1\" class=\"dataframe\">\n",
              "  <thead>\n",
              "    <tr style=\"text-align: right;\">\n",
              "      <th></th>\n",
              "      <th>fecha</th>\n",
              "      <th>hora</th>\n",
              "      <th>entidad</th>\n",
              "      <th>municipio</th>\n",
              "      <th>localidad</th>\n",
              "      <th>nacionalidad</th>\n",
              "      <th>estatura</th>\n",
              "      <th>complexion</th>\n",
              "      <th>sexo</th>\n",
              "      <th>edad</th>\n",
              "      <th>senas_particulares</th>\n",
              "      <th>discapacidad</th>\n",
              "      <th>dependecia_origen</th>\n",
              "      <th>dias_desaparecido</th>\n",
              "      <th>anio</th>\n",
              "    </tr>\n",
              "  </thead>\n",
              "  <tbody>\n",
              "    <tr>\n",
              "      <th>1</th>\n",
              "      <td>2012-03-18</td>\n",
              "      <td>05:00:00</td>\n",
              "      <td>Sonora</td>\n",
              "      <td>Navojoa</td>\n",
              "      <td>Navojoa</td>\n",
              "      <td>Mexicana</td>\n",
              "      <td>1.10</td>\n",
              "      <td>Delgada</td>\n",
              "      <td>Mujer</td>\n",
              "      <td>7</td>\n",
              "      <td>Tiene Una Cicatriz En La Rodilla Izquierda Por...</td>\n",
              "      <td>Ninguno</td>\n",
              "      <td>FGE - Sonora</td>\n",
              "      <td>2234</td>\n",
              "      <td>2012</td>\n",
              "    </tr>\n",
              "    <tr>\n",
              "      <th>2</th>\n",
              "      <td>2007-02-05</td>\n",
              "      <td>02:00:26</td>\n",
              "      <td>Estado De Mexico</td>\n",
              "      <td>Valle De Bravo</td>\n",
              "      <td>Valle De Bravo</td>\n",
              "      <td>Mexicana</td>\n",
              "      <td>1.10</td>\n",
              "      <td>Delgada</td>\n",
              "      <td>Mujer</td>\n",
              "      <td>4</td>\n",
              "      <td>No Especificado</td>\n",
              "      <td>Ninguno</td>\n",
              "      <td>FGJ - Estado De Mexico</td>\n",
              "      <td>4102</td>\n",
              "      <td>2007</td>\n",
              "    </tr>\n",
              "    <tr>\n",
              "      <th>3</th>\n",
              "      <td>2009-03-14</td>\n",
              "      <td>08:30:54</td>\n",
              "      <td>Estado De Mexico</td>\n",
              "      <td>Chalco</td>\n",
              "      <td>Chalco</td>\n",
              "      <td>Mexicana</td>\n",
              "      <td>1.10</td>\n",
              "      <td>Delgada</td>\n",
              "      <td>Hombre</td>\n",
              "      <td>6</td>\n",
              "      <td>Manchas, Parte Superior De Pierna Derecha, Cic...</td>\n",
              "      <td>Ninguno</td>\n",
              "      <td>FGJ - Estado De Mexico</td>\n",
              "      <td>3334</td>\n",
              "      <td>2009</td>\n",
              "    </tr>\n",
              "    <tr>\n",
              "      <th>4</th>\n",
              "      <td>2006-12-23</td>\n",
              "      <td>08:00:28</td>\n",
              "      <td>Estado De Mexico</td>\n",
              "      <td>Tlalnepantla De Baz</td>\n",
              "      <td>Tlalnepantla De Baz</td>\n",
              "      <td>Mexicana</td>\n",
              "      <td>1.10</td>\n",
              "      <td>Delgada</td>\n",
              "      <td>Hombre</td>\n",
              "      <td>10</td>\n",
              "      <td>Lunares, A La Altura De La Cinturaforma De Man...</td>\n",
              "      <td>Ninguno</td>\n",
              "      <td>FGJ - Estado De Mexico</td>\n",
              "      <td>4146</td>\n",
              "      <td>2006</td>\n",
              "    </tr>\n",
              "    <tr>\n",
              "      <th>5</th>\n",
              "      <td>2008-01-11</td>\n",
              "      <td>12:00:17</td>\n",
              "      <td>Estado De Mexico</td>\n",
              "      <td>Toluca</td>\n",
              "      <td>Toluca</td>\n",
              "      <td>Mexicana</td>\n",
              "      <td>1.10</td>\n",
              "      <td>Delgada</td>\n",
              "      <td>Hombre</td>\n",
              "      <td>4</td>\n",
              "      <td>No Especificado</td>\n",
              "      <td>Ninguno</td>\n",
              "      <td>FGJ - Estado De Mexico</td>\n",
              "      <td>3762</td>\n",
              "      <td>2008</td>\n",
              "    </tr>\n",
              "    <tr>\n",
              "      <th>...</th>\n",
              "      <td>...</td>\n",
              "      <td>...</td>\n",
              "      <td>...</td>\n",
              "      <td>...</td>\n",
              "      <td>...</td>\n",
              "      <td>...</td>\n",
              "      <td>...</td>\n",
              "      <td>...</td>\n",
              "      <td>...</td>\n",
              "      <td>...</td>\n",
              "      <td>...</td>\n",
              "      <td>...</td>\n",
              "      <td>...</td>\n",
              "      <td>...</td>\n",
              "      <td>...</td>\n",
              "    </tr>\n",
              "    <tr>\n",
              "      <th>35897</th>\n",
              "      <td>2018-04-26</td>\n",
              "      <td>08:00:00</td>\n",
              "      <td>Puebla</td>\n",
              "      <td>Puebla</td>\n",
              "      <td>Puebla</td>\n",
              "      <td>Mexicana</td>\n",
              "      <td>1.60</td>\n",
              "      <td>Delgada</td>\n",
              "      <td>Hombre</td>\n",
              "      <td>22</td>\n",
              "      <td>Lunar En La Mejilla Y Tatuaje En El Cuello En ...</td>\n",
              "      <td>Ninguno</td>\n",
              "      <td>FGE - Puebla</td>\n",
              "      <td>4</td>\n",
              "      <td>2018</td>\n",
              "    </tr>\n",
              "    <tr>\n",
              "      <th>35898</th>\n",
              "      <td>2018-01-08</td>\n",
              "      <td>11:00:00</td>\n",
              "      <td>Colima</td>\n",
              "      <td>Villa De Alvarez</td>\n",
              "      <td>Villa De Alvarez</td>\n",
              "      <td>Mexicana</td>\n",
              "      <td>1.70</td>\n",
              "      <td>Robusta</td>\n",
              "      <td>Mujer</td>\n",
              "      <td>27</td>\n",
              "      <td>El Ojo Izquierdo Tiene Un Enfermedad Como Tic,...</td>\n",
              "      <td>Ninguno</td>\n",
              "      <td>PGJ - Colima</td>\n",
              "      <td>112</td>\n",
              "      <td>2018</td>\n",
              "    </tr>\n",
              "    <tr>\n",
              "      <th>35899</th>\n",
              "      <td>2015-02-02</td>\n",
              "      <td>07:00:00</td>\n",
              "      <td>Puebla</td>\n",
              "      <td>Chila</td>\n",
              "      <td>Chilas De Las Flores</td>\n",
              "      <td>Mexicana</td>\n",
              "      <td>1.77</td>\n",
              "      <td>Mediana</td>\n",
              "      <td>Mujer</td>\n",
              "      <td>86</td>\n",
              "      <td>No Especificado</td>\n",
              "      <td>Ninguno</td>\n",
              "      <td>FGE - Puebla</td>\n",
              "      <td>1183</td>\n",
              "      <td>2015</td>\n",
              "    </tr>\n",
              "    <tr>\n",
              "      <th>35900</th>\n",
              "      <td>2017-08-22</td>\n",
              "      <td>04:00:00</td>\n",
              "      <td>Colima</td>\n",
              "      <td>Villa De Alvarez</td>\n",
              "      <td>Villa De Alvarez</td>\n",
              "      <td>Mexicana</td>\n",
              "      <td>1.76</td>\n",
              "      <td>Robusta</td>\n",
              "      <td>Hombre</td>\n",
              "      <td>41</td>\n",
              "      <td>Tatuaje En El Brazo Izquierdo Con La Imagen De...</td>\n",
              "      <td>Ninguno</td>\n",
              "      <td>PGJ - Colima</td>\n",
              "      <td>251</td>\n",
              "      <td>2017</td>\n",
              "    </tr>\n",
              "    <tr>\n",
              "      <th>35901</th>\n",
              "      <td>2018-04-11</td>\n",
              "      <td>02:00:00</td>\n",
              "      <td>Nuevo Leon</td>\n",
              "      <td>San Nicolas De Los Garza</td>\n",
              "      <td>San Nicolas De Los Garza</td>\n",
              "      <td>Mexicana</td>\n",
              "      <td>1.60</td>\n",
              "      <td>Delgada</td>\n",
              "      <td>Mujer</td>\n",
              "      <td>14</td>\n",
              "      <td>No Especificado</td>\n",
              "      <td>Ninguno</td>\n",
              "      <td>PGJ - Nuevo Leon</td>\n",
              "      <td>19</td>\n",
              "      <td>2018</td>\n",
              "    </tr>\n",
              "  </tbody>\n",
              "</table>\n",
              "<p>35901 rows × 15 columns</p>\n",
              "</div>\n",
              "      <button class=\"colab-df-convert\" onclick=\"convertToInteractive('df-ed715b02-a7c5-4e72-b179-e88a6c5c2b2f')\"\n",
              "              title=\"Convert this dataframe to an interactive table.\"\n",
              "              style=\"display:none;\">\n",
              "        \n",
              "  <svg xmlns=\"http://www.w3.org/2000/svg\" height=\"24px\"viewBox=\"0 0 24 24\"\n",
              "       width=\"24px\">\n",
              "    <path d=\"M0 0h24v24H0V0z\" fill=\"none\"/>\n",
              "    <path d=\"M18.56 5.44l.94 2.06.94-2.06 2.06-.94-2.06-.94-.94-2.06-.94 2.06-2.06.94zm-11 1L8.5 8.5l.94-2.06 2.06-.94-2.06-.94L8.5 2.5l-.94 2.06-2.06.94zm10 10l.94 2.06.94-2.06 2.06-.94-2.06-.94-.94-2.06-.94 2.06-2.06.94z\"/><path d=\"M17.41 7.96l-1.37-1.37c-.4-.4-.92-.59-1.43-.59-.52 0-1.04.2-1.43.59L10.3 9.45l-7.72 7.72c-.78.78-.78 2.05 0 2.83L4 21.41c.39.39.9.59 1.41.59.51 0 1.02-.2 1.41-.59l7.78-7.78 2.81-2.81c.8-.78.8-2.07 0-2.86zM5.41 20L4 18.59l7.72-7.72 1.47 1.35L5.41 20z\"/>\n",
              "  </svg>\n",
              "      </button>\n",
              "      \n",
              "  <style>\n",
              "    .colab-df-container {\n",
              "      display:flex;\n",
              "      flex-wrap:wrap;\n",
              "      gap: 12px;\n",
              "    }\n",
              "\n",
              "    .colab-df-convert {\n",
              "      background-color: #E8F0FE;\n",
              "      border: none;\n",
              "      border-radius: 50%;\n",
              "      cursor: pointer;\n",
              "      display: none;\n",
              "      fill: #1967D2;\n",
              "      height: 32px;\n",
              "      padding: 0 0 0 0;\n",
              "      width: 32px;\n",
              "    }\n",
              "\n",
              "    .colab-df-convert:hover {\n",
              "      background-color: #E2EBFA;\n",
              "      box-shadow: 0px 1px 2px rgba(60, 64, 67, 0.3), 0px 1px 3px 1px rgba(60, 64, 67, 0.15);\n",
              "      fill: #174EA6;\n",
              "    }\n",
              "\n",
              "    [theme=dark] .colab-df-convert {\n",
              "      background-color: #3B4455;\n",
              "      fill: #D2E3FC;\n",
              "    }\n",
              "\n",
              "    [theme=dark] .colab-df-convert:hover {\n",
              "      background-color: #434B5C;\n",
              "      box-shadow: 0px 1px 3px 1px rgba(0, 0, 0, 0.15);\n",
              "      filter: drop-shadow(0px 1px 2px rgba(0, 0, 0, 0.3));\n",
              "      fill: #FFFFFF;\n",
              "    }\n",
              "  </style>\n",
              "\n",
              "      <script>\n",
              "        const buttonEl =\n",
              "          document.querySelector('#df-ed715b02-a7c5-4e72-b179-e88a6c5c2b2f button.colab-df-convert');\n",
              "        buttonEl.style.display =\n",
              "          google.colab.kernel.accessAllowed ? 'block' : 'none';\n",
              "\n",
              "        async function convertToInteractive(key) {\n",
              "          const element = document.querySelector('#df-ed715b02-a7c5-4e72-b179-e88a6c5c2b2f');\n",
              "          const dataTable =\n",
              "            await google.colab.kernel.invokeFunction('convertToInteractive',\n",
              "                                                     [key], {});\n",
              "          if (!dataTable) return;\n",
              "\n",
              "          const docLinkHtml = 'Like what you see? Visit the ' +\n",
              "            '<a target=\"_blank\" href=https://colab.research.google.com/notebooks/data_table.ipynb>data table notebook</a>'\n",
              "            + ' to learn more about interactive tables.';\n",
              "          element.innerHTML = '';\n",
              "          dataTable['output_type'] = 'display_data';\n",
              "          await google.colab.output.renderOutput(dataTable, element);\n",
              "          const docLink = document.createElement('div');\n",
              "          docLink.innerHTML = docLinkHtml;\n",
              "          element.appendChild(docLink);\n",
              "        }\n",
              "      </script>\n",
              "    </div>\n",
              "  </div>\n",
              "  "
            ]
          },
          "metadata": {},
          "execution_count": 95
        }
      ],
      "source": [
        "df"
      ]
    },
    {
      "cell_type": "markdown",
      "source": [
        "Ya que la nueva columna se ha creado dentro del `DataFrame`, podemos ordenar los casos de personas desaparecidas por año."
      ],
      "metadata": {
        "id": "nfyvZzUg2sR_"
      }
    },
    {
      "cell_type": "code",
      "execution_count": 113,
      "metadata": {
        "ExecuteTime": {
          "end_time": "2022-09-14T03:00:38.911064Z",
          "start_time": "2022-09-14T03:00:38.901793Z"
        },
        "colab": {
          "base_uri": "https://localhost:8080/",
          "height": 1000
        },
        "id": "fAE-u22lBetu",
        "outputId": "bd4be886-3a82-427b-836a-da67fbd43678"
      },
      "outputs": [
        {
          "output_type": "execute_result",
          "data": {
            "text/plain": [
              "    anio  total\n",
              "40  2017   5426\n",
              "39  2016   4520\n",
              "34  2011   4059\n",
              "37  2014   3788\n",
              "36  2013   3648\n",
              "35  2012   3285\n",
              "38  2015   3271\n",
              "33  2010   3205\n",
              "41  2018   1634\n",
              "32  2009   1370\n",
              "31  2008    798\n",
              "30  2007    619\n",
              "29  2006     89\n",
              "28  2005     47\n",
              "25  2002     19\n",
              "23  2000     17\n",
              "26  2003     16\n",
              "27  2004     15\n",
              "24  2001     13\n",
              "21  1998      9\n",
              "20  1997      8\n",
              "22  1999      8\n",
              "19  1996      5\n",
              "12  1989      4\n",
              "6   1979      3\n",
              "16  1993      3\n",
              "4   1977      2\n",
              "9   1985      2\n",
              "10  1987      2\n",
              "11  1988      2\n",
              "14  1991      2\n",
              "18  1995      2\n",
              "13  1990      1\n",
              "1   1971      1\n",
              "15  1992      1\n",
              "8   1984      1\n",
              "7   1980      1\n",
              "17  1994      1\n",
              "5   1978      1\n",
              "3   1976      1\n",
              "2   1972      1\n",
              "0   1968      1"
            ],
            "text/html": [
              "\n",
              "  <div id=\"df-abe1ce93-3c5a-418b-b1da-ee3073bd1068\">\n",
              "    <div class=\"colab-df-container\">\n",
              "      <div>\n",
              "<style scoped>\n",
              "    .dataframe tbody tr th:only-of-type {\n",
              "        vertical-align: middle;\n",
              "    }\n",
              "\n",
              "    .dataframe tbody tr th {\n",
              "        vertical-align: top;\n",
              "    }\n",
              "\n",
              "    .dataframe thead th {\n",
              "        text-align: right;\n",
              "    }\n",
              "</style>\n",
              "<table border=\"1\" class=\"dataframe\">\n",
              "  <thead>\n",
              "    <tr style=\"text-align: right;\">\n",
              "      <th></th>\n",
              "      <th>anio</th>\n",
              "      <th>total</th>\n",
              "    </tr>\n",
              "  </thead>\n",
              "  <tbody>\n",
              "    <tr>\n",
              "      <th>40</th>\n",
              "      <td>2017</td>\n",
              "      <td>5426</td>\n",
              "    </tr>\n",
              "    <tr>\n",
              "      <th>39</th>\n",
              "      <td>2016</td>\n",
              "      <td>4520</td>\n",
              "    </tr>\n",
              "    <tr>\n",
              "      <th>34</th>\n",
              "      <td>2011</td>\n",
              "      <td>4059</td>\n",
              "    </tr>\n",
              "    <tr>\n",
              "      <th>37</th>\n",
              "      <td>2014</td>\n",
              "      <td>3788</td>\n",
              "    </tr>\n",
              "    <tr>\n",
              "      <th>36</th>\n",
              "      <td>2013</td>\n",
              "      <td>3648</td>\n",
              "    </tr>\n",
              "    <tr>\n",
              "      <th>35</th>\n",
              "      <td>2012</td>\n",
              "      <td>3285</td>\n",
              "    </tr>\n",
              "    <tr>\n",
              "      <th>38</th>\n",
              "      <td>2015</td>\n",
              "      <td>3271</td>\n",
              "    </tr>\n",
              "    <tr>\n",
              "      <th>33</th>\n",
              "      <td>2010</td>\n",
              "      <td>3205</td>\n",
              "    </tr>\n",
              "    <tr>\n",
              "      <th>41</th>\n",
              "      <td>2018</td>\n",
              "      <td>1634</td>\n",
              "    </tr>\n",
              "    <tr>\n",
              "      <th>32</th>\n",
              "      <td>2009</td>\n",
              "      <td>1370</td>\n",
              "    </tr>\n",
              "    <tr>\n",
              "      <th>31</th>\n",
              "      <td>2008</td>\n",
              "      <td>798</td>\n",
              "    </tr>\n",
              "    <tr>\n",
              "      <th>30</th>\n",
              "      <td>2007</td>\n",
              "      <td>619</td>\n",
              "    </tr>\n",
              "    <tr>\n",
              "      <th>29</th>\n",
              "      <td>2006</td>\n",
              "      <td>89</td>\n",
              "    </tr>\n",
              "    <tr>\n",
              "      <th>28</th>\n",
              "      <td>2005</td>\n",
              "      <td>47</td>\n",
              "    </tr>\n",
              "    <tr>\n",
              "      <th>25</th>\n",
              "      <td>2002</td>\n",
              "      <td>19</td>\n",
              "    </tr>\n",
              "    <tr>\n",
              "      <th>23</th>\n",
              "      <td>2000</td>\n",
              "      <td>17</td>\n",
              "    </tr>\n",
              "    <tr>\n",
              "      <th>26</th>\n",
              "      <td>2003</td>\n",
              "      <td>16</td>\n",
              "    </tr>\n",
              "    <tr>\n",
              "      <th>27</th>\n",
              "      <td>2004</td>\n",
              "      <td>15</td>\n",
              "    </tr>\n",
              "    <tr>\n",
              "      <th>24</th>\n",
              "      <td>2001</td>\n",
              "      <td>13</td>\n",
              "    </tr>\n",
              "    <tr>\n",
              "      <th>21</th>\n",
              "      <td>1998</td>\n",
              "      <td>9</td>\n",
              "    </tr>\n",
              "    <tr>\n",
              "      <th>20</th>\n",
              "      <td>1997</td>\n",
              "      <td>8</td>\n",
              "    </tr>\n",
              "    <tr>\n",
              "      <th>22</th>\n",
              "      <td>1999</td>\n",
              "      <td>8</td>\n",
              "    </tr>\n",
              "    <tr>\n",
              "      <th>19</th>\n",
              "      <td>1996</td>\n",
              "      <td>5</td>\n",
              "    </tr>\n",
              "    <tr>\n",
              "      <th>12</th>\n",
              "      <td>1989</td>\n",
              "      <td>4</td>\n",
              "    </tr>\n",
              "    <tr>\n",
              "      <th>6</th>\n",
              "      <td>1979</td>\n",
              "      <td>3</td>\n",
              "    </tr>\n",
              "    <tr>\n",
              "      <th>16</th>\n",
              "      <td>1993</td>\n",
              "      <td>3</td>\n",
              "    </tr>\n",
              "    <tr>\n",
              "      <th>4</th>\n",
              "      <td>1977</td>\n",
              "      <td>2</td>\n",
              "    </tr>\n",
              "    <tr>\n",
              "      <th>9</th>\n",
              "      <td>1985</td>\n",
              "      <td>2</td>\n",
              "    </tr>\n",
              "    <tr>\n",
              "      <th>10</th>\n",
              "      <td>1987</td>\n",
              "      <td>2</td>\n",
              "    </tr>\n",
              "    <tr>\n",
              "      <th>11</th>\n",
              "      <td>1988</td>\n",
              "      <td>2</td>\n",
              "    </tr>\n",
              "    <tr>\n",
              "      <th>14</th>\n",
              "      <td>1991</td>\n",
              "      <td>2</td>\n",
              "    </tr>\n",
              "    <tr>\n",
              "      <th>18</th>\n",
              "      <td>1995</td>\n",
              "      <td>2</td>\n",
              "    </tr>\n",
              "    <tr>\n",
              "      <th>13</th>\n",
              "      <td>1990</td>\n",
              "      <td>1</td>\n",
              "    </tr>\n",
              "    <tr>\n",
              "      <th>1</th>\n",
              "      <td>1971</td>\n",
              "      <td>1</td>\n",
              "    </tr>\n",
              "    <tr>\n",
              "      <th>15</th>\n",
              "      <td>1992</td>\n",
              "      <td>1</td>\n",
              "    </tr>\n",
              "    <tr>\n",
              "      <th>8</th>\n",
              "      <td>1984</td>\n",
              "      <td>1</td>\n",
              "    </tr>\n",
              "    <tr>\n",
              "      <th>7</th>\n",
              "      <td>1980</td>\n",
              "      <td>1</td>\n",
              "    </tr>\n",
              "    <tr>\n",
              "      <th>17</th>\n",
              "      <td>1994</td>\n",
              "      <td>1</td>\n",
              "    </tr>\n",
              "    <tr>\n",
              "      <th>5</th>\n",
              "      <td>1978</td>\n",
              "      <td>1</td>\n",
              "    </tr>\n",
              "    <tr>\n",
              "      <th>3</th>\n",
              "      <td>1976</td>\n",
              "      <td>1</td>\n",
              "    </tr>\n",
              "    <tr>\n",
              "      <th>2</th>\n",
              "      <td>1972</td>\n",
              "      <td>1</td>\n",
              "    </tr>\n",
              "    <tr>\n",
              "      <th>0</th>\n",
              "      <td>1968</td>\n",
              "      <td>1</td>\n",
              "    </tr>\n",
              "  </tbody>\n",
              "</table>\n",
              "</div>\n",
              "      <button class=\"colab-df-convert\" onclick=\"convertToInteractive('df-abe1ce93-3c5a-418b-b1da-ee3073bd1068')\"\n",
              "              title=\"Convert this dataframe to an interactive table.\"\n",
              "              style=\"display:none;\">\n",
              "        \n",
              "  <svg xmlns=\"http://www.w3.org/2000/svg\" height=\"24px\"viewBox=\"0 0 24 24\"\n",
              "       width=\"24px\">\n",
              "    <path d=\"M0 0h24v24H0V0z\" fill=\"none\"/>\n",
              "    <path d=\"M18.56 5.44l.94 2.06.94-2.06 2.06-.94-2.06-.94-.94-2.06-.94 2.06-2.06.94zm-11 1L8.5 8.5l.94-2.06 2.06-.94-2.06-.94L8.5 2.5l-.94 2.06-2.06.94zm10 10l.94 2.06.94-2.06 2.06-.94-2.06-.94-.94-2.06-.94 2.06-2.06.94z\"/><path d=\"M17.41 7.96l-1.37-1.37c-.4-.4-.92-.59-1.43-.59-.52 0-1.04.2-1.43.59L10.3 9.45l-7.72 7.72c-.78.78-.78 2.05 0 2.83L4 21.41c.39.39.9.59 1.41.59.51 0 1.02-.2 1.41-.59l7.78-7.78 2.81-2.81c.8-.78.8-2.07 0-2.86zM5.41 20L4 18.59l7.72-7.72 1.47 1.35L5.41 20z\"/>\n",
              "  </svg>\n",
              "      </button>\n",
              "      \n",
              "  <style>\n",
              "    .colab-df-container {\n",
              "      display:flex;\n",
              "      flex-wrap:wrap;\n",
              "      gap: 12px;\n",
              "    }\n",
              "\n",
              "    .colab-df-convert {\n",
              "      background-color: #E8F0FE;\n",
              "      border: none;\n",
              "      border-radius: 50%;\n",
              "      cursor: pointer;\n",
              "      display: none;\n",
              "      fill: #1967D2;\n",
              "      height: 32px;\n",
              "      padding: 0 0 0 0;\n",
              "      width: 32px;\n",
              "    }\n",
              "\n",
              "    .colab-df-convert:hover {\n",
              "      background-color: #E2EBFA;\n",
              "      box-shadow: 0px 1px 2px rgba(60, 64, 67, 0.3), 0px 1px 3px 1px rgba(60, 64, 67, 0.15);\n",
              "      fill: #174EA6;\n",
              "    }\n",
              "\n",
              "    [theme=dark] .colab-df-convert {\n",
              "      background-color: #3B4455;\n",
              "      fill: #D2E3FC;\n",
              "    }\n",
              "\n",
              "    [theme=dark] .colab-df-convert:hover {\n",
              "      background-color: #434B5C;\n",
              "      box-shadow: 0px 1px 3px 1px rgba(0, 0, 0, 0.15);\n",
              "      filter: drop-shadow(0px 1px 2px rgba(0, 0, 0, 0.3));\n",
              "      fill: #FFFFFF;\n",
              "    }\n",
              "  </style>\n",
              "\n",
              "      <script>\n",
              "        const buttonEl =\n",
              "          document.querySelector('#df-abe1ce93-3c5a-418b-b1da-ee3073bd1068 button.colab-df-convert');\n",
              "        buttonEl.style.display =\n",
              "          google.colab.kernel.accessAllowed ? 'block' : 'none';\n",
              "\n",
              "        async function convertToInteractive(key) {\n",
              "          const element = document.querySelector('#df-abe1ce93-3c5a-418b-b1da-ee3073bd1068');\n",
              "          const dataTable =\n",
              "            await google.colab.kernel.invokeFunction('convertToInteractive',\n",
              "                                                     [key], {});\n",
              "          if (!dataTable) return;\n",
              "\n",
              "          const docLinkHtml = 'Like what you see? Visit the ' +\n",
              "            '<a target=\"_blank\" href=https://colab.research.google.com/notebooks/data_table.ipynb>data table notebook</a>'\n",
              "            + ' to learn more about interactive tables.';\n",
              "          element.innerHTML = '';\n",
              "          dataTable['output_type'] = 'display_data';\n",
              "          await google.colab.output.renderOutput(dataTable, element);\n",
              "          const docLink = document.createElement('div');\n",
              "          docLink.innerHTML = docLinkHtml;\n",
              "          element.appendChild(docLink);\n",
              "        }\n",
              "      </script>\n",
              "    </div>\n",
              "  </div>\n",
              "  "
            ]
          },
          "metadata": {},
          "execution_count": 113
        }
      ],
      "source": [
        "df_anio= df.groupby(['anio'], sort=True).size().reset_index(name='total')\n",
        "df_anio.sort_values('total',ascending=False)"
      ]
    },
    {
      "cell_type": "markdown",
      "source": [
        "\n",
        "\n",
        "> El año con el mayor número de casos de personas desaparecidas fue el 2017 con 5,426. Los resultados obtenidos respaldan la información investigada para el proyecto. Los primeros 13 lugares de la lista son años del 2006 en adelante, que es cuando inicia la crisis de desaparecidos y el aumento más rápido de casos de personas desaparecidas en la historia de México (desde que se inició el registro de personas desaparecidas).\n",
        "\n"
      ],
      "metadata": {
        "id": "kIGKzGDH3Vzj"
      }
    },
    {
      "cell_type": "markdown",
      "source": [
        "**¿Cuántas personas con discapacidad han desaparecido en México?**\n",
        "\n",
        "---\n",
        "\n"
      ],
      "metadata": {
        "id": "m8Anuz9f4BXQ"
      }
    },
    {
      "cell_type": "markdown",
      "source": [
        "Esta pregunta no surgió cuando estábamos realizando la investigación. No obstante, nos pareció que es una pregunta relevante una vez que exploramos el contenido del registro. Es común que en México no se tome consideración de las personas con capacidades diferentes, sin embargo recordemos que la realidad del país también les afecta a ellas."
      ],
      "metadata": {
        "id": "yHmtUFQx4R0r"
      }
    },
    {
      "cell_type": "code",
      "execution_count": 89,
      "metadata": {
        "ExecuteTime": {
          "end_time": "2022-09-14T02:42:50.882723Z",
          "start_time": "2022-09-14T02:42:50.873386Z"
        },
        "scrolled": true,
        "colab": {
          "base_uri": "https://localhost:8080/",
          "height": 173
        },
        "id": "qEpnZUjEBetr",
        "outputId": "0803d30f-71cd-4c50-b43f-a81d6d08e989"
      },
      "outputs": [
        {
          "output_type": "execute_result",
          "data": {
            "text/plain": [
              "       discapacidad  total\n",
              "0           Ninguno  34843\n",
              "1   No Especificado   1043\n",
              "2           Autismo      7\n",
              "3  Sindrome De Down      8"
            ],
            "text/html": [
              "\n",
              "  <div id=\"df-a0c4b425-8104-4464-ba72-182623b29ea0\">\n",
              "    <div class=\"colab-df-container\">\n",
              "      <div>\n",
              "<style scoped>\n",
              "    .dataframe tbody tr th:only-of-type {\n",
              "        vertical-align: middle;\n",
              "    }\n",
              "\n",
              "    .dataframe tbody tr th {\n",
              "        vertical-align: top;\n",
              "    }\n",
              "\n",
              "    .dataframe thead th {\n",
              "        text-align: right;\n",
              "    }\n",
              "</style>\n",
              "<table border=\"1\" class=\"dataframe\">\n",
              "  <thead>\n",
              "    <tr style=\"text-align: right;\">\n",
              "      <th></th>\n",
              "      <th>discapacidad</th>\n",
              "      <th>total</th>\n",
              "    </tr>\n",
              "  </thead>\n",
              "  <tbody>\n",
              "    <tr>\n",
              "      <th>0</th>\n",
              "      <td>Ninguno</td>\n",
              "      <td>34843</td>\n",
              "    </tr>\n",
              "    <tr>\n",
              "      <th>1</th>\n",
              "      <td>No Especificado</td>\n",
              "      <td>1043</td>\n",
              "    </tr>\n",
              "    <tr>\n",
              "      <th>2</th>\n",
              "      <td>Autismo</td>\n",
              "      <td>7</td>\n",
              "    </tr>\n",
              "    <tr>\n",
              "      <th>3</th>\n",
              "      <td>Sindrome De Down</td>\n",
              "      <td>8</td>\n",
              "    </tr>\n",
              "  </tbody>\n",
              "</table>\n",
              "</div>\n",
              "      <button class=\"colab-df-convert\" onclick=\"convertToInteractive('df-a0c4b425-8104-4464-ba72-182623b29ea0')\"\n",
              "              title=\"Convert this dataframe to an interactive table.\"\n",
              "              style=\"display:none;\">\n",
              "        \n",
              "  <svg xmlns=\"http://www.w3.org/2000/svg\" height=\"24px\"viewBox=\"0 0 24 24\"\n",
              "       width=\"24px\">\n",
              "    <path d=\"M0 0h24v24H0V0z\" fill=\"none\"/>\n",
              "    <path d=\"M18.56 5.44l.94 2.06.94-2.06 2.06-.94-2.06-.94-.94-2.06-.94 2.06-2.06.94zm-11 1L8.5 8.5l.94-2.06 2.06-.94-2.06-.94L8.5 2.5l-.94 2.06-2.06.94zm10 10l.94 2.06.94-2.06 2.06-.94-2.06-.94-.94-2.06-.94 2.06-2.06.94z\"/><path d=\"M17.41 7.96l-1.37-1.37c-.4-.4-.92-.59-1.43-.59-.52 0-1.04.2-1.43.59L10.3 9.45l-7.72 7.72c-.78.78-.78 2.05 0 2.83L4 21.41c.39.39.9.59 1.41.59.51 0 1.02-.2 1.41-.59l7.78-7.78 2.81-2.81c.8-.78.8-2.07 0-2.86zM5.41 20L4 18.59l7.72-7.72 1.47 1.35L5.41 20z\"/>\n",
              "  </svg>\n",
              "      </button>\n",
              "      \n",
              "  <style>\n",
              "    .colab-df-container {\n",
              "      display:flex;\n",
              "      flex-wrap:wrap;\n",
              "      gap: 12px;\n",
              "    }\n",
              "\n",
              "    .colab-df-convert {\n",
              "      background-color: #E8F0FE;\n",
              "      border: none;\n",
              "      border-radius: 50%;\n",
              "      cursor: pointer;\n",
              "      display: none;\n",
              "      fill: #1967D2;\n",
              "      height: 32px;\n",
              "      padding: 0 0 0 0;\n",
              "      width: 32px;\n",
              "    }\n",
              "\n",
              "    .colab-df-convert:hover {\n",
              "      background-color: #E2EBFA;\n",
              "      box-shadow: 0px 1px 2px rgba(60, 64, 67, 0.3), 0px 1px 3px 1px rgba(60, 64, 67, 0.15);\n",
              "      fill: #174EA6;\n",
              "    }\n",
              "\n",
              "    [theme=dark] .colab-df-convert {\n",
              "      background-color: #3B4455;\n",
              "      fill: #D2E3FC;\n",
              "    }\n",
              "\n",
              "    [theme=dark] .colab-df-convert:hover {\n",
              "      background-color: #434B5C;\n",
              "      box-shadow: 0px 1px 3px 1px rgba(0, 0, 0, 0.15);\n",
              "      filter: drop-shadow(0px 1px 2px rgba(0, 0, 0, 0.3));\n",
              "      fill: #FFFFFF;\n",
              "    }\n",
              "  </style>\n",
              "\n",
              "      <script>\n",
              "        const buttonEl =\n",
              "          document.querySelector('#df-a0c4b425-8104-4464-ba72-182623b29ea0 button.colab-df-convert');\n",
              "        buttonEl.style.display =\n",
              "          google.colab.kernel.accessAllowed ? 'block' : 'none';\n",
              "\n",
              "        async function convertToInteractive(key) {\n",
              "          const element = document.querySelector('#df-a0c4b425-8104-4464-ba72-182623b29ea0');\n",
              "          const dataTable =\n",
              "            await google.colab.kernel.invokeFunction('convertToInteractive',\n",
              "                                                     [key], {});\n",
              "          if (!dataTable) return;\n",
              "\n",
              "          const docLinkHtml = 'Like what you see? Visit the ' +\n",
              "            '<a target=\"_blank\" href=https://colab.research.google.com/notebooks/data_table.ipynb>data table notebook</a>'\n",
              "            + ' to learn more about interactive tables.';\n",
              "          element.innerHTML = '';\n",
              "          dataTable['output_type'] = 'display_data';\n",
              "          await google.colab.output.renderOutput(dataTable, element);\n",
              "          const docLink = document.createElement('div');\n",
              "          docLink.innerHTML = docLinkHtml;\n",
              "          element.appendChild(docLink);\n",
              "        }\n",
              "      </script>\n",
              "    </div>\n",
              "  </div>\n",
              "  "
            ]
          },
          "metadata": {},
          "execution_count": 89
        }
      ],
      "source": [
        "df.groupby(['discapacidad'], sort=False).size().reset_index(name='total')"
      ]
    },
    {
      "cell_type": "markdown",
      "source": [
        "\n",
        "\n",
        "> La mayoría de las personas desaparecidas no tienen una discapacidad. Hay 1,043 personas que no tienen una discapacidad especificada. Existen 15 personas con discapacidad desaparecidas, de las cuales 7 tienen autismo y 8 Síndrome de Down. \n",
        "\n"
      ],
      "metadata": {
        "id": "WCcJZTBO44bo"
      }
    },
    {
      "cell_type": "markdown",
      "source": [
        "**Preguntas sin respuesta**\n",
        "\n",
        "---\n",
        "\n"
      ],
      "metadata": {
        "id": "Z-c-QMNU5i7X"
      }
    },
    {
      "cell_type": "markdown",
      "source": [
        "Con el registro de datos seleccionado logramos contestar la mayoría de las preguntas que nos propusimos al inicio del proyecto. Sin embargo quedaron un par de preguntas sin respuesta:\n",
        "\n",
        "\n",
        "*   ¿Cuántas personas desaparecidas son encontradas?\n",
        "\n",
        "*   ¿Existe un identificador para las personas desaparecidas?\n",
        "\n",
        "En el registro no existe una columna que tenga el estado del caso o la carpeta de investigación, por lo que no se sabe cuántas personas se han encontrado. Adicionalmente, no existe un identificador para las personas desaparecidas, lo cual sería un dato importante para poder identificar casos específicos de manera más fácil. Esto podría fungir como llave primaria en análisis más complejos de los datos presentados.\n",
        "\n"
      ],
      "metadata": {
        "id": "Nf0Dmt5j5ob7"
      }
    },
    {
      "cell_type": "markdown",
      "source": [
        "# Exportar DataFrame a CSV"
      ],
      "metadata": {
        "id": "C4Mo7fSU7CKw"
      }
    },
    {
      "cell_type": "markdown",
      "source": [
        "Finalmente, el `DataFrame` resultante se puede exportar como archivo.csv."
      ],
      "metadata": {
        "id": "Xcb1pdrl7Iml"
      }
    },
    {
      "cell_type": "code",
      "execution_count": 98,
      "metadata": {
        "id": "KikAR0i7Betu",
        "colab": {
          "base_uri": "https://localhost:8080/",
          "height": 806
        },
        "outputId": "9f365a0b-1e1b-489d-b7d9-a232e7f3ea10"
      },
      "outputs": [
        {
          "output_type": "execute_result",
          "data": {
            "text/plain": [
              "           fecha      hora           entidad                 municipio  \\\n",
              "1     2012-03-18  05:00:00            Sonora                   Navojoa   \n",
              "2     2007-02-05  02:00:26  Estado De Mexico            Valle De Bravo   \n",
              "3     2009-03-14  08:30:54  Estado De Mexico                    Chalco   \n",
              "4     2006-12-23  08:00:28  Estado De Mexico       Tlalnepantla De Baz   \n",
              "5     2008-01-11  12:00:17  Estado De Mexico                    Toluca   \n",
              "...          ...       ...               ...                       ...   \n",
              "35897 2018-04-26  08:00:00            Puebla                    Puebla   \n",
              "35898 2018-01-08  11:00:00            Colima          Villa De Alvarez   \n",
              "35899 2015-02-02  07:00:00            Puebla                     Chila   \n",
              "35900 2017-08-22  04:00:00            Colima          Villa De Alvarez   \n",
              "35901 2018-04-11  02:00:00        Nuevo Leon  San Nicolas De Los Garza   \n",
              "\n",
              "                      localidad nacionalidad  estatura complexion    sexo  \\\n",
              "1                       Navojoa     Mexicana      1.10    Delgada   Mujer   \n",
              "2                Valle De Bravo     Mexicana      1.10    Delgada   Mujer   \n",
              "3                        Chalco     Mexicana      1.10    Delgada  Hombre   \n",
              "4           Tlalnepantla De Baz     Mexicana      1.10    Delgada  Hombre   \n",
              "5                        Toluca     Mexicana      1.10    Delgada  Hombre   \n",
              "...                         ...          ...       ...        ...     ...   \n",
              "35897                    Puebla     Mexicana      1.60    Delgada  Hombre   \n",
              "35898          Villa De Alvarez     Mexicana      1.70    Robusta   Mujer   \n",
              "35899      Chilas De Las Flores     Mexicana      1.77    Mediana   Mujer   \n",
              "35900          Villa De Alvarez     Mexicana      1.76    Robusta  Hombre   \n",
              "35901  San Nicolas De Los Garza     Mexicana      1.60    Delgada   Mujer   \n",
              "\n",
              "       edad                                 senas_particulares discapacidad  \\\n",
              "1         7  Tiene Una Cicatriz En La Rodilla Izquierda Por...      Ninguno   \n",
              "2         4                                    No Especificado      Ninguno   \n",
              "3         6  Manchas, Parte Superior De Pierna Derecha, Cic...      Ninguno   \n",
              "4        10  Lunares, A La Altura De La Cinturaforma De Man...      Ninguno   \n",
              "5         4                                    No Especificado      Ninguno   \n",
              "...     ...                                                ...          ...   \n",
              "35897    22  Lunar En La Mejilla Y Tatuaje En El Cuello En ...      Ninguno   \n",
              "35898    27  El Ojo Izquierdo Tiene Un Enfermedad Como Tic,...      Ninguno   \n",
              "35899    86                                    No Especificado      Ninguno   \n",
              "35900    41  Tatuaje En El Brazo Izquierdo Con La Imagen De...      Ninguno   \n",
              "35901    14                                    No Especificado      Ninguno   \n",
              "\n",
              "            dependecia_origen  dias_desaparecido  anio  \n",
              "1                FGE - Sonora               2234  2012  \n",
              "2      FGJ - Estado De Mexico               4102  2007  \n",
              "3      FGJ - Estado De Mexico               3334  2009  \n",
              "4      FGJ - Estado De Mexico               4146  2006  \n",
              "5      FGJ - Estado De Mexico               3762  2008  \n",
              "...                       ...                ...   ...  \n",
              "35897            FGE - Puebla                  4  2018  \n",
              "35898            PGJ - Colima                112  2018  \n",
              "35899            FGE - Puebla               1183  2015  \n",
              "35900            PGJ - Colima                251  2017  \n",
              "35901        PGJ - Nuevo Leon                 19  2018  \n",
              "\n",
              "[35901 rows x 15 columns]"
            ],
            "text/html": [
              "\n",
              "  <div id=\"df-3e22cbb1-2fdb-4238-97c5-e1de7f9d5d44\">\n",
              "    <div class=\"colab-df-container\">\n",
              "      <div>\n",
              "<style scoped>\n",
              "    .dataframe tbody tr th:only-of-type {\n",
              "        vertical-align: middle;\n",
              "    }\n",
              "\n",
              "    .dataframe tbody tr th {\n",
              "        vertical-align: top;\n",
              "    }\n",
              "\n",
              "    .dataframe thead th {\n",
              "        text-align: right;\n",
              "    }\n",
              "</style>\n",
              "<table border=\"1\" class=\"dataframe\">\n",
              "  <thead>\n",
              "    <tr style=\"text-align: right;\">\n",
              "      <th></th>\n",
              "      <th>fecha</th>\n",
              "      <th>hora</th>\n",
              "      <th>entidad</th>\n",
              "      <th>municipio</th>\n",
              "      <th>localidad</th>\n",
              "      <th>nacionalidad</th>\n",
              "      <th>estatura</th>\n",
              "      <th>complexion</th>\n",
              "      <th>sexo</th>\n",
              "      <th>edad</th>\n",
              "      <th>senas_particulares</th>\n",
              "      <th>discapacidad</th>\n",
              "      <th>dependecia_origen</th>\n",
              "      <th>dias_desaparecido</th>\n",
              "      <th>anio</th>\n",
              "    </tr>\n",
              "  </thead>\n",
              "  <tbody>\n",
              "    <tr>\n",
              "      <th>1</th>\n",
              "      <td>2012-03-18</td>\n",
              "      <td>05:00:00</td>\n",
              "      <td>Sonora</td>\n",
              "      <td>Navojoa</td>\n",
              "      <td>Navojoa</td>\n",
              "      <td>Mexicana</td>\n",
              "      <td>1.10</td>\n",
              "      <td>Delgada</td>\n",
              "      <td>Mujer</td>\n",
              "      <td>7</td>\n",
              "      <td>Tiene Una Cicatriz En La Rodilla Izquierda Por...</td>\n",
              "      <td>Ninguno</td>\n",
              "      <td>FGE - Sonora</td>\n",
              "      <td>2234</td>\n",
              "      <td>2012</td>\n",
              "    </tr>\n",
              "    <tr>\n",
              "      <th>2</th>\n",
              "      <td>2007-02-05</td>\n",
              "      <td>02:00:26</td>\n",
              "      <td>Estado De Mexico</td>\n",
              "      <td>Valle De Bravo</td>\n",
              "      <td>Valle De Bravo</td>\n",
              "      <td>Mexicana</td>\n",
              "      <td>1.10</td>\n",
              "      <td>Delgada</td>\n",
              "      <td>Mujer</td>\n",
              "      <td>4</td>\n",
              "      <td>No Especificado</td>\n",
              "      <td>Ninguno</td>\n",
              "      <td>FGJ - Estado De Mexico</td>\n",
              "      <td>4102</td>\n",
              "      <td>2007</td>\n",
              "    </tr>\n",
              "    <tr>\n",
              "      <th>3</th>\n",
              "      <td>2009-03-14</td>\n",
              "      <td>08:30:54</td>\n",
              "      <td>Estado De Mexico</td>\n",
              "      <td>Chalco</td>\n",
              "      <td>Chalco</td>\n",
              "      <td>Mexicana</td>\n",
              "      <td>1.10</td>\n",
              "      <td>Delgada</td>\n",
              "      <td>Hombre</td>\n",
              "      <td>6</td>\n",
              "      <td>Manchas, Parte Superior De Pierna Derecha, Cic...</td>\n",
              "      <td>Ninguno</td>\n",
              "      <td>FGJ - Estado De Mexico</td>\n",
              "      <td>3334</td>\n",
              "      <td>2009</td>\n",
              "    </tr>\n",
              "    <tr>\n",
              "      <th>4</th>\n",
              "      <td>2006-12-23</td>\n",
              "      <td>08:00:28</td>\n",
              "      <td>Estado De Mexico</td>\n",
              "      <td>Tlalnepantla De Baz</td>\n",
              "      <td>Tlalnepantla De Baz</td>\n",
              "      <td>Mexicana</td>\n",
              "      <td>1.10</td>\n",
              "      <td>Delgada</td>\n",
              "      <td>Hombre</td>\n",
              "      <td>10</td>\n",
              "      <td>Lunares, A La Altura De La Cinturaforma De Man...</td>\n",
              "      <td>Ninguno</td>\n",
              "      <td>FGJ - Estado De Mexico</td>\n",
              "      <td>4146</td>\n",
              "      <td>2006</td>\n",
              "    </tr>\n",
              "    <tr>\n",
              "      <th>5</th>\n",
              "      <td>2008-01-11</td>\n",
              "      <td>12:00:17</td>\n",
              "      <td>Estado De Mexico</td>\n",
              "      <td>Toluca</td>\n",
              "      <td>Toluca</td>\n",
              "      <td>Mexicana</td>\n",
              "      <td>1.10</td>\n",
              "      <td>Delgada</td>\n",
              "      <td>Hombre</td>\n",
              "      <td>4</td>\n",
              "      <td>No Especificado</td>\n",
              "      <td>Ninguno</td>\n",
              "      <td>FGJ - Estado De Mexico</td>\n",
              "      <td>3762</td>\n",
              "      <td>2008</td>\n",
              "    </tr>\n",
              "    <tr>\n",
              "      <th>...</th>\n",
              "      <td>...</td>\n",
              "      <td>...</td>\n",
              "      <td>...</td>\n",
              "      <td>...</td>\n",
              "      <td>...</td>\n",
              "      <td>...</td>\n",
              "      <td>...</td>\n",
              "      <td>...</td>\n",
              "      <td>...</td>\n",
              "      <td>...</td>\n",
              "      <td>...</td>\n",
              "      <td>...</td>\n",
              "      <td>...</td>\n",
              "      <td>...</td>\n",
              "      <td>...</td>\n",
              "    </tr>\n",
              "    <tr>\n",
              "      <th>35897</th>\n",
              "      <td>2018-04-26</td>\n",
              "      <td>08:00:00</td>\n",
              "      <td>Puebla</td>\n",
              "      <td>Puebla</td>\n",
              "      <td>Puebla</td>\n",
              "      <td>Mexicana</td>\n",
              "      <td>1.60</td>\n",
              "      <td>Delgada</td>\n",
              "      <td>Hombre</td>\n",
              "      <td>22</td>\n",
              "      <td>Lunar En La Mejilla Y Tatuaje En El Cuello En ...</td>\n",
              "      <td>Ninguno</td>\n",
              "      <td>FGE - Puebla</td>\n",
              "      <td>4</td>\n",
              "      <td>2018</td>\n",
              "    </tr>\n",
              "    <tr>\n",
              "      <th>35898</th>\n",
              "      <td>2018-01-08</td>\n",
              "      <td>11:00:00</td>\n",
              "      <td>Colima</td>\n",
              "      <td>Villa De Alvarez</td>\n",
              "      <td>Villa De Alvarez</td>\n",
              "      <td>Mexicana</td>\n",
              "      <td>1.70</td>\n",
              "      <td>Robusta</td>\n",
              "      <td>Mujer</td>\n",
              "      <td>27</td>\n",
              "      <td>El Ojo Izquierdo Tiene Un Enfermedad Como Tic,...</td>\n",
              "      <td>Ninguno</td>\n",
              "      <td>PGJ - Colima</td>\n",
              "      <td>112</td>\n",
              "      <td>2018</td>\n",
              "    </tr>\n",
              "    <tr>\n",
              "      <th>35899</th>\n",
              "      <td>2015-02-02</td>\n",
              "      <td>07:00:00</td>\n",
              "      <td>Puebla</td>\n",
              "      <td>Chila</td>\n",
              "      <td>Chilas De Las Flores</td>\n",
              "      <td>Mexicana</td>\n",
              "      <td>1.77</td>\n",
              "      <td>Mediana</td>\n",
              "      <td>Mujer</td>\n",
              "      <td>86</td>\n",
              "      <td>No Especificado</td>\n",
              "      <td>Ninguno</td>\n",
              "      <td>FGE - Puebla</td>\n",
              "      <td>1183</td>\n",
              "      <td>2015</td>\n",
              "    </tr>\n",
              "    <tr>\n",
              "      <th>35900</th>\n",
              "      <td>2017-08-22</td>\n",
              "      <td>04:00:00</td>\n",
              "      <td>Colima</td>\n",
              "      <td>Villa De Alvarez</td>\n",
              "      <td>Villa De Alvarez</td>\n",
              "      <td>Mexicana</td>\n",
              "      <td>1.76</td>\n",
              "      <td>Robusta</td>\n",
              "      <td>Hombre</td>\n",
              "      <td>41</td>\n",
              "      <td>Tatuaje En El Brazo Izquierdo Con La Imagen De...</td>\n",
              "      <td>Ninguno</td>\n",
              "      <td>PGJ - Colima</td>\n",
              "      <td>251</td>\n",
              "      <td>2017</td>\n",
              "    </tr>\n",
              "    <tr>\n",
              "      <th>35901</th>\n",
              "      <td>2018-04-11</td>\n",
              "      <td>02:00:00</td>\n",
              "      <td>Nuevo Leon</td>\n",
              "      <td>San Nicolas De Los Garza</td>\n",
              "      <td>San Nicolas De Los Garza</td>\n",
              "      <td>Mexicana</td>\n",
              "      <td>1.60</td>\n",
              "      <td>Delgada</td>\n",
              "      <td>Mujer</td>\n",
              "      <td>14</td>\n",
              "      <td>No Especificado</td>\n",
              "      <td>Ninguno</td>\n",
              "      <td>PGJ - Nuevo Leon</td>\n",
              "      <td>19</td>\n",
              "      <td>2018</td>\n",
              "    </tr>\n",
              "  </tbody>\n",
              "</table>\n",
              "<p>35901 rows × 15 columns</p>\n",
              "</div>\n",
              "      <button class=\"colab-df-convert\" onclick=\"convertToInteractive('df-3e22cbb1-2fdb-4238-97c5-e1de7f9d5d44')\"\n",
              "              title=\"Convert this dataframe to an interactive table.\"\n",
              "              style=\"display:none;\">\n",
              "        \n",
              "  <svg xmlns=\"http://www.w3.org/2000/svg\" height=\"24px\"viewBox=\"0 0 24 24\"\n",
              "       width=\"24px\">\n",
              "    <path d=\"M0 0h24v24H0V0z\" fill=\"none\"/>\n",
              "    <path d=\"M18.56 5.44l.94 2.06.94-2.06 2.06-.94-2.06-.94-.94-2.06-.94 2.06-2.06.94zm-11 1L8.5 8.5l.94-2.06 2.06-.94-2.06-.94L8.5 2.5l-.94 2.06-2.06.94zm10 10l.94 2.06.94-2.06 2.06-.94-2.06-.94-.94-2.06-.94 2.06-2.06.94z\"/><path d=\"M17.41 7.96l-1.37-1.37c-.4-.4-.92-.59-1.43-.59-.52 0-1.04.2-1.43.59L10.3 9.45l-7.72 7.72c-.78.78-.78 2.05 0 2.83L4 21.41c.39.39.9.59 1.41.59.51 0 1.02-.2 1.41-.59l7.78-7.78 2.81-2.81c.8-.78.8-2.07 0-2.86zM5.41 20L4 18.59l7.72-7.72 1.47 1.35L5.41 20z\"/>\n",
              "  </svg>\n",
              "      </button>\n",
              "      \n",
              "  <style>\n",
              "    .colab-df-container {\n",
              "      display:flex;\n",
              "      flex-wrap:wrap;\n",
              "      gap: 12px;\n",
              "    }\n",
              "\n",
              "    .colab-df-convert {\n",
              "      background-color: #E8F0FE;\n",
              "      border: none;\n",
              "      border-radius: 50%;\n",
              "      cursor: pointer;\n",
              "      display: none;\n",
              "      fill: #1967D2;\n",
              "      height: 32px;\n",
              "      padding: 0 0 0 0;\n",
              "      width: 32px;\n",
              "    }\n",
              "\n",
              "    .colab-df-convert:hover {\n",
              "      background-color: #E2EBFA;\n",
              "      box-shadow: 0px 1px 2px rgba(60, 64, 67, 0.3), 0px 1px 3px 1px rgba(60, 64, 67, 0.15);\n",
              "      fill: #174EA6;\n",
              "    }\n",
              "\n",
              "    [theme=dark] .colab-df-convert {\n",
              "      background-color: #3B4455;\n",
              "      fill: #D2E3FC;\n",
              "    }\n",
              "\n",
              "    [theme=dark] .colab-df-convert:hover {\n",
              "      background-color: #434B5C;\n",
              "      box-shadow: 0px 1px 3px 1px rgba(0, 0, 0, 0.15);\n",
              "      filter: drop-shadow(0px 1px 2px rgba(0, 0, 0, 0.3));\n",
              "      fill: #FFFFFF;\n",
              "    }\n",
              "  </style>\n",
              "\n",
              "      <script>\n",
              "        const buttonEl =\n",
              "          document.querySelector('#df-3e22cbb1-2fdb-4238-97c5-e1de7f9d5d44 button.colab-df-convert');\n",
              "        buttonEl.style.display =\n",
              "          google.colab.kernel.accessAllowed ? 'block' : 'none';\n",
              "\n",
              "        async function convertToInteractive(key) {\n",
              "          const element = document.querySelector('#df-3e22cbb1-2fdb-4238-97c5-e1de7f9d5d44');\n",
              "          const dataTable =\n",
              "            await google.colab.kernel.invokeFunction('convertToInteractive',\n",
              "                                                     [key], {});\n",
              "          if (!dataTable) return;\n",
              "\n",
              "          const docLinkHtml = 'Like what you see? Visit the ' +\n",
              "            '<a target=\"_blank\" href=https://colab.research.google.com/notebooks/data_table.ipynb>data table notebook</a>'\n",
              "            + ' to learn more about interactive tables.';\n",
              "          element.innerHTML = '';\n",
              "          dataTable['output_type'] = 'display_data';\n",
              "          await google.colab.output.renderOutput(dataTable, element);\n",
              "          const docLink = document.createElement('div');\n",
              "          docLink.innerHTML = docLinkHtml;\n",
              "          element.appendChild(docLink);\n",
              "        }\n",
              "      </script>\n",
              "    </div>\n",
              "  </div>\n",
              "  "
            ]
          },
          "metadata": {},
          "execution_count": 98
        }
      ],
      "source": [
        "df"
      ]
    },
    {
      "cell_type": "code",
      "execution_count": 119,
      "metadata": {
        "id": "L2EksssgBetv"
      },
      "outputs": [],
      "source": [
        "df.to_csv('https://github.com/MinervaNunez/Proyecto-de-Python-BEDU/tree/main')"
      ]
    }
  ],
  "metadata": {
    "colab": {
      "provenance": [],
      "collapsed_sections": [
        "7f418359",
        "DdXPRzKaBeso",
        "SXJ3oqajBes-",
        "u1Ku2J8FBetA",
        "Uoc9YtWaBetB",
        "2UdjXW7EBetH",
        "uxNp36FGBetb",
        "wt9F0IJ8Bete",
        "iLOl0zh-Betg",
        "nORzelAKBeti",
        "tf1PVMsuBetj"
      ],
      "include_colab_link": true
    },
    "kernelspec": {
      "display_name": "Python 3 (ipykernel)",
      "language": "python",
      "name": "python3"
    },
    "language_info": {
      "codemirror_mode": {
        "name": "ipython",
        "version": 3
      },
      "file_extension": ".py",
      "mimetype": "text/x-python",
      "name": "python",
      "nbconvert_exporter": "python",
      "pygments_lexer": "ipython3",
      "version": "3.10.4"
    },
    "varInspector": {
      "cols": {
        "lenName": 16,
        "lenType": 16,
        "lenVar": 40
      },
      "kernels_config": {
        "python": {
          "delete_cmd_postfix": "",
          "delete_cmd_prefix": "del ",
          "library": "var_list.py",
          "varRefreshCmd": "print(var_dic_list())"
        },
        "r": {
          "delete_cmd_postfix": ") ",
          "delete_cmd_prefix": "rm(",
          "library": "var_list.r",
          "varRefreshCmd": "cat(var_dic_list()) "
        }
      },
      "types_to_exclude": [
        "module",
        "function",
        "builtin_function_or_method",
        "instance",
        "_Feature"
      ],
      "window_display": false
    }
  },
  "nbformat": 4,
  "nbformat_minor": 0
}